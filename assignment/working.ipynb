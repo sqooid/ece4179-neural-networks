{
 "cells": [
  {
   "cell_type": "code",
   "execution_count": 1,
   "metadata": {},
   "outputs": [],
   "source": [
    "import numpy as np"
   ]
  },
  {
   "cell_type": "code",
   "execution_count": 9,
   "metadata": {},
   "outputs": [],
   "source": [
    "def relu(x):\n",
    "    return np.maximum(0, x)\n",
    "\n",
    "\n",
    "def sigmoid(x):\n",
    "    return 1 / (1 + np.exp(-x))\n",
    "\n",
    "\n",
    "def bce(y, y_hat):\n",
    "    return -y * np.log(y_hat) - (1 - y) * np.log(1 - y_hat)\n",
    "\n",
    "\n",
    "def bce_derivative(y, y_hat):\n",
    "    return (y_hat - y) / (y_hat * (1 - y_hat))"
   ]
  },
  {
   "cell_type": "code",
   "execution_count": 4,
   "metadata": {},
   "outputs": [
    {
     "name": "stdout",
     "output_type": "stream",
     "text": [
      "[[ 0.4]\n",
      " [ 1.2]\n",
      " [-0.1]]\n",
      "[[0.4]\n",
      " [1.2]\n",
      " [0. ]]\n",
      "[[0.52]]\n",
      "[[0.62714777]]\n"
     ]
    }
   ],
   "source": [
    "# 1.1\n",
    "x = np.array([[1, 2]]).T\n",
    "w1 = np.array([[0.4, 0.0], [-0.2, 0.7], [-0.3, 0.1]])\n",
    "w2 = np.array([[-0.2, 0.5, -0.6]])\n",
    "\n",
    "z1 = w1 @ x\n",
    "y1 = relu(z1)\n",
    "z2 = w2 @ y1\n",
    "y_hat = sigmoid(z2)\n",
    "print(z1)\n",
    "print(y1)\n",
    "print(z2)\n",
    "print(y_hat)"
   ]
  },
  {
   "cell_type": "code",
   "execution_count": 7,
   "metadata": {},
   "outputs": [
    {
     "name": "stdout",
     "output_type": "stream",
     "text": [
      "[[0.98657309]]\n"
     ]
    }
   ],
   "source": [
    "# 1.2\n",
    "loss = bce(0, y_hat)\n",
    "print(loss)"
   ]
  },
  {
   "cell_type": "code",
   "execution_count": 8,
   "metadata": {},
   "outputs": [
    {
     "name": "stdout",
     "output_type": "stream",
     "text": [
      "[[0.46657309]]\n"
     ]
    }
   ],
   "source": [
    "# 1.3\n",
    "loss = bce(1, y_hat)\n",
    "print(loss)"
   ]
  },
  {
   "cell_type": "code",
   "execution_count": 14,
   "metadata": {},
   "outputs": [
    {
     "name": "stdout",
     "output_type": "stream",
     "text": [
      "[[2.68202765]]\n",
      "[[0.23383345]]\n",
      "0.4\n",
      "[[0.25085911]]\n",
      "[[-0.22508591]]\n"
     ]
    }
   ],
   "source": [
    "# 1.4\n",
    "dL_dyhat = bce_derivative(0, y_hat)\n",
    "print(dL_dyhat)\n",
    "dyhat_dz2 = y_hat * (1 - y_hat)\n",
    "print(dyhat_dz2)\n",
    "dz2_dw36 = y1[0, 0]\n",
    "print(dz2_dw36)\n",
    "dL_dw36 = dL_dyhat * dyhat_dz2 * dz2_dw36\n",
    "print(dL_dw36)\n",
    "w_36 = w2[0, 0] - 0.1 * dL_dw36\n",
    "print(w_36)"
   ]
  },
  {
   "cell_type": "code",
   "execution_count": 17,
   "metadata": {},
   "outputs": [
    {
     "name": "stdout",
     "output_type": "stream",
     "text": [
      "1.0421906109874948\n",
      "2.3504023872876028\n"
     ]
    }
   ],
   "source": [
    "# 2\n",
    "print(np.exp(0.5) - np.exp(-0.5))\n",
    "print(np.exp(1) - np.exp(-1))"
   ]
  }
 ],
 "metadata": {
  "kernelspec": {
   "display_name": ".venv",
   "language": "python",
   "name": "python3"
  },
  "language_info": {
   "codemirror_mode": {
    "name": "ipython",
    "version": 3
   },
   "file_extension": ".py",
   "mimetype": "text/x-python",
   "name": "python",
   "nbconvert_exporter": "python",
   "pygments_lexer": "ipython3",
   "version": "3.10.12"
  }
 },
 "nbformat": 4,
 "nbformat_minor": 2
}
