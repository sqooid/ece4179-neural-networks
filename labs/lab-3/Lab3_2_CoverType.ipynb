{
 "cells": [
  {
   "cell_type": "markdown",
   "metadata": {},
   "source": [
    "<div class=\"alert alert-block alert-warning\">\n",
    "\n",
    "# <p style=\"text-align: center;\">Lab 3 (Weeks 5,6): Multi-Layer Perceptrons (MLP) </p>\n",
    "\n",
    "<img src=\"https://viso.ai/wp-content/uploads/2021/04/multilayer-perceptrons-MLP-concept-1.jpg\" width=\"400\" height=\"200\" />\n",
    "\n",
    "<!-- ![linear-vs-logistic-regression--medium](https://miro.medium.com/max/1400/1*dm6ZaX5fuSmuVvM4Ds-vcg.jpeg) -->\n",
    "\n",
    "Welcome to your third lab of ECE4179! Labs in this unit will run as a help desk and they are not mandatory to attend. As a reminder, this lab can be completed in pairs but you and your partner need to register via the google forms on Moodle under week 5.\n",
    "\n",
    "The two notebooks provided contain all the code and comments that you need to submit. Feel free to add in your own markdown for additional comments. After completion, You need to submit both Jupyter Notebooks (.ipynb file) to Moodle. Make sure you run the Notebooks before submitting and all outputs are visible.\n",
    "\n",
    "In this Lab, you will find three tasks distributed across two notebooks: Sinusoidal and CoverType. These tasks will guide you through to learn using a deep learning framework (Pytorch lightning) for MLP based problems. These knowledge and skills will be essential for lab 4 and assignment, and in general, critical to get you prepared to enter the deep learning world.\n",
    "\n",
    "- <b>Task 1:</b> Shallow MLP to fit MLP into a sinusoidal function\n",
    "- <b>Task 2:</b> Shallow MLP for multiclass classification of the Covertype dataset\n",
    "- <b>Task 3:</b> Deep MLP for multiclass classification of the Covertype dataset\n",
    "\n",
    "Each task will contain code to complete, and worded questions, so ensure you complete both before submitting.\n",
    "\n",
    "Good luck with the Lab!\n",
    "\n",
    "__Submission details:__\n",
    "- __Make sure you have run all your cells from top to bottom (you can click _Kernel_ and _Restart Kernel and Run All Cells_).__ </br>\n",
    "- __Submit the Jupyter Notebooks (Lab3\\_1\\_Sinusoidal.ipynb) and (Lab3\\_2\\_FashionMNIST.ipynb).__\n",
    "- __Outputs must be visible upon submission. We will also be re-running your code__"
   ]
  },
  {
   "cell_type": "markdown",
   "metadata": {},
   "source": [
    "<b>Enter your student details below</b>\n",
    "\n",
    "- <b>Student Name:</b> Lucas Liu\n",
    "- <b>Student ID:</b> 31445179\n",
    "\n",
    "If you have a partner:\n",
    "- <b>Second Student Name:</b> Firstname Lastname\n",
    "- <b>Second Student ID:</b> 123456789"
   ]
  },
  {
   "cell_type": "markdown",
   "metadata": {},
   "source": [
    "<div class=\"alert alert-block alert-danger\">\n",
    "\n",
    "## Table of Contents\n",
    "\n",
    "* [Task 2 - Shallow MLP for CoverType dataset](#task2)\n",
    "    * [2.1 Loading data points and Create Tensor Dataset](#2_1)\n",
    "    * [2.2 Design Shallow MLP](#2_2)\n",
    "    * [2.3 Train and evaluate model's performance](#2_3)\n",
    "    * [2.3 Train and evaluate model's performance](#2_4)\n",
    "* [Task 3 Deep MLP](#task3)\n",
    "    * [3.1 Design Deep MLP](#3_1)\n",
    "    * [3.2 Train and evaluate model's performance](#3_2)\n",
    "    * [3.3 Visualise the results for the network.](#3_3)"
   ]
  },
  {
   "cell_type": "markdown",
   "metadata": {},
   "source": [
    "<div class=\"alert alert-block alert-warning\">\n",
    "\n",
    "# Before you begin\n",
    "\n",
    "We have provided some numerical answers for you to aim for. To replicate these results, do not change any of the codes that are labelled \"Do not change\".\n",
    "\n",
    "Throughout this lab, there will be code and written answers that you need to fill in / complete. Please read the instructions carefully. The comments in the code snippet and markdown text will guide you on what you need to do.\n"
   ]
  },
  {
   "cell_type": "code",
   "execution_count": 20,
   "metadata": {},
   "outputs": [],
   "source": [
    "# If you have not installed pytorch-lightning already, then please follow the instructions below\n",
    "\n",
    "# # If you run on Jupyter Lab uncomment below comment\n",
    "# ! pip install --quiet \"matplotlib\" \"pytorch-lightning\" \"pandas\" \"torchmetrics\" \"torchvision\"\n",
    "\n",
    "# # If you run on google colab uncomment below comment\n",
    "# ! pip install pytorch-lightning -qq"
   ]
  },
  {
   "cell_type": "code",
   "execution_count": 21,
   "metadata": {},
   "outputs": [
    {
     "name": "stderr",
     "output_type": "stream",
     "text": [
      "Seed set to 4179\n"
     ]
    }
   ],
   "source": [
    "## Libraries, you do not need to import any additional libraries for this lab\n",
    "\n",
    "import numpy as np  ## Numpy is the fundamental building block of understanding tensor (matrices) within Python\n",
    "import matplotlib.pyplot as plt  ## Matplotlib.pyplot is the graphing library that we will be using throughout the semester\n",
    "import random  ## Useful for sampling\n",
    "\n",
    "# import sys ## Useful to retrieve some system information\n",
    "\n",
    "import os  ## Useful for running command line within python\n",
    "import pandas as pd  ## Useful for data manipulation\n",
    "from IPython.display import Image  ## For markdown purposes\n",
    "from IPython.display import clear_output\n",
    "import PIL\n",
    "\n",
    "import torch  ## Pytorch is the deep learning library that we will be using\n",
    "import torch.nn as nn  ## Neural network module\n",
    "import torch.nn.functional as F  ## Functional module\n",
    "from torch import optim  ## Optimizer module\n",
    "from torch.utils.data import (\n",
    "    DataLoader,\n",
    "    random_split,\n",
    ")  ## Under torchvision datasets you can find popular datasets that are frequently used for machine learning/deep learning tasks (eg., MNIST, SVHN, CIFAR10, CIFAR100 etc).\n",
    "from torchmetrics import (\n",
    "    Accuracy,\n",
    ")  ## Torchmetrics is a library that contains metrics for evaluating models\n",
    "from torchmetrics.classification import MulticlassAccuracy\n",
    "import torchvision  ## Torchvision is a library that contains popular datasets, model architectures, and image transformations for computer vision tasks\n",
    "from torchvision import transforms\n",
    "\n",
    "import pytorch_lightning as pl  ## Pytorch lightning is a wrapper for pytorch that makes it easier to train models\n",
    "from pytorch_lightning import LightningModule, Trainer\n",
    "from pytorch_lightning.loggers import CSVLogger\n",
    "from pytorch_lightning.callbacks import Callback, ModelCheckpoint\n",
    "from pytorch_lightning.callbacks.progress import TQDMProgressBar\n",
    "\n",
    "\n",
    "from pytorch_lightning import seed_everything\n",
    "\n",
    "## Setting seeds for reproducibility. Do NOT change these!\n",
    "seed_everything(4179)\n",
    "random.seed(4179)\n",
    "np.random.seed(4179)"
   ]
  },
  {
   "cell_type": "code",
   "execution_count": 22,
   "metadata": {},
   "outputs": [],
   "source": [
    "## This code snippet does not need to be edited\n",
    "\n",
    "# from python_environment_check import check_packages\n",
    "# from python_environment_check import set_background\n",
    "\n",
    "# ## Colour schemes for setting background colour\n",
    "# white_bgd = 'rgba(0,0,0,0)'\n",
    "# red_bgd = 'rgba(255,0,0,0.2)'"
   ]
  },
  {
   "cell_type": "markdown",
   "metadata": {},
   "source": [
    "<div class=\"alert alert-block alert-info\">\n",
    "\n",
    "# Task 2 & 3 : Compare Shallow MLP and Deep MLP\n",
    "\n",
    "In sections 2 and 3 you will be training a Shallow MLPs and Deep MLPs for classifying a CoverType dataset which is collected from 7 types of forest covers. 54 features are captured in each sample of the dataset. Then we will train a Shallow (Section 2) and Deep (Section 3) MLP for classifying this dataset that contains input features and labels (The input features are 1x54 and class labels are from 1-7).\n",
    "\n",
    "<img src=\"figures/shallow_deep_mlp.png\" width=\"1200\" align=\"center\">\n",
    "    \n",
    "In the above figure A is a shallow neural network and B is a deep neural network.\n",
    "\n",
    "#### Details of Covertype dataset:\n",
    "\n",
    "- This dataset is available form UCI Machine Learning Repository, you should use [```fetch_openml()```](https://scikit-learn.org/stable/modules/generated/sklearn.datasets.fetch_openml.html) function to load the data (Note: version 3 of data must be loaded)\n",
    "\n",
    "- The dataset consists of 54 input features, some of the entries are shown as below:\n",
    "\n",
    "| **Feature**                | **Variable Type**     | **Description**                                                      |\n",
    "|----------------------------|-------------------|----------------------------------------------------------------------|\n",
    "| Elevation                          | Numerical   | Measured in meters                                                                    |\n",
    "| Aspect                             | Numerical   | Aspect in degrees azimuth                                                    |\n",
    "| Slope                              | Numerical   | Measured in degrees                                                                         |\n",
    "| Horizontal_Distance_To_Hydrology   | Numerical   | Horizontal distance to the nearest surface water features (in mters)\n",
    "| Vertical_Distance_To_Hydrology     | Numerical   | Vertical distance to the nearest surface water features (in meters)                                               |\n",
    "| Horizontal_Distance_To_Roadways    | Numerical   | Horizontal distance to the nearest roadway (in meters)                                       |\n",
    "| Hillshade_9am                      | Numerical   | Hillshade index at 9am, which measures the shadow and sunlight exposure on the landscape (0 to 255)             |\n",
    "| Hillshade_Noon                     | Numerical   | Hillshade index at Noon                                                                       |\n",
    "| Hillshade_3pm                      | Numerical   | Hillshade index at 3pm                                                                                     |\n",
    "| Horizontal_Distance_To_Fire_Points | Numerical   | Horizontal distance to the nearest wildfire ignition points (in meters)                                |\n",
    "| Wilderness_Area                    | Categorical | One-hot encoded as 4 binary columns representing the wilderness area designation (Rawah, Neota, Comanche Peak, Cache la Poudre) |\n",
    "| Soil_Type                          | Categorical | One-hot encoded as 40 binary columns representing different soil types according to US Forest Service classification   |\n",
    "\n",
    "\n",
    "- The target variable in the Covertype dataset represents the forest cover type, and there are 7 distinct classes:\n",
    "\n",
    "| **Cover Type**          | **Code** |\n",
    "|-------------------------|----------|\n",
    "| Spruce/Fir              | 1        |\n",
    "| Lodgepole Pine          | 2        |\n",
    "| Ponderosa Pine          | 3        |\n",
    "| Cottonwood/Willow       | 4        |\n",
    "| Aspen                   | 5        |\n",
    "| Douglas-fir             | 6        |\n",
    "| Krummholz               | 7        |\n",
    "\n",
    "    \n",
    "#### Modules that you will need in this task:\n",
    "- sklearn's datasets and preprocessing modules to load the dataset and apply proper transforms\n",
    "- sklearn's model_selection module to split the dataset into train(60%), test(20%), and validation(20%)\n",
    "- torch TensorDataset and DataLoader to create the train, test, and validation datasets and data loaders\n",
    "- pytorch_lightning module class to construct a MLP in order to perform training and testing on the given datasets.\n"
   ]
  },
  {
   "cell_type": "markdown",
   "metadata": {},
   "source": [
    "<div class=\"alert alert-block alert-info\">\n",
    "\n",
    "# Task 2 - Shallow MLP for CoverType dataset <a class=\"anchor\" id=\"task2\"></a>\n",
    "\n",
    "For this task you will work on the following points:\n",
    " 1. Create training, validation and testing dataloaders.\n",
    " 2. investigate the training datasets (in terms of shape of the data).\n",
    " 3. Design shallow neural network model.\n",
    " 4. Perform training the model and evaluation for different settings. Report test accuracies.\n",
    " 5. Visualize experimental results for training losses.\n",
    " 6. Visualize experimental results for validation accuracies.\n",
    " 7. Visualize predictions.\n",
    " 8. Optimize Shallow network's performance.\n",
    "\n",
    "    \n",
    "Note:  In all the parts below, you should only use the training data and their labels to train your model. You may use the **validation set** to pick a trained model. For example, during training, you can test the accuracy of your model using the validation set every epoch and pick the model that achieves the highest validation accuracy. You should then report your results on the test set once you choose your model."
   ]
  },
  {
   "cell_type": "markdown",
   "metadata": {},
   "source": [
    "<div class=\"alert alert-block alert-info\">\n",
    "\n",
    "## Learning Objective\n",
    "\n",
    "This task aims to understand and implement a Deep MLP model to train neural networks on the CoverType dataset. By the end of this task, you will be able to:\n",
    "\n",
    "1. Load the dataset from sci-kit learn package, and prepare the dataset and dataloader on the CoverType dataset.\n",
    "\n",
    "2. Implement a Multi-Layer Perceptron (MLP) model using PyTorch Lightning's framework.\n",
    "\n",
    "3. Apply stochastic gradient descent (SGD) optimization method to train the MLP model on the CoverType dataset.\n",
    "\n",
    "4. Visualize and analyze the performance of the MLP model on the given samples to understand how well it fits the data."
   ]
  },
  {
   "cell_type": "markdown",
   "metadata": {},
   "source": [
    "<div class=\"alert alert-block alert-info\">\n",
    "\n",
    "## 2.1 Loading data points and Create Tensor Dataset <a class=\"anchor\" id=\"2_1\"></a>\n",
    "\n",
    "Let's load the dataset and inspect the data."
   ]
  },
  {
   "cell_type": "markdown",
   "metadata": {},
   "source": [
    "The code rovided in the following cell includes:\n",
    "- The implementation of `fetch_openml` to fetch the Covertype dataset from the OpenML repository. It ensures that the data is numeric and encodes the target labels as integers.\n",
    "- The implementation of the `fit_transform` method in the `LabelEncoder` to encode target labels with values between 0 and the number of classes minus 1.\n",
    "- The `unique` function is also included, which returns unique values of the targets after encoding."
   ]
  },
  {
   "cell_type": "code",
   "execution_count": 23,
   "metadata": {},
   "outputs": [
    {
     "name": "stdout",
     "output_type": "stream",
     "text": [
      "Classes: [0 1 2 3 4 5 6]\n"
     ]
    }
   ],
   "source": [
    "#### DO NOT CHANGE THIS SECTION ####\n",
    "from sklearn.datasets import fetch_openml\n",
    "from sklearn.preprocessing import LabelEncoder\n",
    "\n",
    "# Fetch the Covertype dataset\n",
    "covertype = fetch_openml(name=\"Covertype\", version=3)\n",
    "\n",
    "# Ensure all data is numeric\n",
    "X = covertype.data.astype(np.float32)\n",
    "\n",
    "# Encode the target labels as integers\n",
    "label_encoder = LabelEncoder()\n",
    "Y = label_encoder.fit_transform(covertype.target)\n",
    "unique_labels = np.unique(Y)\n",
    "print(\"Classes:\", np.unique(Y))\n",
    "#### DO NOT CHANGE THIS SECTION ####"
   ]
  },
  {
   "cell_type": "markdown",
   "metadata": {},
   "source": [
    "#### (a) Inspect the data\n",
    "\n",
    "Now you have input features in 'X' and the corresponding labels in 'Y'. Inspect the data by doing the following:\n",
    "\n",
    "- Print out the number of features \n",
    "- Print out the number of samples\n",
    "- Print out the shape of Y\n",
    "- Print the first 3 samples of input features 'X' and their corresponding labels in 'Y'\n"
   ]
  },
  {
   "cell_type": "code",
   "execution_count": 24,
   "metadata": {},
   "outputs": [
    {
     "name": "stdout",
     "output_type": "stream",
     "text": [
      "(581012, 54)\n",
      "(581012,)\n",
      "[0.368684 0.141667 0.045455 0.184681 0.223514 0.071659 0.870079 0.913386\n",
      " 0.582677 0.875366 1.       0.       0.       0.       0.       0.\n",
      " 0.       0.       0.       0.       0.       0.       0.       0.\n",
      " 0.       0.       0.       0.       0.       0.       0.       0.\n",
      " 0.       0.       0.       0.       0.       0.       0.       0.\n",
      " 0.       0.       1.       0.       0.       0.       0.       0.\n",
      " 0.       0.       0.       0.       0.       0.      ]\n",
      "4\n"
     ]
    }
   ],
   "source": [
    "# Print the shape of the input data. You should be able to infer the number of samples and features from the shape\n",
    "print(X.shape)\n",
    "# Print the shape of the target label\n",
    "print(Y.shape)  # type: ignore\n",
    "\n",
    "# Print the first samples of the input features and their labels\n",
    "print(X.to_numpy()[0, :])\n",
    "print(Y[0])"
   ]
  },
  {
   "cell_type": "markdown",
   "metadata": {},
   "source": [
    "#### (b) Split the dataset\n",
    "\n",
    "Different from Task 1, to train a network for classification, a key process is to split the dataset into train, validatio and test sets.\n",
    "\n",
    "Let's split the data into 60% train, 20% validation, and 20% test.\n",
    "\n",
    "- You will need to use [```train_test_split```](https://scikit-learn.org/stable/modules/generated/sklearn.model_selection.train_test_split.html) function \n",
    "- Make sure after splitting the number of samples per class is balanced among all classes. You can achive it by using the 'startify' option in the 'train_test_split' function\n",
    "- Print out the shape of input features and labels for splitted data.\n",
    "- Remember that you need to this for both the features (X) and labels (Y)."
   ]
  },
  {
   "cell_type": "code",
   "execution_count": 25,
   "metadata": {},
   "outputs": [
    {
     "name": "stdout",
     "output_type": "stream",
     "text": [
      "(348607, 54) (348607,)\n",
      "(116202, 54) (116202,)\n",
      "(116203, 54) (116203,)\n",
      "<class 'pandas.core.frame.DataFrame'> <class 'numpy.ndarray'>\n"
     ]
    }
   ],
   "source": [
    "from sklearn.model_selection import train_test_split\n",
    "\n",
    "X_train, X_test, Y_train, Y_test = train_test_split(X, Y, stratify=Y, test_size=0.4)\n",
    "X_val, X_test, Y_val, Y_test = train_test_split(\n",
    "    X_test, Y_test, stratify=Y_test, test_size=0.5\n",
    ")\n",
    "\n",
    "print(X_train.shape, Y_train.shape)\n",
    "print(X_val.shape, Y_val.shape)\n",
    "print(X_test.shape, Y_test.shape)\n",
    "print(type(X_train), type(Y_train))"
   ]
  },
  {
   "cell_type": "markdown",
   "metadata": {},
   "source": [
    "#### (c) Preprocessing of input features:\n",
    "\n",
    "Note that the PyTorch network only recognise tensors to be passed in. If you check the ```type()``` of the data imported so far, you will find out that they are not tensors yet. And there are also some common preprocess as well.\n",
    "\n",
    "For this task, we need to:\n",
    "1. Scaling the Numerical Features: It's often a good idea to *scale* or *normalize* the numerical features so that they have similar ranges. This can help the model converge faster and avoid issues related to features with different scales.\n",
    "    - You can use [```StandardScaler```](https://scikit-learn.org/stable/modules/generated/sklearn.preprocessing.StandardScaler.html) from sklearn.preprocessing to scale the input features in train, test, and val data\n",
    "    - Then check the datatype of the transformed variables\n",
    "2. Convert the data from numpy array into torch tensors:\n",
    "   1. Convert input features into 32-bit floating-point tensors.\n",
    "   2. Convert labels into 64-bit integer tensors.\n",
    "   3. You can check if the convertion is done correctly by use ```dtype``` to check the variables."
   ]
  },
  {
   "cell_type": "code",
   "execution_count": 26,
   "metadata": {},
   "outputs": [],
   "source": [
    "from sklearn.preprocessing import StandardScaler\n",
    "\n",
    "scaler = StandardScaler().fit(X)\n",
    "X_train = scaler.transform(X_train)\n",
    "X_val = scaler.transform(X_val)\n",
    "X_test = scaler.transform(X_test)"
   ]
  },
  {
   "cell_type": "code",
   "execution_count": 27,
   "metadata": {},
   "outputs": [
    {
     "name": "stdout",
     "output_type": "stream",
     "text": [
      "<class 'numpy.ndarray'> <class 'numpy.ndarray'>\n",
      "<class 'numpy.ndarray'> <class 'numpy.ndarray'>\n",
      "<class 'numpy.ndarray'> <class 'numpy.ndarray'>\n"
     ]
    }
   ],
   "source": [
    "print(type(X_train), type(Y_train))\n",
    "print(type(X_val), type(Y_val))\n",
    "print(type(X_test), type(Y_test))"
   ]
  },
  {
   "cell_type": "code",
   "execution_count": 28,
   "metadata": {},
   "outputs": [
    {
     "name": "stdout",
     "output_type": "stream",
     "text": [
      "torch.float32 torch.int64\n",
      "torch.float32 torch.int64\n",
      "torch.float32 torch.int64\n"
     ]
    }
   ],
   "source": [
    "# Convert the data to torch tensors\n",
    "X_train_tensor = torch.tensor(X_train)\n",
    "Y_train_tensor = torch.tensor(Y_train)\n",
    "\n",
    "X_val_tensor = torch.tensor(X_val)\n",
    "Y_val_tensor = torch.tensor(Y_val)\n",
    "\n",
    "X_test_tensor = torch.tensor(X_test)\n",
    "Y_test_tensor = torch.tensor(Y_test)\n",
    "\n",
    "print(X_train_tensor.dtype, Y_train_tensor.dtype)\n",
    "print(X_val_tensor.dtype, Y_val_tensor.dtype)\n",
    "print(X_test_tensor.dtype, Y_test_tensor.dtype)"
   ]
  },
  {
   "cell_type": "markdown",
   "metadata": {},
   "source": [
    "#### (d) Create the datasets and dataloader"
   ]
  },
  {
   "cell_type": "markdown",
   "metadata": {},
   "source": [
    "**Create the dataset**\n",
    "\n",
    "Now we have the tensors, let's create three datasets for train, validation, and test. It is a similar process to Task 1 but with a different torch module ```TensorDataset``` from ```torch.utils.data```. You can check out the shape of Dataset.tensors[0] (input feature tensor) and Dataset.tensors[1] (target tensor) when you create Dataset from train, test, and validation tensors to make sure the dataset is created correctly."
   ]
  },
  {
   "cell_type": "code",
   "execution_count": 29,
   "metadata": {},
   "outputs": [
    {
     "name": "stdout",
     "output_type": "stream",
     "text": [
      "torch.Size([348607, 54]) torch.Size([348607])\n",
      "torch.Size([116202, 54]) torch.Size([116202])\n",
      "torch.Size([116203, 54]) torch.Size([116203])\n"
     ]
    }
   ],
   "source": [
    "from torch.utils.data.dataset import TensorDataset\n",
    "\n",
    "# Create TensorDatasets\n",
    "train_dataset = TensorDataset(X_train_tensor, Y_train_tensor)\n",
    "val_dataset = TensorDataset(X_val_tensor, Y_val_tensor)\n",
    "test_dataset = TensorDataset(X_test_tensor, Y_test_tensor)\n",
    "\n",
    "print(train_dataset.tensors[0].shape, train_dataset.tensors[1].shape)\n",
    "print(val_dataset.tensors[0].shape, val_dataset.tensors[1].shape)\n",
    "print(test_dataset.tensors[0].shape, test_dataset.tensors[1].shape)"
   ]
  },
  {
   "cell_type": "markdown",
   "metadata": {},
   "source": [
    "**Create the dataloader**\n",
    "\n",
    "You can create the dataloader in the same as Task 1, with the batch size of 256."
   ]
  },
  {
   "cell_type": "code",
   "execution_count": 30,
   "metadata": {},
   "outputs": [],
   "source": [
    "batch_size = 256\n",
    "\n",
    "train_loader = DataLoader(train_dataset, batch_size=batch_size)\n",
    "val_loader = DataLoader(val_dataset, batch_size=batch_size)\n",
    "test_loader = DataLoader(test_dataset, batch_size=batch_size)"
   ]
  },
  {
   "cell_type": "markdown",
   "metadata": {},
   "source": [
    "<div class=\"alert alert-block alert-info\">\n",
    "\n",
    "## 2.2 Design Shallow MLP <a class=\"anchor\" id=\"2_2\"></a>\n",
    "\n",
    "Design a Shallow MLP. This will be similar to in task 1. \n",
    " - You need to instantiate Shallow_MLP class from LightningModule\n",
    " - Shallow_MLP must take these inputs:\n",
    "   1. the number of input features\n",
    "   2. the number of classes\n",
    "   3. the number of nodes in hidden layer\n",
    "   4. the learning_rate\n",
    "   5. the train loader\n",
    "   6. the test loader \n",
    "   7. the validation loader\n",
    "  \n",
    " - In the Shallow_MLP class you should define metrics to evaluate model performance:\n",
    "   1. train_accuracy\n",
    "   2. test_accuracy\n",
    "   3. val_accuracy\n",
    "   - To define these metrics you should use [```Accuracy()```](https://lightning.ai/docs/torchmetrics/stable/classification/accuracy.html ) class from pytorch-lightning. Make sure you choose the correct type of evaluation - multiclass.\n",
    "\n",
    " - Shallow_MLP must have two Linear layer: Linear(# input features $\\times$ # hidden nodes) $\\rightarrow$ ReLU $\\rightarrow$ Linear( # hidden nodes $\\times$  # classes)\n",
    "   1. The first Linear layer (input layer) is followed by a **Relu** activation function.\n",
    "   2. The second Linear layer (hidden layer) maps the hidden nodes into class scores (logits)\n",
    "\n",
    "- In this task, use the  [```CrossEntropyLoss```](https://pytorch.org/docs/stable/generated/torch.nn.CrossEntropyLoss.html)"
   ]
  },
  {
   "cell_type": "code",
   "execution_count": 61,
   "metadata": {},
   "outputs": [],
   "source": [
    "class Shallow_MLP(LightningModule):\n",
    "    def __init__(\n",
    "        self,\n",
    "        input_features,\n",
    "        hidden_node,\n",
    "        classes,\n",
    "        learning_rate=1e-1,\n",
    "    ):\n",
    "        super().__init__()\n",
    "        self.save_hyperparameters()\n",
    "\n",
    "        self.learning_rate = learning_rate\n",
    "        self.loss_fun = nn.CrossEntropyLoss()\n",
    "\n",
    "        self.linear1 = nn.Linear(input_features, hidden_node)\n",
    "        self.linear2 = nn.Linear(hidden_node, classes)\n",
    "\n",
    "        self.train_accuracy = MulticlassAccuracy(classes, average=\"macro\")\n",
    "        self.val_accuracy = MulticlassAccuracy(classes, average=\"macro\")\n",
    "        self.test_accuracy = MulticlassAccuracy(classes, average=\"macro\")\n",
    "\n",
    "    def forward(self, x):\n",
    "        # Pass input through conv layers\n",
    "        # Don't forget the activation function\n",
    "\n",
    "        out1 = nn.functional.relu(self.linear1(x))\n",
    "        out2 = self.linear2(out1)\n",
    "\n",
    "        return out2\n",
    "\n",
    "    def common(self, x, y):\n",
    "        logits = self(x)\n",
    "        loss = self.loss_fun(logits, y)\n",
    "\n",
    "        preds = logits.argmax(1)\n",
    "        return preds, loss\n",
    "\n",
    "    def training_step(self, batch, batch_idx):\n",
    "\n",
    "        # This should be similar to Task 1\n",
    "\n",
    "        # get the x and y values of the data point\n",
    "        # pass through the network\n",
    "        # Get the loss\n",
    "        x, y = batch\n",
    "        preds, loss = self.common(x, y)\n",
    "        self.train_accuracy.update(preds, y)\n",
    "\n",
    "        self.log(\"train_loss\", loss, prog_bar=True, on_step=False, on_epoch=True)\n",
    "        self.log(\n",
    "            \"train_acc\",\n",
    "            self.train_accuracy,\n",
    "            prog_bar=True,\n",
    "            on_step=False,\n",
    "            on_epoch=True,\n",
    "        )\n",
    "\n",
    "        return loss\n",
    "\n",
    "    def validation_step(self, batch, batch_idx):\n",
    "        # get the x and y values of the data point\n",
    "        # pass through the network\n",
    "        # Get the loss\n",
    "        x, y = batch\n",
    "        preds, loss = self.common(x, y)\n",
    "        self.val_accuracy.update(preds, y)\n",
    "\n",
    "        # Calling self.log will surface up scalars for you in TensorBoard\n",
    "        self.log(\"val_loss\", loss, prog_bar=True, on_step=False, on_epoch=True)\n",
    "        self.log(\n",
    "            \"val_acc\",\n",
    "            self.val_accuracy,\n",
    "            prog_bar=True,\n",
    "            on_step=False,\n",
    "            on_epoch=True,\n",
    "        )\n",
    "        return loss\n",
    "\n",
    "    def test_step(self, batch, batch_idx):\n",
    "        # get the x and y values of the data point\n",
    "        # pass through the network\n",
    "        # Get the loss\n",
    "        x, y = batch\n",
    "        preds, loss = self.common(x, y)\n",
    "        self.test_accuracy.update(preds, y)\n",
    "\n",
    "        # Calling self.log will surface up scalars for you in TensorBoard\n",
    "        self.log(\"test_loss\", loss, prog_bar=True)\n",
    "        self.log(\"test_acc\", self.test_accuracy, prog_bar=True)\n",
    "        return loss\n",
    "\n",
    "    def predict_step(self, batch, batch_idx):\n",
    "        # get the x and y values of the data point\n",
    "        # pass through the network\n",
    "        x, y = batch\n",
    "        logits = self(x)\n",
    "        pred = logits.argmax(1)\n",
    "        return (pred, y, x)\n",
    "\n",
    "    def configure_optimizers(self):\n",
    "        # define the SGD optimizer\n",
    "        optimizer = optim.SGD(self.parameters(), lr=self.learning_rate)\n",
    "        return optimizer\n",
    "\n",
    "    ####################\n",
    "    # DATA RELATED HOOKS\n",
    "    ####################\n",
    "\n",
    "    def train_dataloader(self):\n",
    "        return train_loader\n",
    "\n",
    "    def val_dataloader(self):\n",
    "        return val_loader\n",
    "\n",
    "    def test_dataloader(self):\n",
    "        return test_loader"
   ]
  },
  {
   "cell_type": "markdown",
   "metadata": {},
   "source": [
    "<div class=\"alert alert-block alert-info\">\n",
    "\n",
    "## 2.3 Train and evaluate model's performance <a class=\"anchor\" id=\"2_3\"></a>\n",
    "\n",
    "Let's train the model with three different scenarios for **30 epochs**\n",
    "\n",
    "a. model_shallow_a : # hidden nodes = 8\n",
    "\n",
    "b. model_shallow_b : # hidden nodes = 128\n",
    "\n",
    "c. model_shallow_c : # hidden nodes = 1024\n",
    "\n",
    "In all the parts above, you should only use the training input and their labels to train your model. You may use the validation set to pick a trained model.\n",
    "\n",
    "For example, during training, you can test the accuracy of your model using the validation set every epoch and pick the model that achieves the highest validation accuracy. You should then report your results on the test set once you choose your model. More details can be found in the documentation of [```ModelCheckpoint```](https://lightning.ai/docs/pytorch/stable/api/lightning.pytorch.callbacks.ModelCheckpoint.html).\n",
    "\n",
    "Note: Make sure to have different log file directories and checkpoint folders (eg: logs_task_2a, logs_task_2b and logs_task_2c)"
   ]
  },
  {
   "cell_type": "code",
   "execution_count": 62,
   "metadata": {},
   "outputs": [],
   "source": [
    "# define the input features and number of classes\n",
    "input_features = X.shape[1]\n",
    "classes = len(unique_labels)\n",
    "\n",
    "# define the training epoch and learning rate\n",
    "max_epochs = 30\n",
    "lr = 1e-3"
   ]
  },
  {
   "cell_type": "code",
   "execution_count": 63,
   "metadata": {},
   "outputs": [
    {
     "name": "stderr",
     "output_type": "stream",
     "text": [
      "GPU available: False, used: False\n",
      "TPU available: False, using: 0 TPU cores\n",
      "HPU available: False, using: 0 HPUs\n",
      "/nix/store/bxj3ic1m66k3p690vwgb0913l5l46bk9-python3-3.12.4-env/lib/python3.12/site-packages/lightning_fabric/loggers/csv_logs.py:269: Experiment logs directory logs/h8/version_0 exists and is not empty. Previous log files in this directory will be deleted when the new ones are saved!\n",
      "/nix/store/bxj3ic1m66k3p690vwgb0913l5l46bk9-python3-3.12.4-env/lib/python3.12/site-packages/pytorch_lightning/callbacks/model_checkpoint.py:652: Checkpoint directory /home/lucas/code/ece4179-neural-networks/labs/lab-3/logs/h8 exists and is not empty.\n",
      "\n",
      "  | Name           | Type               | Params | Mode \n",
      "--------------------------------------------------------------\n",
      "0 | loss_fun       | CrossEntropyLoss   | 0      | train\n",
      "1 | linear1        | Linear             | 440    | train\n",
      "2 | linear2        | Linear             | 63     | train\n",
      "3 | train_accuracy | MulticlassAccuracy | 0      | train\n",
      "4 | val_accuracy   | MulticlassAccuracy | 0      | train\n",
      "5 | test_accuracy  | MulticlassAccuracy | 0      | train\n",
      "--------------------------------------------------------------\n",
      "503       Trainable params\n",
      "0         Non-trainable params\n",
      "503       Total params\n",
      "0.002     Total estimated model params size (MB)\n"
     ]
    },
    {
     "data": {
      "application/vnd.jupyter.widget-view+json": {
       "model_id": "74fbec1abc654b5882f9cd6d350c282d",
       "version_major": 2,
       "version_minor": 0
      },
      "text/plain": [
       "Sanity Checking: |          | 0/? [00:00<?, ?it/s]"
      ]
     },
     "metadata": {},
     "output_type": "display_data"
    },
    {
     "name": "stderr",
     "output_type": "stream",
     "text": [
      "/nix/store/bxj3ic1m66k3p690vwgb0913l5l46bk9-python3-3.12.4-env/lib/python3.12/site-packages/pytorch_lightning/trainer/connectors/data_connector.py:424: The 'val_dataloader' does not have many workers which may be a bottleneck. Consider increasing the value of the `num_workers` argument` to `num_workers=15` in the `DataLoader` to improve performance.\n"
     ]
    },
    {
     "name": "stderr",
     "output_type": "stream",
     "text": [
      "/nix/store/bxj3ic1m66k3p690vwgb0913l5l46bk9-python3-3.12.4-env/lib/python3.12/site-packages/pytorch_lightning/trainer/connectors/data_connector.py:424: The 'train_dataloader' does not have many workers which may be a bottleneck. Consider increasing the value of the `num_workers` argument` to `num_workers=15` in the `DataLoader` to improve performance.\n"
     ]
    },
    {
     "data": {
      "application/vnd.jupyter.widget-view+json": {
       "model_id": "a75771e9156f4ce493c356ff84d1ed99",
       "version_major": 2,
       "version_minor": 0
      },
      "text/plain": [
       "Training: |          | 0/? [00:00<?, ?it/s]"
      ]
     },
     "metadata": {},
     "output_type": "display_data"
    },
    {
     "data": {
      "application/vnd.jupyter.widget-view+json": {
       "model_id": "a6ce0d85225449a9bf9689bf007da1dc",
       "version_major": 2,
       "version_minor": 0
      },
      "text/plain": [
       "Validation: |          | 0/? [00:00<?, ?it/s]"
      ]
     },
     "metadata": {},
     "output_type": "display_data"
    },
    {
     "data": {
      "application/vnd.jupyter.widget-view+json": {
       "model_id": "5460f65268234622945922674a364fe6",
       "version_major": 2,
       "version_minor": 0
      },
      "text/plain": [
       "Validation: |          | 0/? [00:00<?, ?it/s]"
      ]
     },
     "metadata": {},
     "output_type": "display_data"
    },
    {
     "data": {
      "application/vnd.jupyter.widget-view+json": {
       "model_id": "194306e628f743beb6de66ab41c0ea1d",
       "version_major": 2,
       "version_minor": 0
      },
      "text/plain": [
       "Validation: |          | 0/? [00:00<?, ?it/s]"
      ]
     },
     "metadata": {},
     "output_type": "display_data"
    },
    {
     "data": {
      "application/vnd.jupyter.widget-view+json": {
       "model_id": "a75ba153b2a9488fbae254c75effd4dc",
       "version_major": 2,
       "version_minor": 0
      },
      "text/plain": [
       "Validation: |          | 0/? [00:00<?, ?it/s]"
      ]
     },
     "metadata": {},
     "output_type": "display_data"
    },
    {
     "data": {
      "application/vnd.jupyter.widget-view+json": {
       "model_id": "64acff0452fc4beea97cf1fc602ff8ce",
       "version_major": 2,
       "version_minor": 0
      },
      "text/plain": [
       "Validation: |          | 0/? [00:00<?, ?it/s]"
      ]
     },
     "metadata": {},
     "output_type": "display_data"
    },
    {
     "data": {
      "application/vnd.jupyter.widget-view+json": {
       "model_id": "92072439571843a392b0cd39ed31f5b4",
       "version_major": 2,
       "version_minor": 0
      },
      "text/plain": [
       "Validation: |          | 0/? [00:00<?, ?it/s]"
      ]
     },
     "metadata": {},
     "output_type": "display_data"
    },
    {
     "data": {
      "application/vnd.jupyter.widget-view+json": {
       "model_id": "f2c3347472e344cf949a19bacdcf1ea3",
       "version_major": 2,
       "version_minor": 0
      },
      "text/plain": [
       "Validation: |          | 0/? [00:00<?, ?it/s]"
      ]
     },
     "metadata": {},
     "output_type": "display_data"
    },
    {
     "data": {
      "application/vnd.jupyter.widget-view+json": {
       "model_id": "accf164d26ea4585bb0af9f826d32c95",
       "version_major": 2,
       "version_minor": 0
      },
      "text/plain": [
       "Validation: |          | 0/? [00:00<?, ?it/s]"
      ]
     },
     "metadata": {},
     "output_type": "display_data"
    },
    {
     "data": {
      "application/vnd.jupyter.widget-view+json": {
       "model_id": "f584633daae7442baa2231d8d804e435",
       "version_major": 2,
       "version_minor": 0
      },
      "text/plain": [
       "Validation: |          | 0/? [00:00<?, ?it/s]"
      ]
     },
     "metadata": {},
     "output_type": "display_data"
    },
    {
     "data": {
      "application/vnd.jupyter.widget-view+json": {
       "model_id": "3011c7b31ab641449b750da44ed8e897",
       "version_major": 2,
       "version_minor": 0
      },
      "text/plain": [
       "Validation: |          | 0/? [00:00<?, ?it/s]"
      ]
     },
     "metadata": {},
     "output_type": "display_data"
    },
    {
     "data": {
      "application/vnd.jupyter.widget-view+json": {
       "model_id": "a9e4a8086c984b0ba27b1f2772e6a8dc",
       "version_major": 2,
       "version_minor": 0
      },
      "text/plain": [
       "Validation: |          | 0/? [00:00<?, ?it/s]"
      ]
     },
     "metadata": {},
     "output_type": "display_data"
    },
    {
     "data": {
      "application/vnd.jupyter.widget-view+json": {
       "model_id": "5286e91da70d44668755719bcd817b42",
       "version_major": 2,
       "version_minor": 0
      },
      "text/plain": [
       "Validation: |          | 0/? [00:00<?, ?it/s]"
      ]
     },
     "metadata": {},
     "output_type": "display_data"
    },
    {
     "data": {
      "application/vnd.jupyter.widget-view+json": {
       "model_id": "0b7eb33b56c04ac89953be0dc1b95ee2",
       "version_major": 2,
       "version_minor": 0
      },
      "text/plain": [
       "Validation: |          | 0/? [00:00<?, ?it/s]"
      ]
     },
     "metadata": {},
     "output_type": "display_data"
    },
    {
     "data": {
      "application/vnd.jupyter.widget-view+json": {
       "model_id": "5c60adb72a4349b5a5205cb9b2b53d7d",
       "version_major": 2,
       "version_minor": 0
      },
      "text/plain": [
       "Validation: |          | 0/? [00:00<?, ?it/s]"
      ]
     },
     "metadata": {},
     "output_type": "display_data"
    },
    {
     "data": {
      "application/vnd.jupyter.widget-view+json": {
       "model_id": "f37b5fecaafa48c78ef6868fd73249bc",
       "version_major": 2,
       "version_minor": 0
      },
      "text/plain": [
       "Validation: |          | 0/? [00:00<?, ?it/s]"
      ]
     },
     "metadata": {},
     "output_type": "display_data"
    },
    {
     "data": {
      "application/vnd.jupyter.widget-view+json": {
       "model_id": "07e75b2676104622a3cad4ade37b90a7",
       "version_major": 2,
       "version_minor": 0
      },
      "text/plain": [
       "Validation: |          | 0/? [00:00<?, ?it/s]"
      ]
     },
     "metadata": {},
     "output_type": "display_data"
    },
    {
     "data": {
      "application/vnd.jupyter.widget-view+json": {
       "model_id": "7b3e7dac72cc4c34ae124debd4a228e4",
       "version_major": 2,
       "version_minor": 0
      },
      "text/plain": [
       "Validation: |          | 0/? [00:00<?, ?it/s]"
      ]
     },
     "metadata": {},
     "output_type": "display_data"
    },
    {
     "data": {
      "application/vnd.jupyter.widget-view+json": {
       "model_id": "6fc81c33037d4608b19be968c8d0e951",
       "version_major": 2,
       "version_minor": 0
      },
      "text/plain": [
       "Validation: |          | 0/? [00:00<?, ?it/s]"
      ]
     },
     "metadata": {},
     "output_type": "display_data"
    },
    {
     "data": {
      "application/vnd.jupyter.widget-view+json": {
       "model_id": "60a06013af0a4220889ea2ee3dce2c6c",
       "version_major": 2,
       "version_minor": 0
      },
      "text/plain": [
       "Validation: |          | 0/? [00:00<?, ?it/s]"
      ]
     },
     "metadata": {},
     "output_type": "display_data"
    },
    {
     "data": {
      "application/vnd.jupyter.widget-view+json": {
       "model_id": "c5cfc64cd7684320bc6b345cf2201372",
       "version_major": 2,
       "version_minor": 0
      },
      "text/plain": [
       "Validation: |          | 0/? [00:00<?, ?it/s]"
      ]
     },
     "metadata": {},
     "output_type": "display_data"
    },
    {
     "data": {
      "application/vnd.jupyter.widget-view+json": {
       "model_id": "cec9d8dfb8824e9293d688b1fdebde18",
       "version_major": 2,
       "version_minor": 0
      },
      "text/plain": [
       "Validation: |          | 0/? [00:00<?, ?it/s]"
      ]
     },
     "metadata": {},
     "output_type": "display_data"
    },
    {
     "data": {
      "application/vnd.jupyter.widget-view+json": {
       "model_id": "4cbcd1e673264ba4b5ec7151f9b6ce60",
       "version_major": 2,
       "version_minor": 0
      },
      "text/plain": [
       "Validation: |          | 0/? [00:00<?, ?it/s]"
      ]
     },
     "metadata": {},
     "output_type": "display_data"
    },
    {
     "data": {
      "application/vnd.jupyter.widget-view+json": {
       "model_id": "6d7116c6126c4d1c9d12eb84cf2f28bf",
       "version_major": 2,
       "version_minor": 0
      },
      "text/plain": [
       "Validation: |          | 0/? [00:00<?, ?it/s]"
      ]
     },
     "metadata": {},
     "output_type": "display_data"
    },
    {
     "data": {
      "application/vnd.jupyter.widget-view+json": {
       "model_id": "09985589477b448ca11392d8aa976867",
       "version_major": 2,
       "version_minor": 0
      },
      "text/plain": [
       "Validation: |          | 0/? [00:00<?, ?it/s]"
      ]
     },
     "metadata": {},
     "output_type": "display_data"
    },
    {
     "data": {
      "application/vnd.jupyter.widget-view+json": {
       "model_id": "615646434eaa443ba1cb077fa8f6dca8",
       "version_major": 2,
       "version_minor": 0
      },
      "text/plain": [
       "Validation: |          | 0/? [00:00<?, ?it/s]"
      ]
     },
     "metadata": {},
     "output_type": "display_data"
    },
    {
     "data": {
      "application/vnd.jupyter.widget-view+json": {
       "model_id": "e1ff2a7ecc9248b0be90f6ef4dd9511a",
       "version_major": 2,
       "version_minor": 0
      },
      "text/plain": [
       "Validation: |          | 0/? [00:00<?, ?it/s]"
      ]
     },
     "metadata": {},
     "output_type": "display_data"
    },
    {
     "data": {
      "application/vnd.jupyter.widget-view+json": {
       "model_id": "d071b7257741405485e65844c45ce3bd",
       "version_major": 2,
       "version_minor": 0
      },
      "text/plain": [
       "Validation: |          | 0/? [00:00<?, ?it/s]"
      ]
     },
     "metadata": {},
     "output_type": "display_data"
    },
    {
     "data": {
      "application/vnd.jupyter.widget-view+json": {
       "model_id": "3d4030d6a5c14577aa32164cb4d2d794",
       "version_major": 2,
       "version_minor": 0
      },
      "text/plain": [
       "Validation: |          | 0/? [00:00<?, ?it/s]"
      ]
     },
     "metadata": {},
     "output_type": "display_data"
    },
    {
     "data": {
      "application/vnd.jupyter.widget-view+json": {
       "model_id": "74f09a07963e408faa2e646d70cd51a6",
       "version_major": 2,
       "version_minor": 0
      },
      "text/plain": [
       "Validation: |          | 0/? [00:00<?, ?it/s]"
      ]
     },
     "metadata": {},
     "output_type": "display_data"
    },
    {
     "data": {
      "application/vnd.jupyter.widget-view+json": {
       "model_id": "c483a471a8944d55bec81ffd4b1e4a9b",
       "version_major": 2,
       "version_minor": 0
      },
      "text/plain": [
       "Validation: |          | 0/? [00:00<?, ?it/s]"
      ]
     },
     "metadata": {},
     "output_type": "display_data"
    },
    {
     "name": "stderr",
     "output_type": "stream",
     "text": [
      "`Trainer.fit` stopped: `max_epochs=30` reached.\n",
      "Restoring states from the checkpoint path at /home/lucas/code/ece4179-neural-networks/labs/lab-3/logs/h8/epoch=29-step=40860-v6.ckpt\n",
      "Loaded model weights from the checkpoint at /home/lucas/code/ece4179-neural-networks/labs/lab-3/logs/h8/epoch=29-step=40860-v6.ckpt\n",
      "/nix/store/bxj3ic1m66k3p690vwgb0913l5l46bk9-python3-3.12.4-env/lib/python3.12/site-packages/pytorch_lightning/trainer/connectors/data_connector.py:424: The 'test_dataloader' does not have many workers which may be a bottleneck. Consider increasing the value of the `num_workers` argument` to `num_workers=15` in the `DataLoader` to improve performance.\n"
     ]
    },
    {
     "data": {
      "application/vnd.jupyter.widget-view+json": {
       "model_id": "c224ee33acd44bf4a8ea98f8f88800d5",
       "version_major": 2,
       "version_minor": 0
      },
      "text/plain": [
       "Testing: |          | 0/? [00:00<?, ?it/s]"
      ]
     },
     "metadata": {},
     "output_type": "display_data"
    },
    {
     "name": "stdout",
     "output_type": "stream",
     "text": [
      "────────────────────────────────────────────────────────────────────────────────────────────────────────────────────────\n",
      "       Test metric             DataLoader 0\n",
      "────────────────────────────────────────────────────────────────────────────────────────────────────────────────────────\n",
      "        test_acc            0.41606417298316956\n",
      "        test_loss           0.6978712677955627\n",
      "────────────────────────────────────────────────────────────────────────────────────────────────────────────────────────\n"
     ]
    },
    {
     "data": {
      "text/plain": [
       "[{'test_loss': 0.6978712677955627, 'test_acc': 0.41606417298316956}]"
      ]
     },
     "execution_count": 63,
     "metadata": {},
     "output_type": "execute_result"
    }
   ],
   "source": [
    "# Scenario a: Initialize Shallow MLP model with hidden node = 8\n",
    "hidden_node = 8\n",
    "model_shallow_a = Shallow_MLP(input_features, hidden_node, classes, lr)\n",
    "\n",
    "# Define checkpoint callback function to save best model\n",
    "checkpoint_callback_2a = ModelCheckpoint(\n",
    "    monitor=\"val_acc\",  # the value to watch out on checking the model performance\n",
    "    dirpath=\"logs/h8\",  # path to save the checkpoint\n",
    "    save_top_k=1,  # save the best model\n",
    "    mode=\"max\",\n",
    "    every_n_epochs=1,\n",
    ")\n",
    "\n",
    "# Train and test the model\n",
    "trainer_2a = Trainer(\n",
    "    accelerator=\"auto\",\n",
    "    devices=1 if not torch.cuda.is_available() else torch.cuda.device_count(),\n",
    "    max_epochs=max_epochs,\n",
    "    callbacks=[TQDMProgressBar(refresh_rate=20), checkpoint_callback_2a],\n",
    "    logger=CSVLogger(\"logs\", name=\"h8\", version=0),\n",
    ")\n",
    "\n",
    "# Start the training loop\n",
    "trainer_2a.fit(model_shallow_a)\n",
    "\n",
    "# Report the test performance\n",
    "trainer_2a.test(ckpt_path=\"best\")"
   ]
  },
  {
   "cell_type": "markdown",
   "metadata": {},
   "source": [
    "You should expect some output like :\n",
    "\n",
    "[{'test_loss': 0.6990464925765991, 'test_acc': 0.7178385853767395}]"
   ]
  },
  {
   "cell_type": "code",
   "execution_count": 64,
   "metadata": {},
   "outputs": [
    {
     "name": "stderr",
     "output_type": "stream",
     "text": [
      "GPU available: False, used: False\n",
      "TPU available: False, using: 0 TPU cores\n",
      "HPU available: False, using: 0 HPUs\n",
      "/nix/store/bxj3ic1m66k3p690vwgb0913l5l46bk9-python3-3.12.4-env/lib/python3.12/site-packages/lightning_fabric/loggers/csv_logs.py:269: Experiment logs directory logs/h128/version_0 exists and is not empty. Previous log files in this directory will be deleted when the new ones are saved!\n",
      "/nix/store/bxj3ic1m66k3p690vwgb0913l5l46bk9-python3-3.12.4-env/lib/python3.12/site-packages/pytorch_lightning/callbacks/model_checkpoint.py:652: Checkpoint directory /home/lucas/code/ece4179-neural-networks/labs/lab-3/logs/h128 exists and is not empty.\n",
      "\n",
      "  | Name           | Type               | Params | Mode \n",
      "--------------------------------------------------------------\n",
      "0 | loss_fun       | CrossEntropyLoss   | 0      | train\n",
      "1 | linear1        | Linear             | 7.0 K  | train\n",
      "2 | linear2        | Linear             | 903    | train\n",
      "3 | train_accuracy | MulticlassAccuracy | 0      | train\n",
      "4 | val_accuracy   | MulticlassAccuracy | 0      | train\n",
      "5 | test_accuracy  | MulticlassAccuracy | 0      | train\n",
      "--------------------------------------------------------------\n",
      "7.9 K     Trainable params\n",
      "0         Non-trainable params\n",
      "7.9 K     Total params\n",
      "0.032     Total estimated model params size (MB)\n"
     ]
    },
    {
     "data": {
      "application/vnd.jupyter.widget-view+json": {
       "model_id": "9920c7e5ee5f4765a1ca25d085cffe9d",
       "version_major": 2,
       "version_minor": 0
      },
      "text/plain": [
       "Sanity Checking: |          | 0/? [00:00<?, ?it/s]"
      ]
     },
     "metadata": {},
     "output_type": "display_data"
    },
    {
     "name": "stderr",
     "output_type": "stream",
     "text": [
      "/nix/store/bxj3ic1m66k3p690vwgb0913l5l46bk9-python3-3.12.4-env/lib/python3.12/site-packages/pytorch_lightning/trainer/connectors/data_connector.py:424: The 'val_dataloader' does not have many workers which may be a bottleneck. Consider increasing the value of the `num_workers` argument` to `num_workers=15` in the `DataLoader` to improve performance.\n"
     ]
    },
    {
     "name": "stderr",
     "output_type": "stream",
     "text": [
      "/nix/store/bxj3ic1m66k3p690vwgb0913l5l46bk9-python3-3.12.4-env/lib/python3.12/site-packages/pytorch_lightning/trainer/connectors/data_connector.py:424: The 'train_dataloader' does not have many workers which may be a bottleneck. Consider increasing the value of the `num_workers` argument` to `num_workers=15` in the `DataLoader` to improve performance.\n"
     ]
    },
    {
     "data": {
      "application/vnd.jupyter.widget-view+json": {
       "model_id": "2cd1784f1dd54570ad07bcf68e82f787",
       "version_major": 2,
       "version_minor": 0
      },
      "text/plain": [
       "Training: |          | 0/? [00:00<?, ?it/s]"
      ]
     },
     "metadata": {},
     "output_type": "display_data"
    },
    {
     "data": {
      "application/vnd.jupyter.widget-view+json": {
       "model_id": "e00ae305956f4285a7b7bf7a4193aaa8",
       "version_major": 2,
       "version_minor": 0
      },
      "text/plain": [
       "Validation: |          | 0/? [00:00<?, ?it/s]"
      ]
     },
     "metadata": {},
     "output_type": "display_data"
    },
    {
     "name": "stderr",
     "output_type": "stream",
     "text": [
      "/nix/store/bxj3ic1m66k3p690vwgb0913l5l46bk9-python3-3.12.4-env/lib/python3.12/site-packages/pytorch_lightning/trainer/call.py:54: Detected KeyboardInterrupt, attempting graceful shutdown...\n"
     ]
    },
    {
     "ename": "ValueError",
     "evalue": "`.test(ckpt_path=\"best\")` is set but `ModelCheckpoint` is not configured to save the best model.",
     "output_type": "error",
     "traceback": [
      "\u001b[0;31m---------------------------------------------------------------------------\u001b[0m",
      "\u001b[0;31mValueError\u001b[0m                                Traceback (most recent call last)",
      "Cell \u001b[0;32mIn[64], line 28\u001b[0m\n\u001b[1;32m     25\u001b[0m trainer_2b\u001b[38;5;241m.\u001b[39mfit(model_shallow_b)\n\u001b[1;32m     27\u001b[0m \u001b[38;5;66;03m# Report the test performance\u001b[39;00m\n\u001b[0;32m---> 28\u001b[0m \u001b[43mtrainer_2b\u001b[49m\u001b[38;5;241;43m.\u001b[39;49m\u001b[43mtest\u001b[49m\u001b[43m(\u001b[49m\u001b[43mckpt_path\u001b[49m\u001b[38;5;241;43m=\u001b[39;49m\u001b[38;5;124;43m\"\u001b[39;49m\u001b[38;5;124;43mbest\u001b[39;49m\u001b[38;5;124;43m\"\u001b[39;49m\u001b[43m)\u001b[49m\n",
      "File \u001b[0;32m/nix/store/bxj3ic1m66k3p690vwgb0913l5l46bk9-python3-3.12.4-env/lib/python3.12/site-packages/pytorch_lightning/trainer/trainer.py:753\u001b[0m, in \u001b[0;36mTrainer.test\u001b[0;34m(self, model, dataloaders, ckpt_path, verbose, datamodule)\u001b[0m\n\u001b[1;32m    751\u001b[0m \u001b[38;5;28mself\u001b[39m\u001b[38;5;241m.\u001b[39mstate\u001b[38;5;241m.\u001b[39mstatus \u001b[38;5;241m=\u001b[39m TrainerStatus\u001b[38;5;241m.\u001b[39mRUNNING\n\u001b[1;32m    752\u001b[0m \u001b[38;5;28mself\u001b[39m\u001b[38;5;241m.\u001b[39mtesting \u001b[38;5;241m=\u001b[39m \u001b[38;5;28;01mTrue\u001b[39;00m\n\u001b[0;32m--> 753\u001b[0m \u001b[38;5;28;01mreturn\u001b[39;00m \u001b[43mcall\u001b[49m\u001b[38;5;241;43m.\u001b[39;49m\u001b[43m_call_and_handle_interrupt\u001b[49m\u001b[43m(\u001b[49m\n\u001b[1;32m    754\u001b[0m \u001b[43m    \u001b[49m\u001b[38;5;28;43mself\u001b[39;49m\u001b[43m,\u001b[49m\u001b[43m \u001b[49m\u001b[38;5;28;43mself\u001b[39;49m\u001b[38;5;241;43m.\u001b[39;49m\u001b[43m_test_impl\u001b[49m\u001b[43m,\u001b[49m\u001b[43m \u001b[49m\u001b[43mmodel\u001b[49m\u001b[43m,\u001b[49m\u001b[43m \u001b[49m\u001b[43mdataloaders\u001b[49m\u001b[43m,\u001b[49m\u001b[43m \u001b[49m\u001b[43mckpt_path\u001b[49m\u001b[43m,\u001b[49m\u001b[43m \u001b[49m\u001b[43mverbose\u001b[49m\u001b[43m,\u001b[49m\u001b[43m \u001b[49m\u001b[43mdatamodule\u001b[49m\n\u001b[1;32m    755\u001b[0m \u001b[43m\u001b[49m\u001b[43m)\u001b[49m\n",
      "File \u001b[0;32m/nix/store/bxj3ic1m66k3p690vwgb0913l5l46bk9-python3-3.12.4-env/lib/python3.12/site-packages/pytorch_lightning/trainer/call.py:44\u001b[0m, in \u001b[0;36m_call_and_handle_interrupt\u001b[0;34m(trainer, trainer_fn, *args, **kwargs)\u001b[0m\n\u001b[1;32m     42\u001b[0m     \u001b[38;5;28;01mif\u001b[39;00m trainer\u001b[38;5;241m.\u001b[39mstrategy\u001b[38;5;241m.\u001b[39mlauncher \u001b[38;5;129;01mis\u001b[39;00m \u001b[38;5;129;01mnot\u001b[39;00m \u001b[38;5;28;01mNone\u001b[39;00m:\n\u001b[1;32m     43\u001b[0m         \u001b[38;5;28;01mreturn\u001b[39;00m trainer\u001b[38;5;241m.\u001b[39mstrategy\u001b[38;5;241m.\u001b[39mlauncher\u001b[38;5;241m.\u001b[39mlaunch(trainer_fn, \u001b[38;5;241m*\u001b[39margs, trainer\u001b[38;5;241m=\u001b[39mtrainer, \u001b[38;5;241m*\u001b[39m\u001b[38;5;241m*\u001b[39mkwargs)\n\u001b[0;32m---> 44\u001b[0m     \u001b[38;5;28;01mreturn\u001b[39;00m \u001b[43mtrainer_fn\u001b[49m\u001b[43m(\u001b[49m\u001b[38;5;241;43m*\u001b[39;49m\u001b[43margs\u001b[49m\u001b[43m,\u001b[49m\u001b[43m \u001b[49m\u001b[38;5;241;43m*\u001b[39;49m\u001b[38;5;241;43m*\u001b[39;49m\u001b[43mkwargs\u001b[49m\u001b[43m)\u001b[49m\n\u001b[1;32m     46\u001b[0m \u001b[38;5;28;01mexcept\u001b[39;00m _TunerExitException:\n\u001b[1;32m     47\u001b[0m     _call_teardown_hook(trainer)\n",
      "File \u001b[0;32m/nix/store/bxj3ic1m66k3p690vwgb0913l5l46bk9-python3-3.12.4-env/lib/python3.12/site-packages/pytorch_lightning/trainer/trainer.py:790\u001b[0m, in \u001b[0;36mTrainer._test_impl\u001b[0;34m(self, model, dataloaders, ckpt_path, verbose, datamodule)\u001b[0m\n\u001b[1;32m    787\u001b[0m \u001b[38;5;28mself\u001b[39m\u001b[38;5;241m.\u001b[39m_data_connector\u001b[38;5;241m.\u001b[39mattach_data(model, test_dataloaders\u001b[38;5;241m=\u001b[39mdataloaders, datamodule\u001b[38;5;241m=\u001b[39mdatamodule)\n\u001b[1;32m    789\u001b[0m \u001b[38;5;28;01massert\u001b[39;00m \u001b[38;5;28mself\u001b[39m\u001b[38;5;241m.\u001b[39mstate\u001b[38;5;241m.\u001b[39mfn \u001b[38;5;129;01mis\u001b[39;00m \u001b[38;5;129;01mnot\u001b[39;00m \u001b[38;5;28;01mNone\u001b[39;00m\n\u001b[0;32m--> 790\u001b[0m ckpt_path \u001b[38;5;241m=\u001b[39m \u001b[38;5;28;43mself\u001b[39;49m\u001b[38;5;241;43m.\u001b[39;49m\u001b[43m_checkpoint_connector\u001b[49m\u001b[38;5;241;43m.\u001b[39;49m\u001b[43m_select_ckpt_path\u001b[49m\u001b[43m(\u001b[49m\n\u001b[1;32m    791\u001b[0m \u001b[43m    \u001b[49m\u001b[38;5;28;43mself\u001b[39;49m\u001b[38;5;241;43m.\u001b[39;49m\u001b[43mstate\u001b[49m\u001b[38;5;241;43m.\u001b[39;49m\u001b[43mfn\u001b[49m\u001b[43m,\u001b[49m\u001b[43m \u001b[49m\u001b[43mckpt_path\u001b[49m\u001b[43m,\u001b[49m\u001b[43m \u001b[49m\u001b[43mmodel_provided\u001b[49m\u001b[38;5;241;43m=\u001b[39;49m\u001b[43mmodel_provided\u001b[49m\u001b[43m,\u001b[49m\u001b[43m \u001b[49m\u001b[43mmodel_connected\u001b[49m\u001b[38;5;241;43m=\u001b[39;49m\u001b[38;5;28;43mself\u001b[39;49m\u001b[38;5;241;43m.\u001b[39;49m\u001b[43mlightning_module\u001b[49m\u001b[43m \u001b[49m\u001b[38;5;129;43;01mis\u001b[39;49;00m\u001b[43m \u001b[49m\u001b[38;5;129;43;01mnot\u001b[39;49;00m\u001b[43m \u001b[49m\u001b[38;5;28;43;01mNone\u001b[39;49;00m\n\u001b[1;32m    792\u001b[0m \u001b[43m\u001b[49m\u001b[43m)\u001b[49m\n\u001b[1;32m    793\u001b[0m results \u001b[38;5;241m=\u001b[39m \u001b[38;5;28mself\u001b[39m\u001b[38;5;241m.\u001b[39m_run(model, ckpt_path\u001b[38;5;241m=\u001b[39mckpt_path)\n\u001b[1;32m    794\u001b[0m \u001b[38;5;66;03m# remove the tensors from the test results\u001b[39;00m\n",
      "File \u001b[0;32m/nix/store/bxj3ic1m66k3p690vwgb0913l5l46bk9-python3-3.12.4-env/lib/python3.12/site-packages/pytorch_lightning/trainer/connectors/checkpoint_connector.py:104\u001b[0m, in \u001b[0;36m_CheckpointConnector._select_ckpt_path\u001b[0;34m(self, state_fn, ckpt_path, model_provided, model_connected)\u001b[0m\n\u001b[1;32m    102\u001b[0m         ckpt_path \u001b[38;5;241m=\u001b[39m \u001b[38;5;28mself\u001b[39m\u001b[38;5;241m.\u001b[39m_ckpt_path\n\u001b[1;32m    103\u001b[0m \u001b[38;5;28;01melse\u001b[39;00m:\n\u001b[0;32m--> 104\u001b[0m     ckpt_path \u001b[38;5;241m=\u001b[39m \u001b[38;5;28;43mself\u001b[39;49m\u001b[38;5;241;43m.\u001b[39;49m\u001b[43m_parse_ckpt_path\u001b[49m\u001b[43m(\u001b[49m\n\u001b[1;32m    105\u001b[0m \u001b[43m        \u001b[49m\u001b[43mstate_fn\u001b[49m\u001b[43m,\u001b[49m\n\u001b[1;32m    106\u001b[0m \u001b[43m        \u001b[49m\u001b[43mckpt_path\u001b[49m\u001b[43m,\u001b[49m\n\u001b[1;32m    107\u001b[0m \u001b[43m        \u001b[49m\u001b[43mmodel_provided\u001b[49m\u001b[38;5;241;43m=\u001b[39;49m\u001b[43mmodel_provided\u001b[49m\u001b[43m,\u001b[49m\n\u001b[1;32m    108\u001b[0m \u001b[43m        \u001b[49m\u001b[43mmodel_connected\u001b[49m\u001b[38;5;241;43m=\u001b[39;49m\u001b[43mmodel_connected\u001b[49m\u001b[43m,\u001b[49m\n\u001b[1;32m    109\u001b[0m \u001b[43m    \u001b[49m\u001b[43m)\u001b[49m\n\u001b[1;32m    110\u001b[0m \u001b[38;5;28;01mreturn\u001b[39;00m ckpt_path\n",
      "File \u001b[0;32m/nix/store/bxj3ic1m66k3p690vwgb0913l5l46bk9-python3-3.12.4-env/lib/python3.12/site-packages/pytorch_lightning/trainer/connectors/checkpoint_connector.py:171\u001b[0m, in \u001b[0;36m_CheckpointConnector._parse_ckpt_path\u001b[0;34m(self, state_fn, ckpt_path, model_provided, model_connected)\u001b[0m\n\u001b[1;32m    166\u001b[0m     \u001b[38;5;28;01mif\u001b[39;00m \u001b[38;5;28mself\u001b[39m\u001b[38;5;241m.\u001b[39mtrainer\u001b[38;5;241m.\u001b[39mfast_dev_run:\n\u001b[1;32m    167\u001b[0m         \u001b[38;5;28;01mraise\u001b[39;00m \u001b[38;5;167;01mValueError\u001b[39;00m(\n\u001b[1;32m    168\u001b[0m             \u001b[38;5;124mf\u001b[39m\u001b[38;5;124m'\u001b[39m\u001b[38;5;124mYou cannot execute `.\u001b[39m\u001b[38;5;132;01m{\u001b[39;00mfn\u001b[38;5;132;01m}\u001b[39;00m\u001b[38;5;124m(ckpt_path=\u001b[39m\u001b[38;5;124m\"\u001b[39m\u001b[38;5;124mbest\u001b[39m\u001b[38;5;124m\"\u001b[39m\u001b[38;5;124m)` with `fast_dev_run=True`.\u001b[39m\u001b[38;5;124m'\u001b[39m\n\u001b[1;32m    169\u001b[0m             \u001b[38;5;124mf\u001b[39m\u001b[38;5;124m\"\u001b[39m\u001b[38;5;124m Please pass an exact checkpoint path to `.\u001b[39m\u001b[38;5;132;01m{\u001b[39;00mfn\u001b[38;5;132;01m}\u001b[39;00m\u001b[38;5;124m(ckpt_path=...)`\u001b[39m\u001b[38;5;124m\"\u001b[39m\n\u001b[1;32m    170\u001b[0m         )\n\u001b[0;32m--> 171\u001b[0m     \u001b[38;5;28;01mraise\u001b[39;00m \u001b[38;5;167;01mValueError\u001b[39;00m(\n\u001b[1;32m    172\u001b[0m         \u001b[38;5;124mf\u001b[39m\u001b[38;5;124m'\u001b[39m\u001b[38;5;124m`.\u001b[39m\u001b[38;5;132;01m{\u001b[39;00mfn\u001b[38;5;132;01m}\u001b[39;00m\u001b[38;5;124m(ckpt_path=\u001b[39m\u001b[38;5;124m\"\u001b[39m\u001b[38;5;124mbest\u001b[39m\u001b[38;5;124m\"\u001b[39m\u001b[38;5;124m)` is set but `ModelCheckpoint` is not configured to save the best model.\u001b[39m\u001b[38;5;124m'\u001b[39m\n\u001b[1;32m    173\u001b[0m     )\n\u001b[1;32m    174\u001b[0m \u001b[38;5;66;03m# load best weights\u001b[39;00m\n\u001b[1;32m    175\u001b[0m ckpt_path \u001b[38;5;241m=\u001b[39m \u001b[38;5;28mgetattr\u001b[39m(\u001b[38;5;28mself\u001b[39m\u001b[38;5;241m.\u001b[39mtrainer\u001b[38;5;241m.\u001b[39mcheckpoint_callback, \u001b[38;5;124m\"\u001b[39m\u001b[38;5;124mbest_model_path\u001b[39m\u001b[38;5;124m\"\u001b[39m, \u001b[38;5;28;01mNone\u001b[39;00m)\n",
      "\u001b[0;31mValueError\u001b[0m: `.test(ckpt_path=\"best\")` is set but `ModelCheckpoint` is not configured to save the best model."
     ]
    }
   ],
   "source": [
    "# Scenario b: Initialize Shallow MLP model with hidden node = 128\n",
    "hidden_node = 128\n",
    "model_shallow_b = Shallow_MLP(input_features, hidden_node, classes, lr)\n",
    "\n",
    "\n",
    "# Define checkpoint callback function to save best model\n",
    "checkpoint_callback_2b = ModelCheckpoint(\n",
    "    monitor=\"val_acc\",\n",
    "    dirpath=\"logs/h128\",\n",
    "    save_top_k=1,\n",
    "    mode=\"max\",\n",
    "    every_n_epochs=1,\n",
    ")\n",
    "\n",
    "# Train and test the model\n",
    "trainer_2b = Trainer(\n",
    "    accelerator=\"auto\",\n",
    "    devices=1 if not torch.cuda.is_available() else torch.cuda.device_count(),\n",
    "    max_epochs=max_epochs,\n",
    "    callbacks=[TQDMProgressBar(refresh_rate=20), checkpoint_callback_2b],\n",
    "    logger=CSVLogger(\"logs\", name=\"h128\", version=0),\n",
    ")\n",
    "\n",
    "# Start the training loop\n",
    "trainer_2b.fit(model_shallow_b)\n",
    "\n",
    "# Report the test performance\n",
    "trainer_2b.test(ckpt_path=\"best\")"
   ]
  },
  {
   "cell_type": "markdown",
   "metadata": {},
   "source": [
    "You should expect some output like :\n",
    "\n",
    "[{'test_loss': 0.6637445688247681, 'test_acc': 0.7278985977172852}]"
   ]
  },
  {
   "cell_type": "code",
   "execution_count": null,
   "metadata": {},
   "outputs": [
    {
     "name": "stderr",
     "output_type": "stream",
     "text": [
      "GPU available: False, used: False\n",
      "TPU available: False, using: 0 TPU cores\n",
      "HPU available: False, using: 0 HPUs\n",
      "/nix/store/bxj3ic1m66k3p690vwgb0913l5l46bk9-python3-3.12.4-env/lib/python3.12/site-packages/lightning_fabric/loggers/csv_logs.py:269: Experiment logs directory logs/h1024/version_0 exists and is not empty. Previous log files in this directory will be deleted when the new ones are saved!\n",
      "/nix/store/bxj3ic1m66k3p690vwgb0913l5l46bk9-python3-3.12.4-env/lib/python3.12/site-packages/pytorch_lightning/callbacks/model_checkpoint.py:652: Checkpoint directory /home/lucas/code/ece4179-neural-networks/labs/lab-3/logs/h1024 exists and is not empty.\n",
      "\n",
      "  | Name           | Type               | Params | Mode \n",
      "--------------------------------------------------------------\n",
      "0 | loss_fun       | CrossEntropyLoss   | 0      | train\n",
      "1 | linear1        | Linear             | 56.3 K | train\n",
      "2 | linear2        | Linear             | 7.2 K  | train\n",
      "3 | train_accuracy | MulticlassAccuracy | 0      | train\n",
      "4 | val_accuracy   | MulticlassAccuracy | 0      | train\n",
      "5 | test_accuracy  | MulticlassAccuracy | 0      | train\n",
      "--------------------------------------------------------------\n",
      "63.5 K    Trainable params\n",
      "0         Non-trainable params\n",
      "63.5 K    Total params\n",
      "0.254     Total estimated model params size (MB)\n"
     ]
    },
    {
     "data": {
      "application/vnd.jupyter.widget-view+json": {
       "model_id": "b9d74170c9fb4c2498ab7a5f7682fc82",
       "version_major": 2,
       "version_minor": 0
      },
      "text/plain": [
       "Sanity Checking: |          | 0/? [00:00<?, ?it/s]"
      ]
     },
     "metadata": {},
     "output_type": "display_data"
    },
    {
     "data": {
      "application/vnd.jupyter.widget-view+json": {
       "model_id": "d649e40d1ce64484b25c1beeaf16a6ac",
       "version_major": 2,
       "version_minor": 0
      },
      "text/plain": [
       "Training: |          | 0/? [00:00<?, ?it/s]"
      ]
     },
     "metadata": {},
     "output_type": "display_data"
    },
    {
     "data": {
      "application/vnd.jupyter.widget-view+json": {
       "model_id": "2b72463620374ceeb75013e127f6dc13",
       "version_major": 2,
       "version_minor": 0
      },
      "text/plain": [
       "Validation: |          | 0/? [00:00<?, ?it/s]"
      ]
     },
     "metadata": {},
     "output_type": "display_data"
    },
    {
     "data": {
      "application/vnd.jupyter.widget-view+json": {
       "model_id": "ea02bf84e3b64385abf2484f0c5ee919",
       "version_major": 2,
       "version_minor": 0
      },
      "text/plain": [
       "Validation: |          | 0/? [00:00<?, ?it/s]"
      ]
     },
     "metadata": {},
     "output_type": "display_data"
    },
    {
     "data": {
      "application/vnd.jupyter.widget-view+json": {
       "model_id": "d851714c4aba442e847cb814ee0adaa9",
       "version_major": 2,
       "version_minor": 0
      },
      "text/plain": [
       "Validation: |          | 0/? [00:00<?, ?it/s]"
      ]
     },
     "metadata": {},
     "output_type": "display_data"
    },
    {
     "data": {
      "application/vnd.jupyter.widget-view+json": {
       "model_id": "a894a15cb7104579bcdf9a2d3a9a7659",
       "version_major": 2,
       "version_minor": 0
      },
      "text/plain": [
       "Validation: |          | 0/? [00:00<?, ?it/s]"
      ]
     },
     "metadata": {},
     "output_type": "display_data"
    },
    {
     "data": {
      "application/vnd.jupyter.widget-view+json": {
       "model_id": "47956893cdf0459f8c4769f678073d53",
       "version_major": 2,
       "version_minor": 0
      },
      "text/plain": [
       "Validation: |          | 0/? [00:00<?, ?it/s]"
      ]
     },
     "metadata": {},
     "output_type": "display_data"
    },
    {
     "data": {
      "application/vnd.jupyter.widget-view+json": {
       "model_id": "beb1a7bee96b48e9a1aafa629d19bc50",
       "version_major": 2,
       "version_minor": 0
      },
      "text/plain": [
       "Validation: |          | 0/? [00:00<?, ?it/s]"
      ]
     },
     "metadata": {},
     "output_type": "display_data"
    },
    {
     "data": {
      "application/vnd.jupyter.widget-view+json": {
       "model_id": "bcda6eb6974847e099ca891a1c48e0cc",
       "version_major": 2,
       "version_minor": 0
      },
      "text/plain": [
       "Validation: |          | 0/? [00:00<?, ?it/s]"
      ]
     },
     "metadata": {},
     "output_type": "display_data"
    },
    {
     "data": {
      "application/vnd.jupyter.widget-view+json": {
       "model_id": "8a8b2f26183a40bfa0ddf9780daa4408",
       "version_major": 2,
       "version_minor": 0
      },
      "text/plain": [
       "Validation: |          | 0/? [00:00<?, ?it/s]"
      ]
     },
     "metadata": {},
     "output_type": "display_data"
    },
    {
     "data": {
      "application/vnd.jupyter.widget-view+json": {
       "model_id": "df71cb8f3cbc4af19b0d7b1720b66450",
       "version_major": 2,
       "version_minor": 0
      },
      "text/plain": [
       "Validation: |          | 0/? [00:00<?, ?it/s]"
      ]
     },
     "metadata": {},
     "output_type": "display_data"
    },
    {
     "data": {
      "application/vnd.jupyter.widget-view+json": {
       "model_id": "72e0035c3c674d29923f6c49e377b8db",
       "version_major": 2,
       "version_minor": 0
      },
      "text/plain": [
       "Validation: |          | 0/? [00:00<?, ?it/s]"
      ]
     },
     "metadata": {},
     "output_type": "display_data"
    },
    {
     "data": {
      "application/vnd.jupyter.widget-view+json": {
       "model_id": "e466f70090eb4c3ca991c503ab864a79",
       "version_major": 2,
       "version_minor": 0
      },
      "text/plain": [
       "Validation: |          | 0/? [00:00<?, ?it/s]"
      ]
     },
     "metadata": {},
     "output_type": "display_data"
    },
    {
     "data": {
      "application/vnd.jupyter.widget-view+json": {
       "model_id": "a41707831633476d91a3535ff2947929",
       "version_major": 2,
       "version_minor": 0
      },
      "text/plain": [
       "Validation: |          | 0/? [00:00<?, ?it/s]"
      ]
     },
     "metadata": {},
     "output_type": "display_data"
    },
    {
     "data": {
      "application/vnd.jupyter.widget-view+json": {
       "model_id": "b99735c739104263ad6d01f5cdbe5c64",
       "version_major": 2,
       "version_minor": 0
      },
      "text/plain": [
       "Validation: |          | 0/? [00:00<?, ?it/s]"
      ]
     },
     "metadata": {},
     "output_type": "display_data"
    },
    {
     "data": {
      "application/vnd.jupyter.widget-view+json": {
       "model_id": "f81623956b9a4d7593c9c7722cc4aec8",
       "version_major": 2,
       "version_minor": 0
      },
      "text/plain": [
       "Validation: |          | 0/? [00:00<?, ?it/s]"
      ]
     },
     "metadata": {},
     "output_type": "display_data"
    },
    {
     "data": {
      "application/vnd.jupyter.widget-view+json": {
       "model_id": "c7cf0bfeecfb446c9c929205ab1af95d",
       "version_major": 2,
       "version_minor": 0
      },
      "text/plain": [
       "Validation: |          | 0/? [00:00<?, ?it/s]"
      ]
     },
     "metadata": {},
     "output_type": "display_data"
    },
    {
     "data": {
      "application/vnd.jupyter.widget-view+json": {
       "model_id": "d0b4ca0be3e34950a4667b4155df7729",
       "version_major": 2,
       "version_minor": 0
      },
      "text/plain": [
       "Validation: |          | 0/? [00:00<?, ?it/s]"
      ]
     },
     "metadata": {},
     "output_type": "display_data"
    },
    {
     "data": {
      "application/vnd.jupyter.widget-view+json": {
       "model_id": "46da15352723482f830bb3d2b75611fd",
       "version_major": 2,
       "version_minor": 0
      },
      "text/plain": [
       "Validation: |          | 0/? [00:00<?, ?it/s]"
      ]
     },
     "metadata": {},
     "output_type": "display_data"
    },
    {
     "data": {
      "application/vnd.jupyter.widget-view+json": {
       "model_id": "e9a9b3a7dea54c39a4eb52d60212c235",
       "version_major": 2,
       "version_minor": 0
      },
      "text/plain": [
       "Validation: |          | 0/? [00:00<?, ?it/s]"
      ]
     },
     "metadata": {},
     "output_type": "display_data"
    },
    {
     "data": {
      "application/vnd.jupyter.widget-view+json": {
       "model_id": "8a5c68b0f6574d44853ee810bcf117f6",
       "version_major": 2,
       "version_minor": 0
      },
      "text/plain": [
       "Validation: |          | 0/? [00:00<?, ?it/s]"
      ]
     },
     "metadata": {},
     "output_type": "display_data"
    },
    {
     "data": {
      "application/vnd.jupyter.widget-view+json": {
       "model_id": "c2f169bd19cc424ca01ca4bfdca845b2",
       "version_major": 2,
       "version_minor": 0
      },
      "text/plain": [
       "Validation: |          | 0/? [00:00<?, ?it/s]"
      ]
     },
     "metadata": {},
     "output_type": "display_data"
    },
    {
     "data": {
      "application/vnd.jupyter.widget-view+json": {
       "model_id": "91db212cef9d42eca609fce9626d703f",
       "version_major": 2,
       "version_minor": 0
      },
      "text/plain": [
       "Validation: |          | 0/? [00:00<?, ?it/s]"
      ]
     },
     "metadata": {},
     "output_type": "display_data"
    },
    {
     "data": {
      "application/vnd.jupyter.widget-view+json": {
       "model_id": "b3fa627b276d44d9955db9d50377433b",
       "version_major": 2,
       "version_minor": 0
      },
      "text/plain": [
       "Validation: |          | 0/? [00:00<?, ?it/s]"
      ]
     },
     "metadata": {},
     "output_type": "display_data"
    },
    {
     "data": {
      "application/vnd.jupyter.widget-view+json": {
       "model_id": "536c3fa8894449cf9f1cbc086fbaad95",
       "version_major": 2,
       "version_minor": 0
      },
      "text/plain": [
       "Validation: |          | 0/? [00:00<?, ?it/s]"
      ]
     },
     "metadata": {},
     "output_type": "display_data"
    },
    {
     "data": {
      "application/vnd.jupyter.widget-view+json": {
       "model_id": "75ee1b34355c49ffb6ab70a7a8653a7f",
       "version_major": 2,
       "version_minor": 0
      },
      "text/plain": [
       "Validation: |          | 0/? [00:00<?, ?it/s]"
      ]
     },
     "metadata": {},
     "output_type": "display_data"
    },
    {
     "data": {
      "application/vnd.jupyter.widget-view+json": {
       "model_id": "dd6e789a85fa4610867d800350018653",
       "version_major": 2,
       "version_minor": 0
      },
      "text/plain": [
       "Validation: |          | 0/? [00:00<?, ?it/s]"
      ]
     },
     "metadata": {},
     "output_type": "display_data"
    },
    {
     "data": {
      "application/vnd.jupyter.widget-view+json": {
       "model_id": "5b1f87d96bf0400785bd5f054142f3bf",
       "version_major": 2,
       "version_minor": 0
      },
      "text/plain": [
       "Validation: |          | 0/? [00:00<?, ?it/s]"
      ]
     },
     "metadata": {},
     "output_type": "display_data"
    },
    {
     "data": {
      "application/vnd.jupyter.widget-view+json": {
       "model_id": "f6e6b4f220224a46bd01c43cb7c2fe7e",
       "version_major": 2,
       "version_minor": 0
      },
      "text/plain": [
       "Validation: |          | 0/? [00:00<?, ?it/s]"
      ]
     },
     "metadata": {},
     "output_type": "display_data"
    },
    {
     "data": {
      "application/vnd.jupyter.widget-view+json": {
       "model_id": "9770852ac26141b89ecd8d901d303599",
       "version_major": 2,
       "version_minor": 0
      },
      "text/plain": [
       "Validation: |          | 0/? [00:00<?, ?it/s]"
      ]
     },
     "metadata": {},
     "output_type": "display_data"
    },
    {
     "data": {
      "application/vnd.jupyter.widget-view+json": {
       "model_id": "c32c368450a442eda759e9035ab06d63",
       "version_major": 2,
       "version_minor": 0
      },
      "text/plain": [
       "Validation: |          | 0/? [00:00<?, ?it/s]"
      ]
     },
     "metadata": {},
     "output_type": "display_data"
    },
    {
     "data": {
      "application/vnd.jupyter.widget-view+json": {
       "model_id": "6ce40e4f19994cc5beafb27a9ef3dd67",
       "version_major": 2,
       "version_minor": 0
      },
      "text/plain": [
       "Validation: |          | 0/? [00:00<?, ?it/s]"
      ]
     },
     "metadata": {},
     "output_type": "display_data"
    },
    {
     "name": "stderr",
     "output_type": "stream",
     "text": [
      "`Trainer.fit` stopped: `max_epochs=30` reached.\n",
      "Restoring states from the checkpoint path at /home/lucas/code/ece4179-neural-networks/labs/lab-3/logs/h1024/epoch=29-step=40860-v1.ckpt\n",
      "Loaded model weights from the checkpoint at /home/lucas/code/ece4179-neural-networks/labs/lab-3/logs/h1024/epoch=29-step=40860-v1.ckpt\n"
     ]
    },
    {
     "data": {
      "application/vnd.jupyter.widget-view+json": {
       "model_id": "5e5f475c2bd04494889e196ea5ecb8c7",
       "version_major": 2,
       "version_minor": 0
      },
      "text/plain": [
       "Testing: |          | 0/? [00:00<?, ?it/s]"
      ]
     },
     "metadata": {},
     "output_type": "display_data"
    },
    {
     "name": "stdout",
     "output_type": "stream",
     "text": [
      "────────────────────────────────────────────────────────────────────────────────────────────────────────────────────────\n",
      "       Test metric             DataLoader 0\n",
      "────────────────────────────────────────────────────────────────────────────────────────────────────────────────────────\n",
      "        test_acc            0.4696304202079773\n",
      "        test_loss           0.6324483752250671\n",
      "────────────────────────────────────────────────────────────────────────────────────────────────────────────────────────\n"
     ]
    },
    {
     "data": {
      "text/plain": [
       "[{'test_loss': 0.6324483752250671, 'test_acc': 0.4696304202079773}]"
      ]
     },
     "execution_count": 34,
     "metadata": {},
     "output_type": "execute_result"
    }
   ],
   "source": [
    "# Scenario c: Initialize Shallow MLP model with hidden node = 1024\n",
    "hidden_node = 1024\n",
    "model_shallow_c = Shallow_MLP(input_features, hidden_node, classes, lr)\n",
    "\n",
    "\n",
    "# Define checkpoint callback function to save best model\n",
    "checkpoint_callback_2c = ModelCheckpoint(\n",
    "    monitor=\"val_acc\",\n",
    "    dirpath=\"logs/h1024\",\n",
    "    save_top_k=1,\n",
    "    mode=\"max\",\n",
    "    every_n_epochs=1,\n",
    ")\n",
    "\n",
    "# Train and test the model\n",
    "trainer_2c = Trainer(\n",
    "    accelerator=\"auto\",\n",
    "    devices=1 if not torch.cuda.is_available() else torch.cuda.device_count(),\n",
    "    max_epochs=max_epochs,\n",
    "    callbacks=[TQDMProgressBar(refresh_rate=20), checkpoint_callback_2c],\n",
    "    logger=CSVLogger(\"logs\", name=\"h1024\", version=0),\n",
    ")\n",
    "\n",
    "# Start the training loop\n",
    "trainer_2c.fit(model_shallow_c)\n",
    "\n",
    "# Report the test performance\n",
    "trainer_2c.test(ckpt_path=\"best\")"
   ]
  },
  {
   "cell_type": "markdown",
   "metadata": {},
   "source": [
    "You should expect some output like :\n",
    "\n",
    "[{'test_loss': 0.6303123235702515, 'test_acc': 0.7377262115478516}]"
   ]
  },
  {
   "cell_type": "markdown",
   "metadata": {},
   "source": [
    "<div class=\"alert alert-block alert-info\">\n",
    "\n",
    "## 2.3 Train and evaluate model's performance <a class=\"anchor\" id=\"2_4\"></a>"
   ]
  },
  {
   "cell_type": "markdown",
   "metadata": {},
   "source": [
    "#### (a) Plot Training losses for the different shallow networks\n",
    "\n",
    "Now let's read the ```csv``` files that are stored during training and plot the losses for all different training setups.\n",
    "\n",
    "Make sure you include the following:\n",
    "- Make the plot on the same figure\n",
    "- Properly labelled axes\n",
    "- Proper title\n",
    "- Legends"
   ]
  },
  {
   "cell_type": "code",
   "execution_count": null,
   "metadata": {},
   "outputs": [],
   "source": [
    "# read logs for 2a\n",
    "metrics_task_2a = pd.read_csv(\"logs/h8/version_0/metrics.csv\")\n",
    "metrics_task_2a.set_index(\"epoch\", inplace=True)\n",
    "metrics_task_2a = metrics_task_2a.groupby(level=0).sum().drop(\"step\", axis=1)\n",
    "\n",
    "# read logs for 2b\n",
    "metrics_task_2b = pd.read_csv(\"logs/h128/version_0/metrics.csv\")\n",
    "metrics_task_2b.set_index(\"epoch\", inplace=True)\n",
    "metrics_task_2b = metrics_task_2b.groupby(level=0).sum().drop(\"step\", axis=1)\n",
    "\n",
    "\n",
    "# read logs for 2c\n",
    "metrics_task_2c = pd.read_csv(\"logs/h1024/version_0/metrics.csv\")\n",
    "metrics_task_2c.set_index(\"epoch\", inplace=True)\n",
    "metrics_task_2c = metrics_task_2c.groupby(level=0).sum().drop(\"step\", axis=1)"
   ]
  },
  {
   "cell_type": "code",
   "execution_count": null,
   "metadata": {},
   "outputs": [
    {
     "data": {
      "text/plain": [
       "<matplotlib.legend.Legend at 0x7ff0c3208500>"
      ]
     },
     "execution_count": 36,
     "metadata": {},
     "output_type": "execute_result"
    },
    {
     "data": {
      "image/png": "[encoded data removed]",
      "text/plain": [
       "<Figure size 1000x500 with 1 Axes>"
      ]
     },
     "metadata": {},
     "output_type": "display_data"
    }
   ],
   "source": [
    "# Plot using matplotlib\n",
    "plt.figure(figsize=(10, 5))\n",
    "\n",
    "plt.plot(metrics_task_2a[\"train_loss\"][:-1])\n",
    "plt.plot(metrics_task_2b[\"train_loss\"][:-1])\n",
    "plt.plot(metrics_task_2c[\"train_loss\"][:-1])\n",
    "plt.title(\"Training Loss Shallow MLP\")\n",
    "plt.xlabel(\"Epoch\")\n",
    "plt.ylabel(\"Loss\")\n",
    "plt.legend([\"Train Loss 8\", \"Train Loss 128\", \"Train Loss 1024\"])"
   ]
  },
  {
   "cell_type": "markdown",
   "metadata": {},
   "source": [
    "#### (b) Plot Validation accuracies for the different shallow networks\n",
    "\n",
    "Make sure you include the following for the accuracy plots too:\n",
    "- Make the plot on the same figure\n",
    "- Properly labelled axes\n",
    "- Proper title\n",
    "- Legends"
   ]
  },
  {
   "cell_type": "code",
   "execution_count": null,
   "metadata": {},
   "outputs": [
    {
     "data": {
      "text/plain": [
       "<matplotlib.legend.Legend at 0x7ff0c31a16d0>"
      ]
     },
     "execution_count": 37,
     "metadata": {},
     "output_type": "execute_result"
    },
    {
     "data": {
      "image/png": "[encoded data removed]",
      "text/plain": [
       "<Figure size 1000x500 with 1 Axes>"
      ]
     },
     "metadata": {},
     "output_type": "display_data"
    }
   ],
   "source": [
    "# Plot using matplotlib\n",
    "plt.figure(figsize=(10, 5))\n",
    "\n",
    "plt.plot(metrics_task_2a[\"val_acc\"][:-1])\n",
    "plt.plot(metrics_task_2b[\"val_acc\"][:-1])\n",
    "plt.plot(metrics_task_2c[\"val_acc\"][:-1])\n",
    "plt.title(\"Validation Accuracy Shallow MLP\")\n",
    "plt.xlabel(\"Epoch\")\n",
    "plt.ylabel(\"Loss\")\n",
    "plt.legend(\n",
    "    [\"Validation Accuracy 8\", \"Validation Accuracy 128\", \"Validation Accuracy 1024\"]\n",
    ")"
   ]
  },
  {
   "cell_type": "markdown",
   "metadata": {},
   "source": [
    "<div class=\"alert alert-block alert-success\">\n",
    "\n",
    "### Discussion\n",
    "\n",
    "Please enter your answers below\n",
    "\n",
    "**Question 1: In task 2.1(b) Why have a balanced split across classes is necessary?**\n",
    "\n",
    "To prevent overfitting for a subset of outputs during training.\n",
    "\n",
    "**Question 2: In the code provided below, select one model you have trained, then print out 5 predictions of test set along with groundtruth labels. How do you think the performance of the model?**\n",
    "\n",
    "The chosen model was the model with 128 hidden neurons.\n",
    "The performance is not great. From the training and test runs, the accuracy was around 43%, so getting 4/5 correct is better than expected. Having less than 50% accuracy is pretty abysmal and not very useful for any sort of automation.\n",
    "\n",
    "**Question 3: Now please provide at least 2-3 suggestions to improve the performance of the shallow MLP, you should support your idea with reasoning or providing results of implementing the idea.**\n",
    "\n",
    "- increase the number of hidden neurons. Solid proof that this improves performance is from the fact that the 1024 neuron model performs better.\n",
    "- increase number of training epochs. From the validation loss and accuracy graphs, it looks like those values have not completely plateaued after 30 epochs, so continuing to train for longer would improve performance.\n"
   ]
  },
  {
   "cell_type": "code",
   "execution_count": null,
   "metadata": {},
   "outputs": [
    {
     "name": "stdout",
     "output_type": "stream",
     "text": [
      "Prediction: 3\n",
      "Ground Truth: 6\n",
      "----------------------------------------------------\n",
      "Prediction: 1\n",
      "Ground Truth: 1\n",
      "----------------------------------------------------\n",
      "Prediction: 1\n",
      "Ground Truth: 1\n",
      "----------------------------------------------------\n",
      "Prediction: 2\n",
      "Ground Truth: 2\n",
      "----------------------------------------------------\n",
      "Prediction: 2\n",
      "Ground Truth: 2\n",
      "----------------------------------------------------\n"
     ]
    }
   ],
   "source": [
    "# Generate predictions using predict function\n",
    "inputs = test_dataset.tensors[0][:5, :]\n",
    "outputs = model_shallow_b(inputs)\n",
    "\n",
    "predictions_2b, labels_2b, inputs_2b = (\n",
    "    outputs.argmax(1),\n",
    "    test_dataset.tensors[1][:5],\n",
    "    inputs,\n",
    ")\n",
    "\n",
    "# printout predictions along with ground truths\n",
    "n = 5\n",
    "labels_2b = labels_2b.cpu().numpy()\n",
    "\n",
    "for i in range(n):\n",
    "    print(f\"Prediction: {label_encoder.inverse_transform([predictions_2b[i]])[0]}\")\n",
    "    print(f\"Ground Truth: {label_encoder.inverse_transform([labels_2b[i]])[0]}\")\n",
    "    print(\"----------------------------------------------------\")"
   ]
  },
  {
   "cell_type": "markdown",
   "metadata": {},
   "source": [
    "<div class=\"alert alert-block alert-info\">\n",
    "\n",
    "# Task 3 Deep MLP <a class=\"anchor\" id=\"task3\"></a>\n",
    "\n",
    "How about to build a different network for this dataset? \n"
   ]
  },
  {
   "cell_type": "markdown",
   "metadata": {},
   "source": [
    "<div class=\"alert alert-block alert-info\">\n",
    "\n",
    "## Learning Objective\n",
    "\n",
    "This task aims to understand and implement a Deep MLP model to train neural networks on the CoverType dataset. By the end of this task, you will be able to:\n",
    "\n",
    "1. Implement a Deep Multi-Layer Perceptron (MLP) model using PyTorch Lightning's framework.\n",
    "\n",
    "2. Apply stochastic gradient descent (SGD) optimization method to train the MLP model on the CoverType dataset.\n",
    "\n",
    "3. Visualize and analyze the performance of the MLP model on the given samples to understand how well it fits the data."
   ]
  },
  {
   "cell_type": "markdown",
   "metadata": {},
   "source": [
    "<div class=\"alert alert-block alert-info\">\n",
    "\n",
    "## 3.1 Design Deep MLP <a class=\"anchor\" id=\"3_1\"></a>\n",
    "\n",
    "Design a Deep MLP:\n",
    " - You need to instantiate Deep_MLP class from LightningModule\n",
    " - Deep_MLP must take these inputs:\n",
    "   1. the number of input features\n",
    "   2. the number of classes\n",
    "   3. A list showing number of nodes in hidden layers (e.g hidden_layers = [n_hidden1 n_hidden2 n_hidden3 n_hidden4])\n",
    "   4. the learning_rate\n",
    "   5. the train loader\n",
    "   6. the test loader \n",
    "   7. the validation loader\n",
    "\n",
    " - And it should have metrics to evaluate model performance:\n",
    "   1. train_accuracy\n",
    "   2. test_accuracy\n",
    "   3. val_accuracy\n",
    "   - To define these metrics you should use Accuracy() class from pytorch-lightning"
   ]
  },
  {
   "cell_type": "markdown",
   "metadata": {},
   "source": [
    "- Let's define a deep MLP with 5 hidden layers, all with **ReLU** as activation functions afterwards: \n",
    "  - fc1: Input Layer: Linear(#input features $\\times$ n_hidden1) $\\rightarrow$ ReLU $\\rightarrow$\n",
    "  - fc2: Hidden Layer: Linear(n_hidden1 $\\times$ n_hidden2) $\\rightarrow$ ReLU $\\rightarrow$\n",
    "  - fc3: Hidden Layer: Linear(n_hidden2 $\\times$ n_hidden3) $\\rightarrow$ ReLU $\\rightarrow$\n",
    "  - fc4: Hidden Layer: Linear(n_hidden3 $\\times$ n_hidden4) $\\rightarrow$ ReLU $\\rightarrow$\n",
    "  - fc5: Output Layer: Linear(n_hidden4 $\\times$ classes) : Output layer maps the hidden nodes into class scores (logits)\n",
    "\n",
    "The Class should take a list of numbers during initialisation and define the network from there."
   ]
  },
  {
   "cell_type": "code",
   "execution_count": null,
   "metadata": {},
   "outputs": [],
   "source": [
    "class Deep_MLP(LightningModule):\n",
    "    def __init__(\n",
    "        self,\n",
    "        input_features,\n",
    "        classes,\n",
    "        hidden_layers,\n",
    "        learning_rate=1e-1,\n",
    "    ):\n",
    "        super().__init__()\n",
    "        self.save_hyperparameters()\n",
    "\n",
    "        self.learning_rate = learning_rate\n",
    "        self.loss_fun = nn.CrossEntropyLoss()\n",
    "        self.classes = classes\n",
    "\n",
    "        # Define the 5 fc layers\n",
    "        self.linear1 = nn.Linear(input_features, hidden_layers[0])\n",
    "        self.linear2 = nn.Linear(hidden_layers[0], hidden_layers[1])\n",
    "        self.linear3 = nn.Linear(hidden_layers[1], hidden_layers[2])\n",
    "        self.linear4 = nn.Linear(hidden_layers[2], hidden_layers[3])\n",
    "        self.linear5 = nn.Linear(hidden_layers[3], classes)\n",
    "\n",
    "        self.train_accuracy = MulticlassAccuracy(classes, average=\"macro\")\n",
    "        self.val_accuracy = MulticlassAccuracy(classes, average=\"macro\")\n",
    "        self.test_accuracy = MulticlassAccuracy(classes, average=\"macro\")\n",
    "\n",
    "    def forward(self, x):\n",
    "\n",
    "        # Pass input through layers\n",
    "        # Don't forget the activation function\n",
    "\n",
    "        out1 = nn.functional.relu(self.linear1(x))\n",
    "        out2 = nn.functional.relu(self.linear2(out1))\n",
    "        out3 = nn.functional.relu(self.linear3(out2))\n",
    "        out4 = nn.functional.relu(self.linear4(out3))\n",
    "        out5 = self.linear5(out4)\n",
    "\n",
    "        return out5\n",
    "\n",
    "    def training_step(self, batch, batch_idx):\n",
    "        # get the x and y values of the data point\n",
    "        # pass through the network\n",
    "        # Get the loss\n",
    "        x, y = batch\n",
    "        logits = self(x)\n",
    "        loss = self.loss_fun(logits, y)\n",
    "\n",
    "        preds = logits.argmax(1)\n",
    "        self.train_accuracy.update(preds, y)\n",
    "\n",
    "        self.log(\"train_loss\", loss, prog_bar=True, on_step=False, on_epoch=True)\n",
    "        self.log(\n",
    "            \"train_acc\",\n",
    "            self.train_accuracy.compute(),\n",
    "            prog_bar=True,\n",
    "            on_step=False,\n",
    "            on_epoch=True,\n",
    "        )\n",
    "\n",
    "        return loss\n",
    "\n",
    "    def validation_step(self, batch, batch_idx):\n",
    "        # get the x and y values of the data point\n",
    "        # pass through the network\n",
    "        # Get the loss\n",
    "        x, y = batch\n",
    "        logits = self(x)\n",
    "        loss = self.loss_fun(logits, y)\n",
    "\n",
    "        preds = logits.argmax(1)\n",
    "        self.val_accuracy.update(preds, y)\n",
    "\n",
    "        # Calling self.log will surface up scalars for you in TensorBoard\n",
    "        self.log(\"val_loss\", loss, prog_bar=True, on_step=False, on_epoch=True)\n",
    "        self.log(\n",
    "            \"val_acc\",\n",
    "            self.val_accuracy.compute(),\n",
    "            prog_bar=True,\n",
    "            on_step=False,\n",
    "            on_epoch=True,\n",
    "        )\n",
    "        return loss\n",
    "\n",
    "    def test_step(self, batch, batch_idx):\n",
    "        # get the x and y values of the data point\n",
    "        # pass through the network\n",
    "        # Get the loss\n",
    "        x, y = batch\n",
    "        logits = self(x)\n",
    "        loss = self.loss_fun(logits, y)\n",
    "\n",
    "        preds = logits.argmax(1)\n",
    "        self.test_accuracy.update(preds, y)\n",
    "\n",
    "        # Calling self.log will surface up scalars for you in TensorBoard\n",
    "        self.log(\"test_loss\", loss, prog_bar=True)\n",
    "        self.log(\"test_acc\", self.test_accuracy.compute(), prog_bar=True)\n",
    "        return loss\n",
    "\n",
    "    def predict_step(self, batch, batch_idx):\n",
    "        # get the x and y values of the data point\n",
    "        # pass through the network\n",
    "        # Get the loss\n",
    "        x, y = batch\n",
    "        logits = self(x)\n",
    "        loss = self.loss_fun(logits, y)\n",
    "\n",
    "        pred = logits.argmax(1)\n",
    "        return pred, y, x\n",
    "\n",
    "    def configure_optimizers(self):\n",
    "        # define the SGD optimizer\n",
    "        optimizer = optim.SGD(self.parameters(), lr=self.learning_rate)\n",
    "        return optimizer\n",
    "\n",
    "    ####################\n",
    "    # DATA RELATED HOOKS\n",
    "    ####################\n",
    "\n",
    "    def train_dataloader(self):\n",
    "        return train_loader\n",
    "\n",
    "    def val_dataloader(self):\n",
    "        return val_loader\n",
    "\n",
    "    def test_dataloader(self):\n",
    "        return test_loader"
   ]
  },
  {
   "cell_type": "markdown",
   "metadata": {},
   "source": [
    "<div class=\"alert alert-block alert-info\">\n",
    "\n",
    "## 3.2 Train and evaluate model's performance <a class=\"anchor\" id=\"3_2\"></a>\n",
    "\n",
    "Now, create an instance of the model and with the following hidden layers: [128, 64, 32, 16] \n",
    "\n",
    "\n",
    "The forward propagation of model should follow this:\n",
    "- Hidden layers: [n_hidden1 , n_hidden2 , n_hidden3, n_hidden4]\n",
    "- Linear(#input features $\\times$ n_hidden1) $\\rightarrow$ ReLU $\\rightarrow$ Linear(n_hidden1 $\\times$ n_hidden2) $\\rightarrow$ ReLU $\\rightarrow$  Linear(n_hidden2 $\\times$ n_hidden3) $\\rightarrow$ Relu $\\rightarrow$ Linear(n_hidden3 $\\times$ n_hidden4)  $\\rightarrow$ Relu $\\rightarrow$ Linear(n_hidden4 $\\times$ classes)\n",
    "- Note: Make sure to set name for log file directories (eg: logs_task_3)\n",
    "\n"
   ]
  },
  {
   "cell_type": "code",
   "execution_count": null,
   "metadata": {},
   "outputs": [
    {
     "name": "stderr",
     "output_type": "stream",
     "text": [
      "GPU available: False, used: False\n",
      "TPU available: False, using: 0 TPU cores\n",
      "HPU available: False, using: 0 HPUs\n",
      "/nix/store/bxj3ic1m66k3p690vwgb0913l5l46bk9-python3-3.12.4-env/lib/python3.12/site-packages/lightning_fabric/loggers/csv_logs.py:269: Experiment logs directory logs/deep/version_0 exists and is not empty. Previous log files in this directory will be deleted when the new ones are saved!\n",
      "/nix/store/bxj3ic1m66k3p690vwgb0913l5l46bk9-python3-3.12.4-env/lib/python3.12/site-packages/pytorch_lightning/callbacks/model_checkpoint.py:652: Checkpoint directory /home/lucas/code/ece4179-neural-networks/labs/lab-3/logs/deep exists and is not empty.\n",
      "\n",
      "  | Name           | Type               | Params | Mode \n",
      "--------------------------------------------------------------\n",
      "0 | loss_fun       | CrossEntropyLoss   | 0      | train\n",
      "1 | linear1        | Linear             | 7.0 K  | train\n",
      "2 | linear2        | Linear             | 8.3 K  | train\n",
      "3 | linear3        | Linear             | 2.1 K  | train\n",
      "4 | linear4        | Linear             | 528    | train\n",
      "5 | linear5        | Linear             | 119    | train\n",
      "6 | train_accuracy | MulticlassAccuracy | 0      | train\n",
      "7 | val_accuracy   | MulticlassAccuracy | 0      | train\n",
      "8 | test_accuracy  | MulticlassAccuracy | 0      | train\n",
      "--------------------------------------------------------------\n",
      "18.0 K    Trainable params\n",
      "0         Non-trainable params\n",
      "18.0 K    Total params\n",
      "0.072     Total estimated model params size (MB)\n"
     ]
    },
    {
     "data": {
      "application/vnd.jupyter.widget-view+json": {
       "model_id": "42b5d66abe804d14ba84d93a9fb545b3",
       "version_major": 2,
       "version_minor": 0
      },
      "text/plain": [
       "Sanity Checking: |          | 0/? [00:00<?, ?it/s]"
      ]
     },
     "metadata": {},
     "output_type": "display_data"
    },
    {
     "name": "stderr",
     "output_type": "stream",
     "text": [
      "/nix/store/bxj3ic1m66k3p690vwgb0913l5l46bk9-python3-3.12.4-env/lib/python3.12/site-packages/pytorch_lightning/trainer/connectors/data_connector.py:424: The 'val_dataloader' does not have many workers which may be a bottleneck. Consider increasing the value of the `num_workers` argument` to `num_workers=15` in the `DataLoader` to improve performance.\n",
      "/nix/store/bxj3ic1m66k3p690vwgb0913l5l46bk9-python3-3.12.4-env/lib/python3.12/site-packages/pytorch_lightning/trainer/connectors/data_connector.py:424: The 'train_dataloader' does not have many workers which may be a bottleneck. Consider increasing the value of the `num_workers` argument` to `num_workers=15` in the `DataLoader` to improve performance.\n"
     ]
    },
    {
     "data": {
      "application/vnd.jupyter.widget-view+json": {
       "model_id": "2f957e21c6af430d8a6e76b9ffeafac5",
       "version_major": 2,
       "version_minor": 0
      },
      "text/plain": [
       "Training: |          | 0/? [00:00<?, ?it/s]"
      ]
     },
     "metadata": {},
     "output_type": "display_data"
    },
    {
     "data": {
      "application/vnd.jupyter.widget-view+json": {
       "model_id": "1b9e27bcfd654aa39fbf8ad9ba8bf51f",
       "version_major": 2,
       "version_minor": 0
      },
      "text/plain": [
       "Validation: |          | 0/? [00:00<?, ?it/s]"
      ]
     },
     "metadata": {},
     "output_type": "display_data"
    },
    {
     "data": {
      "application/vnd.jupyter.widget-view+json": {
       "model_id": "c7b21f163ff84bb1ac49c9f497c03dee",
       "version_major": 2,
       "version_minor": 0
      },
      "text/plain": [
       "Validation: |          | 0/? [00:00<?, ?it/s]"
      ]
     },
     "metadata": {},
     "output_type": "display_data"
    },
    {
     "data": {
      "application/vnd.jupyter.widget-view+json": {
       "model_id": "e6397a22524c48409ec7f0d41406a9cf",
       "version_major": 2,
       "version_minor": 0
      },
      "text/plain": [
       "Validation: |          | 0/? [00:00<?, ?it/s]"
      ]
     },
     "metadata": {},
     "output_type": "display_data"
    },
    {
     "data": {
      "application/vnd.jupyter.widget-view+json": {
       "model_id": "69c94596543146b0b1cd1d3f9619b2b0",
       "version_major": 2,
       "version_minor": 0
      },
      "text/plain": [
       "Validation: |          | 0/? [00:00<?, ?it/s]"
      ]
     },
     "metadata": {},
     "output_type": "display_data"
    },
    {
     "data": {
      "application/vnd.jupyter.widget-view+json": {
       "model_id": "a1dfc81ac48d4959bec3e5a716fe157a",
       "version_major": 2,
       "version_minor": 0
      },
      "text/plain": [
       "Validation: |          | 0/? [00:00<?, ?it/s]"
      ]
     },
     "metadata": {},
     "output_type": "display_data"
    },
    {
     "data": {
      "application/vnd.jupyter.widget-view+json": {
       "model_id": "2c37d7888595442396037de378c60cc8",
       "version_major": 2,
       "version_minor": 0
      },
      "text/plain": [
       "Validation: |          | 0/? [00:00<?, ?it/s]"
      ]
     },
     "metadata": {},
     "output_type": "display_data"
    },
    {
     "data": {
      "application/vnd.jupyter.widget-view+json": {
       "model_id": "b8dc54116da74b76b092f6eac9802417",
       "version_major": 2,
       "version_minor": 0
      },
      "text/plain": [
       "Validation: |          | 0/? [00:00<?, ?it/s]"
      ]
     },
     "metadata": {},
     "output_type": "display_data"
    },
    {
     "data": {
      "application/vnd.jupyter.widget-view+json": {
       "model_id": "ca605dcfe5af462c9dac091b54b91042",
       "version_major": 2,
       "version_minor": 0
      },
      "text/plain": [
       "Validation: |          | 0/? [00:00<?, ?it/s]"
      ]
     },
     "metadata": {},
     "output_type": "display_data"
    },
    {
     "data": {
      "application/vnd.jupyter.widget-view+json": {
       "model_id": "11cc0bcc47e44b8ea6bfda455aa4c02d",
       "version_major": 2,
       "version_minor": 0
      },
      "text/plain": [
       "Validation: |          | 0/? [00:00<?, ?it/s]"
      ]
     },
     "metadata": {},
     "output_type": "display_data"
    },
    {
     "data": {
      "application/vnd.jupyter.widget-view+json": {
       "model_id": "8fb0dff30ba14162bbf1ac4925770002",
       "version_major": 2,
       "version_minor": 0
      },
      "text/plain": [
       "Validation: |          | 0/? [00:00<?, ?it/s]"
      ]
     },
     "metadata": {},
     "output_type": "display_data"
    },
    {
     "data": {
      "application/vnd.jupyter.widget-view+json": {
       "model_id": "24d3f1d198be421da08ab3bb79d416c0",
       "version_major": 2,
       "version_minor": 0
      },
      "text/plain": [
       "Validation: |          | 0/? [00:00<?, ?it/s]"
      ]
     },
     "metadata": {},
     "output_type": "display_data"
    },
    {
     "data": {
      "application/vnd.jupyter.widget-view+json": {
       "model_id": "af086edeac3d4f0690635fb78cf0f72f",
       "version_major": 2,
       "version_minor": 0
      },
      "text/plain": [
       "Validation: |          | 0/? [00:00<?, ?it/s]"
      ]
     },
     "metadata": {},
     "output_type": "display_data"
    },
    {
     "data": {
      "application/vnd.jupyter.widget-view+json": {
       "model_id": "70833fa3f41f41faaca481b45acac0aa",
       "version_major": 2,
       "version_minor": 0
      },
      "text/plain": [
       "Validation: |          | 0/? [00:00<?, ?it/s]"
      ]
     },
     "metadata": {},
     "output_type": "display_data"
    },
    {
     "data": {
      "application/vnd.jupyter.widget-view+json": {
       "model_id": "5a697513d62841588bbc96119d9b1984",
       "version_major": 2,
       "version_minor": 0
      },
      "text/plain": [
       "Validation: |          | 0/? [00:00<?, ?it/s]"
      ]
     },
     "metadata": {},
     "output_type": "display_data"
    },
    {
     "data": {
      "application/vnd.jupyter.widget-view+json": {
       "model_id": "7720262fdc3f4b83867146e90ec51f83",
       "version_major": 2,
       "version_minor": 0
      },
      "text/plain": [
       "Validation: |          | 0/? [00:00<?, ?it/s]"
      ]
     },
     "metadata": {},
     "output_type": "display_data"
    },
    {
     "data": {
      "application/vnd.jupyter.widget-view+json": {
       "model_id": "f105ff3f79274ac5a376481b60f7d112",
       "version_major": 2,
       "version_minor": 0
      },
      "text/plain": [
       "Validation: |          | 0/? [00:00<?, ?it/s]"
      ]
     },
     "metadata": {},
     "output_type": "display_data"
    },
    {
     "data": {
      "application/vnd.jupyter.widget-view+json": {
       "model_id": "5ecfa7e9f40643c2b338e73b7a86ca4d",
       "version_major": 2,
       "version_minor": 0
      },
      "text/plain": [
       "Validation: |          | 0/? [00:00<?, ?it/s]"
      ]
     },
     "metadata": {},
     "output_type": "display_data"
    },
    {
     "data": {
      "application/vnd.jupyter.widget-view+json": {
       "model_id": "bc36cbc1b9ab4b1481c9c90e0e80bc02",
       "version_major": 2,
       "version_minor": 0
      },
      "text/plain": [
       "Validation: |          | 0/? [00:00<?, ?it/s]"
      ]
     },
     "metadata": {},
     "output_type": "display_data"
    },
    {
     "data": {
      "application/vnd.jupyter.widget-view+json": {
       "model_id": "e334bf008b70455085448a52bd44c245",
       "version_major": 2,
       "version_minor": 0
      },
      "text/plain": [
       "Validation: |          | 0/? [00:00<?, ?it/s]"
      ]
     },
     "metadata": {},
     "output_type": "display_data"
    },
    {
     "data": {
      "application/vnd.jupyter.widget-view+json": {
       "model_id": "716922916758441dba819d796534e14d",
       "version_major": 2,
       "version_minor": 0
      },
      "text/plain": [
       "Validation: |          | 0/? [00:00<?, ?it/s]"
      ]
     },
     "metadata": {},
     "output_type": "display_data"
    },
    {
     "data": {
      "application/vnd.jupyter.widget-view+json": {
       "model_id": "ec6adc1d17234219993ddfc5f1b84b97",
       "version_major": 2,
       "version_minor": 0
      },
      "text/plain": [
       "Validation: |          | 0/? [00:00<?, ?it/s]"
      ]
     },
     "metadata": {},
     "output_type": "display_data"
    },
    {
     "data": {
      "application/vnd.jupyter.widget-view+json": {
       "model_id": "b4f10c649aec460b9ff01ed43e571a15",
       "version_major": 2,
       "version_minor": 0
      },
      "text/plain": [
       "Validation: |          | 0/? [00:00<?, ?it/s]"
      ]
     },
     "metadata": {},
     "output_type": "display_data"
    },
    {
     "data": {
      "application/vnd.jupyter.widget-view+json": {
       "model_id": "e08fb171debd4e44951515dae6d260d7",
       "version_major": 2,
       "version_minor": 0
      },
      "text/plain": [
       "Validation: |          | 0/? [00:00<?, ?it/s]"
      ]
     },
     "metadata": {},
     "output_type": "display_data"
    },
    {
     "data": {
      "application/vnd.jupyter.widget-view+json": {
       "model_id": "218c88bce2024adfa211d08cc7e4a34d",
       "version_major": 2,
       "version_minor": 0
      },
      "text/plain": [
       "Validation: |          | 0/? [00:00<?, ?it/s]"
      ]
     },
     "metadata": {},
     "output_type": "display_data"
    },
    {
     "data": {
      "application/vnd.jupyter.widget-view+json": {
       "model_id": "d35319828ba34d1cbbe982a96dd81494",
       "version_major": 2,
       "version_minor": 0
      },
      "text/plain": [
       "Validation: |          | 0/? [00:00<?, ?it/s]"
      ]
     },
     "metadata": {},
     "output_type": "display_data"
    },
    {
     "data": {
      "application/vnd.jupyter.widget-view+json": {
       "model_id": "b8c829d33a0744c193adbd10222884d4",
       "version_major": 2,
       "version_minor": 0
      },
      "text/plain": [
       "Validation: |          | 0/? [00:00<?, ?it/s]"
      ]
     },
     "metadata": {},
     "output_type": "display_data"
    },
    {
     "data": {
      "application/vnd.jupyter.widget-view+json": {
       "model_id": "d59c6387c1b44d5ea4c9335014d5bd25",
       "version_major": 2,
       "version_minor": 0
      },
      "text/plain": [
       "Validation: |          | 0/? [00:00<?, ?it/s]"
      ]
     },
     "metadata": {},
     "output_type": "display_data"
    },
    {
     "data": {
      "application/vnd.jupyter.widget-view+json": {
       "model_id": "1b961ca353d14625a453e21d9f904352",
       "version_major": 2,
       "version_minor": 0
      },
      "text/plain": [
       "Validation: |          | 0/? [00:00<?, ?it/s]"
      ]
     },
     "metadata": {},
     "output_type": "display_data"
    },
    {
     "data": {
      "application/vnd.jupyter.widget-view+json": {
       "model_id": "0e9dd866ba2946e0b2d1d5f710be4164",
       "version_major": 2,
       "version_minor": 0
      },
      "text/plain": [
       "Validation: |          | 0/? [00:00<?, ?it/s]"
      ]
     },
     "metadata": {},
     "output_type": "display_data"
    },
    {
     "data": {
      "application/vnd.jupyter.widget-view+json": {
       "model_id": "b3d414bfd3c44e38951ec0e55b06e5d2",
       "version_major": 2,
       "version_minor": 0
      },
      "text/plain": [
       "Validation: |          | 0/? [00:00<?, ?it/s]"
      ]
     },
     "metadata": {},
     "output_type": "display_data"
    },
    {
     "name": "stderr",
     "output_type": "stream",
     "text": [
      "`Trainer.fit` stopped: `max_epochs=30` reached.\n",
      "Restoring states from the checkpoint path at /home/lucas/code/ece4179-neural-networks/labs/lab-3/logs/deep/epoch=29-step=40860-v4.ckpt\n",
      "Loaded model weights from the checkpoint at /home/lucas/code/ece4179-neural-networks/labs/lab-3/logs/deep/epoch=29-step=40860-v4.ckpt\n",
      "/nix/store/bxj3ic1m66k3p690vwgb0913l5l46bk9-python3-3.12.4-env/lib/python3.12/site-packages/pytorch_lightning/trainer/connectors/data_connector.py:424: The 'test_dataloader' does not have many workers which may be a bottleneck. Consider increasing the value of the `num_workers` argument` to `num_workers=15` in the `DataLoader` to improve performance.\n"
     ]
    },
    {
     "data": {
      "application/vnd.jupyter.widget-view+json": {
       "model_id": "4fed611c4cd44e2192b7b0d13d26e161",
       "version_major": 2,
       "version_minor": 0
      },
      "text/plain": [
       "Testing: |          | 0/? [00:00<?, ?it/s]"
      ]
     },
     "metadata": {},
     "output_type": "display_data"
    },
    {
     "name": "stdout",
     "output_type": "stream",
     "text": [
      "────────────────────────────────────────────────────────────────────────────────────────────────────────────────────────\n",
      "       Test metric             DataLoader 0\n",
      "────────────────────────────────────────────────────────────────────────────────────────────────────────────────────────\n",
      "        test_acc            0.4275026321411133\n",
      "        test_loss           0.6530347466468811\n",
      "────────────────────────────────────────────────────────────────────────────────────────────────────────────────────────\n"
     ]
    },
    {
     "data": {
      "text/plain": [
       "[{'test_loss': 0.6530347466468811, 'test_acc': 0.4275026321411133}]"
      ]
     },
     "execution_count": 53,
     "metadata": {},
     "output_type": "execute_result"
    }
   ],
   "source": [
    "# define the epochs and learning rate\n",
    "max_epochs = 30\n",
    "lr = 1.5e-3\n",
    "\n",
    "# define the input features and output classes\n",
    "input_features = X.shape[1]\n",
    "classes = len(unique_labels)\n",
    "\n",
    "# Initialize Deep MLP model\n",
    "hidden_layers = [128, 64, 32, 16]\n",
    "model_deep_a = Deep_MLP(input_features, classes, hidden_layers, lr)\n",
    "\n",
    "# Define checkpoint callback function to save best model\n",
    "checkpoint_callback_3 = ModelCheckpoint(\n",
    "    monitor=\"val_acc\",  # the value to watch out on checking the model performance\n",
    "    dirpath=\"logs/deep\",  # path to save the checkpoint\n",
    "    save_top_k=1,  # save the best model\n",
    "    mode=\"max\",\n",
    "    every_n_epochs=1,\n",
    ")\n",
    "\n",
    "# Train and Test Model\n",
    "trainer_3 = Trainer(\n",
    "    accelerator=\"auto\",\n",
    "    devices=1 if not torch.cuda.is_available() else torch.cuda.device_count(),\n",
    "    max_epochs=max_epochs,\n",
    "    callbacks=[TQDMProgressBar(refresh_rate=20), checkpoint_callback_3],\n",
    "    logger=CSVLogger(\"logs\", name=\"deep\", version=0),\n",
    ")\n",
    "\n",
    "# Start the training loop\n",
    "trainer_3.fit(model_deep_a, train_loader, val_loader)\n",
    "\n",
    "# Report the test performance\n",
    "trainer_3.test(\n",
    "    model_deep_a,\n",
    "    test_loader,\n",
    "    ckpt_path=\"best\",\n",
    ")"
   ]
  },
  {
   "cell_type": "markdown",
   "metadata": {},
   "source": [
    "You should expect an output like :\n",
    "[{'test_loss': 0.7383896708488464, 'test_acc': 0.7318916320800781}]"
   ]
  },
  {
   "cell_type": "markdown",
   "metadata": {},
   "source": [
    "<div class=\"alert alert-block alert-info\">\n",
    "\n",
    "## 3.3 Visualise the results for the network. <a class=\"anchor\" id=\"3_3\"></a>"
   ]
  },
  {
   "cell_type": "markdown",
   "metadata": {},
   "source": [
    "#### (a) Plot the training loss and validation loss on the same figure. Make sure you have the axes and title properly labelled."
   ]
  },
  {
   "cell_type": "code",
   "execution_count": null,
   "metadata": {},
   "outputs": [],
   "source": [
    "# read logs for 3\n",
    "metrics_task_3 = pd.read_csv(\"logs/deep/version_0/metrics.csv\")\n",
    "metrics_task_3.set_index(\"epoch\", inplace=True)\n",
    "metrics_task_3 = metrics_task_3.groupby(level=0).sum().drop(\"step\", axis=1)"
   ]
  },
  {
   "cell_type": "code",
   "execution_count": null,
   "metadata": {},
   "outputs": [
    {
     "data": {
      "image/png": "[encoded data removed]",
      "text/plain": [
       "<Figure size 1000x500 with 1 Axes>"
      ]
     },
     "metadata": {},
     "output_type": "display_data"
    }
   ],
   "source": [
    "# Plot using matplotlib\n",
    "plt.figure(figsize=(10, 5))\n",
    "\n",
    "plt.plot(metrics_task_3[\"train_loss\"][:-1])\n",
    "plt.plot(metrics_task_3[\"val_loss\"][:-1])\n",
    "plt.title(\"Training Loss Deep MLP\")\n",
    "plt.xlabel(\"Epoch\")\n",
    "plt.ylabel(\"Loss\")\n",
    "plt.legend([\"Train\", \"Validation\"])\n",
    "plt.show()"
   ]
  },
  {
   "cell_type": "markdown",
   "metadata": {},
   "source": [
    "#### (b) Plot the training accuracy and validation accuracy on the same figure. Make sure you have the axes and title properly labelled."
   ]
  },
  {
   "cell_type": "code",
   "execution_count": null,
   "metadata": {},
   "outputs": [
    {
     "data": {
      "image/png": "[encoded data removed]",
      "text/plain": [
       "<Figure size 1000x500 with 1 Axes>"
      ]
     },
     "metadata": {},
     "output_type": "display_data"
    }
   ],
   "source": [
    "# Plot using matplotlib\n",
    "plt.figure(figsize=(10, 5))\n",
    "\n",
    "plt.plot(metrics_task_3[\"train_acc\"][:-1])\n",
    "plt.plot(metrics_task_3[\"val_acc\"][:-1])\n",
    "plt.title(\"Training Accuracy Deep MLP\")\n",
    "plt.xlabel(\"Epoch\")\n",
    "plt.ylabel(\"Accuracy\")\n",
    "plt.legend([\"Train\", \"Validation\"])\n",
    "plt.show()"
   ]
  },
  {
   "cell_type": "markdown",
   "metadata": {},
   "source": [
    "<div class=\"alert alert-block alert-success\">\n",
    "\n",
    "### Discussion:\n",
    "\n",
    "**Question: Did you observe a strange behaviour for the deep MLPs? If yes, what is that? Discuss what might be the source of that.**\n",
    "\n",
    "Answer:\n",
    "\n",
    "**Question: How does the deep MLP compare with the shallow MLP for this case?**\n",
    "\n",
    "Answer:\n",
    "\n",
    "**Question: Compare the Deep MLP performance trained in Task 3 with the Shallow MLPs trained in Task 2. How can we improve Deep MLP performance more? Try other network setups for number of hidden nodes or other settings in the Deep MLP and Explain why or why not the performance changed after your modifications?**\n",
    "\n",
    "Answer:\n"
   ]
  },
  {
   "cell_type": "markdown",
   "metadata": {},
   "source": [
    "<div class=\"alert alert-block alert-warning\">\n",
    "    \n",
    "# <center> Well done! This is the end of Lab 3\n",
    "    \n",
    "</div>"
   ]
  },
  {
   "cell_type": "markdown",
   "metadata": {},
   "source": []
  }
 ],
 "metadata": {
  "kernelspec": {
   "display_name": "Python 3 (ipykernel)",
   "language": "python",
   "name": "python3"
  },
  "language_info": {
   "codemirror_mode": {
    "name": "ipython",
    "version": 3
   },
   "file_extension": ".py",
   "mimetype": "text/x-python",
   "name": "python",
   "nbconvert_exporter": "python",
   "pygments_lexer": "ipython3",
   "version": "3.12.4"
  }
 },
 "nbformat": 4,
 "nbformat_minor": 4
}
