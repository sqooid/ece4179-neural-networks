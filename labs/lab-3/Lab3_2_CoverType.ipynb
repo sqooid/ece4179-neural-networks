{
 "cells": [
  {
   "cell_type": "markdown",
   "metadata": {},
   "source": [
    "<div class=\"alert alert-block alert-warning\">\n",
    "\n",
    "# <p style=\"text-align: center;\">Lab 3 (Weeks 5,6): Multi-Layer Perceptrons (MLP) </p>\n",
    "\n",
    "<img src=\"https://viso.ai/wp-content/uploads/2021/04/multilayer-perceptrons-MLP-concept-1.jpg\" width=\"400\" height=\"200\" />\n",
    "\n",
    "<!-- ![linear-vs-logistic-regression--medium](https://miro.medium.com/max/1400/1*dm6ZaX5fuSmuVvM4Ds-vcg.jpeg) -->\n",
    "\n",
    "Welcome to your third lab of ECE4179! Labs in this unit will run as a help desk and they are not mandatory to attend. As a reminder, this lab can be completed in pairs but you and your partner need to register via the google forms on Moodle under week 5.\n",
    "\n",
    "The two notebooks provided contain all the code and comments that you need to submit. Feel free to add in your own markdown for additional comments. After completion, You need to submit both Jupyter Notebooks (.ipynb file) to Moodle. Make sure you run the Notebooks before submitting and all outputs are visible.\n",
    "\n",
    "In this Lab, you will find three tasks distributed across two notebooks: Sinusoidal and CoverType. These tasks will guide you through to learn using a deep learning framework (Pytorch lightning) for MLP based problems. These knowledge and skills will be essential for lab 4 and assignment, and in general, critical to get you prepared to enter the deep learning world.\n",
    "\n",
    "- <b>Task 1:</b> Shallow MLP to fit MLP into a sinusoidal function\n",
    "- <b>Task 2:</b> Shallow MLP for multiclass classification of the Covertype dataset\n",
    "- <b>Task 3:</b> Deep MLP for multiclass classification of the Covertype dataset\n",
    "\n",
    "Each task will contain code to complete, and worded questions, so ensure you complete both before submitting.\n",
    "\n",
    "Good luck with the Lab!\n",
    "\n",
    "__Submission details:__\n",
    "- __Make sure you have run all your cells from top to bottom (you can click _Kernel_ and _Restart Kernel and Run All Cells_).__ </br>\n",
    "- __Submit the Jupyter Notebooks (Lab3\\_1\\_Sinusoidal.ipynb) and (Lab3\\_2\\_FashionMNIST.ipynb).__\n",
    "- __Outputs must be visible upon submission. We will also be re-running your code__"
   ]
  },
  {
   "cell_type": "markdown",
   "metadata": {},
   "source": [
    "<b>Enter your student details below</b>\n",
    "\n",
    "- <b>Student Name:</b> Lucas Liu\n",
    "- <b>Student ID:</b> 31445179\n",
    "\n",
    "If you have a partner:\n",
    "- <b>Second Student Name:</b> Firstname Lastname\n",
    "- <b>Second Student ID:</b> 123456789"
   ]
  },
  {
   "cell_type": "markdown",
   "metadata": {},
   "source": [
    "<div class=\"alert alert-block alert-danger\">\n",
    "\n",
    "## Table of Contents\n",
    "\n",
    "* [Task 2 - Shallow MLP for CoverType dataset](#task2)\n",
    "    * [2.1 Loading data points and Create Tensor Dataset](#2_1)\n",
    "    * [2.2 Design Shallow MLP](#2_2)\n",
    "    * [2.3 Train and evaluate model's performance](#2_3)\n",
    "    * [2.3 Train and evaluate model's performance](#2_4)\n",
    "* [Task 3 Deep MLP](#task3)\n",
    "    * [3.1 Design Deep MLP](#3_1)\n",
    "    * [3.2 Train and evaluate model's performance](#3_2)\n",
    "    * [3.3 Visualise the results for the network.](#3_3)"
   ]
  },
  {
   "cell_type": "markdown",
   "metadata": {},
   "source": [
    "<div class=\"alert alert-block alert-warning\">\n",
    "\n",
    "# Before you begin\n",
    "\n",
    "We have provided some numerical answers for you to aim for. To replicate these results, do not change any of the codes that are labelled \"Do not change\".\n",
    "\n",
    "Throughout this lab, there will be code and written answers that you need to fill in / complete. Please read the instructions carefully. The comments in the code snippet and markdown text will guide you on what you need to do.\n"
   ]
  },
  {
   "cell_type": "code",
   "execution_count": 1,
   "metadata": {},
   "outputs": [],
   "source": [
    "# If you have not installed pytorch-lightning already, then please follow the instructions below\n",
    "\n",
    "# # If you run on Jupyter Lab uncomment below comment\n",
    "# ! pip install --quiet \"matplotlib\" \"pytorch-lightning\" \"pandas\" \"torchmetrics\" \"torchvision\"\n",
    "\n",
    "# # If you run on google colab uncomment below comment\n",
    "# ! pip install pytorch-lightning -qq"
   ]
  },
  {
   "cell_type": "code",
   "execution_count": 2,
   "metadata": {},
   "outputs": [
    {
     "name": "stderr",
     "output_type": "stream",
     "text": [
      "Seed set to 4179\n"
     ]
    }
   ],
   "source": [
    "## Libraries, you do not need to import any additional libraries for this lab\n",
    "\n",
    "import numpy as np  ## Numpy is the fundamental building block of understanding tensor (matrices) within Python\n",
    "import matplotlib.pyplot as plt  ## Matplotlib.pyplot is the graphing library that we will be using throughout the semester\n",
    "import random  ## Useful for sampling\n",
    "\n",
    "# import sys ## Useful to retrieve some system information\n",
    "\n",
    "import os  ## Useful for running command line within python\n",
    "import pandas as pd  ## Useful for data manipulation\n",
    "from IPython.display import Image  ## For markdown purposes\n",
    "from IPython.display import clear_output\n",
    "import PIL\n",
    "\n",
    "import torch  ## Pytorch is the deep learning library that we will be using\n",
    "import torch.nn as nn  ## Neural network module\n",
    "import torch.nn.functional as F  ## Functional module\n",
    "from torch import optim  ## Optimizer module\n",
    "from torch.utils.data import (\n",
    "    DataLoader,\n",
    "    random_split,\n",
    ")  ## Under torchvision datasets you can find popular datasets that are frequently used for machine learning/deep learning tasks (eg., MNIST, SVHN, CIFAR10, CIFAR100 etc).\n",
    "from torchmetrics import (\n",
    "    Accuracy,\n",
    ")  ## Torchmetrics is a library that contains metrics for evaluating models\n",
    "from torchmetrics.classification import MulticlassAccuracy\n",
    "import torchvision  ## Torchvision is a library that contains popular datasets, model architectures, and image transformations for computer vision tasks\n",
    "from torchvision import transforms\n",
    "\n",
    "import pytorch_lightning as pl  ## Pytorch lightning is a wrapper for pytorch that makes it easier to train models\n",
    "from pytorch_lightning import LightningModule, Trainer\n",
    "from pytorch_lightning.loggers import CSVLogger\n",
    "from pytorch_lightning.callbacks import Callback, ModelCheckpoint\n",
    "from pytorch_lightning.callbacks.progress import TQDMProgressBar\n",
    "\n",
    "\n",
    "from pytorch_lightning import seed_everything\n",
    "\n",
    "## Setting seeds for reproducibility. Do NOT change these!\n",
    "seed_everything(4179)\n",
    "random.seed(4179)\n",
    "np.random.seed(4179)"
   ]
  },
  {
   "cell_type": "code",
   "execution_count": 3,
   "metadata": {},
   "outputs": [],
   "source": [
    "## This code snippet does not need to be edited\n",
    "\n",
    "# from python_environment_check import check_packages\n",
    "# from python_environment_check import set_background\n",
    "\n",
    "# ## Colour schemes for setting background colour\n",
    "# white_bgd = 'rgba(0,0,0,0)'\n",
    "# red_bgd = 'rgba(255,0,0,0.2)'"
   ]
  },
  {
   "cell_type": "markdown",
   "metadata": {},
   "source": [
    "<div class=\"alert alert-block alert-info\">\n",
    "\n",
    "# Task 2 & 3 : Compare Shallow MLP and Deep MLP\n",
    "\n",
    "In sections 2 and 3 you will be training a Shallow MLPs and Deep MLPs for classifying a CoverType dataset which is collected from 7 types of forest covers. 54 features are captured in each sample of the dataset. Then we will train a Shallow (Section 2) and Deep (Section 3) MLP for classifying this dataset that contains input features and labels (The input features are 1x54 and class labels are from 1-7).\n",
    "\n",
    "<img src=\"figures/shallow_deep_mlp.png\" width=\"1200\" align=\"center\">\n",
    "    \n",
    "In the above figure A is a shallow neural network and B is a deep neural network.\n",
    "\n",
    "#### Details of Covertype dataset:\n",
    "\n",
    "- This dataset is available form UCI Machine Learning Repository, you should use [```fetch_openml()```](https://scikit-learn.org/stable/modules/generated/sklearn.datasets.fetch_openml.html) function to load the data (Note: version 3 of data must be loaded)\n",
    "\n",
    "- The dataset consists of 54 input features, some of the entries are shown as below:\n",
    "\n",
    "| **Feature**                | **Variable Type**     | **Description**                                                      |\n",
    "|----------------------------|-------------------|----------------------------------------------------------------------|\n",
    "| Elevation                          | Numerical   | Measured in meters                                                                    |\n",
    "| Aspect                             | Numerical   | Aspect in degrees azimuth                                                    |\n",
    "| Slope                              | Numerical   | Measured in degrees                                                                         |\n",
    "| Horizontal_Distance_To_Hydrology   | Numerical   | Horizontal distance to the nearest surface water features (in mters)\n",
    "| Vertical_Distance_To_Hydrology     | Numerical   | Vertical distance to the nearest surface water features (in meters)                                               |\n",
    "| Horizontal_Distance_To_Roadways    | Numerical   | Horizontal distance to the nearest roadway (in meters)                                       |\n",
    "| Hillshade_9am                      | Numerical   | Hillshade index at 9am, which measures the shadow and sunlight exposure on the landscape (0 to 255)             |\n",
    "| Hillshade_Noon                     | Numerical   | Hillshade index at Noon                                                                       |\n",
    "| Hillshade_3pm                      | Numerical   | Hillshade index at 3pm                                                                                     |\n",
    "| Horizontal_Distance_To_Fire_Points | Numerical   | Horizontal distance to the nearest wildfire ignition points (in meters)                                |\n",
    "| Wilderness_Area                    | Categorical | One-hot encoded as 4 binary columns representing the wilderness area designation (Rawah, Neota, Comanche Peak, Cache la Poudre) |\n",
    "| Soil_Type                          | Categorical | One-hot encoded as 40 binary columns representing different soil types according to US Forest Service classification   |\n",
    "\n",
    "\n",
    "- The target variable in the Covertype dataset represents the forest cover type, and there are 7 distinct classes:\n",
    "\n",
    "| **Cover Type**          | **Code** |\n",
    "|-------------------------|----------|\n",
    "| Spruce/Fir              | 1        |\n",
    "| Lodgepole Pine          | 2        |\n",
    "| Ponderosa Pine          | 3        |\n",
    "| Cottonwood/Willow       | 4        |\n",
    "| Aspen                   | 5        |\n",
    "| Douglas-fir             | 6        |\n",
    "| Krummholz               | 7        |\n",
    "\n",
    "    \n",
    "#### Modules that you will need in this task:\n",
    "- sklearn's datasets and preprocessing modules to load the dataset and apply proper transforms\n",
    "- sklearn's model_selection module to split the dataset into train(60%), test(20%), and validation(20%)\n",
    "- torch TensorDataset and DataLoader to create the train, test, and validation datasets and data loaders\n",
    "- pytorch_lightning module class to construct a MLP in order to perform training and testing on the given datasets.\n"
   ]
  },
  {
   "cell_type": "markdown",
   "metadata": {},
   "source": [
    "<div class=\"alert alert-block alert-info\">\n",
    "\n",
    "# Task 2 - Shallow MLP for CoverType dataset <a class=\"anchor\" id=\"task2\"></a>\n",
    "\n",
    "For this task you will work on the following points:\n",
    " 1. Create training, validation and testing dataloaders.\n",
    " 2. investigate the training datasets (in terms of shape of the data).\n",
    " 3. Design shallow neural network model.\n",
    " 4. Perform training the model and evaluation for different settings. Report test accuracies.\n",
    " 5. Visualize experimental results for training losses.\n",
    " 6. Visualize experimental results for validation accuracies.\n",
    " 7. Visualize predictions.\n",
    " 8. Optimize Shallow network's performance.\n",
    "\n",
    "    \n",
    "Note:  In all the parts below, you should only use the training data and their labels to train your model. You may use the **validation set** to pick a trained model. For example, during training, you can test the accuracy of your model using the validation set every epoch and pick the model that achieves the highest validation accuracy. You should then report your results on the test set once you choose your model."
   ]
  },
  {
   "cell_type": "markdown",
   "metadata": {},
   "source": [
    "<div class=\"alert alert-block alert-info\">\n",
    "\n",
    "## Learning Objective\n",
    "\n",
    "This task aims to understand and implement a Deep MLP model to train neural networks on the CoverType dataset. By the end of this task, you will be able to:\n",
    "\n",
    "1. Load the dataset from sci-kit learn package, and prepare the dataset and dataloader on the CoverType dataset.\n",
    "\n",
    "2. Implement a Multi-Layer Perceptron (MLP) model using PyTorch Lightning's framework.\n",
    "\n",
    "3. Apply stochastic gradient descent (SGD) optimization method to train the MLP model on the CoverType dataset.\n",
    "\n",
    "4. Visualize and analyze the performance of the MLP model on the given samples to understand how well it fits the data."
   ]
  },
  {
   "cell_type": "markdown",
   "metadata": {},
   "source": [
    "<div class=\"alert alert-block alert-info\">\n",
    "\n",
    "## 2.1 Loading data points and Create Tensor Dataset <a class=\"anchor\" id=\"2_1\"></a>\n",
    "\n",
    "Let's load the dataset and inspect the data."
   ]
  },
  {
   "cell_type": "markdown",
   "metadata": {},
   "source": [
    "The code rovided in the following cell includes:\n",
    "- The implementation of `fetch_openml` to fetch the Covertype dataset from the OpenML repository. It ensures that the data is numeric and encodes the target labels as integers.\n",
    "- The implementation of the `fit_transform` method in the `LabelEncoder` to encode target labels with values between 0 and the number of classes minus 1.\n",
    "- The `unique` function is also included, which returns unique values of the targets after encoding."
   ]
  },
  {
   "cell_type": "code",
   "execution_count": 4,
   "metadata": {},
   "outputs": [
    {
     "name": "stdout",
     "output_type": "stream",
     "text": [
      "Classes: [0 1 2 3 4 5 6]\n"
     ]
    }
   ],
   "source": [
    "#### DO NOT CHANGE THIS SECTION ####\n",
    "from sklearn.datasets import fetch_openml\n",
    "from sklearn.preprocessing import LabelEncoder\n",
    "\n",
    "# Fetch the Covertype dataset\n",
    "covertype = fetch_openml(name=\"Covertype\", version=3)\n",
    "\n",
    "# Ensure all data is numeric\n",
    "X = covertype.data.astype(np.float32)\n",
    "\n",
    "# Encode the target labels as integers\n",
    "label_encoder = LabelEncoder()\n",
    "Y = label_encoder.fit_transform(covertype.target)\n",
    "unique_labels = np.unique(Y)\n",
    "print(\"Classes:\", np.unique(Y))\n",
    "#### DO NOT CHANGE THIS SECTION ####"
   ]
  },
  {
   "cell_type": "markdown",
   "metadata": {},
   "source": [
    "#### (a) Inspect the data\n",
    "\n",
    "Now you have input features in 'X' and the corresponding labels in 'Y'. Inspect the data by doing the following:\n",
    "\n",
    "- Print out the number of features \n",
    "- Print out the number of samples\n",
    "- Print out the shape of Y\n",
    "- Print the first 3 samples of input features 'X' and their corresponding labels in 'Y'\n"
   ]
  },
  {
   "cell_type": "code",
   "execution_count": 5,
   "metadata": {},
   "outputs": [
    {
     "name": "stdout",
     "output_type": "stream",
     "text": [
      "(581012, 54)\n",
      "(581012,)\n",
      "[0.368684 0.141667 0.045455 0.184681 0.223514 0.071659 0.870079 0.913386\n",
      " 0.582677 0.875366 1.       0.       0.       0.       0.       0.\n",
      " 0.       0.       0.       0.       0.       0.       0.       0.\n",
      " 0.       0.       0.       0.       0.       0.       0.       0.\n",
      " 0.       0.       0.       0.       0.       0.       0.       0.\n",
      " 0.       0.       1.       0.       0.       0.       0.       0.\n",
      " 0.       0.       0.       0.       0.       0.      ]\n",
      "4\n"
     ]
    }
   ],
   "source": [
    "# Print the shape of the input data. You should be able to infer the number of samples and features from the shape\n",
    "print(X.shape)\n",
    "# Print the shape of the target label\n",
    "print(Y.shape)  # type: ignore\n",
    "\n",
    "# Print the first samples of the input features and their labels\n",
    "print(X.to_numpy()[0, :])\n",
    "print(Y[0])"
   ]
  },
  {
   "cell_type": "markdown",
   "metadata": {},
   "source": [
    "#### (b) Split the dataset\n",
    "\n",
    "Different from Task 1, to train a network for classification, a key process is to split the dataset into train, validatio and test sets.\n",
    "\n",
    "Let's split the data into 60% train, 20% validation, and 20% test.\n",
    "\n",
    "- You will need to use [```train_test_split```](https://scikit-learn.org/stable/modules/generated/sklearn.model_selection.train_test_split.html) function \n",
    "- Make sure after splitting the number of samples per class is balanced among all classes. You can achive it by using the 'startify' option in the 'train_test_split' function\n",
    "- Print out the shape of input features and labels for splitted data.\n",
    "- Remember that you need to this for both the features (X) and labels (Y)."
   ]
  },
  {
   "cell_type": "code",
   "execution_count": 6,
   "metadata": {},
   "outputs": [
    {
     "name": "stdout",
     "output_type": "stream",
     "text": [
      "(348607, 54) (348607,)\n",
      "(116202, 54) (116202,)\n",
      "(116203, 54) (116203,)\n",
      "<class 'pandas.core.frame.DataFrame'> <class 'numpy.ndarray'>\n"
     ]
    }
   ],
   "source": [
    "from sklearn.model_selection import train_test_split\n",
    "\n",
    "X_train, X_test, Y_train, Y_test = train_test_split(X, Y, stratify=Y, test_size=0.4)\n",
    "X_val, X_test, Y_val, Y_test = train_test_split(\n",
    "    X_test, Y_test, stratify=Y_test, test_size=0.5\n",
    ")\n",
    "\n",
    "print(X_train.shape, Y_train.shape)\n",
    "print(X_val.shape, Y_val.shape)\n",
    "print(X_test.shape, Y_test.shape)\n",
    "print(type(X_train), type(Y_train))"
   ]
  },
  {
   "cell_type": "markdown",
   "metadata": {},
   "source": [
    "#### (c) Preprocessing of input features:\n",
    "\n",
    "Note that the PyTorch network only recognise tensors to be passed in. If you check the ```type()``` of the data imported so far, you will find out that they are not tensors yet. And there are also some common preprocess as well.\n",
    "\n",
    "For this task, we need to:\n",
    "1. Scaling the Numerical Features: It's often a good idea to *scale* or *normalize* the numerical features so that they have similar ranges. This can help the model converge faster and avoid issues related to features with different scales.\n",
    "    - You can use [```StandardScaler```](https://scikit-learn.org/stable/modules/generated/sklearn.preprocessing.StandardScaler.html) from sklearn.preprocessing to scale the input features in train, test, and val data\n",
    "    - Then check the datatype of the transformed variables\n",
    "2. Convert the data from numpy array into torch tensors:\n",
    "   1. Convert input features into 32-bit floating-point tensors.\n",
    "   2. Convert labels into 64-bit integer tensors.\n",
    "   3. You can check if the convertion is done correctly by use ```dtype``` to check the variables."
   ]
  },
  {
   "cell_type": "code",
   "execution_count": 7,
   "metadata": {},
   "outputs": [],
   "source": [
    "from sklearn.preprocessing import StandardScaler\n",
    "\n",
    "scaler = StandardScaler().fit(X)\n",
    "X_train = scaler.transform(X_train)\n",
    "X_val = scaler.transform(X_val)\n",
    "X_test = scaler.transform(X_test)"
   ]
  },
  {
   "cell_type": "code",
   "execution_count": 8,
   "metadata": {},
   "outputs": [
    {
     "name": "stdout",
     "output_type": "stream",
     "text": [
      "<class 'numpy.ndarray'> <class 'numpy.ndarray'>\n",
      "<class 'numpy.ndarray'> <class 'numpy.ndarray'>\n",
      "<class 'numpy.ndarray'> <class 'numpy.ndarray'>\n"
     ]
    }
   ],
   "source": [
    "print(type(X_train), type(Y_train))\n",
    "print(type(X_val), type(Y_val))\n",
    "print(type(X_test), type(Y_test))"
   ]
  },
  {
   "cell_type": "code",
   "execution_count": 9,
   "metadata": {},
   "outputs": [
    {
     "name": "stdout",
     "output_type": "stream",
     "text": [
      "torch.float32 torch.int64\n",
      "torch.float32 torch.int64\n",
      "torch.float32 torch.int64\n"
     ]
    }
   ],
   "source": [
    "# Convert the data to torch tensors\n",
    "X_train_tensor = torch.tensor(X_train)\n",
    "Y_train_tensor = torch.tensor(Y_train)\n",
    "\n",
    "X_val_tensor = torch.tensor(X_val)\n",
    "Y_val_tensor = torch.tensor(Y_val)\n",
    "\n",
    "X_test_tensor = torch.tensor(X_test)\n",
    "Y_test_tensor = torch.tensor(Y_test)\n",
    "\n",
    "print(X_train_tensor.dtype, Y_train_tensor.dtype)\n",
    "print(X_val_tensor.dtype, Y_val_tensor.dtype)\n",
    "print(X_test_tensor.dtype, Y_test_tensor.dtype)"
   ]
  },
  {
   "cell_type": "markdown",
   "metadata": {},
   "source": [
    "#### (d) Create the datasets and dataloader"
   ]
  },
  {
   "cell_type": "markdown",
   "metadata": {},
   "source": [
    "**Create the dataset**\n",
    "\n",
    "Now we have the tensors, let's create three datasets for train, validation, and test. It is a similar process to Task 1 but with a different torch module ```TensorDataset``` from ```torch.utils.data```. You can check out the shape of Dataset.tensors[0] (input feature tensor) and Dataset.tensors[1] (target tensor) when you create Dataset from train, test, and validation tensors to make sure the dataset is created correctly."
   ]
  },
  {
   "cell_type": "code",
   "execution_count": 10,
   "metadata": {},
   "outputs": [
    {
     "name": "stdout",
     "output_type": "stream",
     "text": [
      "torch.Size([348607, 54]) torch.Size([348607])\n",
      "torch.Size([116202, 54]) torch.Size([116202])\n",
      "torch.Size([116203, 54]) torch.Size([116203])\n"
     ]
    }
   ],
   "source": [
    "from torch.utils.data.dataset import TensorDataset\n",
    "\n",
    "# Create TensorDatasets\n",
    "train_dataset = TensorDataset(X_train_tensor, Y_train_tensor)\n",
    "val_dataset = TensorDataset(X_val_tensor, Y_val_tensor)\n",
    "test_dataset = TensorDataset(X_test_tensor, Y_test_tensor)\n",
    "\n",
    "print(train_dataset.tensors[0].shape, train_dataset.tensors[1].shape)\n",
    "print(val_dataset.tensors[0].shape, val_dataset.tensors[1].shape)\n",
    "print(test_dataset.tensors[0].shape, test_dataset.tensors[1].shape)"
   ]
  },
  {
   "cell_type": "markdown",
   "metadata": {},
   "source": [
    "**Create the dataloader**\n",
    "\n",
    "You can create the dataloader in the same as Task 1, with the batch size of 256."
   ]
  },
  {
   "cell_type": "code",
   "execution_count": 11,
   "metadata": {},
   "outputs": [],
   "source": [
    "batch_size = 256\n",
    "\n",
    "train_loader = DataLoader(train_dataset, batch_size=batch_size)\n",
    "val_loader = DataLoader(val_dataset, batch_size=batch_size)\n",
    "test_loader = DataLoader(test_dataset, batch_size=batch_size)"
   ]
  },
  {
   "cell_type": "markdown",
   "metadata": {},
   "source": [
    "<div class=\"alert alert-block alert-info\">\n",
    "\n",
    "## 2.2 Design Shallow MLP <a class=\"anchor\" id=\"2_2\"></a>\n",
    "\n",
    "Design a Shallow MLP. This will be similar to in task 1. \n",
    " - You need to instantiate Shallow_MLP class from LightningModule\n",
    " - Shallow_MLP must take these inputs:\n",
    "   1. the number of input features\n",
    "   2. the number of classes\n",
    "   3. the number of nodes in hidden layer\n",
    "   4. the learning_rate\n",
    "   5. the train loader\n",
    "   6. the test loader \n",
    "   7. the validation loader\n",
    "  \n",
    " - In the Shallow_MLP class you should define metrics to evaluate model performance:\n",
    "   1. train_accuracy\n",
    "   2. test_accuracy\n",
    "   3. val_accuracy\n",
    "   - To define these metrics you should use [```Accuracy()```](https://lightning.ai/docs/torchmetrics/stable/classification/accuracy.html ) class from pytorch-lightning. Make sure you choose the correct type of evaluation - multiclass.\n",
    "\n",
    " - Shallow_MLP must have two Linear layer: Linear(# input features $\\times$ # hidden nodes) $\\rightarrow$ ReLU $\\rightarrow$ Linear( # hidden nodes $\\times$  # classes)\n",
    "   1. The first Linear layer (input layer) is followed by a **Relu** activation function.\n",
    "   2. The second Linear layer (hidden layer) maps the hidden nodes into class scores (logits)\n",
    "\n",
    "- In this task, use the  [```CrossEntropyLoss```](https://pytorch.org/docs/stable/generated/torch.nn.CrossEntropyLoss.html)"
   ]
  },
  {
   "cell_type": "code",
   "execution_count": 30,
   "metadata": {},
   "outputs": [],
   "source": [
    "class Shallow_MLP(LightningModule):\n",
    "    def __init__(\n",
    "        self,\n",
    "        input_features,\n",
    "        hidden_node,\n",
    "        classes,\n",
    "        learning_rate=1e-1,\n",
    "    ):\n",
    "        super().__init__()\n",
    "        self.save_hyperparameters()\n",
    "\n",
    "        self.learning_rate = learning_rate\n",
    "        self.loss_fun = nn.CrossEntropyLoss()\n",
    "\n",
    "        self.linear1 = nn.Linear(input_features, hidden_node)\n",
    "        self.linear2 = nn.Linear(hidden_node, classes)\n",
    "\n",
    "        self.train_accuracy = MulticlassAccuracy(classes)\n",
    "        self.val_accuracy = MulticlassAccuracy(classes)\n",
    "        self.test_accuracy = MulticlassAccuracy(classes)\n",
    "\n",
    "    def forward(self, x):\n",
    "        # Pass input through conv layers\n",
    "        # Don't forget the activation function\n",
    "\n",
    "        out1 = nn.functional.relu(self.linear1(x))\n",
    "        out2 = self.linear2(out1)\n",
    "\n",
    "        return out2\n",
    "\n",
    "    def training_step(self, batch, batch_idx):\n",
    "\n",
    "        # This should be similar to Task 1\n",
    "\n",
    "        # get the x and y values of the data point\n",
    "        # pass through the network\n",
    "        # Get the loss\n",
    "        x, y = batch\n",
    "        logits = self(x)\n",
    "        loss = self.loss_fun(logits, y)\n",
    "\n",
    "        preds = logits.argmax(1)\n",
    "        self.train_accuracy.update(preds, y)\n",
    "\n",
    "        self.log(\"train_loss\", loss, prog_bar=True, on_step=False, on_epoch=True)\n",
    "        self.log(\n",
    "            \"train_acc\",\n",
    "            self.train_accuracy,\n",
    "            prog_bar=True,\n",
    "            on_step=False,\n",
    "            on_epoch=True,\n",
    "        )\n",
    "\n",
    "        return loss\n",
    "\n",
    "    def validation_step(self, batch, batch_idx):\n",
    "        # get the x and y values of the data point\n",
    "        # pass through the network\n",
    "        # Get the loss\n",
    "        x, y = batch\n",
    "        logits = self(x)\n",
    "        loss = self.loss_fun(logits, y)\n",
    "\n",
    "        preds = logits.argmax(1)\n",
    "        self.val_accuracy.update(preds, y)\n",
    "\n",
    "        # Calling self.log will surface up scalars for you in TensorBoard\n",
    "        self.log(\"val_loss\", loss, prog_bar=True, on_step=False, on_epoch=True)\n",
    "        self.log(\n",
    "            \"val_acc\", self.val_accuracy, prog_bar=True, on_step=False, on_epoch=True\n",
    "        )\n",
    "\n",
    "    def test_step(self, batch, batch_idx):\n",
    "        # get the x and y values of the data point\n",
    "        # pass through the network\n",
    "        # Get the loss\n",
    "        x, y = batch\n",
    "        logits = self(x)\n",
    "        loss = self.loss_fun(logits, y)\n",
    "\n",
    "        preds = logits.argmax(1)\n",
    "        self.test_accuracy.update(preds, y)\n",
    "\n",
    "        # Calling self.log will surface up scalars for you in TensorBoard\n",
    "        self.log(\"test_loss\", loss, prog_bar=True)\n",
    "        self.log(\"test_acc\", self.test_accuracy, prog_bar=True)\n",
    "\n",
    "    def predict_step(self, batch, batch_idx):\n",
    "        # get the x and y values of the data point\n",
    "        # pass through the network\n",
    "        x, y = batch\n",
    "        logits = self(x)\n",
    "        pred = logits.argmax(1)\n",
    "        return (pred, y, x)\n",
    "\n",
    "    def configure_optimizers(self):\n",
    "        # define the SGD optimizer\n",
    "        optimizer = optim.SGD(self.parameters(), lr=self.learning_rate)\n",
    "        return optimizer\n",
    "\n",
    "    ####################\n",
    "    # DATA RELATED HOOKS\n",
    "    ####################\n",
    "\n",
    "    def train_dataloader(self):\n",
    "        return train_loader\n",
    "\n",
    "    def val_dataloader(self):\n",
    "        return val_loader\n",
    "\n",
    "    def test_dataloader(self):\n",
    "        return test_loader"
   ]
  },
  {
   "cell_type": "markdown",
   "metadata": {},
   "source": [
    "<div class=\"alert alert-block alert-info\">\n",
    "\n",
    "## 2.3 Train and evaluate model's performance <a class=\"anchor\" id=\"2_3\"></a>\n",
    "\n",
    "Let's train the model with three different scenarios for **30 epochs**\n",
    "\n",
    "a. model_shallow_a : # hidden nodes = 8\n",
    "\n",
    "b. model_shallow_b : # hidden nodes = 128\n",
    "\n",
    "c. model_shallow_c : # hidden nodes = 1024\n",
    "\n",
    "In all the parts above, you should only use the training input and their labels to train your model. You may use the validation set to pick a trained model.\n",
    "\n",
    "For example, during training, you can test the accuracy of your model using the validation set every epoch and pick the model that achieves the highest validation accuracy. You should then report your results on the test set once you choose your model. More details can be found in the documentation of [```ModelCheckpoint```](https://lightning.ai/docs/pytorch/stable/api/lightning.pytorch.callbacks.ModelCheckpoint.html).\n",
    "\n",
    "Note: Make sure to have different log file directories and checkpoint folders (eg: logs_task_2a, logs_task_2b and logs_task_2c)"
   ]
  },
  {
   "cell_type": "code",
   "execution_count": 31,
   "metadata": {},
   "outputs": [],
   "source": [
    "# define the input features and number of classes\n",
    "input_features = X.shape[1]\n",
    "classes = len(unique_labels)\n",
    "\n",
    "# define the training epoch and learning rate\n",
    "max_epochs = 30\n",
    "lr = 1e-3"
   ]
  },
  {
   "cell_type": "code",
   "execution_count": 32,
   "metadata": {},
   "outputs": [
    {
     "name": "stderr",
     "output_type": "stream",
     "text": [
      "GPU available: False, used: False\n",
      "TPU available: False, using: 0 TPU cores\n",
      "HPU available: False, using: 0 HPUs\n",
      "/nix/store/bxj3ic1m66k3p690vwgb0913l5l46bk9-python3-3.12.4-env/lib/python3.12/site-packages/lightning_fabric/loggers/csv_logs.py:269: Experiment logs directory logs/h8/version_0 exists and is not empty. Previous log files in this directory will be deleted when the new ones are saved!\n",
      "/nix/store/bxj3ic1m66k3p690vwgb0913l5l46bk9-python3-3.12.4-env/lib/python3.12/site-packages/pytorch_lightning/callbacks/model_checkpoint.py:652: Checkpoint directory /home/lucas/code/ece4179-neural-networks/labs/lab-3/logs/h8 exists and is not empty.\n",
      "\n",
      "  | Name           | Type               | Params | Mode \n",
      "--------------------------------------------------------------\n",
      "0 | loss_fun       | CrossEntropyLoss   | 0      | train\n",
      "1 | linear1        | Linear             | 440    | train\n",
      "2 | linear2        | Linear             | 63     | train\n",
      "3 | train_accuracy | MulticlassAccuracy | 0      | train\n",
      "4 | val_accuracy   | MulticlassAccuracy | 0      | train\n",
      "5 | test_accuracy  | MulticlassAccuracy | 0      | train\n",
      "--------------------------------------------------------------\n",
      "503       Trainable params\n",
      "0         Non-trainable params\n",
      "503       Total params\n",
      "0.002     Total estimated model params size (MB)\n"
     ]
    },
    {
     "data": {
      "application/vnd.jupyter.widget-view+json": {
       "model_id": "0ae3928c30b04184a5456a5656cd1ac2",
       "version_major": 2,
       "version_minor": 0
      },
      "text/plain": [
       "Sanity Checking: |          | 0/? [00:00<?, ?it/s]"
      ]
     },
     "metadata": {},
     "output_type": "display_data"
    },
    {
     "name": "stderr",
     "output_type": "stream",
     "text": [
      "/nix/store/bxj3ic1m66k3p690vwgb0913l5l46bk9-python3-3.12.4-env/lib/python3.12/site-packages/pytorch_lightning/trainer/connectors/data_connector.py:424: The 'val_dataloader' does not have many workers which may be a bottleneck. Consider increasing the value of the `num_workers` argument` to `num_workers=15` in the `DataLoader` to improve performance.\n",
      "/nix/store/bxj3ic1m66k3p690vwgb0913l5l46bk9-python3-3.12.4-env/lib/python3.12/site-packages/pytorch_lightning/trainer/connectors/data_connector.py:424: The 'train_dataloader' does not have many workers which may be a bottleneck. Consider increasing the value of the `num_workers` argument` to `num_workers=15` in the `DataLoader` to improve performance.\n"
     ]
    },
    {
     "data": {
      "application/vnd.jupyter.widget-view+json": {
       "model_id": "4555f2c14389439da72dfcd7fc8d55f4",
       "version_major": 2,
       "version_minor": 0
      },
      "text/plain": [
       "Training: |          | 0/? [00:00<?, ?it/s]"
      ]
     },
     "metadata": {},
     "output_type": "display_data"
    },
    {
     "data": {
      "application/vnd.jupyter.widget-view+json": {
       "model_id": "772db095588d40a58cc36e1949f956e0",
       "version_major": 2,
       "version_minor": 0
      },
      "text/plain": [
       "Validation: |          | 0/? [00:00<?, ?it/s]"
      ]
     },
     "metadata": {},
     "output_type": "display_data"
    },
    {
     "data": {
      "application/vnd.jupyter.widget-view+json": {
       "model_id": "902db93d521a4ba8ad3b31bb33760200",
       "version_major": 2,
       "version_minor": 0
      },
      "text/plain": [
       "Validation: |          | 0/? [00:00<?, ?it/s]"
      ]
     },
     "metadata": {},
     "output_type": "display_data"
    },
    {
     "data": {
      "application/vnd.jupyter.widget-view+json": {
       "model_id": "8bdcb199b35a44b8a53457ce704b91ea",
       "version_major": 2,
       "version_minor": 0
      },
      "text/plain": [
       "Validation: |          | 0/? [00:00<?, ?it/s]"
      ]
     },
     "metadata": {},
     "output_type": "display_data"
    },
    {
     "data": {
      "application/vnd.jupyter.widget-view+json": {
       "model_id": "ed7c9ef34a714d299eb1ba24744c8c2a",
       "version_major": 2,
       "version_minor": 0
      },
      "text/plain": [
       "Validation: |          | 0/? [00:00<?, ?it/s]"
      ]
     },
     "metadata": {},
     "output_type": "display_data"
    },
    {
     "data": {
      "application/vnd.jupyter.widget-view+json": {
       "model_id": "f170a4a79c7343aa976e87213f2daaeb",
       "version_major": 2,
       "version_minor": 0
      },
      "text/plain": [
       "Validation: |          | 0/? [00:00<?, ?it/s]"
      ]
     },
     "metadata": {},
     "output_type": "display_data"
    },
    {
     "data": {
      "application/vnd.jupyter.widget-view+json": {
       "model_id": "2ac5ff4527564ba4a81fd8c2e7c96bbd",
       "version_major": 2,
       "version_minor": 0
      },
      "text/plain": [
       "Validation: |          | 0/? [00:00<?, ?it/s]"
      ]
     },
     "metadata": {},
     "output_type": "display_data"
    },
    {
     "data": {
      "application/vnd.jupyter.widget-view+json": {
       "model_id": "0670d0316eaf40d58c7da1bb5f791090",
       "version_major": 2,
       "version_minor": 0
      },
      "text/plain": [
       "Validation: |          | 0/? [00:00<?, ?it/s]"
      ]
     },
     "metadata": {},
     "output_type": "display_data"
    },
    {
     "data": {
      "application/vnd.jupyter.widget-view+json": {
       "model_id": "80f459f8ae5145f591d94c00a64bfcb5",
       "version_major": 2,
       "version_minor": 0
      },
      "text/plain": [
       "Validation: |          | 0/? [00:00<?, ?it/s]"
      ]
     },
     "metadata": {},
     "output_type": "display_data"
    },
    {
     "data": {
      "application/vnd.jupyter.widget-view+json": {
       "model_id": "42d56e362f654990b5c734383fb7d43b",
       "version_major": 2,
       "version_minor": 0
      },
      "text/plain": [
       "Validation: |          | 0/? [00:00<?, ?it/s]"
      ]
     },
     "metadata": {},
     "output_type": "display_data"
    },
    {
     "data": {
      "application/vnd.jupyter.widget-view+json": {
       "model_id": "a27eefe7c9d0455ea7ca412e05532d71",
       "version_major": 2,
       "version_minor": 0
      },
      "text/plain": [
       "Validation: |          | 0/? [00:00<?, ?it/s]"
      ]
     },
     "metadata": {},
     "output_type": "display_data"
    },
    {
     "data": {
      "application/vnd.jupyter.widget-view+json": {
       "model_id": "7f17e611d0a0407badbe2d34e3749588",
       "version_major": 2,
       "version_minor": 0
      },
      "text/plain": [
       "Validation: |          | 0/? [00:00<?, ?it/s]"
      ]
     },
     "metadata": {},
     "output_type": "display_data"
    },
    {
     "data": {
      "application/vnd.jupyter.widget-view+json": {
       "model_id": "0dcacdd65d8742dd9e0d00ecca39d071",
       "version_major": 2,
       "version_minor": 0
      },
      "text/plain": [
       "Validation: |          | 0/? [00:00<?, ?it/s]"
      ]
     },
     "metadata": {},
     "output_type": "display_data"
    },
    {
     "data": {
      "application/vnd.jupyter.widget-view+json": {
       "model_id": "86890c99589f4ed698f9d96f1e9cb864",
       "version_major": 2,
       "version_minor": 0
      },
      "text/plain": [
       "Validation: |          | 0/? [00:00<?, ?it/s]"
      ]
     },
     "metadata": {},
     "output_type": "display_data"
    },
    {
     "data": {
      "application/vnd.jupyter.widget-view+json": {
       "model_id": "0046e4d8421e4ac8a40957451d45e643",
       "version_major": 2,
       "version_minor": 0
      },
      "text/plain": [
       "Validation: |          | 0/? [00:00<?, ?it/s]"
      ]
     },
     "metadata": {},
     "output_type": "display_data"
    },
    {
     "data": {
      "application/vnd.jupyter.widget-view+json": {
       "model_id": "a1a48ee771134fa29f1f589489532ab4",
       "version_major": 2,
       "version_minor": 0
      },
      "text/plain": [
       "Validation: |          | 0/? [00:00<?, ?it/s]"
      ]
     },
     "metadata": {},
     "output_type": "display_data"
    },
    {
     "data": {
      "application/vnd.jupyter.widget-view+json": {
       "model_id": "1d86e0dae79d43e3bddecadfc1a2f8a9",
       "version_major": 2,
       "version_minor": 0
      },
      "text/plain": [
       "Validation: |          | 0/? [00:00<?, ?it/s]"
      ]
     },
     "metadata": {},
     "output_type": "display_data"
    },
    {
     "data": {
      "application/vnd.jupyter.widget-view+json": {
       "model_id": "9995d1f5bcd54d3fa2ced174c9e0d157",
       "version_major": 2,
       "version_minor": 0
      },
      "text/plain": [
       "Validation: |          | 0/? [00:00<?, ?it/s]"
      ]
     },
     "metadata": {},
     "output_type": "display_data"
    },
    {
     "data": {
      "application/vnd.jupyter.widget-view+json": {
       "model_id": "7bc81df676234db8baaf77c12451b23f",
       "version_major": 2,
       "version_minor": 0
      },
      "text/plain": [
       "Validation: |          | 0/? [00:00<?, ?it/s]"
      ]
     },
     "metadata": {},
     "output_type": "display_data"
    },
    {
     "data": {
      "application/vnd.jupyter.widget-view+json": {
       "model_id": "0859b3eb2ab14a0f8ec96e8b5ae216ab",
       "version_major": 2,
       "version_minor": 0
      },
      "text/plain": [
       "Validation: |          | 0/? [00:00<?, ?it/s]"
      ]
     },
     "metadata": {},
     "output_type": "display_data"
    },
    {
     "data": {
      "application/vnd.jupyter.widget-view+json": {
       "model_id": "259724a7bfee4a65be5cdde31ca7be77",
       "version_major": 2,
       "version_minor": 0
      },
      "text/plain": [
       "Validation: |          | 0/? [00:00<?, ?it/s]"
      ]
     },
     "metadata": {},
     "output_type": "display_data"
    },
    {
     "data": {
      "application/vnd.jupyter.widget-view+json": {
       "model_id": "f5a57e25a2f0422095127304ceffac0d",
       "version_major": 2,
       "version_minor": 0
      },
      "text/plain": [
       "Validation: |          | 0/? [00:00<?, ?it/s]"
      ]
     },
     "metadata": {},
     "output_type": "display_data"
    },
    {
     "data": {
      "application/vnd.jupyter.widget-view+json": {
       "model_id": "7b4618c031714f1ab5afafd35da63702",
       "version_major": 2,
       "version_minor": 0
      },
      "text/plain": [
       "Validation: |          | 0/? [00:00<?, ?it/s]"
      ]
     },
     "metadata": {},
     "output_type": "display_data"
    },
    {
     "data": {
      "application/vnd.jupyter.widget-view+json": {
       "model_id": "eb80cf47577e48b7b83cc250ac2ad9c7",
       "version_major": 2,
       "version_minor": 0
      },
      "text/plain": [
       "Validation: |          | 0/? [00:00<?, ?it/s]"
      ]
     },
     "metadata": {},
     "output_type": "display_data"
    },
    {
     "data": {
      "application/vnd.jupyter.widget-view+json": {
       "model_id": "1188386549604aa2887537ac10773d54",
       "version_major": 2,
       "version_minor": 0
      },
      "text/plain": [
       "Validation: |          | 0/? [00:00<?, ?it/s]"
      ]
     },
     "metadata": {},
     "output_type": "display_data"
    },
    {
     "data": {
      "application/vnd.jupyter.widget-view+json": {
       "model_id": "5c10fc99ff60410e82d0e2de83665943",
       "version_major": 2,
       "version_minor": 0
      },
      "text/plain": [
       "Validation: |          | 0/? [00:00<?, ?it/s]"
      ]
     },
     "metadata": {},
     "output_type": "display_data"
    },
    {
     "data": {
      "application/vnd.jupyter.widget-view+json": {
       "model_id": "1caa5614ffa9434aa64b4bb6f8d15b9f",
       "version_major": 2,
       "version_minor": 0
      },
      "text/plain": [
       "Validation: |          | 0/? [00:00<?, ?it/s]"
      ]
     },
     "metadata": {},
     "output_type": "display_data"
    },
    {
     "data": {
      "application/vnd.jupyter.widget-view+json": {
       "model_id": "e0357121e3cf47e0b49aa1230384ddfc",
       "version_major": 2,
       "version_minor": 0
      },
      "text/plain": [
       "Validation: |          | 0/? [00:00<?, ?it/s]"
      ]
     },
     "metadata": {},
     "output_type": "display_data"
    },
    {
     "data": {
      "application/vnd.jupyter.widget-view+json": {
       "model_id": "58cfc1562afd4c3098261b7122fbad83",
       "version_major": 2,
       "version_minor": 0
      },
      "text/plain": [
       "Validation: |          | 0/? [00:00<?, ?it/s]"
      ]
     },
     "metadata": {},
     "output_type": "display_data"
    },
    {
     "data": {
      "application/vnd.jupyter.widget-view+json": {
       "model_id": "05df248cca6a4444be629f7e7ed37adf",
       "version_major": 2,
       "version_minor": 0
      },
      "text/plain": [
       "Validation: |          | 0/? [00:00<?, ?it/s]"
      ]
     },
     "metadata": {},
     "output_type": "display_data"
    },
    {
     "data": {
      "application/vnd.jupyter.widget-view+json": {
       "model_id": "4b7f9cb9faf444eab96e134fdbe9aee6",
       "version_major": 2,
       "version_minor": 0
      },
      "text/plain": [
       "Validation: |          | 0/? [00:00<?, ?it/s]"
      ]
     },
     "metadata": {},
     "output_type": "display_data"
    },
    {
     "name": "stderr",
     "output_type": "stream",
     "text": [
      "`Trainer.fit` stopped: `max_epochs=30` reached.\n",
      "Restoring states from the checkpoint path at /home/lucas/code/ece4179-neural-networks/labs/lab-3/logs/h8/epoch=29-step=40860-v2.ckpt\n",
      "Loaded model weights from the checkpoint at /home/lucas/code/ece4179-neural-networks/labs/lab-3/logs/h8/epoch=29-step=40860-v2.ckpt\n",
      "/nix/store/bxj3ic1m66k3p690vwgb0913l5l46bk9-python3-3.12.4-env/lib/python3.12/site-packages/pytorch_lightning/trainer/connectors/data_connector.py:424: The 'test_dataloader' does not have many workers which may be a bottleneck. Consider increasing the value of the `num_workers` argument` to `num_workers=15` in the `DataLoader` to improve performance.\n"
     ]
    },
    {
     "data": {
      "application/vnd.jupyter.widget-view+json": {
       "model_id": "f6b585551d88453185ecf9a6c062fbeb",
       "version_major": 2,
       "version_minor": 0
      },
      "text/plain": [
       "Testing: |          | 0/? [00:00<?, ?it/s]"
      ]
     },
     "metadata": {},
     "output_type": "display_data"
    },
    {
     "name": "stdout",
     "output_type": "stream",
     "text": [
      "────────────────────────────────────────────────────────────────────────────────────────────────────────────────────────\n",
      "       Test metric             DataLoader 0\n",
      "────────────────────────────────────────────────────────────────────────────────────────────────────────────────────────\n",
      "        test_acc            0.4161103367805481\n",
      "        test_loss           0.6995294094085693\n",
      "────────────────────────────────────────────────────────────────────────────────────────────────────────────────────────\n"
     ]
    },
    {
     "data": {
      "text/plain": [
       "[{'test_loss': 0.6995294094085693, 'test_acc': 0.4161103367805481}]"
      ]
     },
     "execution_count": 32,
     "metadata": {},
     "output_type": "execute_result"
    }
   ],
   "source": [
    "# Scenario a: Initialize Shallow MLP model with hidden node = 8\n",
    "hidden_node = 8\n",
    "model_shallow_a = Shallow_MLP(input_features, hidden_node, classes, lr)\n",
    "\n",
    "# Define checkpoint callback function to save best model\n",
    "checkpoint_callback_2a = ModelCheckpoint(\n",
    "    monitor=\"val_acc\",  # the value to watch out on checking the model performance\n",
    "    dirpath=\"logs/h8\",  # path to save the checkpoint\n",
    "    save_top_k=1,  # save the best model\n",
    "    mode=\"max\",\n",
    "    every_n_epochs=1,\n",
    ")\n",
    "\n",
    "# Train and test the model\n",
    "trainer_2a = Trainer(\n",
    "    accelerator=\"auto\",\n",
    "    devices=1 if not torch.cuda.is_available() else torch.cuda.device_count(),\n",
    "    max_epochs=max_epochs,\n",
    "    callbacks=[TQDMProgressBar(refresh_rate=20), checkpoint_callback_2a],\n",
    "    logger=CSVLogger(\"logs\", name=\"h8\", version=0),\n",
    ")\n",
    "\n",
    "# Start the training loop\n",
    "trainer_2a.fit(model_shallow_a)\n",
    "\n",
    "# Report the test performance\n",
    "trainer_2a.test(ckpt_path=\"best\")"
   ]
  },
  {
   "cell_type": "markdown",
   "metadata": {},
   "source": [
    "You should expect some output like :\n",
    "\n",
    "[{'test_loss': 0.6990464925765991, 'test_acc': 0.7178385853767395}]"
   ]
  },
  {
   "cell_type": "code",
   "execution_count": 33,
   "metadata": {},
   "outputs": [
    {
     "name": "stderr",
     "output_type": "stream",
     "text": [
      "GPU available: False, used: False\n",
      "TPU available: False, using: 0 TPU cores\n",
      "HPU available: False, using: 0 HPUs\n",
      "/nix/store/bxj3ic1m66k3p690vwgb0913l5l46bk9-python3-3.12.4-env/lib/python3.12/site-packages/lightning_fabric/loggers/csv_logs.py:269: Experiment logs directory logs/h128/version_0 exists and is not empty. Previous log files in this directory will be deleted when the new ones are saved!\n",
      "/nix/store/bxj3ic1m66k3p690vwgb0913l5l46bk9-python3-3.12.4-env/lib/python3.12/site-packages/pytorch_lightning/callbacks/model_checkpoint.py:652: Checkpoint directory /home/lucas/code/ece4179-neural-networks/labs/lab-3/logs/h128 exists and is not empty.\n",
      "\n",
      "  | Name           | Type               | Params | Mode \n",
      "--------------------------------------------------------------\n",
      "0 | loss_fun       | CrossEntropyLoss   | 0      | train\n",
      "1 | linear1        | Linear             | 7.0 K  | train\n",
      "2 | linear2        | Linear             | 903    | train\n",
      "3 | train_accuracy | MulticlassAccuracy | 0      | train\n",
      "4 | val_accuracy   | MulticlassAccuracy | 0      | train\n",
      "5 | test_accuracy  | MulticlassAccuracy | 0      | train\n",
      "--------------------------------------------------------------\n",
      "7.9 K     Trainable params\n",
      "0         Non-trainable params\n",
      "7.9 K     Total params\n",
      "0.032     Total estimated model params size (MB)\n"
     ]
    },
    {
     "data": {
      "application/vnd.jupyter.widget-view+json": {
       "model_id": "4ef8ca11c27f46aeacb864789c4bd3a1",
       "version_major": 2,
       "version_minor": 0
      },
      "text/plain": [
       "Sanity Checking: |          | 0/? [00:00<?, ?it/s]"
      ]
     },
     "metadata": {},
     "output_type": "display_data"
    },
    {
     "data": {
      "application/vnd.jupyter.widget-view+json": {
       "model_id": "e7714bc1bc8148408d0f6a79a7b8eacf",
       "version_major": 2,
       "version_minor": 0
      },
      "text/plain": [
       "Training: |          | 0/? [00:00<?, ?it/s]"
      ]
     },
     "metadata": {},
     "output_type": "display_data"
    },
    {
     "data": {
      "application/vnd.jupyter.widget-view+json": {
       "model_id": "c77d96f7340840b9839814a6774c0ffb",
       "version_major": 2,
       "version_minor": 0
      },
      "text/plain": [
       "Validation: |          | 0/? [00:00<?, ?it/s]"
      ]
     },
     "metadata": {},
     "output_type": "display_data"
    },
    {
     "data": {
      "application/vnd.jupyter.widget-view+json": {
       "model_id": "c59197b45a44466c80c720d872e49c0f",
       "version_major": 2,
       "version_minor": 0
      },
      "text/plain": [
       "Validation: |          | 0/? [00:00<?, ?it/s]"
      ]
     },
     "metadata": {},
     "output_type": "display_data"
    },
    {
     "data": {
      "application/vnd.jupyter.widget-view+json": {
       "model_id": "2bcedf01f4bc4fb6b33c1a7e92a5a8e1",
       "version_major": 2,
       "version_minor": 0
      },
      "text/plain": [
       "Validation: |          | 0/? [00:00<?, ?it/s]"
      ]
     },
     "metadata": {},
     "output_type": "display_data"
    },
    {
     "data": {
      "application/vnd.jupyter.widget-view+json": {
       "model_id": "585dd955bdea4299894330301645ba9b",
       "version_major": 2,
       "version_minor": 0
      },
      "text/plain": [
       "Validation: |          | 0/? [00:00<?, ?it/s]"
      ]
     },
     "metadata": {},
     "output_type": "display_data"
    },
    {
     "data": {
      "application/vnd.jupyter.widget-view+json": {
       "model_id": "cf40c5a15d554be88f35fd314ac2d9d6",
       "version_major": 2,
       "version_minor": 0
      },
      "text/plain": [
       "Validation: |          | 0/? [00:00<?, ?it/s]"
      ]
     },
     "metadata": {},
     "output_type": "display_data"
    },
    {
     "data": {
      "application/vnd.jupyter.widget-view+json": {
       "model_id": "c8805e89201848b1a8ab49c625ab5491",
       "version_major": 2,
       "version_minor": 0
      },
      "text/plain": [
       "Validation: |          | 0/? [00:00<?, ?it/s]"
      ]
     },
     "metadata": {},
     "output_type": "display_data"
    },
    {
     "data": {
      "application/vnd.jupyter.widget-view+json": {
       "model_id": "d296059a3a6b466ca9f415c976839eca",
       "version_major": 2,
       "version_minor": 0
      },
      "text/plain": [
       "Validation: |          | 0/? [00:00<?, ?it/s]"
      ]
     },
     "metadata": {},
     "output_type": "display_data"
    },
    {
     "data": {
      "application/vnd.jupyter.widget-view+json": {
       "model_id": "2acc096fb4494671a462aa7fddf9f53d",
       "version_major": 2,
       "version_minor": 0
      },
      "text/plain": [
       "Validation: |          | 0/? [00:00<?, ?it/s]"
      ]
     },
     "metadata": {},
     "output_type": "display_data"
    },
    {
     "data": {
      "application/vnd.jupyter.widget-view+json": {
       "model_id": "33fefcb46ca74d55bfc76c027ee74474",
       "version_major": 2,
       "version_minor": 0
      },
      "text/plain": [
       "Validation: |          | 0/? [00:00<?, ?it/s]"
      ]
     },
     "metadata": {},
     "output_type": "display_data"
    },
    {
     "data": {
      "application/vnd.jupyter.widget-view+json": {
       "model_id": "8e456b9d6e454d1db25f97fa6c30a189",
       "version_major": 2,
       "version_minor": 0
      },
      "text/plain": [
       "Validation: |          | 0/? [00:00<?, ?it/s]"
      ]
     },
     "metadata": {},
     "output_type": "display_data"
    },
    {
     "data": {
      "application/vnd.jupyter.widget-view+json": {
       "model_id": "77a7cb6cb81e4541bce231fc395ce33c",
       "version_major": 2,
       "version_minor": 0
      },
      "text/plain": [
       "Validation: |          | 0/? [00:00<?, ?it/s]"
      ]
     },
     "metadata": {},
     "output_type": "display_data"
    },
    {
     "data": {
      "application/vnd.jupyter.widget-view+json": {
       "model_id": "0b4e9d45d6f0461da55f354f11c57ceb",
       "version_major": 2,
       "version_minor": 0
      },
      "text/plain": [
       "Validation: |          | 0/? [00:00<?, ?it/s]"
      ]
     },
     "metadata": {},
     "output_type": "display_data"
    },
    {
     "data": {
      "application/vnd.jupyter.widget-view+json": {
       "model_id": "a326ef2180ba4ad98665a0d7560aceed",
       "version_major": 2,
       "version_minor": 0
      },
      "text/plain": [
       "Validation: |          | 0/? [00:00<?, ?it/s]"
      ]
     },
     "metadata": {},
     "output_type": "display_data"
    },
    {
     "data": {
      "application/vnd.jupyter.widget-view+json": {
       "model_id": "f5dd5b827ca5492890a7d09e2cf16287",
       "version_major": 2,
       "version_minor": 0
      },
      "text/plain": [
       "Validation: |          | 0/? [00:00<?, ?it/s]"
      ]
     },
     "metadata": {},
     "output_type": "display_data"
    },
    {
     "data": {
      "application/vnd.jupyter.widget-view+json": {
       "model_id": "24acbf1032cd45f99ccf9c37b9924b0e",
       "version_major": 2,
       "version_minor": 0
      },
      "text/plain": [
       "Validation: |          | 0/? [00:00<?, ?it/s]"
      ]
     },
     "metadata": {},
     "output_type": "display_data"
    },
    {
     "data": {
      "application/vnd.jupyter.widget-view+json": {
       "model_id": "1c65247ea98048cead1321c531c8e526",
       "version_major": 2,
       "version_minor": 0
      },
      "text/plain": [
       "Validation: |          | 0/? [00:00<?, ?it/s]"
      ]
     },
     "metadata": {},
     "output_type": "display_data"
    },
    {
     "data": {
      "application/vnd.jupyter.widget-view+json": {
       "model_id": "d5736076e98544d19edd13bf4f6dce20",
       "version_major": 2,
       "version_minor": 0
      },
      "text/plain": [
       "Validation: |          | 0/? [00:00<?, ?it/s]"
      ]
     },
     "metadata": {},
     "output_type": "display_data"
    },
    {
     "data": {
      "application/vnd.jupyter.widget-view+json": {
       "model_id": "914a634f00da42f6babd0e342c6ef2db",
       "version_major": 2,
       "version_minor": 0
      },
      "text/plain": [
       "Validation: |          | 0/? [00:00<?, ?it/s]"
      ]
     },
     "metadata": {},
     "output_type": "display_data"
    },
    {
     "data": {
      "application/vnd.jupyter.widget-view+json": {
       "model_id": "ab5baddc7d1b42dfa161aad44aebc384",
       "version_major": 2,
       "version_minor": 0
      },
      "text/plain": [
       "Validation: |          | 0/? [00:00<?, ?it/s]"
      ]
     },
     "metadata": {},
     "output_type": "display_data"
    },
    {
     "data": {
      "application/vnd.jupyter.widget-view+json": {
       "model_id": "a104424e5d05493ba17a69ba42fc1d95",
       "version_major": 2,
       "version_minor": 0
      },
      "text/plain": [
       "Validation: |          | 0/? [00:00<?, ?it/s]"
      ]
     },
     "metadata": {},
     "output_type": "display_data"
    },
    {
     "data": {
      "application/vnd.jupyter.widget-view+json": {
       "model_id": "676e607f639a4692b88097b3ebcabb55",
       "version_major": 2,
       "version_minor": 0
      },
      "text/plain": [
       "Validation: |          | 0/? [00:00<?, ?it/s]"
      ]
     },
     "metadata": {},
     "output_type": "display_data"
    },
    {
     "data": {
      "application/vnd.jupyter.widget-view+json": {
       "model_id": "a9bdaf656eb74aec84b46de01beaf2b6",
       "version_major": 2,
       "version_minor": 0
      },
      "text/plain": [
       "Validation: |          | 0/? [00:00<?, ?it/s]"
      ]
     },
     "metadata": {},
     "output_type": "display_data"
    },
    {
     "data": {
      "application/vnd.jupyter.widget-view+json": {
       "model_id": "91669d7072494a6a89973f5cd6d3625f",
       "version_major": 2,
       "version_minor": 0
      },
      "text/plain": [
       "Validation: |          | 0/? [00:00<?, ?it/s]"
      ]
     },
     "metadata": {},
     "output_type": "display_data"
    },
    {
     "data": {
      "application/vnd.jupyter.widget-view+json": {
       "model_id": "f7c0d16004fa490ebb8e83fb534ab7bf",
       "version_major": 2,
       "version_minor": 0
      },
      "text/plain": [
       "Validation: |          | 0/? [00:00<?, ?it/s]"
      ]
     },
     "metadata": {},
     "output_type": "display_data"
    },
    {
     "data": {
      "application/vnd.jupyter.widget-view+json": {
       "model_id": "b9d104a54d7c46b2ba835f2dfe4d5f0d",
       "version_major": 2,
       "version_minor": 0
      },
      "text/plain": [
       "Validation: |          | 0/? [00:00<?, ?it/s]"
      ]
     },
     "metadata": {},
     "output_type": "display_data"
    },
    {
     "data": {
      "application/vnd.jupyter.widget-view+json": {
       "model_id": "0d539f14773f4f6bbd57d37ccc2eb362",
       "version_major": 2,
       "version_minor": 0
      },
      "text/plain": [
       "Validation: |          | 0/? [00:00<?, ?it/s]"
      ]
     },
     "metadata": {},
     "output_type": "display_data"
    },
    {
     "data": {
      "application/vnd.jupyter.widget-view+json": {
       "model_id": "21f7ccf6343f486a9211a706731a384f",
       "version_major": 2,
       "version_minor": 0
      },
      "text/plain": [
       "Validation: |          | 0/? [00:00<?, ?it/s]"
      ]
     },
     "metadata": {},
     "output_type": "display_data"
    },
    {
     "data": {
      "application/vnd.jupyter.widget-view+json": {
       "model_id": "d0ec1cc46c384111a6e301fca59ae824",
       "version_major": 2,
       "version_minor": 0
      },
      "text/plain": [
       "Validation: |          | 0/? [00:00<?, ?it/s]"
      ]
     },
     "metadata": {},
     "output_type": "display_data"
    },
    {
     "data": {
      "application/vnd.jupyter.widget-view+json": {
       "model_id": "15fd5724e2574058911af74b26162511",
       "version_major": 2,
       "version_minor": 0
      },
      "text/plain": [
       "Validation: |          | 0/? [00:00<?, ?it/s]"
      ]
     },
     "metadata": {},
     "output_type": "display_data"
    },
    {
     "data": {
      "application/vnd.jupyter.widget-view+json": {
       "model_id": "d40cbab6de29423f9c3cfc233c55718a",
       "version_major": 2,
       "version_minor": 0
      },
      "text/plain": [
       "Validation: |          | 0/? [00:00<?, ?it/s]"
      ]
     },
     "metadata": {},
     "output_type": "display_data"
    },
    {
     "name": "stderr",
     "output_type": "stream",
     "text": [
      "`Trainer.fit` stopped: `max_epochs=30` reached.\n",
      "Restoring states from the checkpoint path at /home/lucas/code/ece4179-neural-networks/labs/lab-3/logs/h128/epoch=29-step=40860-v1.ckpt\n",
      "Loaded model weights from the checkpoint at /home/lucas/code/ece4179-neural-networks/labs/lab-3/logs/h128/epoch=29-step=40860-v1.ckpt\n"
     ]
    },
    {
     "data": {
      "application/vnd.jupyter.widget-view+json": {
       "model_id": "173fe54b0a1b4ac0a6b9f6a0ddf791b4",
       "version_major": 2,
       "version_minor": 0
      },
      "text/plain": [
       "Testing: |          | 0/? [00:00<?, ?it/s]"
      ]
     },
     "metadata": {},
     "output_type": "display_data"
    },
    {
     "name": "stdout",
     "output_type": "stream",
     "text": [
      "────────────────────────────────────────────────────────────────────────────────────────────────────────────────────────\n",
      "       Test metric             DataLoader 0\n",
      "────────────────────────────────────────────────────────────────────────────────────────────────────────────────────────\n",
      "        test_acc            0.42841729521751404\n",
      "        test_loss           0.6637879014015198\n",
      "────────────────────────────────────────────────────────────────────────────────────────────────────────────────────────\n"
     ]
    },
    {
     "data": {
      "text/plain": [
       "[{'test_loss': 0.6637879014015198, 'test_acc': 0.42841729521751404}]"
      ]
     },
     "execution_count": 33,
     "metadata": {},
     "output_type": "execute_result"
    }
   ],
   "source": [
    "# Scenario b: Initialize Shallow MLP model with hidden node = 128\n",
    "hidden_node = 128\n",
    "model_shallow_b = Shallow_MLP(input_features, hidden_node, classes, lr)\n",
    "\n",
    "\n",
    "# Define checkpoint callback function to save best model\n",
    "checkpoint_callback_2b = ModelCheckpoint(\n",
    "    monitor=\"val_acc\",\n",
    "    dirpath=\"logs/h128\",\n",
    "    save_top_k=1,\n",
    "    mode=\"max\",\n",
    "    every_n_epochs=1,\n",
    ")\n",
    "\n",
    "# Train and test the model\n",
    "trainer_2b = Trainer(\n",
    "    accelerator=\"auto\",\n",
    "    devices=1 if not torch.cuda.is_available() else torch.cuda.device_count(),\n",
    "    max_epochs=max_epochs,\n",
    "    callbacks=[TQDMProgressBar(refresh_rate=20), checkpoint_callback_2b],\n",
    "    logger=CSVLogger(\"logs\", name=\"h128\", version=0),\n",
    ")\n",
    "\n",
    "# Start the training loop\n",
    "trainer_2b.fit(model_shallow_b)\n",
    "\n",
    "# Report the test performance\n",
    "trainer_2b.test(ckpt_path=\"best\")"
   ]
  },
  {
   "cell_type": "markdown",
   "metadata": {},
   "source": [
    "You should expect some output like :\n",
    "\n",
    "[{'test_loss': 0.6637445688247681, 'test_acc': 0.7278985977172852}]"
   ]
  },
  {
   "cell_type": "code",
   "execution_count": 34,
   "metadata": {},
   "outputs": [
    {
     "name": "stderr",
     "output_type": "stream",
     "text": [
      "GPU available: False, used: False\n",
      "TPU available: False, using: 0 TPU cores\n",
      "HPU available: False, using: 0 HPUs\n",
      "/nix/store/bxj3ic1m66k3p690vwgb0913l5l46bk9-python3-3.12.4-env/lib/python3.12/site-packages/lightning_fabric/loggers/csv_logs.py:269: Experiment logs directory logs/h1024/version_0 exists and is not empty. Previous log files in this directory will be deleted when the new ones are saved!\n",
      "/nix/store/bxj3ic1m66k3p690vwgb0913l5l46bk9-python3-3.12.4-env/lib/python3.12/site-packages/pytorch_lightning/callbacks/model_checkpoint.py:652: Checkpoint directory /home/lucas/code/ece4179-neural-networks/labs/lab-3/logs/h1024 exists and is not empty.\n",
      "\n",
      "  | Name           | Type               | Params | Mode \n",
      "--------------------------------------------------------------\n",
      "0 | loss_fun       | CrossEntropyLoss   | 0      | train\n",
      "1 | linear1        | Linear             | 56.3 K | train\n",
      "2 | linear2        | Linear             | 7.2 K  | train\n",
      "3 | train_accuracy | MulticlassAccuracy | 0      | train\n",
      "4 | val_accuracy   | MulticlassAccuracy | 0      | train\n",
      "5 | test_accuracy  | MulticlassAccuracy | 0      | train\n",
      "--------------------------------------------------------------\n",
      "63.5 K    Trainable params\n",
      "0         Non-trainable params\n",
      "63.5 K    Total params\n",
      "0.254     Total estimated model params size (MB)\n"
     ]
    },
    {
     "data": {
      "application/vnd.jupyter.widget-view+json": {
       "model_id": "b9d74170c9fb4c2498ab7a5f7682fc82",
       "version_major": 2,
       "version_minor": 0
      },
      "text/plain": [
       "Sanity Checking: |          | 0/? [00:00<?, ?it/s]"
      ]
     },
     "metadata": {},
     "output_type": "display_data"
    },
    {
     "data": {
      "application/vnd.jupyter.widget-view+json": {
       "model_id": "d649e40d1ce64484b25c1beeaf16a6ac",
       "version_major": 2,
       "version_minor": 0
      },
      "text/plain": [
       "Training: |          | 0/? [00:00<?, ?it/s]"
      ]
     },
     "metadata": {},
     "output_type": "display_data"
    },
    {
     "data": {
      "application/vnd.jupyter.widget-view+json": {
       "model_id": "2b72463620374ceeb75013e127f6dc13",
       "version_major": 2,
       "version_minor": 0
      },
      "text/plain": [
       "Validation: |          | 0/? [00:00<?, ?it/s]"
      ]
     },
     "metadata": {},
     "output_type": "display_data"
    },
    {
     "data": {
      "application/vnd.jupyter.widget-view+json": {
       "model_id": "ea02bf84e3b64385abf2484f0c5ee919",
       "version_major": 2,
       "version_minor": 0
      },
      "text/plain": [
       "Validation: |          | 0/? [00:00<?, ?it/s]"
      ]
     },
     "metadata": {},
     "output_type": "display_data"
    },
    {
     "data": {
      "application/vnd.jupyter.widget-view+json": {
       "model_id": "d851714c4aba442e847cb814ee0adaa9",
       "version_major": 2,
       "version_minor": 0
      },
      "text/plain": [
       "Validation: |          | 0/? [00:00<?, ?it/s]"
      ]
     },
     "metadata": {},
     "output_type": "display_data"
    },
    {
     "data": {
      "application/vnd.jupyter.widget-view+json": {
       "model_id": "a894a15cb7104579bcdf9a2d3a9a7659",
       "version_major": 2,
       "version_minor": 0
      },
      "text/plain": [
       "Validation: |          | 0/? [00:00<?, ?it/s]"
      ]
     },
     "metadata": {},
     "output_type": "display_data"
    },
    {
     "data": {
      "application/vnd.jupyter.widget-view+json": {
       "model_id": "47956893cdf0459f8c4769f678073d53",
       "version_major": 2,
       "version_minor": 0
      },
      "text/plain": [
       "Validation: |          | 0/? [00:00<?, ?it/s]"
      ]
     },
     "metadata": {},
     "output_type": "display_data"
    },
    {
     "data": {
      "application/vnd.jupyter.widget-view+json": {
       "model_id": "beb1a7bee96b48e9a1aafa629d19bc50",
       "version_major": 2,
       "version_minor": 0
      },
      "text/plain": [
       "Validation: |          | 0/? [00:00<?, ?it/s]"
      ]
     },
     "metadata": {},
     "output_type": "display_data"
    },
    {
     "data": {
      "application/vnd.jupyter.widget-view+json": {
       "model_id": "bcda6eb6974847e099ca891a1c48e0cc",
       "version_major": 2,
       "version_minor": 0
      },
      "text/plain": [
       "Validation: |          | 0/? [00:00<?, ?it/s]"
      ]
     },
     "metadata": {},
     "output_type": "display_data"
    },
    {
     "data": {
      "application/vnd.jupyter.widget-view+json": {
       "model_id": "8a8b2f26183a40bfa0ddf9780daa4408",
       "version_major": 2,
       "version_minor": 0
      },
      "text/plain": [
       "Validation: |          | 0/? [00:00<?, ?it/s]"
      ]
     },
     "metadata": {},
     "output_type": "display_data"
    },
    {
     "data": {
      "application/vnd.jupyter.widget-view+json": {
       "model_id": "df71cb8f3cbc4af19b0d7b1720b66450",
       "version_major": 2,
       "version_minor": 0
      },
      "text/plain": [
       "Validation: |          | 0/? [00:00<?, ?it/s]"
      ]
     },
     "metadata": {},
     "output_type": "display_data"
    },
    {
     "data": {
      "application/vnd.jupyter.widget-view+json": {
       "model_id": "72e0035c3c674d29923f6c49e377b8db",
       "version_major": 2,
       "version_minor": 0
      },
      "text/plain": [
       "Validation: |          | 0/? [00:00<?, ?it/s]"
      ]
     },
     "metadata": {},
     "output_type": "display_data"
    },
    {
     "data": {
      "application/vnd.jupyter.widget-view+json": {
       "model_id": "e466f70090eb4c3ca991c503ab864a79",
       "version_major": 2,
       "version_minor": 0
      },
      "text/plain": [
       "Validation: |          | 0/? [00:00<?, ?it/s]"
      ]
     },
     "metadata": {},
     "output_type": "display_data"
    },
    {
     "data": {
      "application/vnd.jupyter.widget-view+json": {
       "model_id": "a41707831633476d91a3535ff2947929",
       "version_major": 2,
       "version_minor": 0
      },
      "text/plain": [
       "Validation: |          | 0/? [00:00<?, ?it/s]"
      ]
     },
     "metadata": {},
     "output_type": "display_data"
    },
    {
     "data": {
      "application/vnd.jupyter.widget-view+json": {
       "model_id": "b99735c739104263ad6d01f5cdbe5c64",
       "version_major": 2,
       "version_minor": 0
      },
      "text/plain": [
       "Validation: |          | 0/? [00:00<?, ?it/s]"
      ]
     },
     "metadata": {},
     "output_type": "display_data"
    },
    {
     "data": {
      "application/vnd.jupyter.widget-view+json": {
       "model_id": "f81623956b9a4d7593c9c7722cc4aec8",
       "version_major": 2,
       "version_minor": 0
      },
      "text/plain": [
       "Validation: |          | 0/? [00:00<?, ?it/s]"
      ]
     },
     "metadata": {},
     "output_type": "display_data"
    },
    {
     "data": {
      "application/vnd.jupyter.widget-view+json": {
       "model_id": "c7cf0bfeecfb446c9c929205ab1af95d",
       "version_major": 2,
       "version_minor": 0
      },
      "text/plain": [
       "Validation: |          | 0/? [00:00<?, ?it/s]"
      ]
     },
     "metadata": {},
     "output_type": "display_data"
    },
    {
     "data": {
      "application/vnd.jupyter.widget-view+json": {
       "model_id": "d0b4ca0be3e34950a4667b4155df7729",
       "version_major": 2,
       "version_minor": 0
      },
      "text/plain": [
       "Validation: |          | 0/? [00:00<?, ?it/s]"
      ]
     },
     "metadata": {},
     "output_type": "display_data"
    },
    {
     "data": {
      "application/vnd.jupyter.widget-view+json": {
       "model_id": "46da15352723482f830bb3d2b75611fd",
       "version_major": 2,
       "version_minor": 0
      },
      "text/plain": [
       "Validation: |          | 0/? [00:00<?, ?it/s]"
      ]
     },
     "metadata": {},
     "output_type": "display_data"
    },
    {
     "data": {
      "application/vnd.jupyter.widget-view+json": {
       "model_id": "e9a9b3a7dea54c39a4eb52d60212c235",
       "version_major": 2,
       "version_minor": 0
      },
      "text/plain": [
       "Validation: |          | 0/? [00:00<?, ?it/s]"
      ]
     },
     "metadata": {},
     "output_type": "display_data"
    },
    {
     "data": {
      "application/vnd.jupyter.widget-view+json": {
       "model_id": "8a5c68b0f6574d44853ee810bcf117f6",
       "version_major": 2,
       "version_minor": 0
      },
      "text/plain": [
       "Validation: |          | 0/? [00:00<?, ?it/s]"
      ]
     },
     "metadata": {},
     "output_type": "display_data"
    },
    {
     "data": {
      "application/vnd.jupyter.widget-view+json": {
       "model_id": "c2f169bd19cc424ca01ca4bfdca845b2",
       "version_major": 2,
       "version_minor": 0
      },
      "text/plain": [
       "Validation: |          | 0/? [00:00<?, ?it/s]"
      ]
     },
     "metadata": {},
     "output_type": "display_data"
    },
    {
     "data": {
      "application/vnd.jupyter.widget-view+json": {
       "model_id": "91db212cef9d42eca609fce9626d703f",
       "version_major": 2,
       "version_minor": 0
      },
      "text/plain": [
       "Validation: |          | 0/? [00:00<?, ?it/s]"
      ]
     },
     "metadata": {},
     "output_type": "display_data"
    },
    {
     "data": {
      "application/vnd.jupyter.widget-view+json": {
       "model_id": "b3fa627b276d44d9955db9d50377433b",
       "version_major": 2,
       "version_minor": 0
      },
      "text/plain": [
       "Validation: |          | 0/? [00:00<?, ?it/s]"
      ]
     },
     "metadata": {},
     "output_type": "display_data"
    },
    {
     "data": {
      "application/vnd.jupyter.widget-view+json": {
       "model_id": "536c3fa8894449cf9f1cbc086fbaad95",
       "version_major": 2,
       "version_minor": 0
      },
      "text/plain": [
       "Validation: |          | 0/? [00:00<?, ?it/s]"
      ]
     },
     "metadata": {},
     "output_type": "display_data"
    },
    {
     "data": {
      "application/vnd.jupyter.widget-view+json": {
       "model_id": "75ee1b34355c49ffb6ab70a7a8653a7f",
       "version_major": 2,
       "version_minor": 0
      },
      "text/plain": [
       "Validation: |          | 0/? [00:00<?, ?it/s]"
      ]
     },
     "metadata": {},
     "output_type": "display_data"
    },
    {
     "data": {
      "application/vnd.jupyter.widget-view+json": {
       "model_id": "dd6e789a85fa4610867d800350018653",
       "version_major": 2,
       "version_minor": 0
      },
      "text/plain": [
       "Validation: |          | 0/? [00:00<?, ?it/s]"
      ]
     },
     "metadata": {},
     "output_type": "display_data"
    },
    {
     "data": {
      "application/vnd.jupyter.widget-view+json": {
       "model_id": "5b1f87d96bf0400785bd5f054142f3bf",
       "version_major": 2,
       "version_minor": 0
      },
      "text/plain": [
       "Validation: |          | 0/? [00:00<?, ?it/s]"
      ]
     },
     "metadata": {},
     "output_type": "display_data"
    },
    {
     "data": {
      "application/vnd.jupyter.widget-view+json": {
       "model_id": "f6e6b4f220224a46bd01c43cb7c2fe7e",
       "version_major": 2,
       "version_minor": 0
      },
      "text/plain": [
       "Validation: |          | 0/? [00:00<?, ?it/s]"
      ]
     },
     "metadata": {},
     "output_type": "display_data"
    },
    {
     "data": {
      "application/vnd.jupyter.widget-view+json": {
       "model_id": "9770852ac26141b89ecd8d901d303599",
       "version_major": 2,
       "version_minor": 0
      },
      "text/plain": [
       "Validation: |          | 0/? [00:00<?, ?it/s]"
      ]
     },
     "metadata": {},
     "output_type": "display_data"
    },
    {
     "data": {
      "application/vnd.jupyter.widget-view+json": {
       "model_id": "c32c368450a442eda759e9035ab06d63",
       "version_major": 2,
       "version_minor": 0
      },
      "text/plain": [
       "Validation: |          | 0/? [00:00<?, ?it/s]"
      ]
     },
     "metadata": {},
     "output_type": "display_data"
    },
    {
     "data": {
      "application/vnd.jupyter.widget-view+json": {
       "model_id": "6ce40e4f19994cc5beafb27a9ef3dd67",
       "version_major": 2,
       "version_minor": 0
      },
      "text/plain": [
       "Validation: |          | 0/? [00:00<?, ?it/s]"
      ]
     },
     "metadata": {},
     "output_type": "display_data"
    },
    {
     "name": "stderr",
     "output_type": "stream",
     "text": [
      "`Trainer.fit` stopped: `max_epochs=30` reached.\n",
      "Restoring states from the checkpoint path at /home/lucas/code/ece4179-neural-networks/labs/lab-3/logs/h1024/epoch=29-step=40860-v1.ckpt\n",
      "Loaded model weights from the checkpoint at /home/lucas/code/ece4179-neural-networks/labs/lab-3/logs/h1024/epoch=29-step=40860-v1.ckpt\n"
     ]
    },
    {
     "data": {
      "application/vnd.jupyter.widget-view+json": {
       "model_id": "5e5f475c2bd04494889e196ea5ecb8c7",
       "version_major": 2,
       "version_minor": 0
      },
      "text/plain": [
       "Testing: |          | 0/? [00:00<?, ?it/s]"
      ]
     },
     "metadata": {},
     "output_type": "display_data"
    },
    {
     "name": "stdout",
     "output_type": "stream",
     "text": [
      "────────────────────────────────────────────────────────────────────────────────────────────────────────────────────────\n",
      "       Test metric             DataLoader 0\n",
      "────────────────────────────────────────────────────────────────────────────────────────────────────────────────────────\n",
      "        test_acc            0.4696304202079773\n",
      "        test_loss           0.6324483752250671\n",
      "────────────────────────────────────────────────────────────────────────────────────────────────────────────────────────\n"
     ]
    },
    {
     "data": {
      "text/plain": [
       "[{'test_loss': 0.6324483752250671, 'test_acc': 0.4696304202079773}]"
      ]
     },
     "execution_count": 34,
     "metadata": {},
     "output_type": "execute_result"
    }
   ],
   "source": [
    "# Scenario c: Initialize Shallow MLP model with hidden node = 1024\n",
    "hidden_node = 1024\n",
    "model_shallow_c = Shallow_MLP(input_features, hidden_node, classes, lr)\n",
    "\n",
    "\n",
    "# Define checkpoint callback function to save best model\n",
    "checkpoint_callback_2c = ModelCheckpoint(\n",
    "    monitor=\"val_acc\",\n",
    "    dirpath=\"logs/h1024\",\n",
    "    save_top_k=1,\n",
    "    mode=\"max\",\n",
    "    every_n_epochs=1,\n",
    ")\n",
    "\n",
    "# Train and test the model\n",
    "trainer_2c = Trainer(\n",
    "    accelerator=\"auto\",\n",
    "    devices=1 if not torch.cuda.is_available() else torch.cuda.device_count(),\n",
    "    max_epochs=max_epochs,\n",
    "    callbacks=[TQDMProgressBar(refresh_rate=20), checkpoint_callback_2c],\n",
    "    logger=CSVLogger(\"logs\", name=\"h1024\", version=0),\n",
    ")\n",
    "\n",
    "# Start the training loop\n",
    "trainer_2c.fit(model_shallow_c)\n",
    "\n",
    "# Report the test performance\n",
    "trainer_2c.test(ckpt_path=\"best\")"
   ]
  },
  {
   "cell_type": "markdown",
   "metadata": {},
   "source": [
    "You should expect some output like :\n",
    "\n",
    "[{'test_loss': 0.6303123235702515, 'test_acc': 0.7377262115478516}]"
   ]
  },
  {
   "cell_type": "markdown",
   "metadata": {},
   "source": [
    "<div class=\"alert alert-block alert-info\">\n",
    "\n",
    "## 2.3 Train and evaluate model's performance <a class=\"anchor\" id=\"2_4\"></a>"
   ]
  },
  {
   "cell_type": "markdown",
   "metadata": {},
   "source": [
    "#### (a) Plot Training losses for the different shallow networks\n",
    "\n",
    "Now let's read the ```csv``` files that are stored during training and plot the losses for all different training setups.\n",
    "\n",
    "Make sure you include the following:\n",
    "- Make the plot on the same figure\n",
    "- Properly labelled axes\n",
    "- Proper title\n",
    "- Legends"
   ]
  },
  {
   "cell_type": "code",
   "execution_count": 35,
   "metadata": {},
   "outputs": [],
   "source": [
    "# read logs for 2a\n",
    "metrics_task_2a = pd.read_csv(\"logs/h8/version_0/metrics.csv\")\n",
    "metrics_task_2a.set_index(\"epoch\", inplace=True)\n",
    "metrics_task_2a = metrics_task_2a.groupby(level=0).sum().drop(\"step\", axis=1)\n",
    "\n",
    "# read logs for 2b\n",
    "metrics_task_2b = pd.read_csv(\"logs/h128/version_0/metrics.csv\")\n",
    "metrics_task_2b.set_index(\"epoch\", inplace=True)\n",
    "metrics_task_2b = metrics_task_2b.groupby(level=0).sum().drop(\"step\", axis=1)\n",
    "\n",
    "\n",
    "# read logs for 2c\n",
    "metrics_task_2c = pd.read_csv(\"logs/h1024/version_0/metrics.csv\")\n",
    "metrics_task_2c.set_index(\"epoch\", inplace=True)\n",
    "metrics_task_2c = metrics_task_2c.groupby(level=0).sum().drop(\"step\", axis=1)"
   ]
  },
  {
   "cell_type": "code",
   "execution_count": 36,
   "metadata": {},
   "outputs": [
    {
     "data": {
      "text/plain": [
       "<matplotlib.legend.Legend at 0x7ff0c3208500>"
      ]
     },
     "execution_count": 36,
     "metadata": {},
     "output_type": "execute_result"
    },
    {
     "data": {
      "image/png": "[encoded data removed]",
      "text/plain": [
       "<Figure size 1000x500 with 1 Axes>"
      ]
     },
     "metadata": {},
     "output_type": "display_data"
    }
   ],
   "source": [
    "# Plot using matplotlib\n",
    "plt.figure(figsize=(10, 5))\n",
    "\n",
    "plt.plot(metrics_task_2a[\"train_loss\"][:-1])\n",
    "plt.plot(metrics_task_2b[\"train_loss\"][:-1])\n",
    "plt.plot(metrics_task_2c[\"train_loss\"][:-1])\n",
    "plt.title(\"Training Loss Shallow MLP\")\n",
    "plt.xlabel(\"Epoch\")\n",
    "plt.ylabel(\"Loss\")\n",
    "plt.legend([\"Train Loss 8\", \"Train Loss 128\", \"Train Loss 1024\"])"
   ]
  },
  {
   "cell_type": "markdown",
   "metadata": {},
   "source": [
    "#### (b) Plot Validation accuracies for the different shallow networks\n",
    "\n",
    "Make sure you include the following for the accuracy plots too:\n",
    "- Make the plot on the same figure\n",
    "- Properly labelled axes\n",
    "- Proper title\n",
    "- Legends"
   ]
  },
  {
   "cell_type": "code",
   "execution_count": 37,
   "metadata": {},
   "outputs": [
    {
     "data": {
      "text/plain": [
       "<matplotlib.legend.Legend at 0x7ff0c31a16d0>"
      ]
     },
     "execution_count": 37,
     "metadata": {},
     "output_type": "execute_result"
    },
    {
     "data": {
      "image/png": "[encoded data removed]",
      "text/plain": [
       "<Figure size 1000x500 with 1 Axes>"
      ]
     },
     "metadata": {},
     "output_type": "display_data"
    }
   ],
   "source": [
    "# Plot using matplotlib\n",
    "plt.figure(figsize=(10, 5))\n",
    "\n",
    "plt.plot(metrics_task_2a[\"val_acc\"][:-1])\n",
    "plt.plot(metrics_task_2b[\"val_acc\"][:-1])\n",
    "plt.plot(metrics_task_2c[\"val_acc\"][:-1])\n",
    "plt.title(\"Validation Accuracy Shallow MLP\")\n",
    "plt.xlabel(\"Epoch\")\n",
    "plt.ylabel(\"Loss\")\n",
    "plt.legend(\n",
    "    [\"Validation Accuracy 8\", \"Validation Accuracy 128\", \"Validation Accuracy 1024\"]\n",
    ")"
   ]
  },
  {
   "cell_type": "markdown",
   "metadata": {},
   "source": [
    "<div class=\"alert alert-block alert-success\">\n",
    "\n",
    "### Discussion\n",
    "\n",
    "Please enter your answers below\n",
    "\n",
    "**Question 1: In task 2.1(b) Why have a balanced split across classes is necessary?**\n",
    "\n",
    "To prevent overfitting for a subset of outputs during training.\n",
    "\n",
    "**Question 2: In the code provided below, select one model you have trained, then print out 5 predictions of test set along with groundtruth labels. How do you think the performance of the model?**\n",
    "\n",
    "The chosen model was the model with 128 hidden neurons.\n",
    "The performance is not great. From the training and test runs, the accuracy was around 43%, so getting 4/5 correct is better than expected. Having less than 50% accuracy is pretty abysmal and not very useful for any sort of automation.\n",
    "\n",
    "**Question 3: Now please provide at least 2-3 suggestions to improve the performance of the shallow MLP, you should support your idea with reasoning or providing results of implementing the idea.**\n",
    "\n",
    "- increase the number of hidden neurons. Solid proof that this improves performance is from the fact that the 1024 neuron model performs better.\n",
    "- increase number of training epochs. From the validation loss and accuracy graphs, it looks like those values have not completely plateaued after 30 epochs, so continuing to train for longer would improve performance.\n"
   ]
  },
  {
   "cell_type": "code",
   "execution_count": 38,
   "metadata": {},
   "outputs": [
    {
     "name": "stdout",
     "output_type": "stream",
     "text": [
      "Prediction: 3\n",
      "Ground Truth: 6\n",
      "----------------------------------------------------\n",
      "Prediction: 1\n",
      "Ground Truth: 1\n",
      "----------------------------------------------------\n",
      "Prediction: 1\n",
      "Ground Truth: 1\n",
      "----------------------------------------------------\n",
      "Prediction: 2\n",
      "Ground Truth: 2\n",
      "----------------------------------------------------\n",
      "Prediction: 2\n",
      "Ground Truth: 2\n",
      "----------------------------------------------------\n"
     ]
    }
   ],
   "source": [
    "# Generate predictions using predict function\n",
    "inputs = test_dataset.tensors[0][:5, :]\n",
    "outputs = model_shallow_b(inputs)\n",
    "\n",
    "predictions_2b, labels_2b, inputs_2b = (\n",
    "    outputs.argmax(1),\n",
    "    test_dataset.tensors[1][:5],\n",
    "    inputs,\n",
    ")\n",
    "\n",
    "# printout predictions along with ground truths\n",
    "n = 5\n",
    "labels_2b = labels_2b.cpu().numpy()\n",
    "\n",
    "for i in range(n):\n",
    "    print(f\"Prediction: {label_encoder.inverse_transform([predictions_2b[i]])[0]}\")\n",
    "    print(f\"Ground Truth: {label_encoder.inverse_transform([labels_2b[i]])[0]}\")\n",
    "    print(\"----------------------------------------------------\")"
   ]
  },
  {
   "cell_type": "markdown",
   "metadata": {},
   "source": [
    "<div class=\"alert alert-block alert-info\">\n",
    "\n",
    "# Task 3 Deep MLP <a class=\"anchor\" id=\"task3\"></a>\n",
    "\n",
    "How about to build a different network for this dataset? \n"
   ]
  },
  {
   "cell_type": "markdown",
   "metadata": {},
   "source": [
    "<div class=\"alert alert-block alert-info\">\n",
    "\n",
    "## Learning Objective\n",
    "\n",
    "This task aims to understand and implement a Deep MLP model to train neural networks on the CoverType dataset. By the end of this task, you will be able to:\n",
    "\n",
    "1. Implement a Deep Multi-Layer Perceptron (MLP) model using PyTorch Lightning's framework.\n",
    "\n",
    "2. Apply stochastic gradient descent (SGD) optimization method to train the MLP model on the CoverType dataset.\n",
    "\n",
    "3. Visualize and analyze the performance of the MLP model on the given samples to understand how well it fits the data."
   ]
  },
  {
   "cell_type": "markdown",
   "metadata": {},
   "source": [
    "<div class=\"alert alert-block alert-info\">\n",
    "\n",
    "## 3.1 Design Deep MLP <a class=\"anchor\" id=\"3_1\"></a>\n",
    "\n",
    "Design a Deep MLP:\n",
    " - You need to instantiate Deep_MLP class from LightningModule\n",
    " - Deep_MLP must take these inputs:\n",
    "   1. the number of input features\n",
    "   2. the number of classes\n",
    "   3. A list showing number of nodes in hidden layers (e.g hidden_layers = [n_hidden1 n_hidden2 n_hidden3 n_hidden4])\n",
    "   4. the learning_rate\n",
    "   5. the train loader\n",
    "   6. the test loader \n",
    "   7. the validation loader\n",
    "\n",
    " - And it should have metrics to evaluate model performance:\n",
    "   1. train_accuracy\n",
    "   2. test_accuracy\n",
    "   3. val_accuracy\n",
    "   - To define these metrics you should use Accuracy() class from pytorch-lightning"
   ]
  },
  {
   "cell_type": "markdown",
   "metadata": {},
   "source": [
    "- Let's define a deep MLP with 5 hidden layers, all with **ReLU** as activation functions afterwards: \n",
    "  - fc1: Input Layer: Linear(#input features $\\times$ n_hidden1) $\\rightarrow$ ReLU $\\rightarrow$\n",
    "  - fc2: Hidden Layer: Linear(n_hidden1 $\\times$ n_hidden2) $\\rightarrow$ ReLU $\\rightarrow$\n",
    "  - fc3: Hidden Layer: Linear(n_hidden2 $\\times$ n_hidden3) $\\rightarrow$ ReLU $\\rightarrow$\n",
    "  - fc4: Hidden Layer: Linear(n_hidden3 $\\times$ n_hidden4) $\\rightarrow$ ReLU $\\rightarrow$\n",
    "  - fc5: Output Layer: Linear(n_hidden4 $\\times$ classes) : Output layer maps the hidden nodes into class scores (logits)\n",
    "\n",
    "The Class should take a list of numbers during initialisation and define the network from there."
   ]
  },
  {
   "cell_type": "code",
   "execution_count": 39,
   "metadata": {},
   "outputs": [],
   "source": [
    "class Deep_MLP(LightningModule):\n",
    "    def __init__(\n",
    "        self,\n",
    "        input_features,\n",
    "        classes,\n",
    "        hidden_layers,\n",
    "        learning_rate=1e-1,\n",
    "    ):\n",
    "        super().__init__()\n",
    "        self.save_hyperparameters()\n",
    "\n",
    "        self.learning_rate = learning_rate\n",
    "        self.loss_fun = nn.CrossEntropyLoss()\n",
    "\n",
    "        # Define the 5 fc layers\n",
    "        self.linear1 = nn.Linear(input_features, hidden_layers[0])\n",
    "        self.linear2 = nn.Linear(hidden_layers[0], hidden_layers[1])\n",
    "        self.linear3 = nn.Linear(hidden_layers[1], hidden_layers[2])\n",
    "        self.linear4 = nn.Linear(hidden_layers[2], hidden_layers[3])\n",
    "        self.linear5 = nn.Linear(hidden_layers[3], classes)\n",
    "\n",
    "        self.train_accuracy = MulticlassAccuracy(classes)\n",
    "        self.val_accuracy = MulticlassAccuracy(classes)\n",
    "        self.test_accuracy = MulticlassAccuracy(classes)\n",
    "\n",
    "    def forward(self, x):\n",
    "\n",
    "        # Pass input through layers\n",
    "        # Don't forget the activation function\n",
    "\n",
    "        out1 = nn.functional.relu(self.linear1(x))\n",
    "        out2 = nn.functional.relu(self.linear2(out1))\n",
    "        out3 = nn.functional.relu(self.linear3(out2))\n",
    "        out4 = nn.functional.relu(self.linear4(out3))\n",
    "        out5 = self.linear5(out4)\n",
    "\n",
    "        return out5\n",
    "\n",
    "    def training_step(self, batch, batch_idx):\n",
    "        # get the x and y values of the data point\n",
    "        # pass through the network\n",
    "        # Get the loss\n",
    "        x, y = batch\n",
    "        logits = self(x)\n",
    "        loss = self.loss_fun(logits, y)\n",
    "\n",
    "        preds = logits.argmax(1)\n",
    "        self.train_accuracy.update(preds, y)\n",
    "\n",
    "        self.log(\"train_loss\", loss, prog_bar=True, on_step=False, on_epoch=True)\n",
    "        self.log(\n",
    "            \"train_acc\",\n",
    "            self.train_accuracy,\n",
    "            prog_bar=True,\n",
    "            on_step=False,\n",
    "            on_epoch=True,\n",
    "        )\n",
    "\n",
    "        return loss\n",
    "\n",
    "    def validation_step(self, batch, batch_idx):\n",
    "        # get the x and y values of the data point\n",
    "        # pass through the network\n",
    "        # Get the loss\n",
    "        x, y = batch\n",
    "        logits = self(x)\n",
    "        loss = self.loss_fun(logits, y)\n",
    "\n",
    "        preds = logits.argmax(1)\n",
    "        self.val_accuracy.update(preds, y)\n",
    "\n",
    "        # Calling self.log will surface up scalars for you in TensorBoard\n",
    "        self.log(\"val_loss\", loss, prog_bar=True, on_step=False, on_epoch=True)\n",
    "        self.log(\n",
    "            \"val_acc\", self.val_accuracy, prog_bar=True, on_step=False, on_epoch=True\n",
    "        )\n",
    "\n",
    "    def test_step(self, batch, batch_idx):\n",
    "        # get the x and y values of the data point\n",
    "        # pass through the network\n",
    "        # Get the loss\n",
    "        x, y = batch\n",
    "        logits = self(x)\n",
    "        loss = self.loss_fun(logits, y)\n",
    "\n",
    "        preds = logits.argmax(1)\n",
    "        self.test_accuracy.update(preds, y)\n",
    "\n",
    "        # Calling self.log will surface up scalars for you in TensorBoard\n",
    "        self.log(\"test_loss\", loss, prog_bar=True)\n",
    "        self.log(\"test_acc\", self.test_accuracy, prog_bar=True)\n",
    "\n",
    "    def predict_step(self, batch, batch_idx):\n",
    "        # get the x and y values of the data point\n",
    "        # pass through the network\n",
    "        # Get the loss\n",
    "        x, y = batch\n",
    "        logits = self(x)\n",
    "        loss = self.loss_fun(logits, y)\n",
    "\n",
    "        pred = logits.argmax(1)\n",
    "        return pred, y, x\n",
    "\n",
    "    def configure_optimizers(self):\n",
    "        # define the SGD optimizer\n",
    "        optimizer = optim.SGD(self.parameters(), lr=self.learning_rate)\n",
    "        return optimizer\n",
    "\n",
    "    ####################\n",
    "    # DATA RELATED HOOKS\n",
    "    ####################\n",
    "\n",
    "    def train_dataloader(self):\n",
    "        return train_loader\n",
    "\n",
    "    def val_dataloader(self):\n",
    "        return val_loader\n",
    "\n",
    "    def test_dataloader(self):\n",
    "        return test_loader"
   ]
  },
  {
   "cell_type": "markdown",
   "metadata": {},
   "source": [
    "<div class=\"alert alert-block alert-info\">\n",
    "\n",
    "## 3.2 Train and evaluate model's performance <a class=\"anchor\" id=\"3_2\"></a>\n",
    "\n",
    "Now, create an instance of the model and with the following hidden layers: [128, 64, 32, 16] \n",
    "\n",
    "\n",
    "The forward propagation of model should follow this:\n",
    "- Hidden layers: [n_hidden1 , n_hidden2 , n_hidden3, n_hidden4]\n",
    "- Linear(#input features $\\times$ n_hidden1) $\\rightarrow$ ReLU $\\rightarrow$ Linear(n_hidden1 $\\times$ n_hidden2) $\\rightarrow$ ReLU $\\rightarrow$  Linear(n_hidden2 $\\times$ n_hidden3) $\\rightarrow$ Relu $\\rightarrow$ Linear(n_hidden3 $\\times$ n_hidden4)  $\\rightarrow$ Relu $\\rightarrow$ Linear(n_hidden4 $\\times$ classes)\n",
    "- Note: Make sure to set name for log file directories (eg: logs_task_3)\n",
    "\n"
   ]
  },
  {
   "cell_type": "code",
   "execution_count": 49,
   "metadata": {},
   "outputs": [
    {
     "name": "stderr",
     "output_type": "stream",
     "text": [
      "GPU available: False, used: False\n",
      "TPU available: False, using: 0 TPU cores\n",
      "HPU available: False, using: 0 HPUs\n"
     ]
    },
    {
     "name": "stderr",
     "output_type": "stream",
     "text": [
      "/nix/store/bxj3ic1m66k3p690vwgb0913l5l46bk9-python3-3.12.4-env/lib/python3.12/site-packages/lightning_fabric/loggers/csv_logs.py:269: Experiment logs directory logs/deep/version_0 exists and is not empty. Previous log files in this directory will be deleted when the new ones are saved!\n",
      "/nix/store/bxj3ic1m66k3p690vwgb0913l5l46bk9-python3-3.12.4-env/lib/python3.12/site-packages/pytorch_lightning/callbacks/model_checkpoint.py:652: Checkpoint directory /home/lucas/code/ece4179-neural-networks/labs/lab-3/logs/deep exists and is not empty.\n",
      "\n",
      "  | Name           | Type               | Params | Mode \n",
      "--------------------------------------------------------------\n",
      "0 | loss_fun       | CrossEntropyLoss   | 0      | train\n",
      "1 | linear1        | Linear             | 7.0 K  | train\n",
      "2 | linear2        | Linear             | 8.3 K  | train\n",
      "3 | linear3        | Linear             | 2.1 K  | train\n",
      "4 | linear4        | Linear             | 528    | train\n",
      "5 | linear5        | Linear             | 119    | train\n",
      "6 | train_accuracy | MulticlassAccuracy | 0      | train\n",
      "7 | val_accuracy   | MulticlassAccuracy | 0      | train\n",
      "8 | test_accuracy  | MulticlassAccuracy | 0      | train\n",
      "--------------------------------------------------------------\n",
      "18.0 K    Trainable params\n",
      "0         Non-trainable params\n",
      "18.0 K    Total params\n",
      "0.072     Total estimated model params size (MB)\n"
     ]
    },
    {
     "data": {
      "application/vnd.jupyter.widget-view+json": {
       "model_id": "bb817c8e023a4b4cb1734f2de4edf3f8",
       "version_major": 2,
       "version_minor": 0
      },
      "text/plain": [
       "Sanity Checking: |          | 0/? [00:00<?, ?it/s]"
      ]
     },
     "metadata": {},
     "output_type": "display_data"
    },
    {
     "name": "stderr",
     "output_type": "stream",
     "text": [
      "/nix/store/bxj3ic1m66k3p690vwgb0913l5l46bk9-python3-3.12.4-env/lib/python3.12/site-packages/pytorch_lightning/trainer/connectors/data_connector.py:424: The 'val_dataloader' does not have many workers which may be a bottleneck. Consider increasing the value of the `num_workers` argument` to `num_workers=15` in the `DataLoader` to improve performance.\n",
      "/nix/store/bxj3ic1m66k3p690vwgb0913l5l46bk9-python3-3.12.4-env/lib/python3.12/site-packages/pytorch_lightning/trainer/connectors/data_connector.py:424: The 'train_dataloader' does not have many workers which may be a bottleneck. Consider increasing the value of the `num_workers` argument` to `num_workers=15` in the `DataLoader` to improve performance.\n"
     ]
    },
    {
     "data": {
      "application/vnd.jupyter.widget-view+json": {
       "model_id": "fc11eb4b6da1456280ca0dfea2cc3ec3",
       "version_major": 2,
       "version_minor": 0
      },
      "text/plain": [
       "Training: |          | 0/? [00:00<?, ?it/s]"
      ]
     },
     "metadata": {},
     "output_type": "display_data"
    },
    {
     "data": {
      "application/vnd.jupyter.widget-view+json": {
       "model_id": "779dd349bab7493fb5b51189be861d45",
       "version_major": 2,
       "version_minor": 0
      },
      "text/plain": [
       "Validation: |          | 0/? [00:00<?, ?it/s]"
      ]
     },
     "metadata": {},
     "output_type": "display_data"
    },
    {
     "data": {
      "application/vnd.jupyter.widget-view+json": {
       "model_id": "25e55e65aede4962b9fd8d80f9802e74",
       "version_major": 2,
       "version_minor": 0
      },
      "text/plain": [
       "Validation: |          | 0/? [00:00<?, ?it/s]"
      ]
     },
     "metadata": {},
     "output_type": "display_data"
    },
    {
     "data": {
      "application/vnd.jupyter.widget-view+json": {
       "model_id": "78f10c7424224d3e96a2c3e4818adfa7",
       "version_major": 2,
       "version_minor": 0
      },
      "text/plain": [
       "Validation: |          | 0/? [00:00<?, ?it/s]"
      ]
     },
     "metadata": {},
     "output_type": "display_data"
    },
    {
     "data": {
      "application/vnd.jupyter.widget-view+json": {
       "model_id": "8ca94c49d6a342479f65e6eee1dd515c",
       "version_major": 2,
       "version_minor": 0
      },
      "text/plain": [
       "Validation: |          | 0/? [00:00<?, ?it/s]"
      ]
     },
     "metadata": {},
     "output_type": "display_data"
    },
    {
     "data": {
      "application/vnd.jupyter.widget-view+json": {
       "model_id": "f8ec7418c1734c2aad1e7afaec889d1e",
       "version_major": 2,
       "version_minor": 0
      },
      "text/plain": [
       "Validation: |          | 0/? [00:00<?, ?it/s]"
      ]
     },
     "metadata": {},
     "output_type": "display_data"
    },
    {
     "data": {
      "application/vnd.jupyter.widget-view+json": {
       "model_id": "7f69ba05626044bea291e7db3cb1341f",
       "version_major": 2,
       "version_minor": 0
      },
      "text/plain": [
       "Validation: |          | 0/? [00:00<?, ?it/s]"
      ]
     },
     "metadata": {},
     "output_type": "display_data"
    },
    {
     "data": {
      "application/vnd.jupyter.widget-view+json": {
       "model_id": "e046a256cdd74a499b11f053db634ada",
       "version_major": 2,
       "version_minor": 0
      },
      "text/plain": [
       "Validation: |          | 0/? [00:00<?, ?it/s]"
      ]
     },
     "metadata": {},
     "output_type": "display_data"
    },
    {
     "data": {
      "application/vnd.jupyter.widget-view+json": {
       "model_id": "cf4656ece156493f864d56cade87a8e4",
       "version_major": 2,
       "version_minor": 0
      },
      "text/plain": [
       "Validation: |          | 0/? [00:00<?, ?it/s]"
      ]
     },
     "metadata": {},
     "output_type": "display_data"
    },
    {
     "data": {
      "application/vnd.jupyter.widget-view+json": {
       "model_id": "3e3ec6537fa3403abb25c249a7646df7",
       "version_major": 2,
       "version_minor": 0
      },
      "text/plain": [
       "Validation: |          | 0/? [00:00<?, ?it/s]"
      ]
     },
     "metadata": {},
     "output_type": "display_data"
    },
    {
     "data": {
      "application/vnd.jupyter.widget-view+json": {
       "model_id": "cefb0953a4d44b579229d66e6a2a6210",
       "version_major": 2,
       "version_minor": 0
      },
      "text/plain": [
       "Validation: |          | 0/? [00:00<?, ?it/s]"
      ]
     },
     "metadata": {},
     "output_type": "display_data"
    },
    {
     "data": {
      "application/vnd.jupyter.widget-view+json": {
       "model_id": "b67dec1128d147ffb2e16c73f80e9be2",
       "version_major": 2,
       "version_minor": 0
      },
      "text/plain": [
       "Validation: |          | 0/? [00:00<?, ?it/s]"
      ]
     },
     "metadata": {},
     "output_type": "display_data"
    },
    {
     "data": {
      "application/vnd.jupyter.widget-view+json": {
       "model_id": "3343dcb860244e8fa310411ee036c663",
       "version_major": 2,
       "version_minor": 0
      },
      "text/plain": [
       "Validation: |          | 0/? [00:00<?, ?it/s]"
      ]
     },
     "metadata": {},
     "output_type": "display_data"
    },
    {
     "data": {
      "application/vnd.jupyter.widget-view+json": {
       "model_id": "339cb5bde68746bc8607aea489c0bab5",
       "version_major": 2,
       "version_minor": 0
      },
      "text/plain": [
       "Validation: |          | 0/? [00:00<?, ?it/s]"
      ]
     },
     "metadata": {},
     "output_type": "display_data"
    },
    {
     "data": {
      "application/vnd.jupyter.widget-view+json": {
       "model_id": "ba09b7e9eb7742c18067be9e82414346",
       "version_major": 2,
       "version_minor": 0
      },
      "text/plain": [
       "Validation: |          | 0/? [00:00<?, ?it/s]"
      ]
     },
     "metadata": {},
     "output_type": "display_data"
    },
    {
     "data": {
      "application/vnd.jupyter.widget-view+json": {
       "model_id": "f53ded503bb94e11aa1e9c1e0e043647",
       "version_major": 2,
       "version_minor": 0
      },
      "text/plain": [
       "Validation: |          | 0/? [00:00<?, ?it/s]"
      ]
     },
     "metadata": {},
     "output_type": "display_data"
    },
    {
     "data": {
      "application/vnd.jupyter.widget-view+json": {
       "model_id": "7caa5026a48f415690ad1b629dee759e",
       "version_major": 2,
       "version_minor": 0
      },
      "text/plain": [
       "Validation: |          | 0/? [00:00<?, ?it/s]"
      ]
     },
     "metadata": {},
     "output_type": "display_data"
    },
    {
     "data": {
      "application/vnd.jupyter.widget-view+json": {
       "model_id": "13eb4d4c1cdb41ffae477e6bdd29aa3d",
       "version_major": 2,
       "version_minor": 0
      },
      "text/plain": [
       "Validation: |          | 0/? [00:00<?, ?it/s]"
      ]
     },
     "metadata": {},
     "output_type": "display_data"
    },
    {
     "data": {
      "application/vnd.jupyter.widget-view+json": {
       "model_id": "fe89c375b11f4c4898b2469b86d9fd58",
       "version_major": 2,
       "version_minor": 0
      },
      "text/plain": [
       "Validation: |          | 0/? [00:00<?, ?it/s]"
      ]
     },
     "metadata": {},
     "output_type": "display_data"
    },
    {
     "data": {
      "application/vnd.jupyter.widget-view+json": {
       "model_id": "5a68682c4a8b409cb57a5ef24a748a09",
       "version_major": 2,
       "version_minor": 0
      },
      "text/plain": [
       "Validation: |          | 0/? [00:00<?, ?it/s]"
      ]
     },
     "metadata": {},
     "output_type": "display_data"
    },
    {
     "data": {
      "application/vnd.jupyter.widget-view+json": {
       "model_id": "ed2ba66af6b44cc293bb618604d8c353",
       "version_major": 2,
       "version_minor": 0
      },
      "text/plain": [
       "Validation: |          | 0/? [00:00<?, ?it/s]"
      ]
     },
     "metadata": {},
     "output_type": "display_data"
    },
    {
     "data": {
      "application/vnd.jupyter.widget-view+json": {
       "model_id": "9b1c7bd06e2645fb979beb79b7404ade",
       "version_major": 2,
       "version_minor": 0
      },
      "text/plain": [
       "Validation: |          | 0/? [00:00<?, ?it/s]"
      ]
     },
     "metadata": {},
     "output_type": "display_data"
    },
    {
     "data": {
      "application/vnd.jupyter.widget-view+json": {
       "model_id": "7eb771d1321f413ab0eb5ff5332709e4",
       "version_major": 2,
       "version_minor": 0
      },
      "text/plain": [
       "Validation: |          | 0/? [00:00<?, ?it/s]"
      ]
     },
     "metadata": {},
     "output_type": "display_data"
    },
    {
     "data": {
      "application/vnd.jupyter.widget-view+json": {
       "model_id": "88e4fb6393c74b8d85dbf519940ad8aa",
       "version_major": 2,
       "version_minor": 0
      },
      "text/plain": [
       "Validation: |          | 0/? [00:00<?, ?it/s]"
      ]
     },
     "metadata": {},
     "output_type": "display_data"
    },
    {
     "data": {
      "application/vnd.jupyter.widget-view+json": {
       "model_id": "e6917b78c739469a8f166531f7e3b162",
       "version_major": 2,
       "version_minor": 0
      },
      "text/plain": [
       "Validation: |          | 0/? [00:00<?, ?it/s]"
      ]
     },
     "metadata": {},
     "output_type": "display_data"
    },
    {
     "data": {
      "application/vnd.jupyter.widget-view+json": {
       "model_id": "8a4ddbf7434540c6a2780cb94ab4e91d",
       "version_major": 2,
       "version_minor": 0
      },
      "text/plain": [
       "Validation: |          | 0/? [00:00<?, ?it/s]"
      ]
     },
     "metadata": {},
     "output_type": "display_data"
    },
    {
     "data": {
      "application/vnd.jupyter.widget-view+json": {
       "model_id": "790bb0273e434e879eee0dd9b7fe2438",
       "version_major": 2,
       "version_minor": 0
      },
      "text/plain": [
       "Validation: |          | 0/? [00:00<?, ?it/s]"
      ]
     },
     "metadata": {},
     "output_type": "display_data"
    },
    {
     "data": {
      "application/vnd.jupyter.widget-view+json": {
       "model_id": "a699a8b8a7df44ee97749bff6d13781b",
       "version_major": 2,
       "version_minor": 0
      },
      "text/plain": [
       "Validation: |          | 0/? [00:00<?, ?it/s]"
      ]
     },
     "metadata": {},
     "output_type": "display_data"
    },
    {
     "data": {
      "application/vnd.jupyter.widget-view+json": {
       "model_id": "3ecf4b50c78e45578b9b6559afa2bcae",
       "version_major": 2,
       "version_minor": 0
      },
      "text/plain": [
       "Validation: |          | 0/? [00:00<?, ?it/s]"
      ]
     },
     "metadata": {},
     "output_type": "display_data"
    },
    {
     "data": {
      "application/vnd.jupyter.widget-view+json": {
       "model_id": "7c29dbd9937c4fc986b73218b5bd1b69",
       "version_major": 2,
       "version_minor": 0
      },
      "text/plain": [
       "Validation: |          | 0/? [00:00<?, ?it/s]"
      ]
     },
     "metadata": {},
     "output_type": "display_data"
    },
    {
     "data": {
      "application/vnd.jupyter.widget-view+json": {
       "model_id": "b6779e5a9f3f4902bfb0dd7278aa72e3",
       "version_major": 2,
       "version_minor": 0
      },
      "text/plain": [
       "Validation: |          | 0/? [00:00<?, ?it/s]"
      ]
     },
     "metadata": {},
     "output_type": "display_data"
    },
    {
     "name": "stderr",
     "output_type": "stream",
     "text": [
      "`Trainer.fit` stopped: `max_epochs=30` reached.\n",
      "Restoring states from the checkpoint path at /home/lucas/code/ece4179-neural-networks/labs/lab-3/logs/deep/epoch=29-step=40860-v3.ckpt\n",
      "Loaded model weights from the checkpoint at /home/lucas/code/ece4179-neural-networks/labs/lab-3/logs/deep/epoch=29-step=40860-v3.ckpt\n",
      "/nix/store/bxj3ic1m66k3p690vwgb0913l5l46bk9-python3-3.12.4-env/lib/python3.12/site-packages/pytorch_lightning/trainer/connectors/data_connector.py:424: The 'test_dataloader' does not have many workers which may be a bottleneck. Consider increasing the value of the `num_workers` argument` to `num_workers=15` in the `DataLoader` to improve performance.\n"
     ]
    },
    {
     "data": {
      "application/vnd.jupyter.widget-view+json": {
       "model_id": "82720ba558a442efbe94eceb0b1652f8",
       "version_major": 2,
       "version_minor": 0
      },
      "text/plain": [
       "Testing: |          | 0/? [00:00<?, ?it/s]"
      ]
     },
     "metadata": {},
     "output_type": "display_data"
    },
    {
     "name": "stdout",
     "output_type": "stream",
     "text": [
      "────────────────────────────────────────────────────────────────────────────────────────────────────────────────────────\n",
      "       Test metric             DataLoader 0\n",
      "────────────────────────────────────────────────────────────────────────────────────────────────────────────────────────\n",
      "        test_acc            0.42737558484077454\n",
      "        test_loss            0.658962607383728\n",
      "────────────────────────────────────────────────────────────────────────────────────────────────────────────────────────\n"
     ]
    },
    {
     "data": {
      "text/plain": [
       "[{'test_loss': 0.658962607383728, 'test_acc': 0.42737558484077454}]"
      ]
     },
     "execution_count": 49,
     "metadata": {},
     "output_type": "execute_result"
    }
   ],
   "source": [
    "# define the epochs and learning rate\n",
    "max_epochs = 30\n",
    "lr = 1.5e-3\n",
    "\n",
    "# define the input features and output classes\n",
    "input_features = X.shape[1]\n",
    "classes = len(unique_labels)\n",
    "\n",
    "# Initialize Deep MLP model\n",
    "hidden_layers = [128, 64, 32, 16]\n",
    "model_deep_a = Deep_MLP(input_features, classes, hidden_layers, lr)\n",
    "\n",
    "# Define checkpoint callback function to save best model\n",
    "checkpoint_callback_3 = ModelCheckpoint(\n",
    "    monitor=\"val_acc\",  # the value to watch out on checking the model performance\n",
    "    dirpath=\"logs/deep\",  # path to save the checkpoint\n",
    "    save_top_k=1,  # save the best model\n",
    "    mode=\"max\",\n",
    "    every_n_epochs=1,\n",
    ")\n",
    "\n",
    "# Train and Test Model\n",
    "trainer_3 = Trainer(\n",
    "    accelerator=\"auto\",\n",
    "    devices=1 if not torch.cuda.is_available() else torch.cuda.device_count(),\n",
    "    max_epochs=max_epochs,\n",
    "    callbacks=[TQDMProgressBar(refresh_rate=20), checkpoint_callback_3],\n",
    "    logger=CSVLogger(\"logs\", name=\"deep\", version=0),\n",
    ")\n",
    "\n",
    "# Start the training loop\n",
    "trainer_3.fit(model_deep_a, train_loader, val_loader)\n",
    "\n",
    "# Report the test performance\n",
    "trainer_3.test(\n",
    "    model_deep_a,\n",
    "    test_loader,\n",
    "    ckpt_path=\"best\",\n",
    ")"
   ]
  },
  {
   "cell_type": "markdown",
   "metadata": {},
   "source": [
    "You should expect an output like :\n",
    "[{'test_loss': 0.7383896708488464, 'test_acc': 0.7318916320800781}]"
   ]
  },
  {
   "cell_type": "markdown",
   "metadata": {},
   "source": [
    "<div class=\"alert alert-block alert-info\">\n",
    "\n",
    "## 3.3 Visualise the results for the network. <a class=\"anchor\" id=\"3_3\"></a>"
   ]
  },
  {
   "cell_type": "markdown",
   "metadata": {},
   "source": [
    "#### (a) Plot the training loss and validation loss on the same figure. Make sure you have the axes and title properly labelled."
   ]
  },
  {
   "cell_type": "code",
   "execution_count": 50,
   "metadata": {},
   "outputs": [],
   "source": [
    "# read logs for 3\n",
    "metrics_task_3 = pd.read_csv(\"logs/deep/version_0/metrics.csv\")\n",
    "metrics_task_3.set_index(\"epoch\", inplace=True)\n",
    "metrics_task_3 = metrics_task_3.groupby(level=0).sum().drop(\"step\", axis=1)"
   ]
  },
  {
   "cell_type": "code",
   "execution_count": 51,
   "metadata": {},
   "outputs": [
    {
     "data": {
      "image/png": "[encoded data removed]",
      "text/plain": [
       "<Figure size 1000x500 with 1 Axes>"
      ]
     },
     "metadata": {},
     "output_type": "display_data"
    }
   ],
   "source": [
    "# Plot using matplotlib\n",
    "plt.figure(figsize=(10, 5))\n",
    "\n",
    "plt.plot(metrics_task_3[\"train_loss\"][:-1])\n",
    "plt.plot(metrics_task_3[\"val_loss\"][:-1])\n",
    "plt.title(\"Training Loss Deep MLP\")\n",
    "plt.xlabel(\"Epoch\")\n",
    "plt.ylabel(\"Loss\")\n",
    "plt.legend([\"Train\", \"Validation\"])\n",
    "plt.show()"
   ]
  },
  {
   "cell_type": "markdown",
   "metadata": {},
   "source": [
    "#### (b) Plot the training accuracy and validation accuracy on the same figure. Make sure you have the axes and title properly labelled."
   ]
  },
  {
   "cell_type": "code",
   "execution_count": 52,
   "metadata": {},
   "outputs": [
    {
     "data": {
      "image/png": "[encoded data removed]",
      "text/plain": [
       "<Figure size 1000x500 with 1 Axes>"
      ]
     },
     "metadata": {},
     "output_type": "display_data"
    }
   ],
   "source": [
    "# Plot using matplotlib\n",
    "plt.figure(figsize=(10, 5))\n",
    "\n",
    "plt.plot(metrics_task_3[\"train_acc\"][:-1])\n",
    "plt.plot(metrics_task_3[\"val_acc\"][:-1])\n",
    "plt.title(\"Training Accuracy Deep MLP\")\n",
    "plt.xlabel(\"Epoch\")\n",
    "plt.ylabel(\"Accuracy\")\n",
    "plt.legend([\"Train\", \"Validation\"])\n",
    "plt.show()"
   ]
  },
  {
   "cell_type": "markdown",
   "metadata": {},
   "source": [
    "<div class=\"alert alert-block alert-success\">\n",
    "\n",
    "### Discussion:\n",
    "\n",
    "**Question: Did you observe a strange behaviour for the deep MLPs? If yes, what is that? Discuss what might be the source of that.**\n",
    "\n",
    "Answer:\n",
    "\n",
    "**Question: How does the deep MLP compare with the shallow MLP for this case?**\n",
    "\n",
    "Answer:\n",
    "\n",
    "**Question: Compare the Deep MLP performance trained in Task 3 with the Shallow MLPs trained in Task 2. How can we improve Deep MLP performance more? Try other network setups for number of hidden nodes or other settings in the Deep MLP and Explain why or why not the performance changed after your modifications?**\n",
    "\n",
    "Answer:\n"
   ]
  },
  {
   "cell_type": "markdown",
   "metadata": {},
   "source": [
    "<div class=\"alert alert-block alert-warning\">\n",
    "    \n",
    "# <center> Well done! This is the end of Lab 3\n",
    "    \n",
    "</div>"
   ]
  },
  {
   "cell_type": "markdown",
   "metadata": {},
   "source": []
  }
 ],
 "metadata": {
  "kernelspec": {
   "display_name": "Python 3 (ipykernel)",
   "language": "python",
   "name": "python3"
  },
  "language_info": {
   "codemirror_mode": {
    "name": "ipython",
    "version": 3
   },
   "file_extension": ".py",
   "mimetype": "text/x-python",
   "name": "python",
   "nbconvert_exporter": "python",
   "pygments_lexer": "ipython3",
   "version": "3.12.4"
  }
 },
 "nbformat": 4,
 "nbformat_minor": 4
}
