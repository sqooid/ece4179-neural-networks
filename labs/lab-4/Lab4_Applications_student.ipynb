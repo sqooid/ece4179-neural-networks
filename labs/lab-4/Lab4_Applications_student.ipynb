{
 "cells": [
  {
   "cell_type": "markdown",
   "metadata": {},
   "source": [
    "<font size=\"1\"> *This notebook is best viewed in jupyter lab/notebook. You may also choose to use Google Colab but some parts of the images/colouring will not be rendered properly.</font> "
   ]
  },
  {
   "cell_type": "markdown",
   "metadata": {},
   "source": [
    "<div class=\"alert alert-block alert-warning\">\n",
    "\n",
    "# <p style=\"text-align: center;\">Lab 4 (Weeks 8,9): Convolutional Neural Networks (CNNs)</p>\n",
    "## <p style=\"text-align: center;\">Notebook II: Applications</p>\n",
    "\n",
    "<img src=\"https://miro.medium.com/v2/resize:fit:592/1*V6Y8FF2qfw_ztNbs1AHXNg.png\" width=\"800\" height=\"400\" />\n",
    "\n",
    "<!-- ![linear-vs-logistic-regression--medium](https://miro.medium.com/max/1400/1*dm6ZaX5fuSmuVvM4Ds-vcg.jpeg) -->\n",
    "\n",
    "Welcome to the fourth and <b>final</b> lab! As usual, this lab will span over two weeks.\n",
    "            \n",
    "In this Lab, you will find four tasks distributed across two Jupyter Notebooks: *Lab4_Basics_student.ipynb* and *Lab4_Applications_student.ipynb*. The first two tasks guide you to train a basic CNN using pytorch lightning. In the last task, you will apply the knowledge you gained to solve a practical problem.\n",
    "    \n",
    "- <b>Task 1:</b> Design a CNN and train to classify STL-10 images\n",
    "- <b>Task 2:</b> Analyse the results on the STL-10 test images\n",
    "- <b>Task 3:</b> Design and train a CNN by yourself on the FER-4 dataset and analyse results\n",
    "      \n",
    "Each task will contain code to complete, and a worded question, so ensure you complete both before submitting. Feel free to add your own additional comments.\n",
    "    \n",
    "After completion, You need to submit both Jupyter Notebooks (.ipynb files) to Moodle. Make sure all the outputs are visible before submitting.\n",
    "    \n",
    "Good luck with the final Lab! Submit it before the <b>deadline</b> to enjoy full marks.\n",
    "\n",
    "__Submission details:__\n",
    "- __Make sure you have run all your cells from top to bottom (you can click _Kernel_ and _Restart Kernel and Run All Cells_).__ </br>\n",
    "- __Submit the Jupyter Notebooks (Lab4_Basics.ipynb_) and (Lab4_Applications.ipynb_).__\n",
    "- __Outputs must be visible upon submission. We will also be re-running your code__"
   ]
  },
  {
   "cell_type": "markdown",
   "metadata": {},
   "source": [
    "<b>Enter you student details below</b>\n",
    "\n",
    "- <b>Student Name:</b> Firstname Lastname\n",
    "- <b>Student ID:</b> 123456789   "
   ]
  },
  {
   "cell_type": "markdown",
   "metadata": {},
   "source": [
    "<div class=\"alert alert-block alert-danger\">\n",
    "\n",
    "## Table of Contents\n",
    "    \n",
    "* [Libraries](#Libraries)\n",
    "\n",
    "* [Task 3: Design and train a CNN by yourself on the FER-4 dataset and Analyse Results](#task_3)\n",
    "\n",
    "* [Discussion Questions](#t3_1)"
   ]
  },
  {
   "cell_type": "markdown",
   "metadata": {},
   "source": [
    "<div class=\"alert alert-block alert-warning\">\n",
    "\n",
    "# Libraries\n",
    "\n",
    "In this lab, you will use several pytorch and pytorch lightning libraries along with several other basic python libraries. All the libraries that you need are given below."
   ]
  },
  {
   "cell_type": "code",
   "execution_count": 1,
   "metadata": {
    "scrolled": true
   },
   "outputs": [
    {
     "name": "stderr",
     "output_type": "stream",
     "text": [
      "Seed set to 4179\n"
     ]
    }
   ],
   "source": [
    "import os\n",
    "import random\n",
    "from pathlib import Path\n",
    "import numpy as np\n",
    "import matplotlib.pyplot as plt\n",
    "import pandas as pd\n",
    "import matplotlib.image as mpimg\n",
    "\n",
    "import torch\n",
    "import torch.nn as nn\n",
    "from torch.utils.data import DataLoader, random_split\n",
    "from torch.nn.functional import log_softmax, softmax\n",
    "import torchvision\n",
    "import torchvision.transforms.functional as F\n",
    "from torchvision import transforms\n",
    "import torchmetrics\n",
    "from torchsummary import summary\n",
    "\n",
    "from IPython.display import display\n",
    "\n",
    "import lightning as pl  ## Pytorch lightning is a wrapper for pytorch that makes it easier to train models\n",
    "from lightning.pytorch.loggers import CSVLogger, TensorBoardLogger\n",
    "from lightning.pytorch.callbacks import Callback, ModelCheckpoint, EarlyStopping\n",
    "from lightning.pytorch.callbacks.progress.tqdm_progress import TQDMProgressBar\n",
    "from lightning.pytorch.callbacks.progress.rich_progress import (\n",
    "    RichProgressBarTheme,\n",
    "    RichProgressBar,\n",
    ")\n",
    "\n",
    "# Setting seeds for reproducibility\n",
    "pl.seed_everything(4179)\n",
    "random.seed(4179)\n",
    "np.random.seed(4179)\n",
    "\n",
    "import os\n",
    "\n",
    "os.environ[\"KMP_DUPLICATE_LIB_OK\"] = \"True\""
   ]
  },
  {
   "cell_type": "markdown",
   "metadata": {},
   "source": [
    "<div class=\"alert alert-block alert-warning\">\n",
    "\n",
    "# Facial Expression Recognition (FER) Dataset <a class=\"anchor\" id=\"python-basics\"></a>\n",
    "    \n",
    "For all the work in this notebook, you will be using the FER dataset.\n",
    "    \n",
    "<img src=\"https://production-media.paperswithcode.com/datasets/FER2013-0000001434-01251bb8_415HDzL.jpg\" width=\"500\" />\n",
    "    \n",
    "The FER dataset contains diverse grayscale images of 7 facial emotions classes: anger, disgust, fear, happiness, sadness, surprise, and neutrality. Each image is of size 48x48 pixels, enabling efficient processing. For simplicity, in this task you will be using a subset of the full dataset which only contains the four classes (0)happy, (1)neural, (2)sad, and (3)surprise. We will call this the **FER-4 dataset**."
   ]
  },
  {
   "cell_type": "markdown",
   "metadata": {},
   "source": [
    "<div class=\"alert alert-block alert-info\">\n",
    "\n",
    "# Task 3 - Design and train a CNN on the FER-4 dataset and Analyse Results <a class=\"anchor\" id=\"task_3\"></a>\n",
    "        \n",
    "In this task, we do not enforce any model architecture or hyper-parameters (only some recommendations). You will design a CNN for image classification task and train it on the FER-4 dataset. You will use PyTorch's inbuilt datasets class, and Pytorch Lightning's module class to construct a CNN in order to perform training on the FER-4 dataset. You should use the knowledge obtained from Task 1 to complete this task. \n",
    "\n",
    "Note that you may want to use *transforms.Grayscale(num_output_channels = 1)* to convert the .jpg images to grayscale tensors. You will also analyse the results on the test dataset using the knowledge obtained from Task 2.\n",
    "    \n",
    "**Final deliverables of this task will be the following:**\n",
    "1. Accuracy of more than 65% on the test dataset.\n",
    "2. Reasonably converging train/val loss/accuracy curves.\n",
    "3. Confusion Matrix\n",
    "4. Visualization of top 5 misclassified images for each of the four classes.\n",
    "5. Visualization of the saliency map of a correctly predicted 'happy' image.\n",
    "6. Use an image of yourself! Capture your image from the webcam/phone and test your model.\n",
    "\n",
    "We have provided headings for where things should go, but feel free to add more to meet all the final deliverables!"
   ]
  },
  {
   "cell_type": "markdown",
   "metadata": {},
   "source": [
    "### Let's take a quick look at the dataset"
   ]
  },
  {
   "cell_type": "code",
   "execution_count": 2,
   "metadata": {},
   "outputs": [
    {
     "name": "stdout",
     "output_type": "stream",
     "text": [
      "class names: ['sad', 'neutral', 'surprise', 'happy']\n",
      "number of classes: 4\n"
     ]
    }
   ],
   "source": [
    "########################################################################\n",
    "# DO NOT CHANGE\n",
    "\n",
    "# Get a list of class names from the 'data/fer4/train' directory\n",
    "class_names = os.listdir(\"data/fer4/train\")\n",
    "\n",
    "# Print the list of class names\n",
    "print(f\"class names: {class_names}\")\n",
    "\n",
    "# Calculate the number of classes by counting the elements in the 'class_names' list\n",
    "num_classes = len(class_names)\n",
    "\n",
    "# Print the number of classes\n",
    "print(f\"number of classes: {num_classes}\")\n",
    "########################################################################"
   ]
  },
  {
   "cell_type": "markdown",
   "metadata": {},
   "source": [
    "### Define Transformations"
   ]
  },
  {
   "cell_type": "code",
   "execution_count": 3,
   "metadata": {},
   "outputs": [],
   "source": [
    "train_transforms = transforms.Compose(\n",
    "    [\n",
    "        transforms.ToTensor(),  # Convert the data to tensor\n",
    "        transforms.Grayscale(\n",
    "            num_output_channels=1\n",
    "        ),  # Transform it to a single channel grayscale image\n",
    "        transforms.Resize(48),  # Resize the image to 48x 48\n",
    "        transforms.Normalize(\n",
    "            0.5, 0.5\n",
    "        ),  # Normalize pixel values to have a mean and standard deviation of 0.5\n",
    "    ]\n",
    ")\n",
    "\n",
    "\n",
    "val_test_transforms = transforms.Compose(\n",
    "    [\n",
    "        transforms.ToTensor(),  # Convert the data to tensor\n",
    "        transforms.Grayscale(\n",
    "            num_output_channels=1\n",
    "        ),  # Transform it to a single channel grayscale image\n",
    "        transforms.Resize(48),  # Resize the image to 48x 48\n",
    "        transforms.Normalize(\n",
    "            0.5, 0.5\n",
    "        ),  # Normalize pixel values to have a mean and standard deviation of 0.5\n",
    "    ]\n",
    ")\n",
    "########################################################################"
   ]
  },
  {
   "cell_type": "markdown",
   "metadata": {},
   "source": [
    "### Create Datasets\n",
    "\n",
    "For this dataset, we use a different way to create the dataset. Since we already have the images ready in the folder, we will just create them using the ```torchvision.dataset.ImageFolder``` method."
   ]
  },
  {
   "cell_type": "code",
   "execution_count": 4,
   "metadata": {},
   "outputs": [
    {
     "name": "stdout",
     "output_type": "stream",
     "text": [
      "Image count for each set\n",
      "------------------------\n",
      "trainset\t: 14127\n",
      "valset  \t: 6054\n",
      "testset \t: 5085\n"
     ]
    }
   ],
   "source": [
    "########################################################################\n",
    "# DO NOT CHANGE\n",
    "trainset = torchvision.datasets.ImageFolder(\n",
    "    root=\"data/fer4/train\", transform=train_transforms\n",
    ")\n",
    "trainset, valset = torch.utils.data.random_split(trainset, [0.7, 0.3])  # type: ignore\n",
    "testset = torchvision.datasets.ImageFolder(\n",
    "    root=\"data/fer4/test\", transform=val_test_transforms\n",
    ")\n",
    "\n",
    "print(\"Image count for each set\\n------------------------\")\n",
    "print(f\"trainset\\t: {len(trainset)}\")\n",
    "print(f\"valset  \\t: {len(valset)}\")\n",
    "print(f\"testset \\t: {len(testset)}\")\n",
    "########################################################################"
   ]
  },
  {
   "cell_type": "markdown",
   "metadata": {},
   "source": [
    "### Create Dataloaders"
   ]
  },
  {
   "cell_type": "code",
   "execution_count": 5,
   "metadata": {},
   "outputs": [
    {
     "name": "stdout",
     "output_type": "stream",
     "text": [
      "Batch shape for each loader\n",
      "---------------------------\n",
      "trainloader\t: torch.Size([128, 1, 48, 48])\n",
      "valloader  \t: torch.Size([128, 1, 48, 48])\n",
      "testloader \t: torch.Size([128, 1, 48, 48])\n"
     ]
    }
   ],
   "source": [
    "BATCH_SIZE = 128\n",
    "\n",
    "trainloader = DataLoader(trainset, batch_size=BATCH_SIZE, shuffle=True)\n",
    "valloader = DataLoader(valset, batch_size=BATCH_SIZE)\n",
    "testloader = DataLoader(testset, batch_size=BATCH_SIZE)\n",
    "class_names = testset.classes\n",
    "\n",
    "print(\"Batch shape for each loader\\n---------------------------\")\n",
    "images, labels = next(iter(trainloader))\n",
    "print(f\"trainloader\\t: {images.shape}\")\n",
    "images, labels = next(iter(valloader))\n",
    "print(f\"valloader  \\t: {images.shape}\")\n",
    "images, labels = next(iter(testloader))\n",
    "print(f\"testloader \\t: {images.shape}\")"
   ]
  },
  {
   "cell_type": "markdown",
   "metadata": {},
   "source": [
    "### Visualize the dataset\n",
    "\n",
    "Make sure you always get a feel for the dataset before you start applying models to it!"
   ]
  },
  {
   "cell_type": "code",
   "execution_count": 6,
   "metadata": {},
   "outputs": [
    {
     "name": "stdout",
     "output_type": "stream",
     "text": [
      "train set\n"
     ]
    },
    {
     "data": {
      "image/png": "[encoded data removed]",
      "text/plain": [
       "<Figure size 2000x2000 with 5 Axes>"
      ]
     },
     "metadata": {},
     "output_type": "display_data"
    },
    {
     "name": "stdout",
     "output_type": "stream",
     "text": [
      "val set\n"
     ]
    },
    {
     "data": {
      "image/png": "[encoded data removed]",
      "text/plain": [
       "<Figure size 2000x2000 with 5 Axes>"
      ]
     },
     "metadata": {},
     "output_type": "display_data"
    },
    {
     "name": "stdout",
     "output_type": "stream",
     "text": [
      "test set\n"
     ]
    },
    {
     "data": {
      "image/png": "[encoded data removed]",
      "text/plain": [
       "<Figure size 2000x2000 with 5 Axes>"
      ]
     },
     "metadata": {},
     "output_type": "display_data"
    }
   ],
   "source": [
    "# Write a function to visualize images from a given data loader\n",
    "# Note: Use titles to denote class label in words.\n",
    "def visualize_dataloader(dataloader, class_names):\n",
    "    fig, axes = plt.subplots(1, 5, figsize=(20, 20))\n",
    "    images, labels = next(iter(dataloader))\n",
    "    for i in range(5):\n",
    "        axes[i].imshow(images[i].permute(1, 2, 0).squeeze(), cmap=\"gray\")\n",
    "        axes[i].set_title(class_names[labels[i].item()])\n",
    "        axes[i].axis(\"off\")\n",
    "    plt.show()\n",
    "\n",
    "\n",
    "# visualize images from the trainloader\n",
    "print(\"train set\")\n",
    "visualize_dataloader(trainloader, class_names)\n",
    "\n",
    "# visualize images from the valloader\n",
    "print(\"val set\")\n",
    "visualize_dataloader(valloader, class_names)\n",
    "\n",
    "# visualize images from the valloader\n",
    "print(\"test set\")\n",
    "visualize_dataloader(testloader, class_names)"
   ]
  },
  {
   "cell_type": "markdown",
   "metadata": {},
   "source": [
    "<div class=\"alert alert-block alert-info\">\n",
    "\n",
    "### Design your own CNN\n",
    "\n",
    "Here are some guidelines in the CNN you can construct (you may stray away from this if you find other architectures are better):\n",
    "- 4 convolutional layers\n",
    "- Some (or all) of the convolutional layers can have pooling layers (this reduces size of feature maps well!)\n",
    "- Test several activation functions (ReLU, sigmoid, tanh etc.) \n",
    "- Test different optimizers (SGD usually uses lr=0.1, ADAM usually uses lr=0.001, these are only guidelines and you can tweak the learning rates based on the datasets)"
   ]
  },
  {
   "cell_type": "code",
   "execution_count": 24,
   "metadata": {},
   "outputs": [],
   "source": [
    "from typing import Literal\n",
    "import typing\n",
    "\n",
    "import torchmetrics.classification\n",
    "\n",
    "Optimizers = Literal[\"sgd\", \"adam\"]\n",
    "Activations = Literal[\"sigmoid\", \"leaky_relu\", \"relu\", \"tanh\"]\n",
    "\n",
    "optimizers = typing.get_args(Optimizers)\n",
    "activations = typing.get_args(Activations)\n",
    "\n",
    "\n",
    "class MyCNN(pl.LightningModule):\n",
    "    def __init__(\n",
    "        self,\n",
    "        num_classes: int,\n",
    "        lr: float,\n",
    "        optimizer: Optimizers,\n",
    "        activation: Activations,\n",
    "    ):\n",
    "        super().__init__()\n",
    "        self.save_hyperparameters()\n",
    "        if activation == \"relu\":\n",
    "            self.activation = nn.ReLU()\n",
    "        elif activation == \"leaky_relu\":\n",
    "            self.activation = nn.LeakyReLU()\n",
    "        elif activation == \"sigmoid\":\n",
    "            self.activation = nn.Sigmoid()\n",
    "        elif activation == \"tanh\":\n",
    "            self.activation = nn.Tanh()\n",
    "\n",
    "        self.conv1 = nn.Conv2d(1, 16, 3, 1, 1)  # 32x48x48, 32x24x24\n",
    "        self.conv2 = nn.Conv2d(16, 32, 3, 1, 1)  # 64x24x24, 64x12x12\n",
    "        self.conv3 = nn.Conv2d(32, 64, 3, 1, 1)  # 128x12x12, 128x6x6\n",
    "        self.conv4 = nn.Conv2d(64, 128, 3, 1, 1)  # 256x6x6, 256x3x3\n",
    "\n",
    "        self.pool = nn.MaxPool2d(2, 2)\n",
    "\n",
    "        self.fc1 = nn.Linear(128 * 3 * 3, 64)\n",
    "        self.fc2 = nn.Linear(64, num_classes)\n",
    "\n",
    "        self.loss_fn = nn.CrossEntropyLoss()\n",
    "\n",
    "        self.train_acc = torchmetrics.classification.MulticlassAccuracy(\n",
    "            num_classes=num_classes\n",
    "        )\n",
    "        self.val_acc = torchmetrics.classification.MulticlassAccuracy(\n",
    "            num_classes=num_classes\n",
    "        )\n",
    "        self.test_acc = torchmetrics.classification.MulticlassAccuracy(\n",
    "            num_classes=num_classes, average=\"micro\"\n",
    "        )\n",
    "\n",
    "    def on_train_start(self):\n",
    "        for l in self.loggers:\n",
    "            if isinstance(l, TensorBoardLogger):\n",
    "                l.log_hyperparams(\n",
    "                    self.hparams_initial,\n",
    "                    {\"hp/val_acc\": 0, \"hp/test_acc\": 0, \"hp/train_acc\": 0},\n",
    "                )\n",
    "\n",
    "    def forward(self, x):\n",
    "        x = self.activation(self.conv1(x))\n",
    "        x = self.pool(x)\n",
    "        x = self.activation(self.conv2(x))\n",
    "        x = self.pool(x)\n",
    "        x = self.activation(self.conv3(x))\n",
    "        x = self.pool(x)\n",
    "        x = self.activation(self.conv4(x))\n",
    "        x = self.pool(x)\n",
    "        x = x.view(x.size(0), -1)\n",
    "        x = self.activation(self.fc1(x))\n",
    "        x = self.fc2(x)\n",
    "        return x\n",
    "\n",
    "    def common_step(self, batch):\n",
    "        x, y = batch\n",
    "        logits = self(x)\n",
    "        loss = self.loss_fn(logits, y)\n",
    "        return loss, logits\n",
    "\n",
    "    def training_step(self, batch, batch_idx):\n",
    "        # Define logic for training step\n",
    "        loss, logits = self.common_step(batch)\n",
    "        acc = self.train_acc(logits, batch[1])\n",
    "        log_dict = {\n",
    "            \"train_loss\": loss,\n",
    "            \"train_acc\": acc,\n",
    "            \"step\": self.current_epoch,\n",
    "        }\n",
    "        self.log_dict(log_dict, on_step=False, on_epoch=True, prog_bar=True)\n",
    "        self.log(\"hp/train_acc\", acc, on_step=False, on_epoch=True)\n",
    "        return loss\n",
    "\n",
    "    def validation_step(self, batch, batch_idx):\n",
    "        # Define logic for validation step\n",
    "        loss, logits = self.common_step(batch)\n",
    "        acc = self.val_acc(logits, batch[1])\n",
    "        log_dict = {\n",
    "            \"val_loss\": loss,\n",
    "            \"val_acc\": acc,\n",
    "            \"step\": self.current_epoch,\n",
    "        }\n",
    "        self.log_dict(log_dict, on_step=False, on_epoch=True, prog_bar=True)\n",
    "        self.log(\"hp/val_acc\", acc, on_step=False, on_epoch=True)\n",
    "        return loss\n",
    "\n",
    "    def test_step(self, batch, batch_idx):\n",
    "        # Define logic for test step\n",
    "        loss, logits = self.common_step(batch)\n",
    "        acc = self.test_acc(logits, batch[1])\n",
    "        log_dict = {\n",
    "            \"test_loss\": loss,\n",
    "            \"test_acc\": acc,\n",
    "            \"step\": self.current_epoch,\n",
    "        }\n",
    "        self.log_dict(log_dict, on_step=False, on_epoch=True, prog_bar=True)\n",
    "        self.log(\"hp/test_acc\", acc, on_step=False, on_epoch=True)\n",
    "        return loss\n",
    "\n",
    "    def predict_step(self, batch, batch_idx):\n",
    "        # Define logic for inference/prediction step\n",
    "        x, y = batch\n",
    "        logits = self(x)\n",
    "        return logits, y, x\n",
    "\n",
    "    def configure_optimizers(self):\n",
    "        # Configure optimizers and schedulers\n",
    "        if self.hparams_initial.optimizer == \"adam\":\n",
    "            return torch.optim.Adam(self.parameters(), lr=self.hparams_initial.lr)\n",
    "        elif self.hparams_initial.optimizer == \"sgd\":\n",
    "            return torch.optim.SGD(self.parameters(), lr=self.hparams_initial.lr)\n",
    "\n",
    "    ####################\n",
    "    # DATA RELATED HOOKS\n",
    "    ####################\n",
    "\n",
    "    def train_dataloader(self):\n",
    "        return trainloader\n",
    "\n",
    "    def val_dataloader(self):\n",
    "        return valloader\n",
    "\n",
    "    def test_dataloader(self):\n",
    "        return testloader"
   ]
  },
  {
   "cell_type": "markdown",
   "metadata": {},
   "source": [
    "### Coarse hyperparameter sweep"
   ]
  },
  {
   "cell_type": "code",
   "execution_count": null,
   "metadata": {
    "scrolled": false
   },
   "outputs": [],
   "source": [
    "lrs = {\"adam\": [0.001, 0.005, 0.01, 0.05], \"sgd\": [0.05, 0.1, 0.5, 1]}\n",
    "max_epochs = 10\n",
    "\n",
    "\n",
    "class LitProgressBar(TQDMProgressBar):\n",
    "    def init_validation_tqdm(self):\n",
    "        bar = super().init_validation_tqdm()\n",
    "        bar.disable = True\n",
    "        return bar\n",
    "\n",
    "\n",
    "for activation in activations:\n",
    "    for optimizer in optimizers:\n",
    "        for lr in lrs[optimizer]:\n",
    "            task3_model = MyCNN(\n",
    "                num_classes=num_classes,\n",
    "                lr=lr,\n",
    "                optimizer=optimizer,\n",
    "                activation=activation,\n",
    "            )\n",
    "            summary(task3_model, (1, 48, 48))  # delete .to('cuda') if not using cpu\n",
    "            checkpoint_callback = ModelCheckpoint(\n",
    "                dirpath=\"logs/task3/checkpoints\",\n",
    "                enable_version_counter=False,\n",
    "                filename=f\"{activation}_{optimizer}_{lr}-best\",\n",
    "                monitor=\"val_acc\",\n",
    "                save_top_k=1,  # save the best model based on validation accuracy\n",
    "                mode=\"max\",\n",
    "                every_n_epochs=1,\n",
    "            )\n",
    "            trainer = pl.Trainer(\n",
    "                max_epochs=max_epochs,\n",
    "                callbacks=[checkpoint_callback],\n",
    "                logger=[\n",
    "                    CSVLogger(\n",
    "                        \"logs/task3/csv\",\n",
    "                        name=f\"{activation}_{optimizer}_{lr}\",\n",
    "                        version=0,\n",
    "                    ),\n",
    "                    TensorBoardLogger(\n",
    "                        \"logs/task3/tensorboard\",\n",
    "                        name=f\"{activation}_{optimizer}_{lr}\",\n",
    "                        version=0,\n",
    "                    ),\n",
    "                ],\n",
    "            )\n",
    "            trainer.fit(task3_model)"
   ]
  },
  {
   "cell_type": "markdown",
   "metadata": {},
   "source": [
    "# Model design\n",
    "\n",
    "## Initial parameter sweep\n",
    "\n",
    "An initial coarse hyperparameter sweep was performed to find what combinations to fine-tune.\n",
    "The parameter matrix tested was as follows:\n",
    "- optimizers: adam, sgd\n",
    "- activation functions: relu, leaky relu, sigmoid, tanh\n",
    "- learning rates:\n",
    "  - adam: 0.001, 0.005, 0.01, 0.05\n",
    "  - sgd: 0.05, 0.1 , 0.5, 1\n",
    "\n",
    "This inital sweep was done for 10 epochs.\n",
    "\n",
    "### Results\n",
    "\n",
    "Some hyperparameter combinations completely failed to train - all sigmoid sgd models, and higher learning rate sigmoid adam models and tanh adam and sgd models. These immediately converged on the average output, resulting in the accuracy being stuck at 25% (the model would output the same class for every input).\n",
    "\n",
    "Other combinations were much more promising:\n",
    "\n",
    "![](images/coarse-val-acc-table.png)\n",
    "\n",
    "Looking at the results in Tensorboard, we see that using a relu/leaky relu activation function with the adam optimizer and a low learning rate seems to perform the best.\n",
    "\n",
    "Specifically, the parameters:\n",
    "- optimizer: adam\n",
    "- activation: relu\n",
    "- learning rate: 0.001\n",
    "\n",
    "appeared to perform the best.\n",
    "\n",
    "![](images/coarse-val-acc-graph.png)\n",
    "![](images/coarse-val-loss-graph.png)\n",
    "\n",
    "From the graphs of the validation loss and accuracy for those hyperparameters, there is still more performance that can be gained simply by training for more epochs.\n",
    "Therefore the next step will be performing a finer sweep on the following hyperparameters:\n",
    "- optimizer: adam\n",
    "- activation: relu, leaky relu\n",
    "- learning rates: 0.0001, 0.005, 0.001\n",
    "\n",
    "Only lower learning rates will be tested as the previous sweep already showed that higher learning rates  performed worse."
   ]
  },
  {
   "cell_type": "markdown",
   "metadata": {},
   "source": [
    "### Fine sweep"
   ]
  },
  {
   "cell_type": "code",
   "execution_count": null,
   "metadata": {},
   "outputs": [],
   "source": [
    "from lightning.pytorch.callbacks.early_stopping import EarlyStopping  # type: ignore\n",
    "\n",
    "optimizer = \"adam\"\n",
    "activations: list[Activations] = [\"relu\", \"leaky_relu\"]\n",
    "lrs = [0.001, 0.0011, 0.009]\n",
    "max_epochs = 40\n",
    "\n",
    "for activation in activations:\n",
    "    for lr in lrs:\n",
    "        task3_model = MyCNN(\n",
    "            num_classes=num_classes,\n",
    "            lr=lr,\n",
    "            optimizer=optimizer,\n",
    "            activation=activation,\n",
    "        )\n",
    "        summary(task3_model, (1, 48, 48))\n",
    "        checkpoint_callback = ModelCheckpoint(\n",
    "            dirpath=\"logs/task3/fine/checkpoints\",\n",
    "            enable_version_counter=False,\n",
    "            filename=f\"{activation}_{optimizer}_{lr}-best\",\n",
    "            monitor=\"val_acc\",\n",
    "            save_top_k=1,  # save the best model based on validation accuracy\n",
    "            mode=\"max\",\n",
    "            every_n_epochs=1,\n",
    "        )\n",
    "        trainer = pl.Trainer(\n",
    "            max_epochs=max_epochs,\n",
    "            callbacks=[\n",
    "                checkpoint_callback,\n",
    "                EarlyStopping(\n",
    "                    monitor=\"val_acc\", patience=5, min_delta=0.005, mode=\"max\"\n",
    "                ),\n",
    "            ],\n",
    "            logger=[\n",
    "                CSVLogger(\n",
    "                    \"logs/task3/fine/csv\",\n",
    "                    name=f\"{activation}_{optimizer}_{lr}\",\n",
    "                    version=0,\n",
    "                ),\n",
    "                TensorBoardLogger(\n",
    "                    \"logs/task3/fine/tensorboard\",\n",
    "                    name=f\"{activation}_{optimizer}_{lr}\",\n",
    "                    version=0,\n",
    "                ),\n",
    "            ],\n",
    "        )\n",
    "        trainer.fit(task3_model)"
   ]
  },
  {
   "cell_type": "markdown",
   "metadata": {},
   "source": [
    "## Fine parameter sweep\n",
    "\n",
    "![](images/fine-val-acc.png)\n",
    "\n",
    "With a more fine-grained sweep of learning rates on adam, relu and leaky relu, the optimal hyperparameters were the following:\n",
    "- optimizer: adam\n",
    "- activation: leaky relu\n",
    "- learning rate: 0.0011"
   ]
  },
  {
   "cell_type": "markdown",
   "metadata": {},
   "source": [
    "### Define progress bar and checkpoint callback functions "
   ]
  },
  {
   "cell_type": "markdown",
   "metadata": {},
   "source": [
    "### Train the CNN"
   ]
  },
  {
   "cell_type": "code",
   "execution_count": null,
   "metadata": {},
   "outputs": [],
   "source": [
    "%tensorboard --logdir logs"
   ]
  },
  {
   "cell_type": "code",
   "execution_count": 18,
   "metadata": {},
   "outputs": [
    {
     "name": "stderr",
     "output_type": "stream",
     "text": [
      "GPU available: False, used: False\n",
      "TPU available: False, using: 0 TPU cores\n"
     ]
    },
    {
     "name": "stderr",
     "output_type": "stream",
     "text": [
      "HPU available: False, using: 0 HPUs\n",
      "\n",
      "   | Name       | Type               | Params | Mode \n",
      "-----------------------------------------------------------\n",
      "0  | activation | LeakyReLU          | 0      | train\n",
      "1  | conv1      | Conv2d             | 160    | train\n",
      "2  | conv2      | Conv2d             | 4.6 K  | train\n",
      "3  | conv3      | Conv2d             | 18.5 K | train\n",
      "4  | conv4      | Conv2d             | 73.9 K | train\n",
      "5  | pool       | MaxPool2d          | 0      | train\n",
      "6  | fc1        | Linear             | 73.8 K | train\n",
      "7  | fc2        | Linear             | 260    | train\n",
      "8  | loss_fn    | CrossEntropyLoss   | 0      | train\n",
      "9  | train_acc  | MulticlassAccuracy | 0      | train\n",
      "10 | val_acc    | MulticlassAccuracy | 0      | train\n",
      "11 | test_acc   | MulticlassAccuracy | 0      | train\n",
      "-----------------------------------------------------------\n",
      "171 K     Trainable params\n",
      "0         Non-trainable params\n",
      "171 K     Total params\n",
      "0.685     Total estimated model params size (MB)\n",
      "12        Modules in train mode\n",
      "0         Modules in eval mode\n"
     ]
    },
    {
     "data": {
      "application/vnd.jupyter.widget-view+json": {
       "model_id": "2aeed3f96a8d4184a82bce517831c0eb",
       "version_major": 2,
       "version_minor": 0
      },
      "text/plain": [
       "Sanity Checking: |          | 0/? [00:00<?, ?it/s]"
      ]
     },
     "metadata": {},
     "output_type": "display_data"
    },
    {
     "data": {
      "application/vnd.jupyter.widget-view+json": {
       "model_id": "cc974d0f58cd4188b32c4f5aa7daaa9b",
       "version_major": 2,
       "version_minor": 0
      },
      "text/plain": [
       "Training: |          | 0/? [00:00<?, ?it/s]"
      ]
     },
     "metadata": {},
     "output_type": "display_data"
    },
    {
     "data": {
      "application/vnd.jupyter.widget-view+json": {
       "model_id": "ee123698d187457e8337d32a761b0760",
       "version_major": 2,
       "version_minor": 0
      },
      "text/plain": [
       "Validation: |          | 0/? [00:00<?, ?it/s]"
      ]
     },
     "metadata": {},
     "output_type": "display_data"
    },
    {
     "data": {
      "application/vnd.jupyter.widget-view+json": {
       "model_id": "dbec2851da3b4e9b84818b0ed1e36e36",
       "version_major": 2,
       "version_minor": 0
      },
      "text/plain": [
       "Validation: |          | 0/? [00:00<?, ?it/s]"
      ]
     },
     "metadata": {},
     "output_type": "display_data"
    },
    {
     "data": {
      "application/vnd.jupyter.widget-view+json": {
       "model_id": "6cc6587a84b24e80abd68179f1cb3d88",
       "version_major": 2,
       "version_minor": 0
      },
      "text/plain": [
       "Validation: |          | 0/? [00:00<?, ?it/s]"
      ]
     },
     "metadata": {},
     "output_type": "display_data"
    },
    {
     "data": {
      "application/vnd.jupyter.widget-view+json": {
       "model_id": "dadecef505a140c38fc3f72f01e8e2f5",
       "version_major": 2,
       "version_minor": 0
      },
      "text/plain": [
       "Validation: |          | 0/? [00:00<?, ?it/s]"
      ]
     },
     "metadata": {},
     "output_type": "display_data"
    },
    {
     "data": {
      "application/vnd.jupyter.widget-view+json": {
       "model_id": "22dddd094db84c0c93f0ebe9fc8480d6",
       "version_major": 2,
       "version_minor": 0
      },
      "text/plain": [
       "Validation: |          | 0/? [00:00<?, ?it/s]"
      ]
     },
     "metadata": {},
     "output_type": "display_data"
    },
    {
     "data": {
      "application/vnd.jupyter.widget-view+json": {
       "model_id": "1758afbf640b494b9c7dac1f8c21db1c",
       "version_major": 2,
       "version_minor": 0
      },
      "text/plain": [
       "Validation: |          | 0/? [00:00<?, ?it/s]"
      ]
     },
     "metadata": {},
     "output_type": "display_data"
    },
    {
     "data": {
      "application/vnd.jupyter.widget-view+json": {
       "model_id": "8f7afce6ecdb440cac17c6fb19d7192f",
       "version_major": 2,
       "version_minor": 0
      },
      "text/plain": [
       "Validation: |          | 0/? [00:00<?, ?it/s]"
      ]
     },
     "metadata": {},
     "output_type": "display_data"
    },
    {
     "data": {
      "application/vnd.jupyter.widget-view+json": {
       "model_id": "485525064bb2486f8c5bcc8bddb415f6",
       "version_major": 2,
       "version_minor": 0
      },
      "text/plain": [
       "Validation: |          | 0/? [00:00<?, ?it/s]"
      ]
     },
     "metadata": {},
     "output_type": "display_data"
    },
    {
     "data": {
      "application/vnd.jupyter.widget-view+json": {
       "model_id": "5f9a799fc7954498b609a325b7deea8f",
       "version_major": 2,
       "version_minor": 0
      },
      "text/plain": [
       "Validation: |          | 0/? [00:00<?, ?it/s]"
      ]
     },
     "metadata": {},
     "output_type": "display_data"
    },
    {
     "data": {
      "application/vnd.jupyter.widget-view+json": {
       "model_id": "361da80d4b274f1fbba4c384a7a4f685",
       "version_major": 2,
       "version_minor": 0
      },
      "text/plain": [
       "Validation: |          | 0/? [00:00<?, ?it/s]"
      ]
     },
     "metadata": {},
     "output_type": "display_data"
    },
    {
     "data": {
      "application/vnd.jupyter.widget-view+json": {
       "model_id": "1cc82ea79a4d47518aaadd65df84f917",
       "version_major": 2,
       "version_minor": 0
      },
      "text/plain": [
       "Validation: |          | 0/? [00:00<?, ?it/s]"
      ]
     },
     "metadata": {},
     "output_type": "display_data"
    },
    {
     "data": {
      "application/vnd.jupyter.widget-view+json": {
       "model_id": "2354f682661b4013bda240d241d4053c",
       "version_major": 2,
       "version_minor": 0
      },
      "text/plain": [
       "Validation: |          | 0/? [00:00<?, ?it/s]"
      ]
     },
     "metadata": {},
     "output_type": "display_data"
    },
    {
     "data": {
      "application/vnd.jupyter.widget-view+json": {
       "model_id": "574305245fc6493b94f07130a4957a5f",
       "version_major": 2,
       "version_minor": 0
      },
      "text/plain": [
       "Validation: |          | 0/? [00:00<?, ?it/s]"
      ]
     },
     "metadata": {},
     "output_type": "display_data"
    },
    {
     "data": {
      "application/vnd.jupyter.widget-view+json": {
       "model_id": "02c068f693cc46a492f6ced1a8259dc5",
       "version_major": 2,
       "version_minor": 0
      },
      "text/plain": [
       "Validation: |          | 0/? [00:00<?, ?it/s]"
      ]
     },
     "metadata": {},
     "output_type": "display_data"
    }
   ],
   "source": [
    "trainer = pl.Trainer(\n",
    "    max_epochs=20,\n",
    "    callbacks=[\n",
    "        EarlyStopping(monitor=\"val_acc\", patience=5, min_delta=0.005, mode=\"max\"),\n",
    "    ],\n",
    "    logger=[\n",
    "        CSVLogger(\n",
    "            \"logs/task3/fine/csv\",\n",
    "            name=f\"leaky_relu_adam_0.0011\",\n",
    "            version=0,\n",
    "        ),\n",
    "    ],\n",
    ")\n",
    "model = MyCNN(\n",
    "    num_classes=num_classes, lr=0.0011, optimizer=\"adam\", activation=\"leaky_relu\"\n",
    ")\n",
    "trainer.fit(model)"
   ]
  },
  {
   "cell_type": "markdown",
   "metadata": {},
   "source": [
    "### Test the CNN\n",
    "\n",
    "For a propoer trained network, you may achieve an accuracy for at least 65%"
   ]
  },
  {
   "cell_type": "code",
   "execution_count": 25,
   "metadata": {},
   "outputs": [
    {
     "name": "stderr",
     "output_type": "stream",
     "text": [
      "GPU available: False, used: False\n",
      "TPU available: False, using: 0 TPU cores\n",
      "HPU available: False, using: 0 HPUs\n",
      "/nix/store/ps8bfxcyy0r4j1c6ynjvr6zn0q03kj3r-python3-3.12.4-env/lib/python3.12/site-packages/lightning/pytorch/trainer/connectors/data_connector.py:424: The 'test_dataloader' does not have many workers which may be a bottleneck. Consider increasing the value of the `num_workers` argument` to `num_workers=15` in the `DataLoader` to improve performance.\n"
     ]
    },
    {
     "data": {
      "application/vnd.jupyter.widget-view+json": {
       "model_id": "c23e789c6aea4e0e930f92dee6dc7cb3",
       "version_major": 2,
       "version_minor": 0
      },
      "text/plain": [
       "Testing: |          | 0/? [00:00<?, ?it/s]"
      ]
     },
     "metadata": {},
     "output_type": "display_data"
    },
    {
     "name": "stdout",
     "output_type": "stream",
     "text": [
      "────────────────────────────────────────────────────────────────────────────────────────────────────────────────────────\n",
      "       Test metric             DataLoader 0\n",
      "────────────────────────────────────────────────────────────────────────────────────────────────────────────────────────\n",
      "       hp/test_acc          0.6863323450088501\n",
      "          step                      0.0\n",
      "        test_acc            0.6863323450088501\n",
      "        test_loss            0.913185715675354\n",
      "────────────────────────────────────────────────────────────────────────────────────────────────────────────────────────\n"
     ]
    },
    {
     "data": {
      "text/plain": [
       "[{'test_loss': 0.913185715675354,\n",
       "  'test_acc': 0.6863323450088501,\n",
       "  'step': 0.0,\n",
       "  'hp/test_acc': 0.6863323450088501}]"
      ]
     },
     "execution_count": 25,
     "metadata": {},
     "output_type": "execute_result"
    }
   ],
   "source": [
    "task3_model = MyCNN.load_from_checkpoint(\n",
    "    \"logs/task3/fine/checkpoints/leaky_relu_adam_0.0011-best.ckpt\"\n",
    ")\n",
    "task3_trainer = pl.Trainer()\n",
    "task3_trainer.test(task3_model, dataloaders=testloader)"
   ]
  },
  {
   "cell_type": "markdown",
   "metadata": {},
   "source": [
    "### Read logs"
   ]
  },
  {
   "cell_type": "code",
   "execution_count": 20,
   "metadata": {},
   "outputs": [
    {
     "name": "stdout",
     "output_type": "stream",
     "text": [
      "      hp/train_acc  hp/val_acc  train_acc  train_loss   val_acc  val_loss\n",
      "step                                                                     \n",
      "0.0       0.328333    0.470847   0.328333    1.279019  0.470847  1.134483\n",
      "1.0       0.535684    0.573708   0.535684    1.031358  0.573708  0.984211\n",
      "2.0       0.599689    0.593679   0.599689    0.905533  0.593679  0.912975\n",
      "3.0       0.638910    0.602716   0.638910    0.825999  0.602716  0.880218\n",
      "4.0       0.673338    0.649215   0.673338    0.750387  0.649215  0.806111\n",
      "5.0       0.702870    0.663288   0.702870    0.697637  0.663288  0.800893\n",
      "6.0       0.739524    0.667577   0.739524    0.636474  0.667577  0.790864\n",
      "7.0       0.761718    0.676600   0.761718    0.574381  0.676600  0.784794\n",
      "8.0       0.790572    0.682053   0.790572    0.520782  0.682053  0.779360\n",
      "9.0       0.809143    0.676160   0.809143    0.470713  0.676160  0.844350\n",
      "10.0      0.843481    0.669111   0.843481    0.396353  0.669111  0.892638\n",
      "11.0      0.872082    0.674549   0.872082    0.331000  0.674549  1.011617\n",
      "12.0      0.894461    0.655577   0.894461    0.277968  0.655577  1.011472\n",
      "13.0      0.913779    0.665742   0.913779    0.217997  0.665742  1.136652\n"
     ]
    }
   ],
   "source": [
    "metrics_task_3 = pd.read_csv(\n",
    "    \"logs/task3/fine/csv/leaky_relu_adam_0.0011/version_0/metrics.csv\"\n",
    ")\n",
    "metrics_task_3.set_index(\"step\", inplace=True)\n",
    "metrics_task_3 = metrics_task_3.groupby(level=0).sum()\n",
    "\n",
    "print(metrics_task_3)"
   ]
  },
  {
   "cell_type": "markdown",
   "metadata": {},
   "source": [
    "### Plot train and validation losses against epoch"
   ]
  },
  {
   "cell_type": "code",
   "execution_count": 21,
   "metadata": {},
   "outputs": [
    {
     "data": {
      "image/png": "[encoded data removed]",
      "text/plain": [
       "<Figure size 1000x500 with 1 Axes>"
      ]
     },
     "metadata": {},
     "output_type": "display_data"
    }
   ],
   "source": [
    "plt.figure(figsize=(10, 5))\n",
    "plt.plot(metrics_task_3[\"train_loss\"], label=\"train loss\")\n",
    "plt.plot(metrics_task_3[\"val_loss\"], label=\"val loss\")\n",
    "plt.xlabel(\"epoch\")\n",
    "plt.ylabel(\"loss\")\n",
    "plt.legend([\"train loss\", \"val loss\"])\n",
    "plt.title(\"Loss vs Epoch\")\n",
    "plt.show()"
   ]
  },
  {
   "cell_type": "markdown",
   "metadata": {},
   "source": [
    "### Plot train and validation accuracies against epoch"
   ]
  },
  {
   "cell_type": "code",
   "execution_count": 22,
   "metadata": {},
   "outputs": [
    {
     "data": {
      "image/png": "[encoded data removed]",
      "text/plain": [
       "<Figure size 1000x500 with 1 Axes>"
      ]
     },
     "metadata": {},
     "output_type": "display_data"
    }
   ],
   "source": [
    "plt.figure(figsize=(10, 5))\n",
    "plt.plot(metrics_task_3[\"train_acc\"], label=\"train acc\")\n",
    "plt.plot(metrics_task_3[\"val_acc\"], label=\"val acc\")\n",
    "plt.xlabel(\"epoch\")\n",
    "plt.ylabel(\"accuracy\")\n",
    "plt.legend([\"train acc\", \"val acc\"])\n",
    "plt.title(\"Accuracy vs Epoch\")\n",
    "plt.show()"
   ]
  },
  {
   "cell_type": "markdown",
   "metadata": {},
   "source": [
    "### Get predictions for the test set for later use "
   ]
  },
  {
   "cell_type": "code",
   "execution_count": 27,
   "metadata": {},
   "outputs": [
    {
     "name": "stderr",
     "output_type": "stream",
     "text": [
      "/nix/store/ps8bfxcyy0r4j1c6ynjvr6zn0q03kj3r-python3-3.12.4-env/lib/python3.12/site-packages/lightning/pytorch/trainer/connectors/data_connector.py:424: The 'predict_dataloader' does not have many workers which may be a bottleneck. Consider increasing the value of the `num_workers` argument` to `num_workers=15` in the `DataLoader` to improve performance.\n"
     ]
    },
    {
     "data": {
      "application/vnd.jupyter.widget-view+json": {
       "model_id": "6ae696cc16f047b6a52ec6ad40a16782",
       "version_major": 2,
       "version_minor": 0
      },
      "text/plain": [
       "Predicting: |          | 0/? [00:00<?, ?it/s]"
      ]
     },
     "metadata": {},
     "output_type": "display_data"
    },
    {
     "name": "stdout",
     "output_type": "stream",
     "text": [
      "tensor([ 9.5333e+00, -5.8275e-01, -8.4305e+00, -9.6695e-01,  5.3918e+00,\n",
      "        -8.0729e-01, -2.0587e+00, -2.7890e+00,  4.1803e+00,  7.5663e-01,\n",
      "        -3.5566e+00, -1.9298e+00,  6.4948e+00, -1.4106e+00, -2.4379e+00,\n",
      "        -2.7353e+00,  2.4952e+00, -2.9570e+00, -3.8710e-02, -9.4013e-01,\n",
      "         1.0762e+01, -1.6257e+00, -7.5490e+00, -1.3809e+00,  3.5334e+00,\n",
      "        -1.6975e+00, -1.3566e+00, -8.6850e-01, -1.0161e+00,  7.8148e-01,\n",
      "         2.2391e+00, -4.0166e+00,  6.9885e+00, -1.7151e+00, -5.6443e+00,\n",
      "        -8.7137e-01,  2.1060e+00,  6.9201e-01,  1.0538e-02, -4.2786e+00,\n",
      "         3.9562e+00, -3.0174e-03,  1.8966e-01, -5.1942e+00,  6.6280e+00,\n",
      "        -3.7268e+00, -1.2953e+00, -2.3824e+00,  5.7432e+00, -2.0841e+00,\n",
      "        -5.6319e+00,  1.0121e+00, -3.2535e-01,  1.5978e+00, -5.6554e-01,\n",
      "        -2.3734e+00, -3.4274e+00,  1.6513e+00, -3.3871e-01, -3.5082e-01,\n",
      "         3.0473e+00, -8.9947e-01, -1.2097e+00, -1.6975e+00, -2.6277e+00,\n",
      "         2.2690e+00,  3.7622e+00, -6.2128e+00,  4.9993e+00,  7.1851e-01,\n",
      "        -2.7456e+00, -3.7164e+00, -2.5086e+00,  2.2638e+00, -7.1819e-01,\n",
      "        -8.2192e-01, -4.1265e+00,  1.5991e+00,  3.6675e+00, -3.9352e+00,\n",
      "        -2.0814e+00,  3.3225e+00,  8.1212e-01, -4.2389e+00, -4.0221e+00,\n",
      "         2.6626e+00,  1.5374e+00, -3.0327e+00,  6.0901e-01,  2.2241e+00,\n",
      "        -1.3400e+00, -2.8563e+00, -6.6659e-01, -8.8670e-02,  3.0840e+00,\n",
      "        -4.0315e+00, -1.2882e+00,  1.8257e-01, -6.5572e-01, -1.4640e-01,\n",
      "        -1.1502e+00, -8.6362e-01,  4.9587e+00, -4.9549e+00, -3.3926e-01,\n",
      "        -6.2945e-01,  6.8229e-01, -1.0083e+00, -5.3568e+00,  6.6395e-01,\n",
      "         2.2053e+00, -7.9308e-01, -3.5940e+00,  1.1021e+00,  3.0375e+00,\n",
      "        -3.2890e+00,  1.1420e+00, -1.1694e+00, -2.0192e+00,  1.1791e+00,\n",
      "         1.0820e+00, -1.7295e+00,  1.5657e+00, -2.2818e+00, -5.8970e+00,\n",
      "         1.4907e+00,  4.5141e+00, -3.6968e+00, -5.0064e+00,  3.5509e+00,\n",
      "         3.4728e+00, -5.0655e+00, -2.6875e+00,  2.4656e+00,  2.7795e+00,\n",
      "        -5.0506e+00, -3.7565e+00, -1.8866e+00, -5.4760e+00,  6.5817e+00,\n",
      "        -2.8154e+00,  4.8524e-01,  1.0533e+00, -1.3017e+00, -4.9278e-01,\n",
      "        -4.5716e+00, -3.1821e+00,  5.0470e+00, -3.4034e+00, -4.5001e+00,\n",
      "        -5.1416e+00,  7.7166e+00, -6.1694e-02, -4.6451e+00, -7.6428e+00,\n",
      "         7.9504e+00, -9.0479e-02, -4.0740e-01, -3.9196e-03, -3.0407e-01])\n"
     ]
    },
    {
     "ename": "IndexError",
     "evalue": "Dimension out of range (expected to be in range of [-1, 0], but got 1)",
     "output_type": "error",
     "traceback": [
      "\u001b[0;31m---------------------------------------------------------------------------\u001b[0m",
      "\u001b[0;31mIndexError\u001b[0m                                Traceback (most recent call last)",
      "Cell \u001b[0;32mIn[27], line 9\u001b[0m\n\u001b[1;32m      7\u001b[0m test_inputs \u001b[38;5;241m=\u001b[39m torch\u001b[38;5;241m.\u001b[39mconcat([prediction[\u001b[38;5;241m2\u001b[39m] \u001b[38;5;28;01mfor\u001b[39;00m prediction \u001b[38;5;129;01min\u001b[39;00m predictions], dim\u001b[38;5;241m=\u001b[39m\u001b[38;5;241m0\u001b[39m) \u001b[38;5;66;03m# type: ignore\u001b[39;00m\n\u001b[1;32m      8\u001b[0m \u001b[38;5;28mprint\u001b[39m(test_outputs)\n\u001b[0;32m----> 9\u001b[0m test_preds \u001b[38;5;241m=\u001b[39m \u001b[43mtest_outputs\u001b[49m\u001b[38;5;241;43m.\u001b[39;49m\u001b[43margmax\u001b[49m\u001b[43m(\u001b[49m\u001b[43mdim\u001b[49m\u001b[38;5;241;43m=\u001b[39;49m\u001b[38;5;241;43m1\u001b[39;49m\u001b[43m)\u001b[49m\n",
      "\u001b[0;31mIndexError\u001b[0m: Dimension out of range (expected to be in range of [-1, 0], but got 1)"
     ]
    }
   ],
   "source": [
    "## These are the predictions for the test set. You will use this for the tasks below during the analysis process.\n",
    "\n",
    "predictions = task3_trainer.predict(\n",
    "    task3_model, testloader\n",
    ")  # do not do anything to the variable 'predictions' you will reuse it\n",
    "\n",
    "test_outputs = torch.concat([prediction[0] for prediction in predictions], dim=0)  # type: ignore\n",
    "test_labels = torch.concat([prediction[1] for prediction in predictions], dim=0)  # type: ignore\n",
    "test_inputs = torch.concat([prediction[2] for prediction in predictions], dim=0)  # type: ignore\n",
    "print(test_outputs)\n",
    "test_preds = test_outputs.argmax(dim=1)"
   ]
  },
  {
   "cell_type": "markdown",
   "metadata": {},
   "source": [
    "### Confusion Matrix\n",
    "\n",
    "Ensure you use **proportion** instead of absolute value. Create the confusion matrix for the four classes."
   ]
  },
  {
   "cell_type": "code",
   "execution_count": null,
   "metadata": {},
   "outputs": [],
   "source": [
    "# Plot the confusion matrix\n",
    "# You can create a ConfusionMatrix instance for multiclass classification with 'num_classes' from the lightning library\n",
    "\n",
    "???"
   ]
  },
  {
   "cell_type": "markdown",
   "metadata": {},
   "source": [
    "### Top Misclassified\n",
    "\n",
    "You will only plot the top misclassified classes here. Please plot 5 images of each class (so 20 images in total). This will be similar to the basics notebook."
   ]
  },
  {
   "cell_type": "code",
   "execution_count": null,
   "metadata": {
    "scrolled": false
   },
   "outputs": [],
   "source": [
    "???"
   ]
  },
  {
   "cell_type": "markdown",
   "metadata": {},
   "source": [
    "### Saliency Map\n",
    "\n",
    "Plot a saliency map corresponding to a happy face that was classified correctly"
   ]
  },
  {
   "cell_type": "code",
   "execution_count": null,
   "metadata": {},
   "outputs": [],
   "source": [
    "???"
   ]
  },
  {
   "cell_type": "markdown",
   "metadata": {},
   "source": [
    "### My own image\n",
    "\n",
    "Use an image of yourself being happy - hopefully you are proud of your results! Make sure you output the predicted result"
   ]
  },
  {
   "cell_type": "code",
   "execution_count": null,
   "metadata": {},
   "outputs": [],
   "source": [
    "# Read in your image here (we used mpimg.imread and you just need to pass in the path to your image)\n",
    "# Feel free to use any other image reading functions instead\n",
    "img = mpimg.imread(???)[:,:,0:3]  # get rid of the 4th axis if exists\n",
    "plt.imshow(img)\n",
    "plt.axis('off')\n",
    "plt.show()"
   ]
  },
  {
   "cell_type": "code",
   "execution_count": null,
   "metadata": {},
   "outputs": [],
   "source": [
    "# Pass your image through the network\n",
    "# Remember to apply the val_test_transforms for your image before doing a forward pass of your model\n",
    "\n",
    "???"
   ]
  },
  {
   "cell_type": "markdown",
   "metadata": {},
   "source": [
    "<div class=\"alert alert-block alert-success\">\n",
    "\n",
    "## Discussion Questions <a class=\"anchor\" id=\"t3_1\"></a>\n",
    "    \n",
    "#### Comment on the resulting confusion matrix.\n",
    "    \n",
    "Answer: \n",
    "\n",
    "#### What was the strange thing that you observed in the actual labels when visualizing the misclassified images?\n",
    "    \n",
    "Answer: \n",
    "    \n",
    "#### Comment on the saliency map of the 'happy' image.\n",
    "    \n",
    "Answer: \n",
    "    \n",
    "#### Comment on the prediction results of your own data.\n",
    "    \n",
    "Answer:"
   ]
  },
  {
   "cell_type": "markdown",
   "metadata": {},
   "source": [
    "<div class=\"alert alert-block alert-danger\">\n",
    "\n",
    "#### This is the end of Notebook II. Hurrah! You have now completed all the Labs for this unit! It's time to reward yourself with an assignment!!!"
   ]
  }
 ],
 "metadata": {
  "kernelspec": {
   "display_name": "Python 3 (ipykernel)",
   "language": "python",
   "name": "python3"
  },
  "language_info": {
   "codemirror_mode": {
    "name": "ipython",
    "version": 3
   },
   "file_extension": ".py",
   "mimetype": "text/x-python",
   "name": "python",
   "nbconvert_exporter": "python",
   "pygments_lexer": "ipython3",
   "version": "3.12.4"
  },
  "vscode": {
   "interpreter": {
    "hash": "dcb4be09c6369887b255ec43f7f14d3e527fd1b58c5c0441738eb1ab0a956e78"
   }
  }
 },
 "nbformat": 4,
 "nbformat_minor": 4
}
