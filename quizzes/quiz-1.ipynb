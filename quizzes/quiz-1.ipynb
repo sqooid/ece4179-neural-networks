{
 "cells": [
  {
   "cell_type": "code",
   "execution_count": 1,
   "metadata": {},
   "outputs": [],
   "source": [
    "import numpy as np"
   ]
  },
  {
   "cell_type": "code",
   "execution_count": 2,
   "metadata": {},
   "outputs": [],
   "source": [
    "def sigmoid(z):\n",
    "    return 1 / (1 + np.exp(-z))\n",
    "\n",
    "\n",
    "def relu(x):\n",
    "    return np.where(x > 0, x, 0)"
   ]
  },
  {
   "cell_type": "code",
   "execution_count": 8,
   "metadata": {},
   "outputs": [
    {
     "name": "stdout",
     "output_type": "stream",
     "text": [
      "[[0.46903966]]\n"
     ]
    }
   ],
   "source": [
    "x = np.array([[-0.9, 0.4]]).T\n",
    "w1 = np.array([[0.1, -0.8], [-0.4, -0.5], [0.1, 0.8]])\n",
    "w2 = np.array([[0.1, -0.2, -0.4]])\n",
    "\n",
    "l1 = relu(w1 @ x)\n",
    "y_hat = sigmoid(w2 @ l1)\n",
    "print(y_hat)"
   ]
  },
  {
   "cell_type": "code",
   "execution_count": 14,
   "metadata": {},
   "outputs": [
    {
     "name": "stdout",
     "output_type": "stream",
     "text": [
      "1\n"
     ]
    }
   ],
   "source": [
    "rates = np.array([[0.1, 10, 0.01, 1]])\n",
    "w = np.array([[2.5]])\n",
    "\n",
    "\n",
    "def q2_loss(w):\n",
    "    return np.sin(w) + np.cos(3 * w)\n",
    "\n",
    "\n",
    "def q2_grad(w):\n",
    "    return np.cos(w) - 3 * np.sin(3 * w)\n",
    "\n",
    "\n",
    "grad = q2_grad(w)\n",
    "w_new = w - grad * rates\n",
    "new_loss = q2_loss(w_new)\n",
    "print(np.abs(new_loss).argmin())"
   ]
  },
  {
   "cell_type": "code",
   "execution_count": 14,
   "metadata": {},
   "outputs": [
    {
     "name": "stdout",
     "output_type": "stream",
     "text": [
      "[[ 0  0  7 14]]\n"
     ]
    }
   ],
   "source": [
    "dl_dyhat = np.array([[0, 7]]).T\n",
    "\n",
    "x = np.array([[1, 2]]).T\n",
    "w = np.array([[2, -5], [2, 3]])\n",
    "z = w @ x\n",
    "y_hat = relu(z)\n",
    "\n",
    "\n",
    "dyhat_dz = np.where(y_hat > 0, 1, 0)\n",
    "\n",
    "dz_dw = np.array([[x[0, 0], x[1, 0], 0, 0], [0, 0, x[0, 0], x[1, 0]]])\n",
    "\n",
    "dl_dw = (dl_dyhat * dyhat_dz).T @ dz_dw\n",
    "print(dl_dw)"
   ]
  },
  {
   "cell_type": "code",
   "execution_count": 34,
   "metadata": {},
   "outputs": [
    {
     "name": "stdout",
     "output_type": "stream",
     "text": [
      "[[ 0.01185187]\n",
      " [-0.47407494]]\n",
      "[[-0.50118519]\n",
      " [-0.45259251]]\n"
     ]
    }
   ],
   "source": [
    "w = np.array([[-0.5, -0.5]]).T\n",
    "\n",
    "\n",
    "def forward(x):\n",
    "    return x @ w\n",
    "\n",
    "\n",
    "x = np.array([[-9.1, -2.7, 3.3, 8.4], [1, 1, 1, 1]]).T\n",
    "y = np.array([[0.0, 2.3, 9.7, 15.6]]).T\n",
    "\n",
    "\n",
    "def loss_fn(y, y_hat):\n",
    "    return np.log(np.cosh(y_hat - y)).mean()\n",
    "\n",
    "\n",
    "def loss_deriv(y, y_hat):\n",
    "    return np.tanh(y_hat - y).mean()\n",
    "\n",
    "\n",
    "y_hat = forward(x)\n",
    "dl_dyhat = loss_deriv(y, y_hat)\n",
    "dyhat_dw = x\n",
    "\n",
    "dl_dw = (dl_dyhat * dyhat_dw).mean(0).reshape(-1, 1)\n",
    "print(dl_dw)\n",
    "\n",
    "w_new = w - 0.1 * dl_dw\n",
    "print(w_new)"
   ]
  },
  {
   "cell_type": "code",
   "execution_count": 35,
   "metadata": {},
   "outputs": [],
   "source": [
    "import torch"
   ]
  },
  {
   "cell_type": "code",
   "execution_count": 41,
   "metadata": {},
   "outputs": [
    {
     "name": "stdout",
     "output_type": "stream",
     "text": [
      "tensor([8.9917e-03, 9.8862e-01, 4.9604e-05, 1.3449e-03, 9.9631e-04])\n",
      "tensor(-3.7000)\n"
     ]
    }
   ],
   "source": [
    "logits = torch.tensor([3.7, 8.4, -1.5, 1.8, 1.5])\n",
    "loss = torch.nn.NLLLoss()\n",
    "softmax = torch.nn.Softmax()\n",
    "s = softmax(logits)\n",
    "\n",
    "print(s)\n",
    "print(loss(logits, torch.tensor([0.0, 0.0, 0.0, 1.0, 0.0]).type(torch.long)))"
   ]
  },
  {
   "cell_type": "code",
   "execution_count": 45,
   "metadata": {},
   "outputs": [
    {
     "name": "stdout",
     "output_type": "stream",
     "text": [
      "[[ 3.44117647]\n",
      " [11.92352941]]\n",
      "[128.92352941]\n"
     ]
    }
   ],
   "source": [
    "x = np.array([[35, 29, 33, 30, 28], [1, 1, 1, 1, 1]]).T\n",
    "y = np.array([[132, 112, 126, 115, 108]]).T\n",
    "\n",
    "w = np.linalg.pinv(x) @ y\n",
    "print(w)\n",
    "\n",
    "print(w[0] * 34 + w[1])"
   ]
  },
  {
   "cell_type": "code",
   "execution_count": 48,
   "metadata": {},
   "outputs": [
    {
     "name": "stdout",
     "output_type": "stream",
     "text": [
      "229534\n"
     ]
    }
   ],
   "source": [
    "res = 28 * 28 + 1\n",
    "layers = [64 + 1, 128 + 1, 256 + 1, 512 + 1]\n",
    "out = 10\n",
    "\n",
    "params = (\n",
    "    res * layers[0]\n",
    "    + layers[0] * layers[1]\n",
    "    + layers[1] * layers[2]\n",
    "    + layers[2] * layers[3]\n",
    "    + layers[3] * out\n",
    ")\n",
    "print(params)"
   ]
  }
 ],
 "metadata": {
  "kernelspec": {
   "display_name": "Python 3",
   "language": "python",
   "name": "python3"
  },
  "language_info": {
   "codemirror_mode": {
    "name": "ipython",
    "version": 3
   },
   "file_extension": ".py",
   "mimetype": "text/x-python",
   "name": "python",
   "nbconvert_exporter": "python",
   "pygments_lexer": "ipython3",
   "version": "3.12.4"
  }
 },
 "nbformat": 4,
 "nbformat_minor": 2
}
