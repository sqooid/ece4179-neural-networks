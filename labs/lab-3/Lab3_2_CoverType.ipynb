{
 "cells": [
  {
   "cell_type": "markdown",
   "metadata": {},
   "source": [
    "<div class=\"alert alert-block alert-warning\">\n",
    "\n",
    "# <p style=\"text-align: center;\">Lab 3 (Weeks 5,6): Multi-Layer Perceptrons (MLP) </p>\n",
    "\n",
    "<img src=\"https://viso.ai/wp-content/uploads/2021/04/multilayer-perceptrons-MLP-concept-1.jpg\" width=\"400\" height=\"200\" />\n",
    "\n",
    "<!-- ![linear-vs-logistic-regression--medium](https://miro.medium.com/max/1400/1*dm6ZaX5fuSmuVvM4Ds-vcg.jpeg) -->\n",
    "\n",
    "Welcome to your third lab of ECE4179! Labs in this unit will run as a help desk and they are not mandatory to attend. As a reminder, this lab can be completed in pairs but you and your partner need to register via the google forms on Moodle under week 5.\n",
    "\n",
    "The two notebooks provided contain all the code and comments that you need to submit. Feel free to add in your own markdown for additional comments. After completion, You need to submit both Jupyter Notebooks (.ipynb file) to Moodle. Make sure you run the Notebooks before submitting and all outputs are visible.\n",
    "\n",
    "In this Lab, you will find three tasks distributed across two notebooks: Sinusoidal and CoverType. These tasks will guide you through to learn using a deep learning framework (Pytorch lightning) for MLP based problems. These knowledge and skills will be essential for lab 4 and assignment, and in general, critical to get you prepared to enter the deep learning world.\n",
    "\n",
    "- <b>Task 1:</b> Shallow MLP to fit MLP into a sinusoidal function\n",
    "- <b>Task 2:</b> Shallow MLP for multiclass classification of the Covertype dataset\n",
    "- <b>Task 3:</b> Deep MLP for multiclass classification of the Covertype dataset\n",
    "\n",
    "Each task will contain code to complete, and worded questions, so ensure you complete both before submitting.\n",
    "\n",
    "Good luck with the Lab!\n",
    "\n",
    "__Submission details:__\n",
    "- __Make sure you have run all your cells from top to bottom (you can click _Kernel_ and _Restart Kernel and Run All Cells_).__ </br>\n",
    "- __Submit the Jupyter Notebooks (Lab3\\_1\\_Sinusoidal.ipynb) and (Lab3\\_2\\_FashionMNIST.ipynb).__\n",
    "- __Outputs must be visible upon submission. We will also be re-running your code__"
   ]
  },
  {
   "cell_type": "markdown",
   "metadata": {},
   "source": [
    "<b>Enter your student details below</b>\n",
    "\n",
    "- <b>Student Name:</b> Lucas Liu\n",
    "- <b>Student ID:</b> 31445179\n",
    "\n",
    "If you have a partner:\n",
    "- <b>Second Student Name:</b> Firstname Lastname\n",
    "- <b>Second Student ID:</b> 123456789"
   ]
  },
  {
   "cell_type": "markdown",
   "metadata": {},
   "source": [
    "<div class=\"alert alert-block alert-danger\">\n",
    "\n",
    "## Table of Contents\n",
    "\n",
    "* [Task 2 - Shallow MLP for CoverType dataset](#task2)\n",
    "    * [2.1 Loading data points and Create Tensor Dataset](#2_1)\n",
    "    * [2.2 Design Shallow MLP](#2_2)\n",
    "    * [2.3 Train and evaluate model's performance](#2_3)\n",
    "    * [2.3 Train and evaluate model's performance](#2_4)\n",
    "* [Task 3 Deep MLP](#task3)\n",
    "    * [3.1 Design Deep MLP](#3_1)\n",
    "    * [3.2 Train and evaluate model's performance](#3_2)\n",
    "    * [3.3 Visualise the results for the network.](#3_3)"
   ]
  },
  {
   "cell_type": "markdown",
   "metadata": {},
   "source": [
    "<div class=\"alert alert-block alert-warning\">\n",
    "\n",
    "# Before you begin\n",
    "\n",
    "We have provided some numerical answers for you to aim for. To replicate these results, do not change any of the codes that are labelled \"Do not change\".\n",
    "\n",
    "Throughout this lab, there will be code and written answers that you need to fill in / complete. Please read the instructions carefully. The comments in the code snippet and markdown text will guide you on what you need to do.\n"
   ]
  },
  {
   "cell_type": "code",
   "execution_count": 20,
   "metadata": {},
   "outputs": [],
   "source": [
    "# If you have not installed pytorch-lightning already, then please follow the instructions below\n",
    "\n",
    "# # If you run on Jupyter Lab uncomment below comment\n",
    "# ! pip install --quiet \"matplotlib\" \"pytorch-lightning\" \"pandas\" \"torchmetrics\" \"torchvision\"\n",
    "\n",
    "# # If you run on google colab uncomment below comment\n",
    "# ! pip install pytorch-lightning -qq"
   ]
  },
  {
   "cell_type": "code",
   "execution_count": 21,
   "metadata": {},
   "outputs": [
    {
     "name": "stderr",
     "output_type": "stream",
     "text": [
      "Seed set to 4179\n"
     ]
    }
   ],
   "source": [
    "## Libraries, you do not need to import any additional libraries for this lab\n",
    "\n",
    "import numpy as np  ## Numpy is the fundamental building block of understanding tensor (matrices) within Python\n",
    "import matplotlib.pyplot as plt  ## Matplotlib.pyplot is the graphing library that we will be using throughout the semester\n",
    "import random  ## Useful for sampling\n",
    "\n",
    "# import sys ## Useful to retrieve some system information\n",
    "\n",
    "import os  ## Useful for running command line within python\n",
    "import pandas as pd  ## Useful for data manipulation\n",
    "from IPython.display import Image  ## For markdown purposes\n",
    "from IPython.display import clear_output\n",
    "import PIL\n",
    "\n",
    "import torch  ## Pytorch is the deep learning library that we will be using\n",
    "import torch.nn as nn  ## Neural network module\n",
    "import torch.nn.functional as F  ## Functional module\n",
    "from torch import optim  ## Optimizer module\n",
    "from torch.utils.data import (\n",
    "    DataLoader,\n",
    "    random_split,\n",
    ")  ## Under torchvision datasets you can find popular datasets that are frequently used for machine learning/deep learning tasks (eg., MNIST, SVHN, CIFAR10, CIFAR100 etc).\n",
    "from torchmetrics import (\n",
    "    Accuracy,\n",
    ")  ## Torchmetrics is a library that contains metrics for evaluating models\n",
    "from torchmetrics.classification import MulticlassAccuracy\n",
    "import torchvision  ## Torchvision is a library that contains popular datasets, model architectures, and image transformations for computer vision tasks\n",
    "from torchvision import transforms\n",
    "\n",
    "import pytorch_lightning as pl  ## Pytorch lightning is a wrapper for pytorch that makes it easier to train models\n",
    "from pytorch_lightning import LightningModule, Trainer\n",
    "from pytorch_lightning.loggers import CSVLogger\n",
    "from pytorch_lightning.callbacks import Callback, ModelCheckpoint\n",
    "from pytorch_lightning.callbacks.progress import TQDMProgressBar\n",
    "\n",
    "\n",
    "from pytorch_lightning import seed_everything\n",
    "\n",
    "## Setting seeds for reproducibility. Do NOT change these!\n",
    "seed_everything(4179)\n",
    "random.seed(4179)\n",
    "np.random.seed(4179)"
   ]
  },
  {
   "cell_type": "code",
   "execution_count": 22,
   "metadata": {},
   "outputs": [],
   "source": [
    "## This code snippet does not need to be edited\n",
    "\n",
    "# from python_environment_check import check_packages\n",
    "# from python_environment_check import set_background\n",
    "\n",
    "# ## Colour schemes for setting background colour\n",
    "# white_bgd = 'rgba(0,0,0,0)'\n",
    "# red_bgd = 'rgba(255,0,0,0.2)'"
   ]
  },
  {
   "cell_type": "markdown",
   "metadata": {},
   "source": [
    "<div class=\"alert alert-block alert-info\">\n",
    "\n",
    "# Task 2 & 3 : Compare Shallow MLP and Deep MLP\n",
    "\n",
    "In sections 2 and 3 you will be training a Shallow MLPs and Deep MLPs for classifying a CoverType dataset which is collected from 7 types of forest covers. 54 features are captured in each sample of the dataset. Then we will train a Shallow (Section 2) and Deep (Section 3) MLP for classifying this dataset that contains input features and labels (The input features are 1x54 and class labels are from 1-7).\n",
    "\n",
    "<img src=\"figures/shallow_deep_mlp.png\" width=\"1200\" align=\"center\">\n",
    "    \n",
    "In the above figure A is a shallow neural network and B is a deep neural network.\n",
    "\n",
    "#### Details of Covertype dataset:\n",
    "\n",
    "- This dataset is available form UCI Machine Learning Repository, you should use [```fetch_openml()```](https://scikit-learn.org/stable/modules/generated/sklearn.datasets.fetch_openml.html) function to load the data (Note: version 3 of data must be loaded)\n",
    "\n",
    "- The dataset consists of 54 input features, some of the entries are shown as below:\n",
    "\n",
    "| **Feature**                | **Variable Type**     | **Description**                                                      |\n",
    "|----------------------------|-------------------|----------------------------------------------------------------------|\n",
    "| Elevation                          | Numerical   | Measured in meters                                                                    |\n",
    "| Aspect                             | Numerical   | Aspect in degrees azimuth                                                    |\n",
    "| Slope                              | Numerical   | Measured in degrees                                                                         |\n",
    "| Horizontal_Distance_To_Hydrology   | Numerical   | Horizontal distance to the nearest surface water features (in mters)\n",
    "| Vertical_Distance_To_Hydrology     | Numerical   | Vertical distance to the nearest surface water features (in meters)                                               |\n",
    "| Horizontal_Distance_To_Roadways    | Numerical   | Horizontal distance to the nearest roadway (in meters)                                       |\n",
    "| Hillshade_9am                      | Numerical   | Hillshade index at 9am, which measures the shadow and sunlight exposure on the landscape (0 to 255)             |\n",
    "| Hillshade_Noon                     | Numerical   | Hillshade index at Noon                                                                       |\n",
    "| Hillshade_3pm                      | Numerical   | Hillshade index at 3pm                                                                                     |\n",
    "| Horizontal_Distance_To_Fire_Points | Numerical   | Horizontal distance to the nearest wildfire ignition points (in meters)                                |\n",
    "| Wilderness_Area                    | Categorical | One-hot encoded as 4 binary columns representing the wilderness area designation (Rawah, Neota, Comanche Peak, Cache la Poudre) |\n",
    "| Soil_Type                          | Categorical | One-hot encoded as 40 binary columns representing different soil types according to US Forest Service classification   |\n",
    "\n",
    "\n",
    "- The target variable in the Covertype dataset represents the forest cover type, and there are 7 distinct classes:\n",
    "\n",
    "| **Cover Type**          | **Code** |\n",
    "|-------------------------|----------|\n",
    "| Spruce/Fir              | 1        |\n",
    "| Lodgepole Pine          | 2        |\n",
    "| Ponderosa Pine          | 3        |\n",
    "| Cottonwood/Willow       | 4        |\n",
    "| Aspen                   | 5        |\n",
    "| Douglas-fir             | 6        |\n",
    "| Krummholz               | 7        |\n",
    "\n",
    "    \n",
    "#### Modules that you will need in this task:\n",
    "- sklearn's datasets and preprocessing modules to load the dataset and apply proper transforms\n",
    "- sklearn's model_selection module to split the dataset into train(60%), test(20%), and validation(20%)\n",
    "- torch TensorDataset and DataLoader to create the train, test, and validation datasets and data loaders\n",
    "- pytorch_lightning module class to construct a MLP in order to perform training and testing on the given datasets.\n"
   ]
  },
  {
   "cell_type": "markdown",
   "metadata": {},
   "source": [
    "<div class=\"alert alert-block alert-info\">\n",
    "\n",
    "# Task 2 - Shallow MLP for CoverType dataset <a class=\"anchor\" id=\"task2\"></a>\n",
    "\n",
    "For this task you will work on the following points:\n",
    " 1. Create training, validation and testing dataloaders.\n",
    " 2. investigate the training datasets (in terms of shape of the data).\n",
    " 3. Design shallow neural network model.\n",
    " 4. Perform training the model and evaluation for different settings. Report test accuracies.\n",
    " 5. Visualize experimental results for training losses.\n",
    " 6. Visualize experimental results for validation accuracies.\n",
    " 7. Visualize predictions.\n",
    " 8. Optimize Shallow network's performance.\n",
    "\n",
    "    \n",
    "Note:  In all the parts below, you should only use the training data and their labels to train your model. You may use the **validation set** to pick a trained model. For example, during training, you can test the accuracy of your model using the validation set every epoch and pick the model that achieves the highest validation accuracy. You should then report your results on the test set once you choose your model."
   ]
  },
  {
   "cell_type": "markdown",
   "metadata": {},
   "source": [
    "<div class=\"alert alert-block alert-info\">\n",
    "\n",
    "## Learning Objective\n",
    "\n",
    "This task aims to understand and implement a Deep MLP model to train neural networks on the CoverType dataset. By the end of this task, you will be able to:\n",
    "\n",
    "1. Load the dataset from sci-kit learn package, and prepare the dataset and dataloader on the CoverType dataset.\n",
    "\n",
    "2. Implement a Multi-Layer Perceptron (MLP) model using PyTorch Lightning's framework.\n",
    "\n",
    "3. Apply stochastic gradient descent (SGD) optimization method to train the MLP model on the CoverType dataset.\n",
    "\n",
    "4. Visualize and analyze the performance of the MLP model on the given samples to understand how well it fits the data."
   ]
  },
  {
   "cell_type": "markdown",
   "metadata": {},
   "source": [
    "<div class=\"alert alert-block alert-info\">\n",
    "\n",
    "## 2.1 Loading data points and Create Tensor Dataset <a class=\"anchor\" id=\"2_1\"></a>\n",
    "\n",
    "Let's load the dataset and inspect the data."
   ]
  },
  {
   "cell_type": "markdown",
   "metadata": {},
   "source": [
    "The code rovided in the following cell includes:\n",
    "- The implementation of `fetch_openml` to fetch the Covertype dataset from the OpenML repository. It ensures that the data is numeric and encodes the target labels as integers.\n",
    "- The implementation of the `fit_transform` method in the `LabelEncoder` to encode target labels with values between 0 and the number of classes minus 1.\n",
    "- The `unique` function is also included, which returns unique values of the targets after encoding."
   ]
  },
  {
   "cell_type": "code",
   "execution_count": 23,
   "metadata": {},
   "outputs": [
    {
     "name": "stdout",
     "output_type": "stream",
     "text": [
      "Classes: [0 1 2 3 4 5 6]\n"
     ]
    }
   ],
   "source": [
    "#### DO NOT CHANGE THIS SECTION ####\n",
    "from sklearn.datasets import fetch_openml\n",
    "from sklearn.preprocessing import LabelEncoder\n",
    "\n",
    "# Fetch the Covertype dataset\n",
    "covertype = fetch_openml(name=\"Covertype\", version=3)\n",
    "\n",
    "# Ensure all data is numeric\n",
    "X = covertype.data.astype(np.float32)\n",
    "\n",
    "# Encode the target labels as integers\n",
    "label_encoder = LabelEncoder()\n",
    "Y = label_encoder.fit_transform(covertype.target)\n",
    "unique_labels = np.unique(Y)\n",
    "print(\"Classes:\", np.unique(Y))\n",
    "#### DO NOT CHANGE THIS SECTION ####"
   ]
  },
  {
   "cell_type": "markdown",
   "metadata": {},
   "source": [
    "#### (a) Inspect the data\n",
    "\n",
    "Now you have input features in 'X' and the corresponding labels in 'Y'. Inspect the data by doing the following:\n",
    "\n",
    "- Print out the number of features \n",
    "- Print out the number of samples\n",
    "- Print out the shape of Y\n",
    "- Print the first 3 samples of input features 'X' and their corresponding labels in 'Y'\n"
   ]
  },
  {
   "cell_type": "code",
   "execution_count": 24,
   "metadata": {},
   "outputs": [
    {
     "name": "stdout",
     "output_type": "stream",
     "text": [
      "(581012, 54)\n",
      "(581012,)\n",
      "[0.368684 0.141667 0.045455 0.184681 0.223514 0.071659 0.870079 0.913386\n",
      " 0.582677 0.875366 1.       0.       0.       0.       0.       0.\n",
      " 0.       0.       0.       0.       0.       0.       0.       0.\n",
      " 0.       0.       0.       0.       0.       0.       0.       0.\n",
      " 0.       0.       0.       0.       0.       0.       0.       0.\n",
      " 0.       0.       1.       0.       0.       0.       0.       0.\n",
      " 0.       0.       0.       0.       0.       0.      ]\n",
      "4\n"
     ]
    }
   ],
   "source": [
    "# Print the shape of the input data. You should be able to infer the number of samples and features from the shape\n",
    "print(X.shape)\n",
    "# Print the shape of the target label\n",
    "print(Y.shape)  # type: ignore\n",
    "\n",
    "# Print the first samples of the input features and their labels\n",
    "print(X.to_numpy()[0, :])\n",
    "print(Y[0])"
   ]
  },
  {
   "cell_type": "markdown",
   "metadata": {},
   "source": [
    "#### (b) Split the dataset\n",
    "\n",
    "Different from Task 1, to train a network for classification, a key process is to split the dataset into train, validatio and test sets.\n",
    "\n",
    "Let's split the data into 60% train, 20% validation, and 20% test.\n",
    "\n",
    "- You will need to use [```train_test_split```](https://scikit-learn.org/stable/modules/generated/sklearn.model_selection.train_test_split.html) function \n",
    "- Make sure after splitting the number of samples per class is balanced among all classes. You can achive it by using the 'startify' option in the 'train_test_split' function\n",
    "- Print out the shape of input features and labels for splitted data.\n",
    "- Remember that you need to this for both the features (X) and labels (Y)."
   ]
  },
  {
   "cell_type": "code",
   "execution_count": 25,
   "metadata": {},
   "outputs": [
    {
     "name": "stdout",
     "output_type": "stream",
     "text": [
      "(348607, 54) (348607,)\n",
      "(116202, 54) (116202,)\n",
      "(116203, 54) (116203,)\n",
      "<class 'pandas.core.frame.DataFrame'> <class 'numpy.ndarray'>\n"
     ]
    }
   ],
   "source": [
    "from sklearn.model_selection import train_test_split\n",
    "\n",
    "X_train, X_test, Y_train, Y_test = train_test_split(X, Y, stratify=Y, test_size=0.4)\n",
    "X_val, X_test, Y_val, Y_test = train_test_split(\n",
    "    X_test, Y_test, stratify=Y_test, test_size=0.5\n",
    ")\n",
    "\n",
    "print(X_train.shape, Y_train.shape)\n",
    "print(X_val.shape, Y_val.shape)\n",
    "print(X_test.shape, Y_test.shape)\n",
    "print(type(X_train), type(Y_train))"
   ]
  },
  {
   "cell_type": "markdown",
   "metadata": {},
   "source": [
    "#### (c) Preprocessing of input features:\n",
    "\n",
    "Note that the PyTorch network only recognise tensors to be passed in. If you check the ```type()``` of the data imported so far, you will find out that they are not tensors yet. And there are also some common preprocess as well.\n",
    "\n",
    "For this task, we need to:\n",
    "1. Scaling the Numerical Features: It's often a good idea to *scale* or *normalize* the numerical features so that they have similar ranges. This can help the model converge faster and avoid issues related to features with different scales.\n",
    "    - You can use [```StandardScaler```](https://scikit-learn.org/stable/modules/generated/sklearn.preprocessing.StandardScaler.html) from sklearn.preprocessing to scale the input features in train, test, and val data\n",
    "    - Then check the datatype of the transformed variables\n",
    "2. Convert the data from numpy array into torch tensors:\n",
    "   1. Convert input features into 32-bit floating-point tensors.\n",
    "   2. Convert labels into 64-bit integer tensors.\n",
    "   3. You can check if the convertion is done correctly by use ```dtype``` to check the variables."
   ]
  },
  {
   "cell_type": "code",
   "execution_count": 26,
   "metadata": {},
   "outputs": [],
   "source": [
    "from sklearn.preprocessing import StandardScaler\n",
    "\n",
    "scaler = StandardScaler().fit(X)\n",
    "X_train = scaler.transform(X_train)\n",
    "X_val = scaler.transform(X_val)\n",
    "X_test = scaler.transform(X_test)"
   ]
  },
  {
   "cell_type": "code",
   "execution_count": 27,
   "metadata": {},
   "outputs": [
    {
     "name": "stdout",
     "output_type": "stream",
     "text": [
      "<class 'numpy.ndarray'> <class 'numpy.ndarray'>\n",
      "<class 'numpy.ndarray'> <class 'numpy.ndarray'>\n",
      "<class 'numpy.ndarray'> <class 'numpy.ndarray'>\n"
     ]
    }
   ],
   "source": [
    "print(type(X_train), type(Y_train))\n",
    "print(type(X_val), type(Y_val))\n",
    "print(type(X_test), type(Y_test))"
   ]
  },
  {
   "cell_type": "code",
   "execution_count": 28,
   "metadata": {},
   "outputs": [
    {
     "name": "stdout",
     "output_type": "stream",
     "text": [
      "torch.float32 torch.int64\n",
      "torch.float32 torch.int64\n",
      "torch.float32 torch.int64\n"
     ]
    }
   ],
   "source": [
    "# Convert the data to torch tensors\n",
    "X_train_tensor = torch.tensor(X_train)\n",
    "Y_train_tensor = torch.tensor(Y_train)\n",
    "\n",
    "X_val_tensor = torch.tensor(X_val)\n",
    "Y_val_tensor = torch.tensor(Y_val)\n",
    "\n",
    "X_test_tensor = torch.tensor(X_test)\n",
    "Y_test_tensor = torch.tensor(Y_test)\n",
    "\n",
    "print(X_train_tensor.dtype, Y_train_tensor.dtype)\n",
    "print(X_val_tensor.dtype, Y_val_tensor.dtype)\n",
    "print(X_test_tensor.dtype, Y_test_tensor.dtype)"
   ]
  },
  {
   "cell_type": "markdown",
   "metadata": {},
   "source": [
    "#### (d) Create the datasets and dataloader"
   ]
  },
  {
   "cell_type": "markdown",
   "metadata": {},
   "source": [
    "**Create the dataset**\n",
    "\n",
    "Now we have the tensors, let's create three datasets for train, validation, and test. It is a similar process to Task 1 but with a different torch module ```TensorDataset``` from ```torch.utils.data```. You can check out the shape of Dataset.tensors[0] (input feature tensor) and Dataset.tensors[1] (target tensor) when you create Dataset from train, test, and validation tensors to make sure the dataset is created correctly."
   ]
  },
  {
   "cell_type": "code",
   "execution_count": 29,
   "metadata": {},
   "outputs": [
    {
     "name": "stdout",
     "output_type": "stream",
     "text": [
      "torch.Size([348607, 54]) torch.Size([348607])\n",
      "torch.Size([116202, 54]) torch.Size([116202])\n",
      "torch.Size([116203, 54]) torch.Size([116203])\n"
     ]
    }
   ],
   "source": [
    "from torch.utils.data.dataset import TensorDataset\n",
    "\n",
    "# Create TensorDatasets\n",
    "train_dataset = TensorDataset(X_train_tensor, Y_train_tensor)\n",
    "val_dataset = TensorDataset(X_val_tensor, Y_val_tensor)\n",
    "test_dataset = TensorDataset(X_test_tensor, Y_test_tensor)\n",
    "\n",
    "print(train_dataset.tensors[0].shape, train_dataset.tensors[1].shape)\n",
    "print(val_dataset.tensors[0].shape, val_dataset.tensors[1].shape)\n",
    "print(test_dataset.tensors[0].shape, test_dataset.tensors[1].shape)"
   ]
  },
  {
   "cell_type": "markdown",
   "metadata": {},
   "source": [
    "**Create the dataloader**\n",
    "\n",
    "You can create the dataloader in the same as Task 1, with the batch size of 256."
   ]
  },
  {
   "cell_type": "code",
   "execution_count": 30,
   "metadata": {},
   "outputs": [],
   "source": [
    "batch_size = 256\n",
    "\n",
    "train_loader = DataLoader(train_dataset, batch_size=batch_size)\n",
    "val_loader = DataLoader(val_dataset, batch_size=batch_size)\n",
    "test_loader = DataLoader(test_dataset, batch_size=batch_size)"
   ]
  },
  {
   "cell_type": "markdown",
   "metadata": {},
   "source": [
    "<div class=\"alert alert-block alert-info\">\n",
    "\n",
    "## 2.2 Design Shallow MLP <a class=\"anchor\" id=\"2_2\"></a>\n",
    "\n",
    "Design a Shallow MLP. This will be similar to in task 1. \n",
    " - You need to instantiate Shallow_MLP class from LightningModule\n",
    " - Shallow_MLP must take these inputs:\n",
    "   1. the number of input features\n",
    "   2. the number of classes\n",
    "   3. the number of nodes in hidden layer\n",
    "   4. the learning_rate\n",
    "   5. the train loader\n",
    "   6. the test loader \n",
    "   7. the validation loader\n",
    "  \n",
    " - In the Shallow_MLP class you should define metrics to evaluate model performance:\n",
    "   1. train_accuracy\n",
    "   2. test_accuracy\n",
    "   3. val_accuracy\n",
    "   - To define these metrics you should use [```Accuracy()```](https://lightning.ai/docs/torchmetrics/stable/classification/accuracy.html ) class from pytorch-lightning. Make sure you choose the correct type of evaluation - multiclass.\n",
    "\n",
    " - Shallow_MLP must have two Linear layer: Linear(# input features $\\times$ # hidden nodes) $\\rightarrow$ ReLU $\\rightarrow$ Linear( # hidden nodes $\\times$  # classes)\n",
    "   1. The first Linear layer (input layer) is followed by a **Relu** activation function.\n",
    "   2. The second Linear layer (hidden layer) maps the hidden nodes into class scores (logits)\n",
    "\n",
    "- In this task, use the  [```CrossEntropyLoss```](https://pytorch.org/docs/stable/generated/torch.nn.CrossEntropyLoss.html)"
   ]
  },
  {
   "cell_type": "code",
   "execution_count": 68,
   "metadata": {},
   "outputs": [],
   "source": [
    "class Shallow_MLP(LightningModule):\n",
    "    def __init__(\n",
    "        self,\n",
    "        input_features,\n",
    "        hidden_node,\n",
    "        classes,\n",
    "        learning_rate=1e-1,\n",
    "    ):\n",
    "        super().__init__()\n",
    "        self.save_hyperparameters()\n",
    "\n",
    "        self.learning_rate = learning_rate\n",
    "        self.loss_fun = nn.CrossEntropyLoss()\n",
    "\n",
    "        self.linear1 = nn.Linear(input_features, hidden_node)\n",
    "        self.linear2 = nn.Linear(hidden_node, classes)\n",
    "\n",
    "        self.train_accuracy = MulticlassAccuracy(classes, average=\"micro\")\n",
    "        self.val_accuracy = MulticlassAccuracy(classes, average=\"micro\")\n",
    "        self.test_accuracy = MulticlassAccuracy(classes, average=\"micro\")\n",
    "\n",
    "    def forward(self, x):\n",
    "        # Pass input through conv layers\n",
    "        # Don't forget the activation function\n",
    "\n",
    "        out1 = nn.functional.relu(self.linear1(x))\n",
    "        out2 = self.linear2(out1)\n",
    "\n",
    "        return out2\n",
    "\n",
    "    def common(self, x, y):\n",
    "        logits = self(x)\n",
    "        loss = self.loss_fun(logits, y)\n",
    "\n",
    "        preds = logits.argmax(1)\n",
    "        return preds, loss\n",
    "\n",
    "    def training_step(self, batch, batch_idx):\n",
    "\n",
    "        # This should be similar to Task 1\n",
    "\n",
    "        # get the x and y values of the data point\n",
    "        # pass through the network\n",
    "        # Get the loss\n",
    "        x, y = batch\n",
    "        preds, loss = self.common(x, y)\n",
    "        self.train_accuracy.update(preds, y)\n",
    "\n",
    "        self.log(\"train_loss\", loss, prog_bar=True, on_step=False, on_epoch=True)\n",
    "        self.log(\n",
    "            \"train_acc\",\n",
    "            self.train_accuracy,\n",
    "            prog_bar=True,\n",
    "            on_step=False,\n",
    "            on_epoch=True,\n",
    "        )\n",
    "\n",
    "        return loss\n",
    "\n",
    "    def validation_step(self, batch, batch_idx):\n",
    "        # get the x and y values of the data point\n",
    "        # pass through the network\n",
    "        # Get the loss\n",
    "        x, y = batch\n",
    "        preds, loss = self.common(x, y)\n",
    "        self.val_accuracy.update(preds, y)\n",
    "\n",
    "        # Calling self.log will surface up scalars for you in TensorBoard\n",
    "        self.log(\"val_loss\", loss, prog_bar=True, on_step=False, on_epoch=True)\n",
    "        self.log(\n",
    "            \"val_acc\",\n",
    "            self.val_accuracy,\n",
    "            prog_bar=True,\n",
    "            on_step=False,\n",
    "            on_epoch=True,\n",
    "        )\n",
    "        return loss\n",
    "\n",
    "    def test_step(self, batch, batch_idx):\n",
    "        # get the x and y values of the data point\n",
    "        # pass through the network\n",
    "        # Get the loss\n",
    "        x, y = batch\n",
    "        preds, loss = self.common(x, y)\n",
    "        self.test_accuracy.update(preds, y)\n",
    "\n",
    "        # Calling self.log will surface up scalars for you in TensorBoard\n",
    "        self.log(\"test_loss\", loss, prog_bar=True)\n",
    "        self.log(\"test_acc\", self.test_accuracy, prog_bar=True)\n",
    "        return loss\n",
    "\n",
    "    def predict_step(self, batch, batch_idx):\n",
    "        # get the x and y values of the data point\n",
    "        # pass through the network\n",
    "        x, y = batch\n",
    "        logits = self(x)\n",
    "        pred = logits.argmax(1)\n",
    "        return (pred, y, x)\n",
    "\n",
    "    def configure_optimizers(self):\n",
    "        # define the SGD optimizer\n",
    "        optimizer = optim.SGD(self.parameters(), lr=self.learning_rate)\n",
    "        return optimizer\n",
    "\n",
    "    ####################\n",
    "    # DATA RELATED HOOKS\n",
    "    ####################\n",
    "\n",
    "    def train_dataloader(self):\n",
    "        return train_loader\n",
    "\n",
    "    def val_dataloader(self):\n",
    "        return val_loader\n",
    "\n",
    "    def test_dataloader(self):\n",
    "        return test_loader"
   ]
  },
  {
   "cell_type": "markdown",
   "metadata": {},
   "source": [
    "<div class=\"alert alert-block alert-info\">\n",
    "\n",
    "## 2.3 Train and evaluate model's performance <a class=\"anchor\" id=\"2_3\"></a>\n",
    "\n",
    "Let's train the model with three different scenarios for **30 epochs**\n",
    "\n",
    "a. model_shallow_a : # hidden nodes = 8\n",
    "\n",
    "b. model_shallow_b : # hidden nodes = 128\n",
    "\n",
    "c. model_shallow_c : # hidden nodes = 1024\n",
    "\n",
    "In all the parts above, you should only use the training input and their labels to train your model. You may use the validation set to pick a trained model.\n",
    "\n",
    "For example, during training, you can test the accuracy of your model using the validation set every epoch and pick the model that achieves the highest validation accuracy. You should then report your results on the test set once you choose your model. More details can be found in the documentation of [```ModelCheckpoint```](https://lightning.ai/docs/pytorch/stable/api/lightning.pytorch.callbacks.ModelCheckpoint.html).\n",
    "\n",
    "Note: Make sure to have different log file directories and checkpoint folders (eg: logs_task_2a, logs_task_2b and logs_task_2c)"
   ]
  },
  {
   "cell_type": "code",
   "execution_count": 69,
   "metadata": {},
   "outputs": [],
   "source": [
    "# define the input features and number of classes\n",
    "input_features = X.shape[1]\n",
    "classes = len(unique_labels)\n",
    "\n",
    "# define the training epoch and learning rate\n",
    "max_epochs = 30\n",
    "lr = 1e-3"
   ]
  },
  {
   "cell_type": "code",
   "execution_count": 70,
   "metadata": {},
   "outputs": [
    {
     "name": "stderr",
     "output_type": "stream",
     "text": [
      "GPU available: False, used: False\n",
      "TPU available: False, using: 0 TPU cores\n",
      "HPU available: False, using: 0 HPUs\n",
      "\n",
      "  | Name           | Type               | Params | Mode \n",
      "--------------------------------------------------------------\n",
      "0 | loss_fun       | CrossEntropyLoss   | 0      | train\n",
      "1 | linear1        | Linear             | 440    | train\n",
      "2 | linear2        | Linear             | 63     | train\n",
      "3 | train_accuracy | MulticlassAccuracy | 0      | train\n",
      "4 | val_accuracy   | MulticlassAccuracy | 0      | train\n",
      "5 | test_accuracy  | MulticlassAccuracy | 0      | train\n",
      "--------------------------------------------------------------\n",
      "503       Trainable params\n",
      "0         Non-trainable params\n",
      "503       Total params\n",
      "0.002     Total estimated model params size (MB)\n"
     ]
    },
    {
     "data": {
      "application/vnd.jupyter.widget-view+json": {
       "model_id": "e95a602b2c0a455b927cf637c26efa0c",
       "version_major": 2,
       "version_minor": 0
      },
      "text/plain": [
       "Sanity Checking: |          | 0/? [00:00<?, ?it/s]"
      ]
     },
     "metadata": {},
     "output_type": "display_data"
    },
    {
     "data": {
      "application/vnd.jupyter.widget-view+json": {
       "model_id": "a44824377a8b448d8e835345405b5b54",
       "version_major": 2,
       "version_minor": 0
      },
      "text/plain": [
       "Training: |          | 0/? [00:00<?, ?it/s]"
      ]
     },
     "metadata": {},
     "output_type": "display_data"
    },
    {
     "data": {
      "application/vnd.jupyter.widget-view+json": {
       "model_id": "83e8b926cbce4327a94c84d60dc65485",
       "version_major": 2,
       "version_minor": 0
      },
      "text/plain": [
       "Validation: |          | 0/? [00:00<?, ?it/s]"
      ]
     },
     "metadata": {},
     "output_type": "display_data"
    },
    {
     "data": {
      "application/vnd.jupyter.widget-view+json": {
       "model_id": "ccbf26112c2a4cf59f3367f38c20bb5f",
       "version_major": 2,
       "version_minor": 0
      },
      "text/plain": [
       "Validation: |          | 0/? [00:00<?, ?it/s]"
      ]
     },
     "metadata": {},
     "output_type": "display_data"
    },
    {
     "data": {
      "application/vnd.jupyter.widget-view+json": {
       "model_id": "31be41df50e048b4b94a291d476554ff",
       "version_major": 2,
       "version_minor": 0
      },
      "text/plain": [
       "Validation: |          | 0/? [00:00<?, ?it/s]"
      ]
     },
     "metadata": {},
     "output_type": "display_data"
    },
    {
     "data": {
      "application/vnd.jupyter.widget-view+json": {
       "model_id": "2498792fff78486cb775a5115238e38c",
       "version_major": 2,
       "version_minor": 0
      },
      "text/plain": [
       "Validation: |          | 0/? [00:00<?, ?it/s]"
      ]
     },
     "metadata": {},
     "output_type": "display_data"
    },
    {
     "data": {
      "application/vnd.jupyter.widget-view+json": {
       "model_id": "891f8f06b2db40f78dbe340123bfb654",
       "version_major": 2,
       "version_minor": 0
      },
      "text/plain": [
       "Validation: |          | 0/? [00:00<?, ?it/s]"
      ]
     },
     "metadata": {},
     "output_type": "display_data"
    },
    {
     "data": {
      "application/vnd.jupyter.widget-view+json": {
       "model_id": "65e101e03a85482f87c2ae1921887419",
       "version_major": 2,
       "version_minor": 0
      },
      "text/plain": [
       "Validation: |          | 0/? [00:00<?, ?it/s]"
      ]
     },
     "metadata": {},
     "output_type": "display_data"
    },
    {
     "data": {
      "application/vnd.jupyter.widget-view+json": {
       "model_id": "93a88813b3c94988b67d0159e10a1d45",
       "version_major": 2,
       "version_minor": 0
      },
      "text/plain": [
       "Validation: |          | 0/? [00:00<?, ?it/s]"
      ]
     },
     "metadata": {},
     "output_type": "display_data"
    },
    {
     "data": {
      "application/vnd.jupyter.widget-view+json": {
       "model_id": "da898c0d03d7483cad403d8b215c627f",
       "version_major": 2,
       "version_minor": 0
      },
      "text/plain": [
       "Validation: |          | 0/? [00:00<?, ?it/s]"
      ]
     },
     "metadata": {},
     "output_type": "display_data"
    },
    {
     "data": {
      "application/vnd.jupyter.widget-view+json": {
       "model_id": "baa9f8289d6e4c8e85efde8177fef093",
       "version_major": 2,
       "version_minor": 0
      },
      "text/plain": [
       "Validation: |          | 0/? [00:00<?, ?it/s]"
      ]
     },
     "metadata": {},
     "output_type": "display_data"
    },
    {
     "data": {
      "application/vnd.jupyter.widget-view+json": {
       "model_id": "04415d8240284049bfe142449ddfe2c6",
       "version_major": 2,
       "version_minor": 0
      },
      "text/plain": [
       "Validation: |          | 0/? [00:00<?, ?it/s]"
      ]
     },
     "metadata": {},
     "output_type": "display_data"
    },
    {
     "data": {
      "application/vnd.jupyter.widget-view+json": {
       "model_id": "d63b0c752e184946a4be09b0ea83799e",
       "version_major": 2,
       "version_minor": 0
      },
      "text/plain": [
       "Validation: |          | 0/? [00:00<?, ?it/s]"
      ]
     },
     "metadata": {},
     "output_type": "display_data"
    },
    {
     "data": {
      "application/vnd.jupyter.widget-view+json": {
       "model_id": "5ed06799a880411ba12d2fbb459b21f8",
       "version_major": 2,
       "version_minor": 0
      },
      "text/plain": [
       "Validation: |          | 0/? [00:00<?, ?it/s]"
      ]
     },
     "metadata": {},
     "output_type": "display_data"
    },
    {
     "data": {
      "application/vnd.jupyter.widget-view+json": {
       "model_id": "d50e0e629e1d492a9a346407e0ae17e1",
       "version_major": 2,
       "version_minor": 0
      },
      "text/plain": [
       "Validation: |          | 0/? [00:00<?, ?it/s]"
      ]
     },
     "metadata": {},
     "output_type": "display_data"
    },
    {
     "data": {
      "application/vnd.jupyter.widget-view+json": {
       "model_id": "cad51dc5663b4cbf890af6383e5107d6",
       "version_major": 2,
       "version_minor": 0
      },
      "text/plain": [
       "Validation: |          | 0/? [00:00<?, ?it/s]"
      ]
     },
     "metadata": {},
     "output_type": "display_data"
    },
    {
     "data": {
      "application/vnd.jupyter.widget-view+json": {
       "model_id": "d1d479bad7cc458ea14214d00912c2d7",
       "version_major": 2,
       "version_minor": 0
      },
      "text/plain": [
       "Validation: |          | 0/? [00:00<?, ?it/s]"
      ]
     },
     "metadata": {},
     "output_type": "display_data"
    },
    {
     "data": {
      "application/vnd.jupyter.widget-view+json": {
       "model_id": "99f226a465144d00944a8b20ce8a4158",
       "version_major": 2,
       "version_minor": 0
      },
      "text/plain": [
       "Validation: |          | 0/? [00:00<?, ?it/s]"
      ]
     },
     "metadata": {},
     "output_type": "display_data"
    },
    {
     "data": {
      "application/vnd.jupyter.widget-view+json": {
       "model_id": "84ee0dd4cf54465d9f6c5deb973be595",
       "version_major": 2,
       "version_minor": 0
      },
      "text/plain": [
       "Validation: |          | 0/? [00:00<?, ?it/s]"
      ]
     },
     "metadata": {},
     "output_type": "display_data"
    },
    {
     "data": {
      "application/vnd.jupyter.widget-view+json": {
       "model_id": "6664dc386d9a4d9780dc8fab6057dae9",
       "version_major": 2,
       "version_minor": 0
      },
      "text/plain": [
       "Validation: |          | 0/? [00:00<?, ?it/s]"
      ]
     },
     "metadata": {},
     "output_type": "display_data"
    },
    {
     "data": {
      "application/vnd.jupyter.widget-view+json": {
       "model_id": "19a91d9c32cb4d788bf95df71f4cc0d4",
       "version_major": 2,
       "version_minor": 0
      },
      "text/plain": [
       "Validation: |          | 0/? [00:00<?, ?it/s]"
      ]
     },
     "metadata": {},
     "output_type": "display_data"
    },
    {
     "data": {
      "application/vnd.jupyter.widget-view+json": {
       "model_id": "ecc4807d47fb4a3bb0ed1da4c9ea0862",
       "version_major": 2,
       "version_minor": 0
      },
      "text/plain": [
       "Validation: |          | 0/? [00:00<?, ?it/s]"
      ]
     },
     "metadata": {},
     "output_type": "display_data"
    },
    {
     "data": {
      "application/vnd.jupyter.widget-view+json": {
       "model_id": "7bf3bb6fba9a4bdebd11eedd8dea138a",
       "version_major": 2,
       "version_minor": 0
      },
      "text/plain": [
       "Validation: |          | 0/? [00:00<?, ?it/s]"
      ]
     },
     "metadata": {},
     "output_type": "display_data"
    },
    {
     "data": {
      "application/vnd.jupyter.widget-view+json": {
       "model_id": "2d823e8c3e334cf09803cfe3336fc5bc",
       "version_major": 2,
       "version_minor": 0
      },
      "text/plain": [
       "Validation: |          | 0/? [00:00<?, ?it/s]"
      ]
     },
     "metadata": {},
     "output_type": "display_data"
    },
    {
     "data": {
      "application/vnd.jupyter.widget-view+json": {
       "model_id": "ec1f75c94bfd43dcaf07d0e1c9c538f4",
       "version_major": 2,
       "version_minor": 0
      },
      "text/plain": [
       "Validation: |          | 0/? [00:00<?, ?it/s]"
      ]
     },
     "metadata": {},
     "output_type": "display_data"
    },
    {
     "data": {
      "application/vnd.jupyter.widget-view+json": {
       "model_id": "ccbe721a10414e1295a9cd35b694a0df",
       "version_major": 2,
       "version_minor": 0
      },
      "text/plain": [
       "Validation: |          | 0/? [00:00<?, ?it/s]"
      ]
     },
     "metadata": {},
     "output_type": "display_data"
    },
    {
     "data": {
      "application/vnd.jupyter.widget-view+json": {
       "model_id": "06cbd365ac204c65bf3aabaaf2f5985f",
       "version_major": 2,
       "version_minor": 0
      },
      "text/plain": [
       "Validation: |          | 0/? [00:00<?, ?it/s]"
      ]
     },
     "metadata": {},
     "output_type": "display_data"
    },
    {
     "data": {
      "application/vnd.jupyter.widget-view+json": {
       "model_id": "8b9955854e9e40458db2c4f05162d2c0",
       "version_major": 2,
       "version_minor": 0
      },
      "text/plain": [
       "Validation: |          | 0/? [00:00<?, ?it/s]"
      ]
     },
     "metadata": {},
     "output_type": "display_data"
    },
    {
     "data": {
      "application/vnd.jupyter.widget-view+json": {
       "model_id": "11b4624b031b4c5fa00123af1ea81594",
       "version_major": 2,
       "version_minor": 0
      },
      "text/plain": [
       "Validation: |          | 0/? [00:00<?, ?it/s]"
      ]
     },
     "metadata": {},
     "output_type": "display_data"
    },
    {
     "data": {
      "application/vnd.jupyter.widget-view+json": {
       "model_id": "3cd45c0c995242a7b31389475ada91c0",
       "version_major": 2,
       "version_minor": 0
      },
      "text/plain": [
       "Validation: |          | 0/? [00:00<?, ?it/s]"
      ]
     },
     "metadata": {},
     "output_type": "display_data"
    },
    {
     "data": {
      "application/vnd.jupyter.widget-view+json": {
       "model_id": "04fe92d7302541b7a8b25cfdfbbb8788",
       "version_major": 2,
       "version_minor": 0
      },
      "text/plain": [
       "Validation: |          | 0/? [00:00<?, ?it/s]"
      ]
     },
     "metadata": {},
     "output_type": "display_data"
    },
    {
     "data": {
      "application/vnd.jupyter.widget-view+json": {
       "model_id": "b097f55f842c4878a46251ff2f6c7e52",
       "version_major": 2,
       "version_minor": 0
      },
      "text/plain": [
       "Validation: |          | 0/? [00:00<?, ?it/s]"
      ]
     },
     "metadata": {},
     "output_type": "display_data"
    },
    {
     "name": "stderr",
     "output_type": "stream",
     "text": [
      "`Trainer.fit` stopped: `max_epochs=30` reached.\n",
      "Restoring states from the checkpoint path at /home/lucas/code/ece4179-neural-networks/labs/lab-3/logs/h8/epoch=29-step=40860-v7.ckpt\n",
      "Loaded model weights from the checkpoint at /home/lucas/code/ece4179-neural-networks/labs/lab-3/logs/h8/epoch=29-step=40860-v7.ckpt\n"
     ]
    },
    {
     "data": {
      "application/vnd.jupyter.widget-view+json": {
       "model_id": "1919ba1b227640c3be00fb6175554f9f",
       "version_major": 2,
       "version_minor": 0
      },
      "text/plain": [
       "Testing: |          | 0/? [00:00<?, ?it/s]"
      ]
     },
     "metadata": {},
     "output_type": "display_data"
    },
    {
     "name": "stdout",
     "output_type": "stream",
     "text": [
      "────────────────────────────────────────────────────────────────────────────────────────────────────────────────────────\n",
      "       Test metric             DataLoader 0\n",
      "────────────────────────────────────────────────────────────────────────────────────────────────────────────────────────\n",
      "        test_acc            0.7164272665977478\n",
      "        test_loss           0.7030482888221741\n",
      "────────────────────────────────────────────────────────────────────────────────────────────────────────────────────────\n"
     ]
    },
    {
     "data": {
      "text/plain": [
       "[{'test_loss': 0.7030482888221741, 'test_acc': 0.7164272665977478}]"
      ]
     },
     "execution_count": 70,
     "metadata": {},
     "output_type": "execute_result"
    }
   ],
   "source": [
    "# Scenario a: Initialize Shallow MLP model with hidden node = 8\n",
    "hidden_node = 8\n",
    "model_shallow_a = Shallow_MLP(input_features, hidden_node, classes, lr)\n",
    "\n",
    "# Define checkpoint callback function to save best model\n",
    "checkpoint_callback_2a = ModelCheckpoint(\n",
    "    monitor=\"val_acc\",  # the value to watch out on checking the model performance\n",
    "    dirpath=\"logs/h8\",  # path to save the checkpoint\n",
    "    save_top_k=1,  # save the best model\n",
    "    mode=\"max\",\n",
    "    every_n_epochs=1,\n",
    ")\n",
    "\n",
    "# Train and test the model\n",
    "trainer_2a = Trainer(\n",
    "    accelerator=\"auto\",\n",
    "    devices=1 if not torch.cuda.is_available() else torch.cuda.device_count(),\n",
    "    max_epochs=max_epochs,\n",
    "    callbacks=[TQDMProgressBar(refresh_rate=20), checkpoint_callback_2a],\n",
    "    logger=CSVLogger(\"logs\", name=\"h8\", version=0),\n",
    ")\n",
    "\n",
    "# Start the training loop\n",
    "trainer_2a.fit(model_shallow_a)\n",
    "\n",
    "# Report the test performance\n",
    "trainer_2a.test(ckpt_path=\"best\")"
   ]
  },
  {
   "cell_type": "markdown",
   "metadata": {},
   "source": [
    "You should expect some output like :\n",
    "\n",
    "[{'test_loss': 0.6990464925765991, 'test_acc': 0.7178385853767395}]"
   ]
  },
  {
   "cell_type": "code",
   "execution_count": 71,
   "metadata": {},
   "outputs": [
    {
     "name": "stderr",
     "output_type": "stream",
     "text": [
      "GPU available: False, used: False\n",
      "TPU available: False, using: 0 TPU cores\n",
      "HPU available: False, using: 0 HPUs\n",
      "\n",
      "  | Name           | Type               | Params | Mode \n",
      "--------------------------------------------------------------\n",
      "0 | loss_fun       | CrossEntropyLoss   | 0      | train\n",
      "1 | linear1        | Linear             | 7.0 K  | train\n",
      "2 | linear2        | Linear             | 903    | train\n",
      "3 | train_accuracy | MulticlassAccuracy | 0      | train\n",
      "4 | val_accuracy   | MulticlassAccuracy | 0      | train\n",
      "5 | test_accuracy  | MulticlassAccuracy | 0      | train\n",
      "--------------------------------------------------------------\n",
      "7.9 K     Trainable params\n",
      "0         Non-trainable params\n",
      "7.9 K     Total params\n",
      "0.032     Total estimated model params size (MB)\n"
     ]
    },
    {
     "data": {
      "application/vnd.jupyter.widget-view+json": {
       "model_id": "f41c1e14f3894075a90c6df0eb80668d",
       "version_major": 2,
       "version_minor": 0
      },
      "text/plain": [
       "Sanity Checking: |          | 0/? [00:00<?, ?it/s]"
      ]
     },
     "metadata": {},
     "output_type": "display_data"
    },
    {
     "data": {
      "application/vnd.jupyter.widget-view+json": {
       "model_id": "bd483b387a30442bb5f21b05812a20f9",
       "version_major": 2,
       "version_minor": 0
      },
      "text/plain": [
       "Training: |          | 0/? [00:00<?, ?it/s]"
      ]
     },
     "metadata": {},
     "output_type": "display_data"
    },
    {
     "data": {
      "application/vnd.jupyter.widget-view+json": {
       "model_id": "efcca17bd4084301bdbd3d1c5ca2e8e7",
       "version_major": 2,
       "version_minor": 0
      },
      "text/plain": [
       "Validation: |          | 0/? [00:00<?, ?it/s]"
      ]
     },
     "metadata": {},
     "output_type": "display_data"
    },
    {
     "data": {
      "application/vnd.jupyter.widget-view+json": {
       "model_id": "9c0f6b4ab0cc4c95b26085683bfb6295",
       "version_major": 2,
       "version_minor": 0
      },
      "text/plain": [
       "Validation: |          | 0/? [00:00<?, ?it/s]"
      ]
     },
     "metadata": {},
     "output_type": "display_data"
    },
    {
     "data": {
      "application/vnd.jupyter.widget-view+json": {
       "model_id": "157034ffb8084acfaaab40bd4b0e8231",
       "version_major": 2,
       "version_minor": 0
      },
      "text/plain": [
       "Validation: |          | 0/? [00:00<?, ?it/s]"
      ]
     },
     "metadata": {},
     "output_type": "display_data"
    },
    {
     "data": {
      "application/vnd.jupyter.widget-view+json": {
       "model_id": "277d132509354774ba86eb22df642412",
       "version_major": 2,
       "version_minor": 0
      },
      "text/plain": [
       "Validation: |          | 0/? [00:00<?, ?it/s]"
      ]
     },
     "metadata": {},
     "output_type": "display_data"
    },
    {
     "data": {
      "application/vnd.jupyter.widget-view+json": {
       "model_id": "fd691c1367e24d52ba2743f9fd6258cd",
       "version_major": 2,
       "version_minor": 0
      },
      "text/plain": [
       "Validation: |          | 0/? [00:00<?, ?it/s]"
      ]
     },
     "metadata": {},
     "output_type": "display_data"
    },
    {
     "data": {
      "application/vnd.jupyter.widget-view+json": {
       "model_id": "e9ce252705f141fc83dce5f99cd0c723",
       "version_major": 2,
       "version_minor": 0
      },
      "text/plain": [
       "Validation: |          | 0/? [00:00<?, ?it/s]"
      ]
     },
     "metadata": {},
     "output_type": "display_data"
    },
    {
     "data": {
      "application/vnd.jupyter.widget-view+json": {
       "model_id": "59bec07dfb3b4b2a879efdb4dadc669e",
       "version_major": 2,
       "version_minor": 0
      },
      "text/plain": [
       "Validation: |          | 0/? [00:00<?, ?it/s]"
      ]
     },
     "metadata": {},
     "output_type": "display_data"
    },
    {
     "data": {
      "application/vnd.jupyter.widget-view+json": {
       "model_id": "ecbb1a542de148198689f2d3ee19b27b",
       "version_major": 2,
       "version_minor": 0
      },
      "text/plain": [
       "Validation: |          | 0/? [00:00<?, ?it/s]"
      ]
     },
     "metadata": {},
     "output_type": "display_data"
    },
    {
     "data": {
      "application/vnd.jupyter.widget-view+json": {
       "model_id": "639ac87b76214cd29e1112d031c39266",
       "version_major": 2,
       "version_minor": 0
      },
      "text/plain": [
       "Validation: |          | 0/? [00:00<?, ?it/s]"
      ]
     },
     "metadata": {},
     "output_type": "display_data"
    },
    {
     "data": {
      "application/vnd.jupyter.widget-view+json": {
       "model_id": "cd8b0deccbec40ff947c84a053f2ead9",
       "version_major": 2,
       "version_minor": 0
      },
      "text/plain": [
       "Validation: |          | 0/? [00:00<?, ?it/s]"
      ]
     },
     "metadata": {},
     "output_type": "display_data"
    },
    {
     "data": {
      "application/vnd.jupyter.widget-view+json": {
       "model_id": "8bee702436054ff29b0a9ea0429e3e87",
       "version_major": 2,
       "version_minor": 0
      },
      "text/plain": [
       "Validation: |          | 0/? [00:00<?, ?it/s]"
      ]
     },
     "metadata": {},
     "output_type": "display_data"
    },
    {
     "data": {
      "application/vnd.jupyter.widget-view+json": {
       "model_id": "b65d6beeab4c40afbe7c8554d321e489",
       "version_major": 2,
       "version_minor": 0
      },
      "text/plain": [
       "Validation: |          | 0/? [00:00<?, ?it/s]"
      ]
     },
     "metadata": {},
     "output_type": "display_data"
    },
    {
     "data": {
      "application/vnd.jupyter.widget-view+json": {
       "model_id": "4408e25702d54345bd727b272b749ef0",
       "version_major": 2,
       "version_minor": 0
      },
      "text/plain": [
       "Validation: |          | 0/? [00:00<?, ?it/s]"
      ]
     },
     "metadata": {},
     "output_type": "display_data"
    },
    {
     "data": {
      "application/vnd.jupyter.widget-view+json": {
       "model_id": "a4f492861526468390e2d64c6acd8fcc",
       "version_major": 2,
       "version_minor": 0
      },
      "text/plain": [
       "Validation: |          | 0/? [00:00<?, ?it/s]"
      ]
     },
     "metadata": {},
     "output_type": "display_data"
    },
    {
     "data": {
      "application/vnd.jupyter.widget-view+json": {
       "model_id": "040e8a14496d4ce0a0fbfea765925a92",
       "version_major": 2,
       "version_minor": 0
      },
      "text/plain": [
       "Validation: |          | 0/? [00:00<?, ?it/s]"
      ]
     },
     "metadata": {},
     "output_type": "display_data"
    },
    {
     "data": {
      "application/vnd.jupyter.widget-view+json": {
       "model_id": "25c8627ecdaf49c585be7feadfcb1ab1",
       "version_major": 2,
       "version_minor": 0
      },
      "text/plain": [
       "Validation: |          | 0/? [00:00<?, ?it/s]"
      ]
     },
     "metadata": {},
     "output_type": "display_data"
    },
    {
     "data": {
      "application/vnd.jupyter.widget-view+json": {
       "model_id": "ddacd50ff2fd4485a10740ca4a1fc570",
       "version_major": 2,
       "version_minor": 0
      },
      "text/plain": [
       "Validation: |          | 0/? [00:00<?, ?it/s]"
      ]
     },
     "metadata": {},
     "output_type": "display_data"
    },
    {
     "data": {
      "application/vnd.jupyter.widget-view+json": {
       "model_id": "7c4da8a417744efd879066fca04d87ab",
       "version_major": 2,
       "version_minor": 0
      },
      "text/plain": [
       "Validation: |          | 0/? [00:00<?, ?it/s]"
      ]
     },
     "metadata": {},
     "output_type": "display_data"
    },
    {
     "data": {
      "application/vnd.jupyter.widget-view+json": {
       "model_id": "01e69515affa475e8aed4ef87224db82",
       "version_major": 2,
       "version_minor": 0
      },
      "text/plain": [
       "Validation: |          | 0/? [00:00<?, ?it/s]"
      ]
     },
     "metadata": {},
     "output_type": "display_data"
    },
    {
     "data": {
      "application/vnd.jupyter.widget-view+json": {
       "model_id": "5bbfd8f6deec43779b8c510042a0f7e8",
       "version_major": 2,
       "version_minor": 0
      },
      "text/plain": [
       "Validation: |          | 0/? [00:00<?, ?it/s]"
      ]
     },
     "metadata": {},
     "output_type": "display_data"
    },
    {
     "data": {
      "application/vnd.jupyter.widget-view+json": {
       "model_id": "506095ea695840bba04a0557c999ed52",
       "version_major": 2,
       "version_minor": 0
      },
      "text/plain": [
       "Validation: |          | 0/? [00:00<?, ?it/s]"
      ]
     },
     "metadata": {},
     "output_type": "display_data"
    },
    {
     "data": {
      "application/vnd.jupyter.widget-view+json": {
       "model_id": "c547212347844f56bed288e141fab063",
       "version_major": 2,
       "version_minor": 0
      },
      "text/plain": [
       "Validation: |          | 0/? [00:00<?, ?it/s]"
      ]
     },
     "metadata": {},
     "output_type": "display_data"
    },
    {
     "data": {
      "application/vnd.jupyter.widget-view+json": {
       "model_id": "430f298b39354f5aa56253e7bd0c0841",
       "version_major": 2,
       "version_minor": 0
      },
      "text/plain": [
       "Validation: |          | 0/? [00:00<?, ?it/s]"
      ]
     },
     "metadata": {},
     "output_type": "display_data"
    },
    {
     "data": {
      "application/vnd.jupyter.widget-view+json": {
       "model_id": "5e3fba5476234cb9b9cd5f420e8fd07f",
       "version_major": 2,
       "version_minor": 0
      },
      "text/plain": [
       "Validation: |          | 0/? [00:00<?, ?it/s]"
      ]
     },
     "metadata": {},
     "output_type": "display_data"
    },
    {
     "data": {
      "application/vnd.jupyter.widget-view+json": {
       "model_id": "9cafc0ab75984ca7bba0bacfd11f81f6",
       "version_major": 2,
       "version_minor": 0
      },
      "text/plain": [
       "Validation: |          | 0/? [00:00<?, ?it/s]"
      ]
     },
     "metadata": {},
     "output_type": "display_data"
    },
    {
     "data": {
      "application/vnd.jupyter.widget-view+json": {
       "model_id": "2f7a28b91053469b82c9f6a5b8317ca5",
       "version_major": 2,
       "version_minor": 0
      },
      "text/plain": [
       "Validation: |          | 0/? [00:00<?, ?it/s]"
      ]
     },
     "metadata": {},
     "output_type": "display_data"
    },
    {
     "data": {
      "application/vnd.jupyter.widget-view+json": {
       "model_id": "4bdd8adf20ee4bf5a78751c4041d6e0d",
       "version_major": 2,
       "version_minor": 0
      },
      "text/plain": [
       "Validation: |          | 0/? [00:00<?, ?it/s]"
      ]
     },
     "metadata": {},
     "output_type": "display_data"
    },
    {
     "data": {
      "application/vnd.jupyter.widget-view+json": {
       "model_id": "c41f4d5d3e6f487b8523569010214007",
       "version_major": 2,
       "version_minor": 0
      },
      "text/plain": [
       "Validation: |          | 0/? [00:00<?, ?it/s]"
      ]
     },
     "metadata": {},
     "output_type": "display_data"
    },
    {
     "data": {
      "application/vnd.jupyter.widget-view+json": {
       "model_id": "944536fb341b475aadfe9c6548a2e548",
       "version_major": 2,
       "version_minor": 0
      },
      "text/plain": [
       "Validation: |          | 0/? [00:00<?, ?it/s]"
      ]
     },
     "metadata": {},
     "output_type": "display_data"
    },
    {
     "data": {
      "application/vnd.jupyter.widget-view+json": {
       "model_id": "f2e5eb627f434e018d1b0dcddc2680ca",
       "version_major": 2,
       "version_minor": 0
      },
      "text/plain": [
       "Validation: |          | 0/? [00:00<?, ?it/s]"
      ]
     },
     "metadata": {},
     "output_type": "display_data"
    },
    {
     "name": "stderr",
     "output_type": "stream",
     "text": [
      "`Trainer.fit` stopped: `max_epochs=30` reached.\n",
      "Restoring states from the checkpoint path at /home/lucas/code/ece4179-neural-networks/labs/lab-3/logs/h128/epoch=29-step=40860-v2.ckpt\n",
      "Loaded model weights from the checkpoint at /home/lucas/code/ece4179-neural-networks/labs/lab-3/logs/h128/epoch=29-step=40860-v2.ckpt\n"
     ]
    },
    {
     "data": {
      "application/vnd.jupyter.widget-view+json": {
       "model_id": "b194ad5d68b64797b6b62d401a42dae1",
       "version_major": 2,
       "version_minor": 0
      },
      "text/plain": [
       "Testing: |          | 0/? [00:00<?, ?it/s]"
      ]
     },
     "metadata": {},
     "output_type": "display_data"
    },
    {
     "name": "stdout",
     "output_type": "stream",
     "text": [
      "────────────────────────────────────────────────────────────────────────────────────────────────────────────────────────\n",
      "       Test metric             DataLoader 0\n",
      "────────────────────────────────────────────────────────────────────────────────────────────────────────────────────────\n",
      "        test_acc            0.7254804372787476\n",
      "        test_loss           0.6650070548057556\n",
      "────────────────────────────────────────────────────────────────────────────────────────────────────────────────────────\n"
     ]
    },
    {
     "data": {
      "text/plain": [
       "[{'test_loss': 0.6650070548057556, 'test_acc': 0.7254804372787476}]"
      ]
     },
     "execution_count": 71,
     "metadata": {},
     "output_type": "execute_result"
    }
   ],
   "source": [
    "# Scenario b: Initialize Shallow MLP model with hidden node = 128\n",
    "hidden_node = 128\n",
    "model_shallow_b = Shallow_MLP(input_features, hidden_node, classes, lr)\n",
    "\n",
    "\n",
    "# Define checkpoint callback function to save best model\n",
    "checkpoint_callback_2b = ModelCheckpoint(\n",
    "    monitor=\"val_acc\",\n",
    "    dirpath=\"logs/h128\",\n",
    "    save_top_k=1,\n",
    "    mode=\"max\",\n",
    "    every_n_epochs=1,\n",
    ")\n",
    "\n",
    "# Train and test the model\n",
    "trainer_2b = Trainer(\n",
    "    accelerator=\"auto\",\n",
    "    devices=1 if not torch.cuda.is_available() else torch.cuda.device_count(),\n",
    "    max_epochs=max_epochs,\n",
    "    callbacks=[TQDMProgressBar(refresh_rate=20), checkpoint_callback_2b],\n",
    "    logger=CSVLogger(\"logs\", name=\"h128\", version=0),\n",
    ")\n",
    "\n",
    "# Start the training loop\n",
    "trainer_2b.fit(model_shallow_b)\n",
    "\n",
    "# Report the test performance\n",
    "trainer_2b.test(ckpt_path=\"best\")"
   ]
  },
  {
   "cell_type": "markdown",
   "metadata": {},
   "source": [
    "You should expect some output like :\n",
    "\n",
    "[{'test_loss': 0.6637445688247681, 'test_acc': 0.7278985977172852}]"
   ]
  },
  {
   "cell_type": "code",
   "execution_count": 72,
   "metadata": {},
   "outputs": [
    {
     "name": "stderr",
     "output_type": "stream",
     "text": [
      "GPU available: False, used: False\n",
      "TPU available: False, using: 0 TPU cores\n",
      "HPU available: False, using: 0 HPUs\n",
      "/nix/store/bxj3ic1m66k3p690vwgb0913l5l46bk9-python3-3.12.4-env/lib/python3.12/site-packages/lightning_fabric/loggers/csv_logs.py:269: Experiment logs directory logs/h1024/version_0 exists and is not empty. Previous log files in this directory will be deleted when the new ones are saved!\n",
      "/nix/store/bxj3ic1m66k3p690vwgb0913l5l46bk9-python3-3.12.4-env/lib/python3.12/site-packages/pytorch_lightning/callbacks/model_checkpoint.py:652: Checkpoint directory /home/lucas/code/ece4179-neural-networks/labs/lab-3/logs/h1024 exists and is not empty.\n",
      "\n",
      "  | Name           | Type               | Params | Mode \n",
      "--------------------------------------------------------------\n",
      "0 | loss_fun       | CrossEntropyLoss   | 0      | train\n",
      "1 | linear1        | Linear             | 56.3 K | train\n",
      "2 | linear2        | Linear             | 7.2 K  | train\n",
      "3 | train_accuracy | MulticlassAccuracy | 0      | train\n",
      "4 | val_accuracy   | MulticlassAccuracy | 0      | train\n",
      "5 | test_accuracy  | MulticlassAccuracy | 0      | train\n",
      "--------------------------------------------------------------\n",
      "63.5 K    Trainable params\n",
      "0         Non-trainable params\n",
      "63.5 K    Total params\n",
      "0.254     Total estimated model params size (MB)\n"
     ]
    },
    {
     "data": {
      "application/vnd.jupyter.widget-view+json": {
       "model_id": "03e7dd5f648e482f923364ee436a9cb1",
       "version_major": 2,
       "version_minor": 0
      },
      "text/plain": [
       "Sanity Checking: |          | 0/? [00:00<?, ?it/s]"
      ]
     },
     "metadata": {},
     "output_type": "display_data"
    },
    {
     "data": {
      "application/vnd.jupyter.widget-view+json": {
       "model_id": "e544d220eb21414089deea3c8372b788",
       "version_major": 2,
       "version_minor": 0
      },
      "text/plain": [
       "Training: |          | 0/? [00:00<?, ?it/s]"
      ]
     },
     "metadata": {},
     "output_type": "display_data"
    },
    {
     "data": {
      "application/vnd.jupyter.widget-view+json": {
       "model_id": "059966ce44db4259b22d85799d8a3a9d",
       "version_major": 2,
       "version_minor": 0
      },
      "text/plain": [
       "Validation: |          | 0/? [00:00<?, ?it/s]"
      ]
     },
     "metadata": {},
     "output_type": "display_data"
    },
    {
     "data": {
      "application/vnd.jupyter.widget-view+json": {
       "model_id": "fb6a76aecfe348d78b4122876fc1b70d",
       "version_major": 2,
       "version_minor": 0
      },
      "text/plain": [
       "Validation: |          | 0/? [00:00<?, ?it/s]"
      ]
     },
     "metadata": {},
     "output_type": "display_data"
    },
    {
     "data": {
      "application/vnd.jupyter.widget-view+json": {
       "model_id": "f1c7ac2334c4404d8de4f25442e6e234",
       "version_major": 2,
       "version_minor": 0
      },
      "text/plain": [
       "Validation: |          | 0/? [00:00<?, ?it/s]"
      ]
     },
     "metadata": {},
     "output_type": "display_data"
    },
    {
     "data": {
      "application/vnd.jupyter.widget-view+json": {
       "model_id": "a61af8e1b2be4c8695a69844450ea607",
       "version_major": 2,
       "version_minor": 0
      },
      "text/plain": [
       "Validation: |          | 0/? [00:00<?, ?it/s]"
      ]
     },
     "metadata": {},
     "output_type": "display_data"
    },
    {
     "data": {
      "application/vnd.jupyter.widget-view+json": {
       "model_id": "fbed10879e7649d783c2e7c46f888ccf",
       "version_major": 2,
       "version_minor": 0
      },
      "text/plain": [
       "Validation: |          | 0/? [00:00<?, ?it/s]"
      ]
     },
     "metadata": {},
     "output_type": "display_data"
    },
    {
     "data": {
      "application/vnd.jupyter.widget-view+json": {
       "model_id": "4de6b955a8fe4ee0a9ad301c7d2d325a",
       "version_major": 2,
       "version_minor": 0
      },
      "text/plain": [
       "Validation: |          | 0/? [00:00<?, ?it/s]"
      ]
     },
     "metadata": {},
     "output_type": "display_data"
    },
    {
     "data": {
      "application/vnd.jupyter.widget-view+json": {
       "model_id": "188b20a5c5af4f30a30c80ce2d891207",
       "version_major": 2,
       "version_minor": 0
      },
      "text/plain": [
       "Validation: |          | 0/? [00:00<?, ?it/s]"
      ]
     },
     "metadata": {},
     "output_type": "display_data"
    },
    {
     "data": {
      "application/vnd.jupyter.widget-view+json": {
       "model_id": "6ce25290ceb84298b23ea37b97bd743e",
       "version_major": 2,
       "version_minor": 0
      },
      "text/plain": [
       "Validation: |          | 0/? [00:00<?, ?it/s]"
      ]
     },
     "metadata": {},
     "output_type": "display_data"
    },
    {
     "data": {
      "application/vnd.jupyter.widget-view+json": {
       "model_id": "a21ed14479e6433f9ef533027cd0c609",
       "version_major": 2,
       "version_minor": 0
      },
      "text/plain": [
       "Validation: |          | 0/? [00:00<?, ?it/s]"
      ]
     },
     "metadata": {},
     "output_type": "display_data"
    },
    {
     "data": {
      "application/vnd.jupyter.widget-view+json": {
       "model_id": "70c237b63cbd4ad59e74a26bbc8057a0",
       "version_major": 2,
       "version_minor": 0
      },
      "text/plain": [
       "Validation: |          | 0/? [00:00<?, ?it/s]"
      ]
     },
     "metadata": {},
     "output_type": "display_data"
    },
    {
     "data": {
      "application/vnd.jupyter.widget-view+json": {
       "model_id": "e4f421a6ac864239b00bded295eb4828",
       "version_major": 2,
       "version_minor": 0
      },
      "text/plain": [
       "Validation: |          | 0/? [00:00<?, ?it/s]"
      ]
     },
     "metadata": {},
     "output_type": "display_data"
    },
    {
     "data": {
      "application/vnd.jupyter.widget-view+json": {
       "model_id": "fe822ea94fe84b99869fa646d7c8393d",
       "version_major": 2,
       "version_minor": 0
      },
      "text/plain": [
       "Validation: |          | 0/? [00:00<?, ?it/s]"
      ]
     },
     "metadata": {},
     "output_type": "display_data"
    },
    {
     "data": {
      "application/vnd.jupyter.widget-view+json": {
       "model_id": "1a4675922d22460593af08bf61b2d762",
       "version_major": 2,
       "version_minor": 0
      },
      "text/plain": [
       "Validation: |          | 0/? [00:00<?, ?it/s]"
      ]
     },
     "metadata": {},
     "output_type": "display_data"
    },
    {
     "data": {
      "application/vnd.jupyter.widget-view+json": {
       "model_id": "9a2152652ee5480eb38737c75621633f",
       "version_major": 2,
       "version_minor": 0
      },
      "text/plain": [
       "Validation: |          | 0/? [00:00<?, ?it/s]"
      ]
     },
     "metadata": {},
     "output_type": "display_data"
    },
    {
     "data": {
      "application/vnd.jupyter.widget-view+json": {
       "model_id": "49b813639127417ba73767b70e1274ff",
       "version_major": 2,
       "version_minor": 0
      },
      "text/plain": [
       "Validation: |          | 0/? [00:00<?, ?it/s]"
      ]
     },
     "metadata": {},
     "output_type": "display_data"
    },
    {
     "data": {
      "application/vnd.jupyter.widget-view+json": {
       "model_id": "00df5ff49ab7480a8112735441a4e45a",
       "version_major": 2,
       "version_minor": 0
      },
      "text/plain": [
       "Validation: |          | 0/? [00:00<?, ?it/s]"
      ]
     },
     "metadata": {},
     "output_type": "display_data"
    },
    {
     "data": {
      "application/vnd.jupyter.widget-view+json": {
       "model_id": "b723a86a2a614bfbb76e5079d2e5e2e8",
       "version_major": 2,
       "version_minor": 0
      },
      "text/plain": [
       "Validation: |          | 0/? [00:00<?, ?it/s]"
      ]
     },
     "metadata": {},
     "output_type": "display_data"
    },
    {
     "data": {
      "application/vnd.jupyter.widget-view+json": {
       "model_id": "5dc169886fd74899b63237de42218c95",
       "version_major": 2,
       "version_minor": 0
      },
      "text/plain": [
       "Validation: |          | 0/? [00:00<?, ?it/s]"
      ]
     },
     "metadata": {},
     "output_type": "display_data"
    },
    {
     "data": {
      "application/vnd.jupyter.widget-view+json": {
       "model_id": "69a3e39670ab41928e2c26d03b82b172",
       "version_major": 2,
       "version_minor": 0
      },
      "text/plain": [
       "Validation: |          | 0/? [00:00<?, ?it/s]"
      ]
     },
     "metadata": {},
     "output_type": "display_data"
    },
    {
     "data": {
      "application/vnd.jupyter.widget-view+json": {
       "model_id": "ccff0092a62a420d93578de0d7bb423d",
       "version_major": 2,
       "version_minor": 0
      },
      "text/plain": [
       "Validation: |          | 0/? [00:00<?, ?it/s]"
      ]
     },
     "metadata": {},
     "output_type": "display_data"
    },
    {
     "data": {
      "application/vnd.jupyter.widget-view+json": {
       "model_id": "309d48fc142b4b089a56a9769773c151",
       "version_major": 2,
       "version_minor": 0
      },
      "text/plain": [
       "Validation: |          | 0/? [00:00<?, ?it/s]"
      ]
     },
     "metadata": {},
     "output_type": "display_data"
    },
    {
     "data": {
      "application/vnd.jupyter.widget-view+json": {
       "model_id": "416fa4139d864598a8475b066940bde7",
       "version_major": 2,
       "version_minor": 0
      },
      "text/plain": [
       "Validation: |          | 0/? [00:00<?, ?it/s]"
      ]
     },
     "metadata": {},
     "output_type": "display_data"
    },
    {
     "data": {
      "application/vnd.jupyter.widget-view+json": {
       "model_id": "f42a01a0e5124542acac26fcfdc9ee7b",
       "version_major": 2,
       "version_minor": 0
      },
      "text/plain": [
       "Validation: |          | 0/? [00:00<?, ?it/s]"
      ]
     },
     "metadata": {},
     "output_type": "display_data"
    },
    {
     "data": {
      "application/vnd.jupyter.widget-view+json": {
       "model_id": "24d0cdfa935f4af59cc7924886c9484b",
       "version_major": 2,
       "version_minor": 0
      },
      "text/plain": [
       "Validation: |          | 0/? [00:00<?, ?it/s]"
      ]
     },
     "metadata": {},
     "output_type": "display_data"
    },
    {
     "data": {
      "application/vnd.jupyter.widget-view+json": {
       "model_id": "649a252893794668bbcb79f4ce17aa9a",
       "version_major": 2,
       "version_minor": 0
      },
      "text/plain": [
       "Validation: |          | 0/? [00:00<?, ?it/s]"
      ]
     },
     "metadata": {},
     "output_type": "display_data"
    },
    {
     "data": {
      "application/vnd.jupyter.widget-view+json": {
       "model_id": "37bc8c5e1ce94ae0a279c3d19edefa95",
       "version_major": 2,
       "version_minor": 0
      },
      "text/plain": [
       "Validation: |          | 0/? [00:00<?, ?it/s]"
      ]
     },
     "metadata": {},
     "output_type": "display_data"
    },
    {
     "data": {
      "application/vnd.jupyter.widget-view+json": {
       "model_id": "5039befcd44e4ab88e1fd4494e0c33dc",
       "version_major": 2,
       "version_minor": 0
      },
      "text/plain": [
       "Validation: |          | 0/? [00:00<?, ?it/s]"
      ]
     },
     "metadata": {},
     "output_type": "display_data"
    },
    {
     "data": {
      "application/vnd.jupyter.widget-view+json": {
       "model_id": "7e6115aa8baf47a3b3ae457dced2b56f",
       "version_major": 2,
       "version_minor": 0
      },
      "text/plain": [
       "Validation: |          | 0/? [00:00<?, ?it/s]"
      ]
     },
     "metadata": {},
     "output_type": "display_data"
    },
    {
     "data": {
      "application/vnd.jupyter.widget-view+json": {
       "model_id": "43acc7ada57b4dbbbafda2521606a626",
       "version_major": 2,
       "version_minor": 0
      },
      "text/plain": [
       "Validation: |          | 0/? [00:00<?, ?it/s]"
      ]
     },
     "metadata": {},
     "output_type": "display_data"
    },
    {
     "data": {
      "application/vnd.jupyter.widget-view+json": {
       "model_id": "0b0ca269d13445529d0d39b813f8e543",
       "version_major": 2,
       "version_minor": 0
      },
      "text/plain": [
       "Validation: |          | 0/? [00:00<?, ?it/s]"
      ]
     },
     "metadata": {},
     "output_type": "display_data"
    },
    {
     "name": "stderr",
     "output_type": "stream",
     "text": [
      "`Trainer.fit` stopped: `max_epochs=30` reached.\n",
      "Restoring states from the checkpoint path at /home/lucas/code/ece4179-neural-networks/labs/lab-3/logs/h1024/epoch=29-step=40860-v2.ckpt\n",
      "Loaded model weights from the checkpoint at /home/lucas/code/ece4179-neural-networks/labs/lab-3/logs/h1024/epoch=29-step=40860-v2.ckpt\n"
     ]
    },
    {
     "data": {
      "application/vnd.jupyter.widget-view+json": {
       "model_id": "0947fe89b91a4245b9b8e5aa34b32df0",
       "version_major": 2,
       "version_minor": 0
      },
      "text/plain": [
       "Testing: |          | 0/? [00:00<?, ?it/s]"
      ]
     },
     "metadata": {},
     "output_type": "display_data"
    },
    {
     "name": "stdout",
     "output_type": "stream",
     "text": [
      "────────────────────────────────────────────────────────────────────────────────────────────────────────────────────────\n",
      "       Test metric             DataLoader 0\n",
      "────────────────────────────────────────────────────────────────────────────────────────────────────────────────────────\n",
      "        test_acc            0.7343097925186157\n",
      "        test_loss           0.6337274312973022\n",
      "────────────────────────────────────────────────────────────────────────────────────────────────────────────────────────\n"
     ]
    },
    {
     "data": {
      "text/plain": [
       "[{'test_loss': 0.6337274312973022, 'test_acc': 0.7343097925186157}]"
      ]
     },
     "execution_count": 72,
     "metadata": {},
     "output_type": "execute_result"
    }
   ],
   "source": [
    "# Scenario c: Initialize Shallow MLP model with hidden node = 1024\n",
    "hidden_node = 1024\n",
    "model_shallow_c = Shallow_MLP(input_features, hidden_node, classes, lr)\n",
    "\n",
    "\n",
    "# Define checkpoint callback function to save best model\n",
    "checkpoint_callback_2c = ModelCheckpoint(\n",
    "    monitor=\"val_acc\",\n",
    "    dirpath=\"logs/h1024\",\n",
    "    save_top_k=1,\n",
    "    mode=\"max\",\n",
    "    every_n_epochs=1,\n",
    ")\n",
    "\n",
    "# Train and test the model\n",
    "trainer_2c = Trainer(\n",
    "    accelerator=\"auto\",\n",
    "    devices=1 if not torch.cuda.is_available() else torch.cuda.device_count(),\n",
    "    max_epochs=max_epochs,\n",
    "    callbacks=[TQDMProgressBar(refresh_rate=20), checkpoint_callback_2c],\n",
    "    logger=CSVLogger(\"logs\", name=\"h1024\", version=0),\n",
    ")\n",
    "\n",
    "# Start the training loop\n",
    "trainer_2c.fit(model_shallow_c)\n",
    "\n",
    "# Report the test performance\n",
    "trainer_2c.test(ckpt_path=\"best\")"
   ]
  },
  {
   "cell_type": "markdown",
   "metadata": {},
   "source": [
    "You should expect some output like :\n",
    "\n",
    "[{'test_loss': 0.6303123235702515, 'test_acc': 0.7377262115478516}]"
   ]
  },
  {
   "cell_type": "markdown",
   "metadata": {},
   "source": [
    "<div class=\"alert alert-block alert-info\">\n",
    "\n",
    "## 2.3 Train and evaluate model's performance <a class=\"anchor\" id=\"2_4\"></a>"
   ]
  },
  {
   "cell_type": "markdown",
   "metadata": {},
   "source": [
    "#### (a) Plot Training losses for the different shallow networks\n",
    "\n",
    "Now let's read the ```csv``` files that are stored during training and plot the losses for all different training setups.\n",
    "\n",
    "Make sure you include the following:\n",
    "- Make the plot on the same figure\n",
    "- Properly labelled axes\n",
    "- Proper title\n",
    "- Legends"
   ]
  },
  {
   "cell_type": "code",
   "execution_count": 73,
   "metadata": {},
   "outputs": [],
   "source": [
    "# read logs for 2a\n",
    "metrics_task_2a = pd.read_csv(\"logs/h8/version_0/metrics.csv\")\n",
    "metrics_task_2a.set_index(\"epoch\", inplace=True)\n",
    "metrics_task_2a = metrics_task_2a.groupby(level=0).sum().drop(\"step\", axis=1)\n",
    "\n",
    "# read logs for 2b\n",
    "metrics_task_2b = pd.read_csv(\"logs/h128/version_0/metrics.csv\")\n",
    "metrics_task_2b.set_index(\"epoch\", inplace=True)\n",
    "metrics_task_2b = metrics_task_2b.groupby(level=0).sum().drop(\"step\", axis=1)\n",
    "\n",
    "\n",
    "# read logs for 2c\n",
    "metrics_task_2c = pd.read_csv(\"logs/h1024/version_0/metrics.csv\")\n",
    "metrics_task_2c.set_index(\"epoch\", inplace=True)\n",
    "metrics_task_2c = metrics_task_2c.groupby(level=0).sum().drop(\"step\", axis=1)"
   ]
  },
  {
   "cell_type": "code",
   "execution_count": 74,
   "metadata": {},
   "outputs": [
    {
     "data": {
      "text/plain": [
       "<matplotlib.legend.Legend at 0x7fe172ab3590>"
      ]
     },
     "execution_count": 74,
     "metadata": {},
     "output_type": "execute_result"
    },
    {
     "data": {
      "image/png": "[encoded data removed]",
      "text/plain": [
       "<Figure size 1000x500 with 1 Axes>"
      ]
     },
     "metadata": {},
     "output_type": "display_data"
    }
   ],
   "source": [
    "# Plot using matplotlib\n",
    "plt.figure(figsize=(10, 5))\n",
    "\n",
    "plt.plot(metrics_task_2a[\"train_loss\"][:-1])\n",
    "plt.plot(metrics_task_2b[\"train_loss\"][:-1])\n",
    "plt.plot(metrics_task_2c[\"train_loss\"][:-1])\n",
    "plt.title(\"Training Loss Shallow MLP\")\n",
    "plt.xlabel(\"Epoch\")\n",
    "plt.ylabel(\"Loss\")\n",
    "plt.legend([\"Train Loss 8\", \"Train Loss 128\", \"Train Loss 1024\"])"
   ]
  },
  {
   "cell_type": "markdown",
   "metadata": {},
   "source": [
    "#### (b) Plot Validation accuracies for the different shallow networks\n",
    "\n",
    "Make sure you include the following for the accuracy plots too:\n",
    "- Make the plot on the same figure\n",
    "- Properly labelled axes\n",
    "- Proper title\n",
    "- Legends"
   ]
  },
  {
   "cell_type": "code",
   "execution_count": 75,
   "metadata": {},
   "outputs": [
    {
     "data": {
      "text/plain": [
       "<matplotlib.legend.Legend at 0x7fe172afa960>"
      ]
     },
     "execution_count": 75,
     "metadata": {},
     "output_type": "execute_result"
    },
    {
     "data": {
      "image/png": "[encoded data removed]",
      "text/plain": [
       "<Figure size 1000x500 with 1 Axes>"
      ]
     },
     "metadata": {},
     "output_type": "display_data"
    }
   ],
   "source": [
    "# Plot using matplotlib\n",
    "plt.figure(figsize=(10, 5))\n",
    "\n",
    "plt.plot(metrics_task_2a[\"val_acc\"][:-1])\n",
    "plt.plot(metrics_task_2b[\"val_acc\"][:-1])\n",
    "plt.plot(metrics_task_2c[\"val_acc\"][:-1])\n",
    "plt.title(\"Validation Accuracy Shallow MLP\")\n",
    "plt.xlabel(\"Epoch\")\n",
    "plt.ylabel(\"Loss\")\n",
    "plt.legend(\n",
    "    [\"Validation Accuracy 8\", \"Validation Accuracy 128\", \"Validation Accuracy 1024\"]\n",
    ")"
   ]
  },
  {
   "cell_type": "markdown",
   "metadata": {},
   "source": [
    "<div class=\"alert alert-block alert-success\">\n",
    "\n",
    "### Discussion\n",
    "\n",
    "Please enter your answers below\n",
    "\n",
    "**Question 1: In task 2.1(b) Why have a balanced split across classes is necessary?**\n",
    "\n",
    "To prevent overfitting for a subset of outputs during training.\n",
    "\n",
    "**Question 2: In the code provided below, select one model you have trained, then print out 5 predictions of test set along with groundtruth labels. How do you think the performance of the model?**\n",
    "\n",
    "The chosen model was the model with 128 hidden neurons.\n",
    "The performance is not great. From the training and test runs, the accuracy was around 43%, so getting 4/5 correct is better than expected. Having less than 50% accuracy is pretty abysmal and not very useful for any sort of automation.\n",
    "\n",
    "**Question 3: Now please provide at least 2-3 suggestions to improve the performance of the shallow MLP, you should support your idea with reasoning or providing results of implementing the idea.**\n",
    "\n",
    "- increase the number of hidden neurons. Solid proof that this improves performance is from the fact that the 1024 neuron model performs better.\n",
    "- increase number of training epochs. From the validation loss and accuracy graphs, it looks like those values have not completely plateaued after 30 epochs, so continuing to train for longer would improve performance.\n"
   ]
  },
  {
   "cell_type": "code",
   "execution_count": 76,
   "metadata": {},
   "outputs": [
    {
     "name": "stdout",
     "output_type": "stream",
     "text": [
      "Prediction: 3\n",
      "Ground Truth: 6\n",
      "----------------------------------------------------\n",
      "Prediction: 1\n",
      "Ground Truth: 1\n",
      "----------------------------------------------------\n",
      "Prediction: 1\n",
      "Ground Truth: 1\n",
      "----------------------------------------------------\n",
      "Prediction: 2\n",
      "Ground Truth: 2\n",
      "----------------------------------------------------\n",
      "Prediction: 2\n",
      "Ground Truth: 2\n",
      "----------------------------------------------------\n"
     ]
    }
   ],
   "source": [
    "# Generate predictions using predict function\n",
    "inputs = test_dataset.tensors[0][:5, :]\n",
    "outputs = model_shallow_b(inputs)\n",
    "\n",
    "predictions_2b, labels_2b, inputs_2b = (\n",
    "    outputs.argmax(1),\n",
    "    test_dataset.tensors[1][:5],\n",
    "    inputs,\n",
    ")\n",
    "\n",
    "# printout predictions along with ground truths\n",
    "n = 5\n",
    "labels_2b = labels_2b.cpu().numpy()\n",
    "\n",
    "for i in range(n):\n",
    "    print(f\"Prediction: {label_encoder.inverse_transform([predictions_2b[i]])[0]}\")\n",
    "    print(f\"Ground Truth: {label_encoder.inverse_transform([labels_2b[i]])[0]}\")\n",
    "    print(\"----------------------------------------------------\")"
   ]
  },
  {
   "cell_type": "markdown",
   "metadata": {},
   "source": [
    "<div class=\"alert alert-block alert-info\">\n",
    "\n",
    "# Task 3 Deep MLP <a class=\"anchor\" id=\"task3\"></a>\n",
    "\n",
    "How about to build a different network for this dataset? \n"
   ]
  },
  {
   "cell_type": "markdown",
   "metadata": {},
   "source": [
    "<div class=\"alert alert-block alert-info\">\n",
    "\n",
    "## Learning Objective\n",
    "\n",
    "This task aims to understand and implement a Deep MLP model to train neural networks on the CoverType dataset. By the end of this task, you will be able to:\n",
    "\n",
    "1. Implement a Deep Multi-Layer Perceptron (MLP) model using PyTorch Lightning's framework.\n",
    "\n",
    "2. Apply stochastic gradient descent (SGD) optimization method to train the MLP model on the CoverType dataset.\n",
    "\n",
    "3. Visualize and analyze the performance of the MLP model on the given samples to understand how well it fits the data."
   ]
  },
  {
   "cell_type": "markdown",
   "metadata": {},
   "source": [
    "<div class=\"alert alert-block alert-info\">\n",
    "\n",
    "## 3.1 Design Deep MLP <a class=\"anchor\" id=\"3_1\"></a>\n",
    "\n",
    "Design a Deep MLP:\n",
    " - You need to instantiate Deep_MLP class from LightningModule\n",
    " - Deep_MLP must take these inputs:\n",
    "   1. the number of input features\n",
    "   2. the number of classes\n",
    "   3. A list showing number of nodes in hidden layers (e.g hidden_layers = [n_hidden1 n_hidden2 n_hidden3 n_hidden4])\n",
    "   4. the learning_rate\n",
    "   5. the train loader\n",
    "   6. the test loader \n",
    "   7. the validation loader\n",
    "\n",
    " - And it should have metrics to evaluate model performance:\n",
    "   1. train_accuracy\n",
    "   2. test_accuracy\n",
    "   3. val_accuracy\n",
    "   - To define these metrics you should use Accuracy() class from pytorch-lightning"
   ]
  },
  {
   "cell_type": "markdown",
   "metadata": {},
   "source": [
    "- Let's define a deep MLP with 5 hidden layers, all with **ReLU** as activation functions afterwards: \n",
    "  - fc1: Input Layer: Linear(#input features $\\times$ n_hidden1) $\\rightarrow$ ReLU $\\rightarrow$\n",
    "  - fc2: Hidden Layer: Linear(n_hidden1 $\\times$ n_hidden2) $\\rightarrow$ ReLU $\\rightarrow$\n",
    "  - fc3: Hidden Layer: Linear(n_hidden2 $\\times$ n_hidden3) $\\rightarrow$ ReLU $\\rightarrow$\n",
    "  - fc4: Hidden Layer: Linear(n_hidden3 $\\times$ n_hidden4) $\\rightarrow$ ReLU $\\rightarrow$\n",
    "  - fc5: Output Layer: Linear(n_hidden4 $\\times$ classes) : Output layer maps the hidden nodes into class scores (logits)\n",
    "\n",
    "The Class should take a list of numbers during initialisation and define the network from there."
   ]
  },
  {
   "cell_type": "code",
   "execution_count": 91,
   "metadata": {},
   "outputs": [],
   "source": [
    "class Deep_MLP(LightningModule):\n",
    "    def __init__(\n",
    "        self,\n",
    "        input_features,\n",
    "        classes,\n",
    "        hidden_layers,\n",
    "        learning_rate=1e-1,\n",
    "        optimizer=\"SGD\",\n",
    "    ):\n",
    "        super().__init__()\n",
    "        self.save_hyperparameters()\n",
    "\n",
    "        self.learning_rate = learning_rate\n",
    "        self.loss_fun = nn.CrossEntropyLoss()\n",
    "        self.classes = classes\n",
    "        self.optimizer = optimizer\n",
    "\n",
    "        # Define the 5 fc layers\n",
    "        self.linear1 = nn.Linear(input_features, hidden_layers[0])\n",
    "        self.linear2 = nn.Linear(hidden_layers[0], hidden_layers[1])\n",
    "        self.linear3 = nn.Linear(hidden_layers[1], hidden_layers[2])\n",
    "        self.linear4 = nn.Linear(hidden_layers[2], hidden_layers[3])\n",
    "        self.linear5 = nn.Linear(hidden_layers[3], classes)\n",
    "\n",
    "        self.train_accuracy = MulticlassAccuracy(classes, average=\"micro\")\n",
    "        self.val_accuracy = MulticlassAccuracy(classes, average=\"micro\")\n",
    "        self.test_accuracy = MulticlassAccuracy(classes, average=\"micro\")\n",
    "\n",
    "    def forward(self, x):\n",
    "\n",
    "        # Pass input through layers\n",
    "        # Don't forget the activation function\n",
    "\n",
    "        out1 = nn.functional.relu(self.linear1(x))\n",
    "        out2 = nn.functional.relu(self.linear2(out1))\n",
    "        out3 = nn.functional.relu(self.linear3(out2))\n",
    "        out4 = nn.functional.relu(self.linear4(out3))\n",
    "        out5 = self.linear5(out4)\n",
    "\n",
    "        return out5\n",
    "\n",
    "    def training_step(self, batch, batch_idx):\n",
    "        # get the x and y values of the data point\n",
    "        # pass through the network\n",
    "        # Get the loss\n",
    "        x, y = batch\n",
    "        logits = self(x)\n",
    "        loss = self.loss_fun(logits, y)\n",
    "\n",
    "        preds = logits.argmax(1)\n",
    "        self.train_accuracy.update(preds, y)\n",
    "\n",
    "        self.log(\"train_loss\", loss, prog_bar=True, on_step=False, on_epoch=True)\n",
    "        self.log(\n",
    "            \"train_acc\",\n",
    "            self.train_accuracy.compute(),\n",
    "            prog_bar=True,\n",
    "            on_step=False,\n",
    "            on_epoch=True,\n",
    "        )\n",
    "\n",
    "        return loss\n",
    "\n",
    "    def validation_step(self, batch, batch_idx):\n",
    "        # get the x and y values of the data point\n",
    "        # pass through the network\n",
    "        # Get the loss\n",
    "        x, y = batch\n",
    "        logits = self(x)\n",
    "        loss = self.loss_fun(logits, y)\n",
    "\n",
    "        preds = logits.argmax(1)\n",
    "        self.val_accuracy.update(preds, y)\n",
    "\n",
    "        # Calling self.log will surface up scalars for you in TensorBoard\n",
    "        self.log(\"val_loss\", loss, prog_bar=True, on_step=False, on_epoch=True)\n",
    "        self.log(\n",
    "            \"val_acc\",\n",
    "            self.val_accuracy.compute(),\n",
    "            prog_bar=True,\n",
    "            on_step=False,\n",
    "            on_epoch=True,\n",
    "        )\n",
    "        return loss\n",
    "\n",
    "    def test_step(self, batch, batch_idx):\n",
    "        # get the x and y values of the data point\n",
    "        # pass through the network\n",
    "        # Get the loss\n",
    "        x, y = batch\n",
    "        logits = self(x)\n",
    "        loss = self.loss_fun(logits, y)\n",
    "\n",
    "        preds = logits.argmax(1)\n",
    "        self.test_accuracy.update(preds, y)\n",
    "\n",
    "        # Calling self.log will surface up scalars for you in TensorBoard\n",
    "        self.log(\"test_loss\", loss, prog_bar=True)\n",
    "        self.log(\"test_acc\", self.test_accuracy.compute(), prog_bar=True)\n",
    "        return loss\n",
    "\n",
    "    def predict_step(self, batch, batch_idx):\n",
    "        # get the x and y values of the data point\n",
    "        # pass through the network\n",
    "        # Get the loss\n",
    "        x, y = batch\n",
    "        logits = self(x)\n",
    "        loss = self.loss_fun(logits, y)\n",
    "\n",
    "        pred = logits.argmax(1)\n",
    "        return pred, y, x\n",
    "\n",
    "    def configure_optimizers(self):\n",
    "        # define the SGD optimizer\n",
    "        if self.optimizer == \"SGD\":\n",
    "            optimizer = optim.SGD(self.parameters(), lr=self.learning_rate)\n",
    "        if self.optimizer == \"Adam\":\n",
    "            optimizer = optim.Adam(self.parameters(), lr=self.learning_rate)\n",
    "        if self.optimizer == \"AdamW\":\n",
    "            optimizer = optim.AdamW(self.parameters(), lr=self.learning_rate)\n",
    "        return optimizer\n",
    "\n",
    "    ####################\n",
    "    # DATA RELATED HOOKS\n",
    "    ####################\n",
    "\n",
    "    def train_dataloader(self):\n",
    "        return train_loader\n",
    "\n",
    "    def val_dataloader(self):\n",
    "        return val_loader\n",
    "\n",
    "    def test_dataloader(self):\n",
    "        return test_loader"
   ]
  },
  {
   "cell_type": "markdown",
   "metadata": {},
   "source": [
    "<div class=\"alert alert-block alert-info\">\n",
    "\n",
    "## 3.2 Train and evaluate model's performance <a class=\"anchor\" id=\"3_2\"></a>\n",
    "\n",
    "Now, create an instance of the model and with the following hidden layers: [128, 64, 32, 16] \n",
    "\n",
    "\n",
    "The forward propagation of model should follow this:\n",
    "- Hidden layers: [n_hidden1 , n_hidden2 , n_hidden3, n_hidden4]\n",
    "- Linear(#input features $\\times$ n_hidden1) $\\rightarrow$ ReLU $\\rightarrow$ Linear(n_hidden1 $\\times$ n_hidden2) $\\rightarrow$ ReLU $\\rightarrow$  Linear(n_hidden2 $\\times$ n_hidden3) $\\rightarrow$ Relu $\\rightarrow$ Linear(n_hidden3 $\\times$ n_hidden4)  $\\rightarrow$ Relu $\\rightarrow$ Linear(n_hidden4 $\\times$ classes)\n",
    "- Note: Make sure to set name for log file directories (eg: logs_task_3)\n",
    "\n"
   ]
  },
  {
   "cell_type": "code",
   "execution_count": 78,
   "metadata": {},
   "outputs": [
    {
     "name": "stderr",
     "output_type": "stream",
     "text": [
      "GPU available: False, used: False\n",
      "TPU available: False, using: 0 TPU cores\n",
      "HPU available: False, using: 0 HPUs\n",
      "/nix/store/bxj3ic1m66k3p690vwgb0913l5l46bk9-python3-3.12.4-env/lib/python3.12/site-packages/lightning_fabric/loggers/csv_logs.py:269: Experiment logs directory logs/deep/version_0 exists and is not empty. Previous log files in this directory will be deleted when the new ones are saved!\n",
      "/nix/store/bxj3ic1m66k3p690vwgb0913l5l46bk9-python3-3.12.4-env/lib/python3.12/site-packages/pytorch_lightning/callbacks/model_checkpoint.py:652: Checkpoint directory /home/lucas/code/ece4179-neural-networks/labs/lab-3/logs/deep exists and is not empty.\n",
      "\n",
      "  | Name           | Type               | Params | Mode \n",
      "--------------------------------------------------------------\n",
      "0 | loss_fun       | CrossEntropyLoss   | 0      | train\n",
      "1 | linear1        | Linear             | 7.0 K  | train\n",
      "2 | linear2        | Linear             | 8.3 K  | train\n",
      "3 | linear3        | Linear             | 2.1 K  | train\n",
      "4 | linear4        | Linear             | 528    | train\n",
      "5 | linear5        | Linear             | 119    | train\n",
      "6 | train_accuracy | MulticlassAccuracy | 0      | train\n",
      "7 | val_accuracy   | MulticlassAccuracy | 0      | train\n",
      "8 | test_accuracy  | MulticlassAccuracy | 0      | train\n",
      "--------------------------------------------------------------\n",
      "18.0 K    Trainable params\n",
      "0         Non-trainable params\n",
      "18.0 K    Total params\n",
      "0.072     Total estimated model params size (MB)\n"
     ]
    },
    {
     "data": {
      "application/vnd.jupyter.widget-view+json": {
       "model_id": "124e0d3b3ef1480e8c54e9af03d9ba15",
       "version_major": 2,
       "version_minor": 0
      },
      "text/plain": [
       "Sanity Checking: |          | 0/? [00:00<?, ?it/s]"
      ]
     },
     "metadata": {},
     "output_type": "display_data"
    },
    {
     "name": "stderr",
     "output_type": "stream",
     "text": [
      "/nix/store/bxj3ic1m66k3p690vwgb0913l5l46bk9-python3-3.12.4-env/lib/python3.12/site-packages/pytorch_lightning/trainer/connectors/data_connector.py:424: The 'val_dataloader' does not have many workers which may be a bottleneck. Consider increasing the value of the `num_workers` argument` to `num_workers=15` in the `DataLoader` to improve performance.\n"
     ]
    },
    {
     "name": "stderr",
     "output_type": "stream",
     "text": [
      "/nix/store/bxj3ic1m66k3p690vwgb0913l5l46bk9-python3-3.12.4-env/lib/python3.12/site-packages/pytorch_lightning/trainer/connectors/data_connector.py:424: The 'train_dataloader' does not have many workers which may be a bottleneck. Consider increasing the value of the `num_workers` argument` to `num_workers=15` in the `DataLoader` to improve performance.\n"
     ]
    },
    {
     "data": {
      "application/vnd.jupyter.widget-view+json": {
       "model_id": "bb59f0c77b28483ca26d52432e648e11",
       "version_major": 2,
       "version_minor": 0
      },
      "text/plain": [
       "Training: |          | 0/? [00:00<?, ?it/s]"
      ]
     },
     "metadata": {},
     "output_type": "display_data"
    },
    {
     "data": {
      "application/vnd.jupyter.widget-view+json": {
       "model_id": "d6f118c6cd5246929db39314ecfda6d5",
       "version_major": 2,
       "version_minor": 0
      },
      "text/plain": [
       "Validation: |          | 0/? [00:00<?, ?it/s]"
      ]
     },
     "metadata": {},
     "output_type": "display_data"
    },
    {
     "data": {
      "application/vnd.jupyter.widget-view+json": {
       "model_id": "e63571c1f36145ff8125ed8f38495bb0",
       "version_major": 2,
       "version_minor": 0
      },
      "text/plain": [
       "Validation: |          | 0/? [00:00<?, ?it/s]"
      ]
     },
     "metadata": {},
     "output_type": "display_data"
    },
    {
     "data": {
      "application/vnd.jupyter.widget-view+json": {
       "model_id": "09b2d66249a142edaa044c0c97eac141",
       "version_major": 2,
       "version_minor": 0
      },
      "text/plain": [
       "Validation: |          | 0/? [00:00<?, ?it/s]"
      ]
     },
     "metadata": {},
     "output_type": "display_data"
    },
    {
     "data": {
      "application/vnd.jupyter.widget-view+json": {
       "model_id": "92251d9920f546b3b79f03997a6a00ec",
       "version_major": 2,
       "version_minor": 0
      },
      "text/plain": [
       "Validation: |          | 0/? [00:00<?, ?it/s]"
      ]
     },
     "metadata": {},
     "output_type": "display_data"
    },
    {
     "data": {
      "application/vnd.jupyter.widget-view+json": {
       "model_id": "7fd61d5f741e4426a5e635d2dbedb2eb",
       "version_major": 2,
       "version_minor": 0
      },
      "text/plain": [
       "Validation: |          | 0/? [00:00<?, ?it/s]"
      ]
     },
     "metadata": {},
     "output_type": "display_data"
    },
    {
     "data": {
      "application/vnd.jupyter.widget-view+json": {
       "model_id": "f8470a5369b143d893b5b0d7436f21e3",
       "version_major": 2,
       "version_minor": 0
      },
      "text/plain": [
       "Validation: |          | 0/? [00:00<?, ?it/s]"
      ]
     },
     "metadata": {},
     "output_type": "display_data"
    },
    {
     "data": {
      "application/vnd.jupyter.widget-view+json": {
       "model_id": "193a69157d1642f8abda2472044bab04",
       "version_major": 2,
       "version_minor": 0
      },
      "text/plain": [
       "Validation: |          | 0/? [00:00<?, ?it/s]"
      ]
     },
     "metadata": {},
     "output_type": "display_data"
    },
    {
     "data": {
      "application/vnd.jupyter.widget-view+json": {
       "model_id": "830a0fc166354ab39e7f211bcbdf2619",
       "version_major": 2,
       "version_minor": 0
      },
      "text/plain": [
       "Validation: |          | 0/? [00:00<?, ?it/s]"
      ]
     },
     "metadata": {},
     "output_type": "display_data"
    },
    {
     "data": {
      "application/vnd.jupyter.widget-view+json": {
       "model_id": "c89f1f6d66624e258845a2ac374ba659",
       "version_major": 2,
       "version_minor": 0
      },
      "text/plain": [
       "Validation: |          | 0/? [00:00<?, ?it/s]"
      ]
     },
     "metadata": {},
     "output_type": "display_data"
    },
    {
     "data": {
      "application/vnd.jupyter.widget-view+json": {
       "model_id": "41633bb59c754a6fb0d3baf9d35f1def",
       "version_major": 2,
       "version_minor": 0
      },
      "text/plain": [
       "Validation: |          | 0/? [00:00<?, ?it/s]"
      ]
     },
     "metadata": {},
     "output_type": "display_data"
    },
    {
     "data": {
      "application/vnd.jupyter.widget-view+json": {
       "model_id": "4a1ff37f8d004737a9c4db753abab750",
       "version_major": 2,
       "version_minor": 0
      },
      "text/plain": [
       "Validation: |          | 0/? [00:00<?, ?it/s]"
      ]
     },
     "metadata": {},
     "output_type": "display_data"
    },
    {
     "data": {
      "application/vnd.jupyter.widget-view+json": {
       "model_id": "b5bbb694cb04444391775c4a6c8b0078",
       "version_major": 2,
       "version_minor": 0
      },
      "text/plain": [
       "Validation: |          | 0/? [00:00<?, ?it/s]"
      ]
     },
     "metadata": {},
     "output_type": "display_data"
    },
    {
     "data": {
      "application/vnd.jupyter.widget-view+json": {
       "model_id": "655012df6f984c90812fece0a0a41f99",
       "version_major": 2,
       "version_minor": 0
      },
      "text/plain": [
       "Validation: |          | 0/? [00:00<?, ?it/s]"
      ]
     },
     "metadata": {},
     "output_type": "display_data"
    },
    {
     "data": {
      "application/vnd.jupyter.widget-view+json": {
       "model_id": "58b7af7275ae48ef8bfc945a231fb47a",
       "version_major": 2,
       "version_minor": 0
      },
      "text/plain": [
       "Validation: |          | 0/? [00:00<?, ?it/s]"
      ]
     },
     "metadata": {},
     "output_type": "display_data"
    },
    {
     "data": {
      "application/vnd.jupyter.widget-view+json": {
       "model_id": "f1d892d6a86042db8df181e2840ab625",
       "version_major": 2,
       "version_minor": 0
      },
      "text/plain": [
       "Validation: |          | 0/? [00:00<?, ?it/s]"
      ]
     },
     "metadata": {},
     "output_type": "display_data"
    },
    {
     "data": {
      "application/vnd.jupyter.widget-view+json": {
       "model_id": "8436b8f33af642f49c79af9ca49d0fb0",
       "version_major": 2,
       "version_minor": 0
      },
      "text/plain": [
       "Validation: |          | 0/? [00:00<?, ?it/s]"
      ]
     },
     "metadata": {},
     "output_type": "display_data"
    },
    {
     "data": {
      "application/vnd.jupyter.widget-view+json": {
       "model_id": "0454eae0c89343a49f8517f947842deb",
       "version_major": 2,
       "version_minor": 0
      },
      "text/plain": [
       "Validation: |          | 0/? [00:00<?, ?it/s]"
      ]
     },
     "metadata": {},
     "output_type": "display_data"
    },
    {
     "data": {
      "application/vnd.jupyter.widget-view+json": {
       "model_id": "79fee2bfd283446785704aa671038316",
       "version_major": 2,
       "version_minor": 0
      },
      "text/plain": [
       "Validation: |          | 0/? [00:00<?, ?it/s]"
      ]
     },
     "metadata": {},
     "output_type": "display_data"
    },
    {
     "data": {
      "application/vnd.jupyter.widget-view+json": {
       "model_id": "71d42890e5114ed9be676ea356ba2bae",
       "version_major": 2,
       "version_minor": 0
      },
      "text/plain": [
       "Validation: |          | 0/? [00:00<?, ?it/s]"
      ]
     },
     "metadata": {},
     "output_type": "display_data"
    },
    {
     "data": {
      "application/vnd.jupyter.widget-view+json": {
       "model_id": "40c9bcd998ff429582602aeea307a432",
       "version_major": 2,
       "version_minor": 0
      },
      "text/plain": [
       "Validation: |          | 0/? [00:00<?, ?it/s]"
      ]
     },
     "metadata": {},
     "output_type": "display_data"
    },
    {
     "data": {
      "application/vnd.jupyter.widget-view+json": {
       "model_id": "ee7bb40292f847bcb39e8b502d77e163",
       "version_major": 2,
       "version_minor": 0
      },
      "text/plain": [
       "Validation: |          | 0/? [00:00<?, ?it/s]"
      ]
     },
     "metadata": {},
     "output_type": "display_data"
    },
    {
     "data": {
      "application/vnd.jupyter.widget-view+json": {
       "model_id": "3e654647b23f4f4fbc8688b79f9065c1",
       "version_major": 2,
       "version_minor": 0
      },
      "text/plain": [
       "Validation: |          | 0/? [00:00<?, ?it/s]"
      ]
     },
     "metadata": {},
     "output_type": "display_data"
    },
    {
     "data": {
      "application/vnd.jupyter.widget-view+json": {
       "model_id": "8056cdb1e34a463796aa1d1120199d56",
       "version_major": 2,
       "version_minor": 0
      },
      "text/plain": [
       "Validation: |          | 0/? [00:00<?, ?it/s]"
      ]
     },
     "metadata": {},
     "output_type": "display_data"
    },
    {
     "data": {
      "application/vnd.jupyter.widget-view+json": {
       "model_id": "ed786bbf54a74db48baafae4af2ba1e7",
       "version_major": 2,
       "version_minor": 0
      },
      "text/plain": [
       "Validation: |          | 0/? [00:00<?, ?it/s]"
      ]
     },
     "metadata": {},
     "output_type": "display_data"
    },
    {
     "data": {
      "application/vnd.jupyter.widget-view+json": {
       "model_id": "9f734f3c4c8b44eeb302737c12a7cb86",
       "version_major": 2,
       "version_minor": 0
      },
      "text/plain": [
       "Validation: |          | 0/? [00:00<?, ?it/s]"
      ]
     },
     "metadata": {},
     "output_type": "display_data"
    },
    {
     "data": {
      "application/vnd.jupyter.widget-view+json": {
       "model_id": "91decacbbccd404499c0201d68f61938",
       "version_major": 2,
       "version_minor": 0
      },
      "text/plain": [
       "Validation: |          | 0/? [00:00<?, ?it/s]"
      ]
     },
     "metadata": {},
     "output_type": "display_data"
    },
    {
     "data": {
      "application/vnd.jupyter.widget-view+json": {
       "model_id": "486ac697716445de88af97b92fd144b7",
       "version_major": 2,
       "version_minor": 0
      },
      "text/plain": [
       "Validation: |          | 0/? [00:00<?, ?it/s]"
      ]
     },
     "metadata": {},
     "output_type": "display_data"
    },
    {
     "data": {
      "application/vnd.jupyter.widget-view+json": {
       "model_id": "7346c007462c467fb173f031a8876407",
       "version_major": 2,
       "version_minor": 0
      },
      "text/plain": [
       "Validation: |          | 0/? [00:00<?, ?it/s]"
      ]
     },
     "metadata": {},
     "output_type": "display_data"
    },
    {
     "data": {
      "application/vnd.jupyter.widget-view+json": {
       "model_id": "f3ca324427ab48a5aeb1febd5552eca2",
       "version_major": 2,
       "version_minor": 0
      },
      "text/plain": [
       "Validation: |          | 0/? [00:00<?, ?it/s]"
      ]
     },
     "metadata": {},
     "output_type": "display_data"
    },
    {
     "data": {
      "application/vnd.jupyter.widget-view+json": {
       "model_id": "dac3638004e843d8b34a8c6652eb0830",
       "version_major": 2,
       "version_minor": 0
      },
      "text/plain": [
       "Validation: |          | 0/? [00:00<?, ?it/s]"
      ]
     },
     "metadata": {},
     "output_type": "display_data"
    },
    {
     "name": "stderr",
     "output_type": "stream",
     "text": [
      "`Trainer.fit` stopped: `max_epochs=30` reached.\n",
      "Restoring states from the checkpoint path at /home/lucas/code/ece4179-neural-networks/labs/lab-3/logs/deep/epoch=29-step=40860-v5.ckpt\n",
      "Loaded model weights from the checkpoint at /home/lucas/code/ece4179-neural-networks/labs/lab-3/logs/deep/epoch=29-step=40860-v5.ckpt\n",
      "/nix/store/bxj3ic1m66k3p690vwgb0913l5l46bk9-python3-3.12.4-env/lib/python3.12/site-packages/pytorch_lightning/trainer/connectors/data_connector.py:424: The 'test_dataloader' does not have many workers which may be a bottleneck. Consider increasing the value of the `num_workers` argument` to `num_workers=15` in the `DataLoader` to improve performance.\n"
     ]
    },
    {
     "data": {
      "application/vnd.jupyter.widget-view+json": {
       "model_id": "ce38d06d26ae4707b64c0d01a495bcbc",
       "version_major": 2,
       "version_minor": 0
      },
      "text/plain": [
       "Testing: |          | 0/? [00:00<?, ?it/s]"
      ]
     },
     "metadata": {},
     "output_type": "display_data"
    },
    {
     "name": "stdout",
     "output_type": "stream",
     "text": [
      "────────────────────────────────────────────────────────────────────────────────────────────────────────────────────────\n",
      "       Test metric             DataLoader 0\n",
      "────────────────────────────────────────────────────────────────────────────────────────────────────────────────────────\n",
      "        test_acc            0.7347297072410583\n",
      "        test_loss           0.6476495862007141\n",
      "────────────────────────────────────────────────────────────────────────────────────────────────────────────────────────\n"
     ]
    },
    {
     "data": {
      "text/plain": [
       "[{'test_loss': 0.6476495862007141, 'test_acc': 0.7347297072410583}]"
      ]
     },
     "execution_count": 78,
     "metadata": {},
     "output_type": "execute_result"
    }
   ],
   "source": [
    "# define the epochs and learning rate\n",
    "max_epochs = 30\n",
    "lr = 1.5e-3\n",
    "\n",
    "# define the input features and output classes\n",
    "input_features = X.shape[1]\n",
    "classes = len(unique_labels)\n",
    "\n",
    "# Initialize Deep MLP model\n",
    "hidden_layers = [128, 64, 32, 16]\n",
    "model_deep_a = Deep_MLP(input_features, classes, hidden_layers, lr)\n",
    "\n",
    "# Define checkpoint callback function to save best model\n",
    "checkpoint_callback_3 = ModelCheckpoint(\n",
    "    monitor=\"val_acc\",  # the value to watch out on checking the model performance\n",
    "    dirpath=\"logs/deep\",  # path to save the checkpoint\n",
    "    save_top_k=1,  # save the best model\n",
    "    mode=\"max\",\n",
    "    every_n_epochs=1,\n",
    ")\n",
    "\n",
    "# Train and Test Model\n",
    "trainer_3 = Trainer(\n",
    "    accelerator=\"auto\",\n",
    "    devices=1 if not torch.cuda.is_available() else torch.cuda.device_count(),\n",
    "    max_epochs=max_epochs,\n",
    "    callbacks=[TQDMProgressBar(refresh_rate=20), checkpoint_callback_3],\n",
    "    logger=CSVLogger(\"logs\", name=\"deep\", version=0),\n",
    ")\n",
    "\n",
    "# Start the training loop\n",
    "trainer_3.fit(model_deep_a, train_loader, val_loader)\n",
    "\n",
    "# Report the test performance\n",
    "trainer_3.test(\n",
    "    model_deep_a,\n",
    "    test_loader,\n",
    "    ckpt_path=\"best\",\n",
    ")"
   ]
  },
  {
   "cell_type": "markdown",
   "metadata": {},
   "source": [
    "You should expect an output like :\n",
    "[{'test_loss': 0.7383896708488464, 'test_acc': 0.7318916320800781}]"
   ]
  },
  {
   "cell_type": "markdown",
   "metadata": {},
   "source": [
    "<div class=\"alert alert-block alert-info\">\n",
    "\n",
    "## 3.3 Visualise the results for the network. <a class=\"anchor\" id=\"3_3\"></a>"
   ]
  },
  {
   "cell_type": "markdown",
   "metadata": {},
   "source": [
    "#### (a) Plot the training loss and validation loss on the same figure. Make sure you have the axes and title properly labelled."
   ]
  },
  {
   "cell_type": "code",
   "execution_count": 79,
   "metadata": {},
   "outputs": [],
   "source": [
    "# read logs for 3\n",
    "metrics_task_3 = pd.read_csv(\"logs/deep/version_0/metrics.csv\")\n",
    "metrics_task_3.set_index(\"epoch\", inplace=True)\n",
    "metrics_task_3 = metrics_task_3.groupby(level=0).sum().drop(\"step\", axis=1)"
   ]
  },
  {
   "cell_type": "code",
   "execution_count": 80,
   "metadata": {},
   "outputs": [
    {
     "data": {
      "image/png": "[encoded data removed]",
      "text/plain": [
       "<Figure size 1000x500 with 1 Axes>"
      ]
     },
     "metadata": {},
     "output_type": "display_data"
    }
   ],
   "source": [
    "# Plot using matplotlib\n",
    "plt.figure(figsize=(10, 5))\n",
    "\n",
    "plt.plot(metrics_task_3[\"train_loss\"][:-1])\n",
    "plt.plot(metrics_task_3[\"val_loss\"][:-1])\n",
    "plt.title(\"Training Loss Deep MLP\")\n",
    "plt.xlabel(\"Epoch\")\n",
    "plt.ylabel(\"Loss\")\n",
    "plt.legend([\"Train\", \"Validation\"])\n",
    "plt.show()"
   ]
  },
  {
   "cell_type": "markdown",
   "metadata": {},
   "source": [
    "#### (b) Plot the training accuracy and validation accuracy on the same figure. Make sure you have the axes and title properly labelled."
   ]
  },
  {
   "cell_type": "code",
   "execution_count": 81,
   "metadata": {},
   "outputs": [
    {
     "data": {
      "image/png": "[encoded data removed]",
      "text/plain": [
       "<Figure size 1000x500 with 1 Axes>"
      ]
     },
     "metadata": {},
     "output_type": "display_data"
    }
   ],
   "source": [
    "# Plot using matplotlib\n",
    "plt.figure(figsize=(10, 5))\n",
    "\n",
    "plt.plot(metrics_task_3[\"train_acc\"][:-1])\n",
    "plt.plot(metrics_task_3[\"val_acc\"][:-1])\n",
    "plt.title(\"Training Accuracy Deep MLP\")\n",
    "plt.xlabel(\"Epoch\")\n",
    "plt.ylabel(\"Accuracy\")\n",
    "plt.legend([\"Train\", \"Validation\"])\n",
    "plt.show()"
   ]
  },
  {
   "cell_type": "markdown",
   "metadata": {},
   "source": [
    "<div class=\"alert alert-block alert-success\">\n",
    "\n",
    "### Discussion:\n",
    "\n",
    "**Question: Did you observe a strange behaviour for the deep MLPs? If yes, what is that? Discuss what might be the source of that.**\n",
    "\n",
    "The 2nd derivative of the loss over time is not strictly increasing (from a negative value) like for the shallow MLP's. This might be due to the higher complexity of having multiple hidden layers, which creates a less smooth weights vs loss space. This could cause more fluctuations in the space and therefore more varied changes in the loss over time.\n",
    "\n",
    "**Question: How does the deep MLP compare with the shallow MLP for this case?**\n",
    "\n",
    "With accuracy calculated using micro averaging, the deep MLP with 18K parameters performs similarly to the shallow MLP with 63.5K parameters. However, when calculating accuracy with macro averaging, its accuracy falls to match that of the smaller 7.9K parameter shallow model (code showing this below). This indicates that the deep model has a tendency to overfit for more common outputs.\n",
    "\n",
    "**Question: Compare the Deep MLP performance trained in Task 3 with the Shallow MLPs trained in Task 2. How can we improve Deep MLP performance more? Try other network setups for number of hidden nodes or other settings in the Deep MLP and Explain why or why not the performance changed after your modifications?**\n",
    "\n",
    "Based on the gradient of the graph of the deep MLP's training loss over time, it seems like it can still be trained for more epochs to increase accuracy further. Another way would be to use a better optimizer - Adam or AdamW (to see if overfitting is really the problem).\n",
    "\n",
    "From testing (below), it seems like Adam produces far better accuracy results with the exact same network structure. Also, the macro and micro accuracy of the Adam models are very similar, which suggests less overfitting problems compared to the SGD optimized model. Interestingly, the Adam model had slightly better macro accuracy than AdamW, which suggests that overfitting was never much of an issue for the Adam model.\n",
    "\n",
    "Overall, the massive increase in macro accuracy from the Adam models is most likely due to its ability to tune the training of each weight separately, allowing the weights to settle without overshooting (a not-very-well-educated hypothesis).\n"
   ]
  },
  {
   "cell_type": "code",
   "execution_count": 88,
   "metadata": {},
   "outputs": [
    {
     "name": "stdout",
     "output_type": "stream",
     "text": [
      "macro accuracies:\n",
      "shallow 503 params: 0.41466718912124634\n",
      "shallow 7.9K params: 0.4242208003997803\n",
      "shallow 63.5K params: 0.4702194929122925\n",
      "deep 18K params: 0.4308745265007019\n"
     ]
    }
   ],
   "source": [
    "test_x = test_dataset.tensors[0]\n",
    "test_y = test_dataset.tensors[1]\n",
    "sa_y = model_shallow_a(test_x).argmax(1)\n",
    "sb_y = model_shallow_b(test_x).argmax(1)\n",
    "sc_y = model_shallow_c(test_x).argmax(1)\n",
    "da_y = model_deep_a(test_x).argmax(1)\n",
    "\n",
    "acc = MulticlassAccuracy(7, average=\"macro\")\n",
    "acc.update(sa_y, test_y)\n",
    "aa = acc.compute().tolist()\n",
    "acc.reset()\n",
    "acc.update(sb_y, test_y)\n",
    "ab = acc.compute().tolist()\n",
    "acc.reset()\n",
    "acc.update(sc_y, test_y)\n",
    "ac = acc.compute().tolist()\n",
    "acc.reset()\n",
    "acc.update(da_y, test_y)\n",
    "da = acc.compute().tolist()\n",
    "acc.reset()\n",
    "\n",
    "print(\"macro accuracies:\")\n",
    "print(\"shallow 503 params:\", aa)\n",
    "print(\"shallow 7.9K params:\", ab)\n",
    "print(\"shallow 63.5K params:\", ac)\n",
    "print(\"deep 18K params:\", da)"
   ]
  },
  {
   "cell_type": "code",
   "execution_count": 96,
   "metadata": {},
   "outputs": [],
   "source": [
    "# define the epochs and learning rate\n",
    "max_epochs = 10\n",
    "lr = 5e-4\n",
    "\n",
    "# define the input features and output classes\n",
    "input_features = X.shape[1]\n",
    "classes = len(unique_labels)\n",
    "\n",
    "# Initialize Deep MLP model\n",
    "hidden_layers = [128, 64, 32, 16]"
   ]
  },
  {
   "cell_type": "code",
   "execution_count": 97,
   "metadata": {},
   "outputs": [
    {
     "name": "stderr",
     "output_type": "stream",
     "text": [
      "GPU available: False, used: False\n",
      "TPU available: False, using: 0 TPU cores\n",
      "HPU available: False, using: 0 HPUs\n",
      "/nix/store/bxj3ic1m66k3p690vwgb0913l5l46bk9-python3-3.12.4-env/lib/python3.12/site-packages/lightning_fabric/loggers/csv_logs.py:269: Experiment logs directory logs/deepb/version_0 exists and is not empty. Previous log files in this directory will be deleted when the new ones are saved!\n",
      "/nix/store/bxj3ic1m66k3p690vwgb0913l5l46bk9-python3-3.12.4-env/lib/python3.12/site-packages/pytorch_lightning/callbacks/model_checkpoint.py:652: Checkpoint directory /home/lucas/code/ece4179-neural-networks/labs/lab-3/logs/deepb exists and is not empty.\n",
      "\n",
      "  | Name           | Type               | Params | Mode \n",
      "--------------------------------------------------------------\n",
      "0 | loss_fun       | CrossEntropyLoss   | 0      | train\n",
      "1 | linear1        | Linear             | 7.0 K  | train\n",
      "2 | linear2        | Linear             | 8.3 K  | train\n",
      "3 | linear3        | Linear             | 2.1 K  | train\n",
      "4 | linear4        | Linear             | 528    | train\n",
      "5 | linear5        | Linear             | 119    | train\n",
      "6 | train_accuracy | MulticlassAccuracy | 0      | train\n",
      "7 | val_accuracy   | MulticlassAccuracy | 0      | train\n",
      "8 | test_accuracy  | MulticlassAccuracy | 0      | train\n",
      "--------------------------------------------------------------\n",
      "18.0 K    Trainable params\n",
      "0         Non-trainable params\n",
      "18.0 K    Total params\n",
      "0.072     Total estimated model params size (MB)\n"
     ]
    },
    {
     "data": {
      "application/vnd.jupyter.widget-view+json": {
       "model_id": "3ff909957a0d4870a24e686c0181ed1a",
       "version_major": 2,
       "version_minor": 0
      },
      "text/plain": [
       "Sanity Checking: |          | 0/? [00:00<?, ?it/s]"
      ]
     },
     "metadata": {},
     "output_type": "display_data"
    },
    {
     "name": "stderr",
     "output_type": "stream",
     "text": [
      "/nix/store/bxj3ic1m66k3p690vwgb0913l5l46bk9-python3-3.12.4-env/lib/python3.12/site-packages/pytorch_lightning/trainer/connectors/data_connector.py:424: The 'val_dataloader' does not have many workers which may be a bottleneck. Consider increasing the value of the `num_workers` argument` to `num_workers=15` in the `DataLoader` to improve performance.\n",
      "/nix/store/bxj3ic1m66k3p690vwgb0913l5l46bk9-python3-3.12.4-env/lib/python3.12/site-packages/pytorch_lightning/trainer/connectors/data_connector.py:424: The 'train_dataloader' does not have many workers which may be a bottleneck. Consider increasing the value of the `num_workers` argument` to `num_workers=15` in the `DataLoader` to improve performance.\n"
     ]
    },
    {
     "data": {
      "application/vnd.jupyter.widget-view+json": {
       "model_id": "048f747d2dae4539b9e5bc331a02e462",
       "version_major": 2,
       "version_minor": 0
      },
      "text/plain": [
       "Training: |          | 0/? [00:00<?, ?it/s]"
      ]
     },
     "metadata": {},
     "output_type": "display_data"
    },
    {
     "data": {
      "application/vnd.jupyter.widget-view+json": {
       "model_id": "6c1c29577aa147fd90f92cae609c970d",
       "version_major": 2,
       "version_minor": 0
      },
      "text/plain": [
       "Validation: |          | 0/? [00:00<?, ?it/s]"
      ]
     },
     "metadata": {},
     "output_type": "display_data"
    },
    {
     "data": {
      "application/vnd.jupyter.widget-view+json": {
       "model_id": "e77d5b7b131e4614b48228d30d5b513d",
       "version_major": 2,
       "version_minor": 0
      },
      "text/plain": [
       "Validation: |          | 0/? [00:00<?, ?it/s]"
      ]
     },
     "metadata": {},
     "output_type": "display_data"
    },
    {
     "data": {
      "application/vnd.jupyter.widget-view+json": {
       "model_id": "cc983e1a7920475ba58bd6e93f836967",
       "version_major": 2,
       "version_minor": 0
      },
      "text/plain": [
       "Validation: |          | 0/? [00:00<?, ?it/s]"
      ]
     },
     "metadata": {},
     "output_type": "display_data"
    },
    {
     "data": {
      "application/vnd.jupyter.widget-view+json": {
       "model_id": "cc8561388a8e4531af2f301f5740b306",
       "version_major": 2,
       "version_minor": 0
      },
      "text/plain": [
       "Validation: |          | 0/? [00:00<?, ?it/s]"
      ]
     },
     "metadata": {},
     "output_type": "display_data"
    },
    {
     "data": {
      "application/vnd.jupyter.widget-view+json": {
       "model_id": "574c396ffb6f45c7b52f0951be913a75",
       "version_major": 2,
       "version_minor": 0
      },
      "text/plain": [
       "Validation: |          | 0/? [00:00<?, ?it/s]"
      ]
     },
     "metadata": {},
     "output_type": "display_data"
    },
    {
     "data": {
      "application/vnd.jupyter.widget-view+json": {
       "model_id": "036276c535b94ed0960e1e824d5116f7",
       "version_major": 2,
       "version_minor": 0
      },
      "text/plain": [
       "Validation: |          | 0/? [00:00<?, ?it/s]"
      ]
     },
     "metadata": {},
     "output_type": "display_data"
    },
    {
     "data": {
      "application/vnd.jupyter.widget-view+json": {
       "model_id": "5aa25c22fb454e45b82b6fafd17f42b4",
       "version_major": 2,
       "version_minor": 0
      },
      "text/plain": [
       "Validation: |          | 0/? [00:00<?, ?it/s]"
      ]
     },
     "metadata": {},
     "output_type": "display_data"
    },
    {
     "data": {
      "application/vnd.jupyter.widget-view+json": {
       "model_id": "429a2f97da254af89c285403614101e4",
       "version_major": 2,
       "version_minor": 0
      },
      "text/plain": [
       "Validation: |          | 0/? [00:00<?, ?it/s]"
      ]
     },
     "metadata": {},
     "output_type": "display_data"
    },
    {
     "data": {
      "application/vnd.jupyter.widget-view+json": {
       "model_id": "0ce7226a7f03428cbba2cb17a28874ad",
       "version_major": 2,
       "version_minor": 0
      },
      "text/plain": [
       "Validation: |          | 0/? [00:00<?, ?it/s]"
      ]
     },
     "metadata": {},
     "output_type": "display_data"
    },
    {
     "data": {
      "application/vnd.jupyter.widget-view+json": {
       "model_id": "316148342a7745aa8ad27ffcb0ed694f",
       "version_major": 2,
       "version_minor": 0
      },
      "text/plain": [
       "Validation: |          | 0/? [00:00<?, ?it/s]"
      ]
     },
     "metadata": {},
     "output_type": "display_data"
    },
    {
     "name": "stderr",
     "output_type": "stream",
     "text": [
      "`Trainer.fit` stopped: `max_epochs=10` reached.\n",
      "Restoring states from the checkpoint path at /home/lucas/code/ece4179-neural-networks/labs/lab-3/logs/deepb/epoch=9-step=13620.ckpt\n",
      "Loaded model weights from the checkpoint at /home/lucas/code/ece4179-neural-networks/labs/lab-3/logs/deepb/epoch=9-step=13620.ckpt\n",
      "/nix/store/bxj3ic1m66k3p690vwgb0913l5l46bk9-python3-3.12.4-env/lib/python3.12/site-packages/pytorch_lightning/trainer/connectors/data_connector.py:424: The 'test_dataloader' does not have many workers which may be a bottleneck. Consider increasing the value of the `num_workers` argument` to `num_workers=15` in the `DataLoader` to improve performance.\n"
     ]
    },
    {
     "data": {
      "application/vnd.jupyter.widget-view+json": {
       "model_id": "b527a3fbfb9d46849869a2c9ab6aa7db",
       "version_major": 2,
       "version_minor": 0
      },
      "text/plain": [
       "Testing: |          | 0/? [00:00<?, ?it/s]"
      ]
     },
     "metadata": {},
     "output_type": "display_data"
    },
    {
     "name": "stdout",
     "output_type": "stream",
     "text": [
      "────────────────────────────────────────────────────────────────────────────────────────────────────────────────────────\n",
      "       Test metric             DataLoader 0\n",
      "────────────────────────────────────────────────────────────────────────────────────────────────────────────────────────\n",
      "        test_acc            0.8273844718933105\n",
      "        test_loss           0.41222459077835083\n",
      "────────────────────────────────────────────────────────────────────────────────────────────────────────────────────────\n"
     ]
    },
    {
     "data": {
      "text/plain": [
       "[{'test_loss': 0.41222459077835083, 'test_acc': 0.8273844718933105}]"
      ]
     },
     "execution_count": 97,
     "metadata": {},
     "output_type": "execute_result"
    }
   ],
   "source": [
    "model_deep_b = Deep_MLP(input_features, classes, hidden_layers, lr, optimizer=\"Adam\")\n",
    "\n",
    "# Define checkpoint callback function to save best model\n",
    "checkpoint_callback_3b = ModelCheckpoint(\n",
    "    monitor=\"val_acc\",  # the value to watch out on checking the model performance\n",
    "    dirpath=\"logs/deepb\",  # path to save the checkpoint\n",
    "    save_top_k=1,  # save the best model\n",
    "    mode=\"max\",\n",
    "    every_n_epochs=1,\n",
    ")\n",
    "\n",
    "# Train and Test Model\n",
    "trainer_3b = Trainer(\n",
    "    accelerator=\"auto\",\n",
    "    devices=1 if not torch.cuda.is_available() else torch.cuda.device_count(),\n",
    "    max_epochs=max_epochs,\n",
    "    callbacks=[TQDMProgressBar(refresh_rate=20), checkpoint_callback_3b],\n",
    "    logger=CSVLogger(\"logs\", name=\"deepb\", version=0),\n",
    ")\n",
    "\n",
    "# Start the training loop\n",
    "trainer_3b.fit(model_deep_b, train_loader, val_loader)\n",
    "\n",
    "# Report the test performance\n",
    "trainer_3b.test(\n",
    "    model_deep_b,\n",
    "    test_loader,\n",
    "    ckpt_path=\"best\",\n",
    ")"
   ]
  },
  {
   "cell_type": "code",
   "execution_count": 98,
   "metadata": {},
   "outputs": [
    {
     "name": "stderr",
     "output_type": "stream",
     "text": [
      "GPU available: False, used: False\n",
      "TPU available: False, using: 0 TPU cores\n",
      "HPU available: False, using: 0 HPUs\n",
      "/nix/store/bxj3ic1m66k3p690vwgb0913l5l46bk9-python3-3.12.4-env/lib/python3.12/site-packages/pytorch_lightning/callbacks/model_checkpoint.py:652: Checkpoint directory /home/lucas/code/ece4179-neural-networks/labs/lab-3/logs/deepc exists and is not empty.\n",
      "\n",
      "  | Name           | Type               | Params | Mode \n",
      "--------------------------------------------------------------\n",
      "0 | loss_fun       | CrossEntropyLoss   | 0      | train\n",
      "1 | linear1        | Linear             | 7.0 K  | train\n",
      "2 | linear2        | Linear             | 8.3 K  | train\n",
      "3 | linear3        | Linear             | 2.1 K  | train\n",
      "4 | linear4        | Linear             | 528    | train\n",
      "5 | linear5        | Linear             | 119    | train\n",
      "6 | train_accuracy | MulticlassAccuracy | 0      | train\n",
      "7 | val_accuracy   | MulticlassAccuracy | 0      | train\n",
      "8 | test_accuracy  | MulticlassAccuracy | 0      | train\n",
      "--------------------------------------------------------------\n",
      "18.0 K    Trainable params\n",
      "0         Non-trainable params\n",
      "18.0 K    Total params\n",
      "0.072     Total estimated model params size (MB)\n"
     ]
    },
    {
     "data": {
      "application/vnd.jupyter.widget-view+json": {
       "model_id": "6ad96148efe54017b49cdbcd1e73b4f4",
       "version_major": 2,
       "version_minor": 0
      },
      "text/plain": [
       "Sanity Checking: |          | 0/? [00:00<?, ?it/s]"
      ]
     },
     "metadata": {},
     "output_type": "display_data"
    },
    {
     "name": "stderr",
     "output_type": "stream",
     "text": [
      "/nix/store/bxj3ic1m66k3p690vwgb0913l5l46bk9-python3-3.12.4-env/lib/python3.12/site-packages/pytorch_lightning/trainer/connectors/data_connector.py:424: The 'val_dataloader' does not have many workers which may be a bottleneck. Consider increasing the value of the `num_workers` argument` to `num_workers=15` in the `DataLoader` to improve performance.\n",
      "/nix/store/bxj3ic1m66k3p690vwgb0913l5l46bk9-python3-3.12.4-env/lib/python3.12/site-packages/pytorch_lightning/trainer/connectors/data_connector.py:424: The 'train_dataloader' does not have many workers which may be a bottleneck. Consider increasing the value of the `num_workers` argument` to `num_workers=15` in the `DataLoader` to improve performance.\n"
     ]
    },
    {
     "data": {
      "application/vnd.jupyter.widget-view+json": {
       "model_id": "f08d0d830e1d47dfa9233ddf67aab9be",
       "version_major": 2,
       "version_minor": 0
      },
      "text/plain": [
       "Training: |          | 0/? [00:00<?, ?it/s]"
      ]
     },
     "metadata": {},
     "output_type": "display_data"
    },
    {
     "data": {
      "application/vnd.jupyter.widget-view+json": {
       "model_id": "87a13c3475f34a4ca4b6e031e8d4545c",
       "version_major": 2,
       "version_minor": 0
      },
      "text/plain": [
       "Validation: |          | 0/? [00:00<?, ?it/s]"
      ]
     },
     "metadata": {},
     "output_type": "display_data"
    },
    {
     "data": {
      "application/vnd.jupyter.widget-view+json": {
       "model_id": "c5e98c62abe14223b02bd6cfe085a20a",
       "version_major": 2,
       "version_minor": 0
      },
      "text/plain": [
       "Validation: |          | 0/? [00:00<?, ?it/s]"
      ]
     },
     "metadata": {},
     "output_type": "display_data"
    },
    {
     "data": {
      "application/vnd.jupyter.widget-view+json": {
       "model_id": "6a9b0896fb494ee8b64222aacd272ad8",
       "version_major": 2,
       "version_minor": 0
      },
      "text/plain": [
       "Validation: |          | 0/? [00:00<?, ?it/s]"
      ]
     },
     "metadata": {},
     "output_type": "display_data"
    },
    {
     "data": {
      "application/vnd.jupyter.widget-view+json": {
       "model_id": "5fd3659771ad4911b09460372521e4de",
       "version_major": 2,
       "version_minor": 0
      },
      "text/plain": [
       "Validation: |          | 0/? [00:00<?, ?it/s]"
      ]
     },
     "metadata": {},
     "output_type": "display_data"
    },
    {
     "data": {
      "application/vnd.jupyter.widget-view+json": {
       "model_id": "5ed1ca2004e94983b46bcec81c2255ee",
       "version_major": 2,
       "version_minor": 0
      },
      "text/plain": [
       "Validation: |          | 0/? [00:00<?, ?it/s]"
      ]
     },
     "metadata": {},
     "output_type": "display_data"
    },
    {
     "data": {
      "application/vnd.jupyter.widget-view+json": {
       "model_id": "9e680cf004114b8a95e893a7ff8b4251",
       "version_major": 2,
       "version_minor": 0
      },
      "text/plain": [
       "Validation: |          | 0/? [00:00<?, ?it/s]"
      ]
     },
     "metadata": {},
     "output_type": "display_data"
    },
    {
     "data": {
      "application/vnd.jupyter.widget-view+json": {
       "model_id": "4138ca3d40f24e41914801f849f60957",
       "version_major": 2,
       "version_minor": 0
      },
      "text/plain": [
       "Validation: |          | 0/? [00:00<?, ?it/s]"
      ]
     },
     "metadata": {},
     "output_type": "display_data"
    },
    {
     "data": {
      "application/vnd.jupyter.widget-view+json": {
       "model_id": "627706c27655452b81af6c4430308c23",
       "version_major": 2,
       "version_minor": 0
      },
      "text/plain": [
       "Validation: |          | 0/? [00:00<?, ?it/s]"
      ]
     },
     "metadata": {},
     "output_type": "display_data"
    },
    {
     "data": {
      "application/vnd.jupyter.widget-view+json": {
       "model_id": "e757b1d91a3049969284ac5aebda99b7",
       "version_major": 2,
       "version_minor": 0
      },
      "text/plain": [
       "Validation: |          | 0/? [00:00<?, ?it/s]"
      ]
     },
     "metadata": {},
     "output_type": "display_data"
    },
    {
     "data": {
      "application/vnd.jupyter.widget-view+json": {
       "model_id": "fa03250fc65245c7aa4449fb5f1c9365",
       "version_major": 2,
       "version_minor": 0
      },
      "text/plain": [
       "Validation: |          | 0/? [00:00<?, ?it/s]"
      ]
     },
     "metadata": {},
     "output_type": "display_data"
    },
    {
     "name": "stderr",
     "output_type": "stream",
     "text": [
      "`Trainer.fit` stopped: `max_epochs=10` reached.\n",
      "Restoring states from the checkpoint path at /home/lucas/code/ece4179-neural-networks/labs/lab-3/logs/deepc/epoch=9-step=13620.ckpt\n",
      "Loaded model weights from the checkpoint at /home/lucas/code/ece4179-neural-networks/labs/lab-3/logs/deepc/epoch=9-step=13620.ckpt\n",
      "/nix/store/bxj3ic1m66k3p690vwgb0913l5l46bk9-python3-3.12.4-env/lib/python3.12/site-packages/pytorch_lightning/trainer/connectors/data_connector.py:424: The 'test_dataloader' does not have many workers which may be a bottleneck. Consider increasing the value of the `num_workers` argument` to `num_workers=15` in the `DataLoader` to improve performance.\n"
     ]
    },
    {
     "data": {
      "application/vnd.jupyter.widget-view+json": {
       "model_id": "4a84a99a05414ffe8cc392bf71de023e",
       "version_major": 2,
       "version_minor": 0
      },
      "text/plain": [
       "Testing: |          | 0/? [00:00<?, ?it/s]"
      ]
     },
     "metadata": {},
     "output_type": "display_data"
    },
    {
     "name": "stdout",
     "output_type": "stream",
     "text": [
      "────────────────────────────────────────────────────────────────────────────────────────────────────────────────────────\n",
      "       Test metric             DataLoader 0\n",
      "────────────────────────────────────────────────────────────────────────────────────────────────────────────────────────\n",
      "        test_acc            0.8288648128509521\n",
      "        test_loss           0.4111062288284302\n",
      "────────────────────────────────────────────────────────────────────────────────────────────────────────────────────────\n"
     ]
    },
    {
     "data": {
      "text/plain": [
       "[{'test_loss': 0.4111062288284302, 'test_acc': 0.8288648128509521}]"
      ]
     },
     "execution_count": 98,
     "metadata": {},
     "output_type": "execute_result"
    }
   ],
   "source": [
    "model_deep_c = Deep_MLP(input_features, classes, hidden_layers, lr, optimizer=\"AdamW\")\n",
    "\n",
    "# Define checkpoint callback function to save best model\n",
    "checkpoint_callback_3c = ModelCheckpoint(\n",
    "    monitor=\"val_acc\",  # the value to watch out on checking the model performance\n",
    "    dirpath=\"logs/deepc\",  # path to save the checkpoint\n",
    "    save_top_k=1,  # save the best model\n",
    "    mode=\"max\",\n",
    "    every_n_epochs=1,\n",
    ")\n",
    "\n",
    "# Train and Test Model\n",
    "trainer_3c = Trainer(\n",
    "    accelerator=\"auto\",\n",
    "    devices=1 if not torch.cuda.is_available() else torch.cuda.device_count(),\n",
    "    max_epochs=max_epochs,\n",
    "    callbacks=[TQDMProgressBar(refresh_rate=20), checkpoint_callback_3c],\n",
    "    logger=CSVLogger(\"logs\", name=\"deepc\", version=0),\n",
    ")\n",
    "\n",
    "# Start the training loop\n",
    "trainer_3c.fit(model_deep_c, train_loader, val_loader)\n",
    "\n",
    "# Report the test performance\n",
    "trainer_3c.test(\n",
    "    model_deep_c,\n",
    "    test_loader,\n",
    "    ckpt_path=\"best\",\n",
    ")"
   ]
  },
  {
   "cell_type": "code",
   "execution_count": 104,
   "metadata": {},
   "outputs": [
    {
     "name": "stdout",
     "output_type": "stream",
     "text": [
      "macro accuracies:\n",
      "deep SGD 0.4308745265007019\n",
      "deep Adam 0.6925364136695862\n",
      "deep AdamW 0.6722097396850586\n"
     ]
    }
   ],
   "source": [
    "test_x = test_dataset.tensors[0]\n",
    "da_y = model_deep_a(test_x).argmax(1)\n",
    "db_y = model_deep_b(test_x).argmax(1)\n",
    "dc_y = model_deep_c(test_x).argmax(1)\n",
    "\n",
    "acc = MulticlassAccuracy(7, average=\"macro\")\n",
    "acc.update(da_y, test_y)\n",
    "da = acc.compute().tolist()\n",
    "acc.reset()\n",
    "acc.update(db_y, test_y)\n",
    "db = acc.compute().tolist()\n",
    "acc.reset()\n",
    "acc.update(dc_y, test_y)\n",
    "dc = acc.compute().tolist()\n",
    "acc.reset()\n",
    "\n",
    "print(\"macro accuracies:\")\n",
    "print(\"deep SGD\", da)\n",
    "print(\"deep Adam\", db)\n",
    "print(\"deep AdamW\", dc)"
   ]
  },
  {
   "cell_type": "code",
   "execution_count": 101,
   "metadata": {},
   "outputs": [],
   "source": [
    "metrics_task_3 = pd.read_csv(\"logs/deep/version_0/metrics.csv\")\n",
    "metrics_task_3.set_index(\"epoch\", inplace=True)\n",
    "metrics_task_3 = metrics_task_3.groupby(level=0).sum().drop(\"step\", axis=1)\n",
    "\n",
    "metrics_task_3b = pd.read_csv(\"logs/deepb/version_0/metrics.csv\")\n",
    "metrics_task_3b.set_index(\"epoch\", inplace=True)\n",
    "metrics_task_3b = metrics_task_3b.groupby(level=0).sum().drop(\"step\", axis=1)\n",
    "\n",
    "metrics_task_3c = pd.read_csv(\"logs/deepc/version_0/metrics.csv\")\n",
    "metrics_task_3c.set_index(\"epoch\", inplace=True)\n",
    "metrics_task_3c = metrics_task_3c.groupby(level=0).sum().drop(\"step\", axis=1)"
   ]
  },
  {
   "cell_type": "code",
   "execution_count": 102,
   "metadata": {},
   "outputs": [
    {
     "data": {
      "image/png": "[encoded data removed]",
      "text/plain": [
       "<Figure size 640x480 with 1 Axes>"
      ]
     },
     "metadata": {},
     "output_type": "display_data"
    }
   ],
   "source": [
    "plt.plot(metrics_task_3[\"val_loss\"][:-1])\n",
    "plt.plot(metrics_task_3b[\"val_loss\"][:-1])\n",
    "plt.plot(metrics_task_3c[\"val_loss\"][:-1])\n",
    "plt.title(\"Validation Loss Deep MLP\")\n",
    "plt.xlabel(\"Epoch\")\n",
    "plt.ylabel(\"Loss\")\n",
    "plt.legend([\"SGD\", \"Adam\", \"AdamW\"])\n",
    "plt.show()"
   ]
  },
  {
   "cell_type": "code",
   "execution_count": 103,
   "metadata": {},
   "outputs": [
    {
     "data": {
      "image/png": "[encoded data removed]",
      "text/plain": [
       "<Figure size 640x480 with 1 Axes>"
      ]
     },
     "metadata": {},
     "output_type": "display_data"
    }
   ],
   "source": [
    "plt.plot(metrics_task_3[\"val_acc\"][:-1])\n",
    "plt.plot(metrics_task_3b[\"val_acc\"][:-1])\n",
    "plt.plot(metrics_task_3c[\"val_acc\"][:-1])\n",
    "plt.title(\"Validation Accuracy Deep MLP\")\n",
    "plt.xlabel(\"Epoch\")\n",
    "plt.ylabel(\"Accuracy\")\n",
    "plt.legend([\"SGD\", \"Adam\", \"AdamW\"])\n",
    "plt.show()"
   ]
  },
  {
   "cell_type": "markdown",
   "metadata": {},
   "source": [
    "<div class=\"alert alert-block alert-warning\">\n",
    "    \n",
    "# <center> Well done! This is the end of Lab 3\n",
    "    \n",
    "</div>"
   ]
  },
  {
   "cell_type": "markdown",
   "metadata": {},
   "source": []
  }
 ],
 "metadata": {
  "kernelspec": {
   "display_name": "Python 3 (ipykernel)",
   "language": "python",
   "name": "python3"
  },
  "language_info": {
   "codemirror_mode": {
    "name": "ipython",
    "version": 3
   },
   "file_extension": ".py",
   "mimetype": "text/x-python",
   "name": "python",
   "nbconvert_exporter": "python",
   "pygments_lexer": "ipython3",
   "version": "3.12.4"
  }
 },
 "nbformat": 4,
 "nbformat_minor": 4
}
